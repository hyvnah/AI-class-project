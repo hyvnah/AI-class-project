{
 "cells": [
  {
   "cell_type": "code",
   "execution_count": 1,
   "id": "b2d24676",
   "metadata": {
    "collapsed": false,
    "execution": {
     "iopub.execute_input": "2022-11-22T05:33:18.481733Z",
     "iopub.status.busy": "2022-11-22T05:33:18.480861Z",
     "iopub.status.idle": "2022-11-22T05:33:25.102722Z",
     "shell.execute_reply": "2022-11-22T05:33:25.101596Z"
    },
    "jupyter": {
     "outputs_hidden": false
    },
    "papermill": {
     "duration": 6.648746,
     "end_time": "2022-11-22T05:33:25.105958",
     "exception": false,
     "start_time": "2022-11-22T05:33:18.457212",
     "status": "completed"
    },
    "pycharm": {
     "name": "#%%\n"
    },
    "tags": []
   },
   "outputs": [],
   "source": [
    "import numpy as np\n",
    "import pandas as pd\n",
    "\n",
    "from tensorflow import keras\n",
    "\n",
    "from tensorflow.keras.models import Sequential\n",
    "from tensorflow.keras.layers import Activation, Conv2D, MaxPooling2D, Dense, Flatten\n",
    "from tensorflow.keras.layers import Dropout, BatchNormalization \n",
    "from tensorflow.keras.utils import to_categorical\n",
    "\n",
    "from keras.callbacks import ModelCheckpoint\n",
    "\n",
    "import matplotlib.pyplot as plt\n",
    "\n",
    "import seaborn as sns\n",
    "import os\n",
    "import glob\n",
    "import plotly.graph_objects as go\n",
    "import cv2\n",
    "from PIL import Image\n",
    "from PIL import ImageFile\n",
    "from sklearn.model_selection import train_test_split\n",
    "from sklearn.preprocessing import LabelEncoder\n",
    "import tensorflow as tf\n",
    "from keras.preprocessing.image import ImageDataGenerator\n",
    "from keras.utils.np_utils import to_categorical\n",
    "from keras.applications.vgg16 import VGG16\n",
    "from keras.applications.resnet import ResNet50\n",
    "from tensorflow.keras.optimizers import Adam\n",
    "from keras.callbacks import EarlyStopping, ReduceLROnPlateau,ModelCheckpoint \n",
    "from sklearn.metrics import accuracy_score, confusion_matrix, classification_report\n",
    "import warnings\n",
    "warnings.filterwarnings(\"ignore\")\n",
    "ImageFile.LOAD_TRUNCATED_IMAGES = True\n",
    "\n",
    "from tqdm import tqdm"
   ]
  },
  {
   "cell_type": "markdown",
   "id": "c75828bf",
   "metadata": {
    "papermill": {
     "duration": 0.018452,
     "end_time": "2022-11-22T05:33:25.144780",
     "exception": false,
     "start_time": "2022-11-22T05:33:25.126328",
     "status": "completed"
    },
    "tags": []
   },
   "source": [
    "# 데이터"
   ]
  },
  {
   "cell_type": "code",
   "execution_count": 2,
   "id": "58abc9e9",
   "metadata": {
    "execution": {
     "iopub.execute_input": "2022-11-22T05:33:25.185502Z",
     "iopub.status.busy": "2022-11-22T05:33:25.184878Z",
     "iopub.status.idle": "2022-11-22T05:33:25.189770Z",
     "shell.execute_reply": "2022-11-22T05:33:25.188603Z"
    },
    "papermill": {
     "duration": 0.027669,
     "end_time": "2022-11-22T05:33:25.191878",
     "exception": false,
     "start_time": "2022-11-22T05:33:25.164209",
     "status": "completed"
    },
    "tags": []
   },
   "outputs": [],
   "source": [
    "# 사용안하는듯\n",
    "#label = pd.read_csv(\"../input/intel-mobileodt-cervical-cancer-screening/fixed_labels_v2.csv\")\n",
    "#label"
   ]
  },
  {
   "cell_type": "code",
   "execution_count": 3,
   "id": "d770bbb0",
   "metadata": {
    "execution": {
     "iopub.execute_input": "2022-11-22T05:33:25.233214Z",
     "iopub.status.busy": "2022-11-22T05:33:25.232274Z",
     "iopub.status.idle": "2022-11-22T05:33:25.742402Z",
     "shell.execute_reply": "2022-11-22T05:33:25.741356Z"
    },
    "papermill": {
     "duration": 0.534652,
     "end_time": "2022-11-22T05:33:25.746181",
     "exception": false,
     "start_time": "2022-11-22T05:33:25.211529",
     "status": "completed"
    },
    "tags": []
   },
   "outputs": [
    {
     "name": "stdout",
     "output_type": "stream",
     "text": [
      "Type 1 files for training: 1441 \n",
      "Type 2 files for training: 4348\n",
      "Type 3 files for training: 2426\n"
     ]
    }
   ],
   "source": [
    "root_dir = '../input/intel-mobileodt-cervical-cancer-screening'\n",
    "train_dir = os.path.join(root_dir,'train', 'train')\n",
    "\n",
    "type1_dir = os.path.join(train_dir, 'Type_1')\n",
    "type2_dir = os.path.join(train_dir, 'Type_2')\n",
    "type3_dir = os.path.join(train_dir, 'Type_3')\n",
    "\n",
    "train_type1_files = glob.glob(type1_dir+'/*.jpg')\n",
    "train_type2_files = glob.glob(type2_dir+'/*.jpg')\n",
    "train_type3_files = glob.glob(type3_dir+'/*.jpg')\n",
    "\n",
    "added_type1_files  =  glob.glob(os.path.join(root_dir, \"additional_Type_1_v2\", \"Type_1\")+'/*.jpg')\n",
    "added_type2_files  =  glob.glob(os.path.join(root_dir, \"additional_Type_2_v2\", \"Type_2\")+'/*.jpg')\n",
    "added_type3_files  =  glob.glob(os.path.join(root_dir, \"additional_Type_3_v2\", \"Type_3\")+'/*.jpg')\n",
    "\n",
    "type1_files = train_type1_files + added_type1_files\n",
    "type2_files = train_type2_files + added_type2_files\n",
    "type3_files = train_type3_files + added_type3_files\n",
    "\n",
    "print(f'''Type 1 files for training: {len(type1_files)} \n",
    "Type 2 files for training: {len(type2_files)}\n",
    "Type 3 files for training: {len(type3_files)}''' )"
   ]
  },
  {
   "cell_type": "code",
   "execution_count": 4,
   "id": "3e2afb89",
   "metadata": {
    "execution": {
     "iopub.execute_input": "2022-11-22T05:33:25.787317Z",
     "iopub.status.busy": "2022-11-22T05:33:25.787014Z",
     "iopub.status.idle": "2022-11-22T05:33:25.791556Z",
     "shell.execute_reply": "2022-11-22T05:33:25.790490Z"
    },
    "papermill": {
     "duration": 0.027297,
     "end_time": "2022-11-22T05:33:25.793754",
     "exception": false,
     "start_time": "2022-11-22T05:33:25.766457",
     "status": "completed"
    },
    "tags": []
   },
   "outputs": [],
   "source": [
    "#files = {'filepath': type1_files + type2_files + type3_files,\n",
    "#          'label': ['Type 1']* len(type1_files) + ['Type 2']* len(type2_files) + ['Type 3']* len(type3_files)}\n",
    "#\n",
    "#files_df = pd.DataFrame(files).sample(frac=1, random_state= 1).reset_index(drop=True)\n",
    "#files_df"
   ]
  },
  {
   "cell_type": "code",
   "execution_count": 5,
   "id": "815fb692",
   "metadata": {
    "execution": {
     "iopub.execute_input": "2022-11-22T05:33:25.835088Z",
     "iopub.status.busy": "2022-11-22T05:33:25.834111Z",
     "iopub.status.idle": "2022-11-22T05:33:25.839222Z",
     "shell.execute_reply": "2022-11-22T05:33:25.838259Z"
    },
    "papermill": {
     "duration": 0.028221,
     "end_time": "2022-11-22T05:33:25.841623",
     "exception": false,
     "start_time": "2022-11-22T05:33:25.813402",
     "status": "completed"
    },
    "tags": []
   },
   "outputs": [],
   "source": [
    "#bad_files = []\n",
    "#for path in tqdm(files_df['filepath'].values):\n",
    "#    try:\n",
    "#        img = Image.open(path)\n",
    "#    except:\n",
    "#        index = files_df[files_df['filepath']==path].index.values[0]\n",
    "#        bad_files.append(index)"
   ]
  },
  {
   "cell_type": "code",
   "execution_count": 6,
   "id": "41f5cdbc",
   "metadata": {
    "execution": {
     "iopub.execute_input": "2022-11-22T05:33:25.883705Z",
     "iopub.status.busy": "2022-11-22T05:33:25.882638Z",
     "iopub.status.idle": "2022-11-22T05:33:25.887631Z",
     "shell.execute_reply": "2022-11-22T05:33:25.886518Z"
    },
    "papermill": {
     "duration": 0.028067,
     "end_time": "2022-11-22T05:33:25.889821",
     "exception": false,
     "start_time": "2022-11-22T05:33:25.861754",
     "status": "completed"
    },
    "tags": []
   },
   "outputs": [],
   "source": [
    "#bad_files\n",
    "#files_df.drop(bad_files, inplace=True)"
   ]
  },
  {
   "cell_type": "code",
   "execution_count": 7,
   "id": "1fed3324",
   "metadata": {
    "execution": {
     "iopub.execute_input": "2022-11-22T05:33:25.930862Z",
     "iopub.status.busy": "2022-11-22T05:33:25.930518Z",
     "iopub.status.idle": "2022-11-22T05:33:25.935057Z",
     "shell.execute_reply": "2022-11-22T05:33:25.933897Z"
    },
    "papermill": {
     "duration": 0.027754,
     "end_time": "2022-11-22T05:33:25.937266",
     "exception": false,
     "start_time": "2022-11-22T05:33:25.909512",
     "status": "completed"
    },
    "tags": []
   },
   "outputs": [],
   "source": [
    "# save csv (files_df)\n",
    "#files_df.to_csv('/kaggle/working/dropfiles.csv', sep=',')"
   ]
  },
  {
   "cell_type": "code",
   "execution_count": 8,
   "id": "bc74b2c3",
   "metadata": {
    "execution": {
     "iopub.execute_input": "2022-11-22T05:33:25.977979Z",
     "iopub.status.busy": "2022-11-22T05:33:25.976985Z",
     "iopub.status.idle": "2022-11-22T05:33:26.038407Z",
     "shell.execute_reply": "2022-11-22T05:33:26.037447Z"
    },
    "papermill": {
     "duration": 0.083639,
     "end_time": "2022-11-22T05:33:26.040476",
     "exception": false,
     "start_time": "2022-11-22T05:33:25.956837",
     "status": "completed"
    },
    "tags": []
   },
   "outputs": [
    {
     "data": {
      "text/html": [
       "<div>\n",
       "<style scoped>\n",
       "    .dataframe tbody tr th:only-of-type {\n",
       "        vertical-align: middle;\n",
       "    }\n",
       "\n",
       "    .dataframe tbody tr th {\n",
       "        vertical-align: top;\n",
       "    }\n",
       "\n",
       "    .dataframe thead th {\n",
       "        text-align: right;\n",
       "    }\n",
       "</style>\n",
       "<table border=\"1\" class=\"dataframe\">\n",
       "  <thead>\n",
       "    <tr style=\"text-align: right;\">\n",
       "      <th></th>\n",
       "      <th>filepath</th>\n",
       "      <th>label</th>\n",
       "    </tr>\n",
       "  </thead>\n",
       "  <tbody>\n",
       "    <tr>\n",
       "      <th>0</th>\n",
       "      <td>../input/intel-mobileodt-cervical-cancer-scree...</td>\n",
       "      <td>Type 1</td>\n",
       "    </tr>\n",
       "    <tr>\n",
       "      <th>1</th>\n",
       "      <td>../input/intel-mobileodt-cervical-cancer-scree...</td>\n",
       "      <td>Type 3</td>\n",
       "    </tr>\n",
       "    <tr>\n",
       "      <th>2</th>\n",
       "      <td>../input/intel-mobileodt-cervical-cancer-scree...</td>\n",
       "      <td>Type 1</td>\n",
       "    </tr>\n",
       "    <tr>\n",
       "      <th>3</th>\n",
       "      <td>../input/intel-mobileodt-cervical-cancer-scree...</td>\n",
       "      <td>Type 2</td>\n",
       "    </tr>\n",
       "    <tr>\n",
       "      <th>4</th>\n",
       "      <td>../input/intel-mobileodt-cervical-cancer-scree...</td>\n",
       "      <td>Type 3</td>\n",
       "    </tr>\n",
       "    <tr>\n",
       "      <th>...</th>\n",
       "      <td>...</td>\n",
       "      <td>...</td>\n",
       "    </tr>\n",
       "    <tr>\n",
       "      <th>8207</th>\n",
       "      <td>../input/intel-mobileodt-cervical-cancer-scree...</td>\n",
       "      <td>Type 2</td>\n",
       "    </tr>\n",
       "    <tr>\n",
       "      <th>8208</th>\n",
       "      <td>../input/intel-mobileodt-cervical-cancer-scree...</td>\n",
       "      <td>Type 3</td>\n",
       "    </tr>\n",
       "    <tr>\n",
       "      <th>8209</th>\n",
       "      <td>../input/intel-mobileodt-cervical-cancer-scree...</td>\n",
       "      <td>Type 1</td>\n",
       "    </tr>\n",
       "    <tr>\n",
       "      <th>8210</th>\n",
       "      <td>../input/intel-mobileodt-cervical-cancer-scree...</td>\n",
       "      <td>Type 2</td>\n",
       "    </tr>\n",
       "    <tr>\n",
       "      <th>8211</th>\n",
       "      <td>../input/intel-mobileodt-cervical-cancer-scree...</td>\n",
       "      <td>Type 1</td>\n",
       "    </tr>\n",
       "  </tbody>\n",
       "</table>\n",
       "<p>8212 rows × 2 columns</p>\n",
       "</div>"
      ],
      "text/plain": [
       "                                               filepath   label\n",
       "0     ../input/intel-mobileodt-cervical-cancer-scree...  Type 1\n",
       "1     ../input/intel-mobileodt-cervical-cancer-scree...  Type 3\n",
       "2     ../input/intel-mobileodt-cervical-cancer-scree...  Type 1\n",
       "3     ../input/intel-mobileodt-cervical-cancer-scree...  Type 2\n",
       "4     ../input/intel-mobileodt-cervical-cancer-scree...  Type 3\n",
       "...                                                 ...     ...\n",
       "8207  ../input/intel-mobileodt-cervical-cancer-scree...  Type 2\n",
       "8208  ../input/intel-mobileodt-cervical-cancer-scree...  Type 3\n",
       "8209  ../input/intel-mobileodt-cervical-cancer-scree...  Type 1\n",
       "8210  ../input/intel-mobileodt-cervical-cancer-scree...  Type 2\n",
       "8211  ../input/intel-mobileodt-cervical-cancer-scree...  Type 1\n",
       "\n",
       "[8212 rows x 2 columns]"
      ]
     },
     "execution_count": 8,
     "metadata": {},
     "output_type": "execute_result"
    }
   ],
   "source": [
    "# 정리된 files_df 사용\n",
    "files_df = pd.read_csv('../input/cervical-dropfiles/dropfiles.csv', sep=',').drop('Unnamed: 0', axis=1)\n",
    "files_df"
   ]
  },
  {
   "cell_type": "code",
   "execution_count": 9,
   "id": "c30c4a16",
   "metadata": {
    "execution": {
     "iopub.execute_input": "2022-11-22T05:33:26.082108Z",
     "iopub.status.busy": "2022-11-22T05:33:26.081333Z",
     "iopub.status.idle": "2022-11-22T05:33:26.096024Z",
     "shell.execute_reply": "2022-11-22T05:33:26.094967Z"
    },
    "papermill": {
     "duration": 0.037896,
     "end_time": "2022-11-22T05:33:26.098244",
     "exception": false,
     "start_time": "2022-11-22T05:33:26.060348",
     "status": "completed"
    },
    "tags": []
   },
   "outputs": [
    {
     "data": {
      "text/html": [
       "<div>\n",
       "<style scoped>\n",
       "    .dataframe tbody tr th:only-of-type {\n",
       "        vertical-align: middle;\n",
       "    }\n",
       "\n",
       "    .dataframe tbody tr th {\n",
       "        vertical-align: top;\n",
       "    }\n",
       "\n",
       "    .dataframe thead th {\n",
       "        text-align: right;\n",
       "    }\n",
       "</style>\n",
       "<table border=\"1\" class=\"dataframe\">\n",
       "  <thead>\n",
       "    <tr style=\"text-align: right;\">\n",
       "      <th></th>\n",
       "      <th>Num_Values</th>\n",
       "    </tr>\n",
       "  </thead>\n",
       "  <tbody>\n",
       "    <tr>\n",
       "      <th>Type 2</th>\n",
       "      <td>4346</td>\n",
       "    </tr>\n",
       "    <tr>\n",
       "      <th>Type 3</th>\n",
       "      <td>2426</td>\n",
       "    </tr>\n",
       "    <tr>\n",
       "      <th>Type 1</th>\n",
       "      <td>1440</td>\n",
       "    </tr>\n",
       "  </tbody>\n",
       "</table>\n",
       "</div>"
      ],
      "text/plain": [
       "        Num_Values\n",
       "Type 2        4346\n",
       "Type 3        2426\n",
       "Type 1        1440"
      ]
     },
     "execution_count": 9,
     "metadata": {},
     "output_type": "execute_result"
    }
   ],
   "source": [
    "# get count of each type \n",
    "type_count = pd.DataFrame(files_df['label'].value_counts()).rename(columns= {'label': 'Num_Values'})\n",
    "type_count"
   ]
  },
  {
   "cell_type": "code",
   "execution_count": 10,
   "id": "d6902028",
   "metadata": {
    "collapsed": false,
    "execution": {
     "iopub.execute_input": "2022-11-22T05:33:26.141027Z",
     "iopub.status.busy": "2022-11-22T05:33:26.140672Z",
     "iopub.status.idle": "2022-11-22T05:33:26.365245Z",
     "shell.execute_reply": "2022-11-22T05:33:26.364173Z"
    },
    "jupyter": {
     "outputs_hidden": false
    },
    "papermill": {
     "duration": 0.248846,
     "end_time": "2022-11-22T05:33:26.367621",
     "exception": false,
     "start_time": "2022-11-22T05:33:26.118775",
     "status": "completed"
    },
    "pycharm": {
     "name": "#%%\n"
    },
    "tags": []
   },
   "outputs": [
    {
     "data": {
      "image/png": "[encoded data removed]",
      "text/plain": [
       "<Figure size 1080x432 with 1 Axes>"
      ]
     },
     "metadata": {
      "needs_background": "light"
     },
     "output_type": "display_data"
    }
   ],
   "source": [
    "plt.figure(figsize = (15, 6))\n",
    "sns.barplot(x= type_count['Num_Values'], y= type_count.index.to_list())\n",
    "plt.title('Type Distribution')\n",
    "plt.grid(True)\n",
    "plt.show()"
   ]
  },
  {
   "cell_type": "code",
   "execution_count": 11,
   "id": "1c2305c6",
   "metadata": {
    "execution": {
     "iopub.execute_input": "2022-11-22T05:33:26.410285Z",
     "iopub.status.busy": "2022-11-22T05:33:26.409274Z",
     "iopub.status.idle": "2022-11-22T05:33:26.414395Z",
     "shell.execute_reply": "2022-11-22T05:33:26.413396Z"
    },
    "papermill": {
     "duration": 0.028658,
     "end_time": "2022-11-22T05:33:26.416555",
     "exception": false,
     "start_time": "2022-11-22T05:33:26.387897",
     "status": "completed"
    },
    "tags": []
   },
   "outputs": [],
   "source": [
    "#pie chart\n",
    "\n",
    "#pie_plot = go.Pie(labels= type_count.index.to_list(), values= type_count.values.flatten(),\n",
    "#                 hole= 0.2, text= type_count.index.to_list(), textposition='auto')\n",
    "#fig = go.Figure([pie_plot])\n",
    "#fig.update_layout(title_text='Pie Chart of Type Distribution')\n",
    "#fig.show()"
   ]
  },
  {
   "cell_type": "markdown",
   "id": "6bc847a9",
   "metadata": {
    "papermill": {
     "duration": 0.020788,
     "end_time": "2022-11-22T05:33:26.457914",
     "exception": false,
     "start_time": "2022-11-22T05:33:26.437126",
     "status": "completed"
    },
    "tags": []
   },
   "source": [
    "# 데이터 분리"
   ]
  },
  {
   "cell_type": "code",
   "execution_count": 12,
   "id": "f5edaf89",
   "metadata": {
    "execution": {
     "iopub.execute_input": "2022-11-22T05:33:26.500790Z",
     "iopub.status.busy": "2022-11-22T05:33:26.500417Z",
     "iopub.status.idle": "2022-11-22T05:33:26.516594Z",
     "shell.execute_reply": "2022-11-22T05:33:26.514600Z"
    },
    "papermill": {
     "duration": 0.040879,
     "end_time": "2022-11-22T05:33:26.519830",
     "exception": false,
     "start_time": "2022-11-22T05:33:26.478951",
     "status": "completed"
    },
    "tags": []
   },
   "outputs": [
    {
     "name": "stdout",
     "output_type": "stream",
     "text": [
      "6569 1643\n"
     ]
    }
   ],
   "source": [
    "# Train / Validation\n",
    "\n",
    "train_df, valid_df = train_test_split(files_df, test_size = 0.2, stratify = files_df['label'], random_state = 1234)\n",
    "\n",
    "print(len(train_df), len(valid_df))"
   ]
  },
  {
   "cell_type": "code",
   "execution_count": 13,
   "id": "91a4ef8a",
   "metadata": {
    "execution": {
     "iopub.execute_input": "2022-11-22T05:33:26.564677Z",
     "iopub.status.busy": "2022-11-22T05:33:26.562694Z",
     "iopub.status.idle": "2022-11-22T05:33:26.571168Z",
     "shell.execute_reply": "2022-11-22T05:33:26.570237Z"
    },
    "papermill": {
     "duration": 0.032538,
     "end_time": "2022-11-22T05:33:26.573640",
     "exception": false,
     "start_time": "2022-11-22T05:33:26.541102",
     "status": "completed"
    },
    "tags": []
   },
   "outputs": [],
   "source": [
    "X_train = train_df[['filepath']]\n",
    "y_train = train_df[['label']]\n",
    "X_train = X_train.reset_index(drop=True)\n",
    "y_train = y_train.reset_index(drop=True)"
   ]
  },
  {
   "cell_type": "code",
   "execution_count": 14,
   "id": "57f0d04a",
   "metadata": {
    "execution": {
     "iopub.execute_input": "2022-11-22T05:33:26.618993Z",
     "iopub.status.busy": "2022-11-22T05:33:26.617018Z",
     "iopub.status.idle": "2022-11-22T05:33:26.626884Z",
     "shell.execute_reply": "2022-11-22T05:33:26.625396Z"
    },
    "papermill": {
     "duration": 0.034494,
     "end_time": "2022-11-22T05:33:26.629252",
     "exception": false,
     "start_time": "2022-11-22T05:33:26.594758",
     "status": "completed"
    },
    "tags": []
   },
   "outputs": [
    {
     "name": "stdout",
     "output_type": "stream",
     "text": [
      "6569 6569 1643 1643\n"
     ]
    }
   ],
   "source": [
    "X_valid = valid_df[['filepath']].reset_index(drop=True)\n",
    "y_valid = valid_df[['label']].reset_index(drop=True)\n",
    "\n",
    "print(len(X_train), len(y_train), len(X_valid),len(y_valid))"
   ]
  },
  {
   "cell_type": "markdown",
   "id": "0d72b4ae",
   "metadata": {
    "papermill": {
     "duration": 0.019002,
     "end_time": "2022-11-22T05:33:26.669484",
     "exception": false,
     "start_time": "2022-11-22T05:33:26.650482",
     "status": "completed"
    },
    "tags": []
   },
   "source": [
    "# 데이터 전처리"
   ]
  },
  {
   "cell_type": "code",
   "execution_count": 15,
   "id": "e9457054",
   "metadata": {
    "execution": {
     "iopub.execute_input": "2022-11-22T05:33:26.711724Z",
     "iopub.status.busy": "2022-11-22T05:33:26.709682Z",
     "iopub.status.idle": "2022-11-22T05:33:26.935585Z",
     "shell.execute_reply": "2022-11-22T05:33:26.934502Z"
    },
    "papermill": {
     "duration": 0.248854,
     "end_time": "2022-11-22T05:33:26.937671",
     "exception": false,
     "start_time": "2022-11-22T05:33:26.688817",
     "status": "completed"
    },
    "tags": []
   },
   "outputs": [
    {
     "data": {
      "text/plain": [
       "(4160, 3120, 3)"
      ]
     },
     "execution_count": 15,
     "metadata": {},
     "output_type": "execute_result"
    }
   ],
   "source": [
    "# check original image size\n",
    "\n",
    "(cv2.imread(train_df['filepath'].values[0])).shape"
   ]
  },
  {
   "cell_type": "code",
   "execution_count": 16,
   "id": "bff5a8de",
   "metadata": {
    "execution": {
     "iopub.execute_input": "2022-11-22T05:33:26.979170Z",
     "iopub.status.busy": "2022-11-22T05:33:26.978123Z",
     "iopub.status.idle": "2022-11-22T05:33:32.092242Z",
     "shell.execute_reply": "2022-11-22T05:33:32.091109Z"
    },
    "papermill": {
     "duration": 5.139853,
     "end_time": "2022-11-22T05:33:32.097364",
     "exception": false,
     "start_time": "2022-11-22T05:33:26.957511",
     "status": "completed"
    },
    "tags": []
   },
   "outputs": [
    {
     "data": {
      "text/plain": [
       "Text(0.5, 1.0, 'Resizing')"
      ]
     },
     "execution_count": 16,
     "metadata": {},
     "output_type": "execute_result"
    },
    {
     "data": {
      "image/png": "[encoded data removed]",
      "text/plain": [
       "<Figure size 1080x432 with 4 Axes>"
      ]
     },
     "metadata": {
      "needs_background": "light"
     },
     "output_type": "display_data"
    }
   ],
   "source": [
    "# load image\n",
    "\n",
    "fig = plt.figure(figsize= (15,6))\n",
    "fig.add_subplot(1,4,1)\n",
    "plt.imshow(cv2.imread(train_df['filepath'].values[0]))\n",
    "plt.axis(False)\n",
    "plt.title('Original')\n",
    "\n",
    "fig.add_subplot(1,4,2)\n",
    "plt.imshow(cv2.cvtColor(cv2.imread(train_df['filepath'].values[0]),cv2.COLOR_RGB2BGR))\n",
    "plt.axis(False)\n",
    "plt.title('Color edit')\n",
    "\n",
    "fig.add_subplot(1,4,3)\n",
    "plt.imshow(cv2.resize(cv2.cvtColor(cv2.imread(train_df['filepath'].values[0]),cv2.COLOR_RGB2BGR),(224,224)))\n",
    "plt.axis(False)\n",
    "plt.title('Resizing')\n",
    "\n",
    "fig.add_subplot(1,4,4)\n",
    "plt.imshow(cv2.resize(cv2.cvtColor(cv2.imread(train_df['filepath'].values[0]),cv2.COLOR_RGB2BGR),(128,128)))\n",
    "plt.axis(False)\n",
    "plt.title('Resizing')"
   ]
  },
  {
   "cell_type": "code",
   "execution_count": 17,
   "id": "311b4135",
   "metadata": {
    "execution": {
     "iopub.execute_input": "2022-11-22T05:33:32.147576Z",
     "iopub.status.busy": "2022-11-22T05:33:32.147188Z",
     "iopub.status.idle": "2022-11-22T05:33:32.151843Z",
     "shell.execute_reply": "2022-11-22T05:33:32.150837Z"
    },
    "papermill": {
     "duration": 0.031599,
     "end_time": "2022-11-22T05:33:32.154149",
     "exception": false,
     "start_time": "2022-11-22T05:33:32.122550",
     "status": "completed"
    },
    "tags": []
   },
   "outputs": [],
   "source": [
    "# train data\n",
    "\n",
    "#features = []\n",
    "#f_app = features.append\n",
    "#path = train_df['filepath'].values\n",
    "#labels = train_df['label'].values\n",
    "#for p in tqdm(path):\n",
    "#    image = cv2.imread(p)\n",
    "#    image = cv2.cvtColor(image, cv2.COLOR_RGB2BGR)\n",
    "#    re_image = cv2.resize(image, (224,224))\n",
    "#    f_app(np.array(re_image))\n",
    "\n",
    "#X_train = np.array(features)\n",
    "#y_train = np.array(labels)"
   ]
  },
  {
   "cell_type": "code",
   "execution_count": 18,
   "id": "63cb4341",
   "metadata": {
    "execution": {
     "iopub.execute_input": "2022-11-22T05:33:32.203629Z",
     "iopub.status.busy": "2022-11-22T05:33:32.203220Z",
     "iopub.status.idle": "2022-11-22T05:33:32.207949Z",
     "shell.execute_reply": "2022-11-22T05:33:32.206735Z"
    },
    "papermill": {
     "duration": 0.032112,
     "end_time": "2022-11-22T05:33:32.210163",
     "exception": false,
     "start_time": "2022-11-22T05:33:32.178051",
     "status": "completed"
    },
    "tags": []
   },
   "outputs": [],
   "source": [
    "# save train data as npy files\n",
    "\n",
    "#np.save('/kaggle/working/X_train_224', X_train)\n",
    "#np.save('/kaggle/working/y_train_224', y_train)"
   ]
  },
  {
   "cell_type": "code",
   "execution_count": 19,
   "id": "087b8ab0",
   "metadata": {
    "execution": {
     "iopub.execute_input": "2022-11-22T05:33:32.261635Z",
     "iopub.status.busy": "2022-11-22T05:33:32.261238Z",
     "iopub.status.idle": "2022-11-22T05:33:35.619133Z",
     "shell.execute_reply": "2022-11-22T05:33:35.618123Z"
    },
    "papermill": {
     "duration": 3.386755,
     "end_time": "2022-11-22T05:33:35.621686",
     "exception": false,
     "start_time": "2022-11-22T05:33:32.234931",
     "status": "completed"
    },
    "tags": []
   },
   "outputs": [],
   "source": [
    "# use npy files\n",
    "\n",
    "X_train = np.load('../input/data128/X_train_128.npy')\n",
    "y_train = np.load('../input/data128/y_train_128.npy', allow_pickle=True)"
   ]
  },
  {
   "cell_type": "code",
   "execution_count": 20,
   "id": "2faede98",
   "metadata": {
    "execution": {
     "iopub.execute_input": "2022-11-22T05:33:35.683196Z",
     "iopub.status.busy": "2022-11-22T05:33:35.682831Z",
     "iopub.status.idle": "2022-11-22T05:33:35.687357Z",
     "shell.execute_reply": "2022-11-22T05:33:35.686376Z"
    },
    "papermill": {
     "duration": 0.04433,
     "end_time": "2022-11-22T05:33:35.689513",
     "exception": false,
     "start_time": "2022-11-22T05:33:35.645183",
     "status": "completed"
    },
    "tags": []
   },
   "outputs": [],
   "source": [
    "# 소요시간줄이는코드 (추가 수정 필요)\n",
    "#path = train_df['filepath'].values\n",
    "#labels = train_df['label'].values\n",
    "#features = [np.array(cv2.resize(cv2.cvtColor(cv2.imread(p),cv2.COLOR_RGB2BGR),(180,180))) for p in tqdm(path)]"
   ]
  },
  {
   "cell_type": "code",
   "execution_count": 21,
   "id": "df11a266",
   "metadata": {
    "execution": {
     "iopub.execute_input": "2022-11-22T05:33:35.738498Z",
     "iopub.status.busy": "2022-11-22T05:33:35.738128Z",
     "iopub.status.idle": "2022-11-22T05:33:35.742601Z",
     "shell.execute_reply": "2022-11-22T05:33:35.741492Z"
    },
    "papermill": {
     "duration": 0.031926,
     "end_time": "2022-11-22T05:33:35.745318",
     "exception": false,
     "start_time": "2022-11-22T05:33:35.713392",
     "status": "completed"
    },
    "tags": []
   },
   "outputs": [],
   "source": [
    "# validation data\n",
    "\n",
    "#features = []\n",
    "#f_app = features.append\n",
    "#path = valid_df['filepath'].values\n",
    "#labels = valid_df['label'].values\n",
    "#for p in tqdm(path):\n",
    "#    image = cv2.imread(p)\n",
    "#    image = cv2.cvtColor(image, cv2.COLOR_RGB2BGR)\n",
    "#    re_image = cv2.resize(image, (224,224))\n",
    "#    f_app(np.array(re_image))\n",
    "\n",
    "#X_valid = np.array(features)\n",
    "#y_valid = np.array(labels)"
   ]
  },
  {
   "cell_type": "code",
   "execution_count": 22,
   "id": "6e40418d",
   "metadata": {
    "execution": {
     "iopub.execute_input": "2022-11-22T05:33:35.794981Z",
     "iopub.status.busy": "2022-11-22T05:33:35.794309Z",
     "iopub.status.idle": "2022-11-22T05:33:35.799068Z",
     "shell.execute_reply": "2022-11-22T05:33:35.798031Z"
    },
    "papermill": {
     "duration": 0.032641,
     "end_time": "2022-11-22T05:33:35.801538",
     "exception": false,
     "start_time": "2022-11-22T05:33:35.768897",
     "status": "completed"
    },
    "tags": []
   },
   "outputs": [],
   "source": [
    "# save validation data as npy files\n",
    "\n",
    "#np.save('/kaggle/working/X_valid_224', X_valid)\n",
    "#np.save('/kaggle/working/y_valid_224', y_valid)"
   ]
  },
  {
   "cell_type": "code",
   "execution_count": 23,
   "id": "6b5346dc",
   "metadata": {
    "execution": {
     "iopub.execute_input": "2022-11-22T05:33:35.849893Z",
     "iopub.status.busy": "2022-11-22T05:33:35.849581Z",
     "iopub.status.idle": "2022-11-22T05:33:36.504371Z",
     "shell.execute_reply": "2022-11-22T05:33:36.503221Z"
    },
    "papermill": {
     "duration": 0.682475,
     "end_time": "2022-11-22T05:33:36.507095",
     "exception": false,
     "start_time": "2022-11-22T05:33:35.824620",
     "status": "completed"
    },
    "tags": []
   },
   "outputs": [],
   "source": [
    "# use npy files\n",
    "\n",
    "X_valid = np.load('../input/data128/X_valid_128.npy', allow_pickle=True)\n",
    "y_valid = np.load('../input/data128/y_valid_128.npy', allow_pickle=True)"
   ]
  },
  {
   "cell_type": "code",
   "execution_count": 24,
   "id": "d43224a2",
   "metadata": {
    "execution": {
     "iopub.execute_input": "2022-11-22T05:33:36.557301Z",
     "iopub.status.busy": "2022-11-22T05:33:36.556962Z",
     "iopub.status.idle": "2022-11-22T05:33:36.565245Z",
     "shell.execute_reply": "2022-11-22T05:33:36.564098Z"
    },
    "papermill": {
     "duration": 0.03586,
     "end_time": "2022-11-22T05:33:36.567366",
     "exception": false,
     "start_time": "2022-11-22T05:33:36.531506",
     "status": "completed"
    },
    "tags": []
   },
   "outputs": [
    {
     "data": {
      "text/plain": [
       "array([[[ 71,  81,  90],\n",
       "        [ 79,  89,  97],\n",
       "        [ 88, 101, 106],\n",
       "        ...,\n",
       "        [ 87,  57,  81],\n",
       "        [ 90,  58,  82],\n",
       "        [ 87,  55,  78]],\n",
       "\n",
       "       [[ 82,  89,  97],\n",
       "        [ 88,  95, 101],\n",
       "        [ 96, 107, 111],\n",
       "        ...,\n",
       "        [100,  66,  93],\n",
       "        [ 99,  65,  92],\n",
       "        [ 93,  60,  88]],\n",
       "\n",
       "       [[ 79,  83,  94],\n",
       "        [ 93,  98, 104],\n",
       "        [107, 114, 120],\n",
       "        ...,\n",
       "        [102,  67, 100],\n",
       "        [ 99,  64,  96],\n",
       "        [ 98,  63,  93]],\n",
       "\n",
       "       ...,\n",
       "\n",
       "       [[ 94,  62,  86],\n",
       "        [ 75,  47,  69],\n",
       "        [ 64,  43,  58],\n",
       "        ...,\n",
       "        [ 70,  37,  44],\n",
       "        [ 69,  37,  48],\n",
       "        [ 67,  36,  51]],\n",
       "\n",
       "       [[110,  74, 100],\n",
       "        [ 89,  57,  81],\n",
       "        [ 77,  49,  71],\n",
       "        ...,\n",
       "        [ 53,  24,  28],\n",
       "        [ 60,  30,  40],\n",
       "        [ 65,  36,  54]],\n",
       "\n",
       "       [[120,  84, 110],\n",
       "        [108,  75,  99],\n",
       "        [ 95,  63,  87],\n",
       "        ...,\n",
       "        [ 51,  23,  35],\n",
       "        [ 60,  29,  47],\n",
       "        [ 78,  46,  72]]], dtype=uint8)"
      ]
     },
     "execution_count": 24,
     "metadata": {},
     "output_type": "execute_result"
    }
   ],
   "source": [
    "# X train data 확인\n",
    "X_train[0]"
   ]
  },
  {
   "cell_type": "code",
   "execution_count": 25,
   "id": "373f11f1",
   "metadata": {
    "execution": {
     "iopub.execute_input": "2022-11-22T05:33:36.614698Z",
     "iopub.status.busy": "2022-11-22T05:33:36.614327Z",
     "iopub.status.idle": "2022-11-22T05:33:36.622227Z",
     "shell.execute_reply": "2022-11-22T05:33:36.621350Z"
    },
    "papermill": {
     "duration": 0.033856,
     "end_time": "2022-11-22T05:33:36.624139",
     "exception": false,
     "start_time": "2022-11-22T05:33:36.590283",
     "status": "completed"
    },
    "tags": []
   },
   "outputs": [
    {
     "data": {
      "text/plain": [
       "array([[[ 59,  51,  72],\n",
       "        [ 57,  49,  67],\n",
       "        [ 59,  52,  70],\n",
       "        ...,\n",
       "        [ 29,  39,  50],\n",
       "        [ 22,  31,  39],\n",
       "        [ 28,  36,  45]],\n",
       "\n",
       "       [[ 61,  53,  72],\n",
       "        [ 67,  56,  76],\n",
       "        [ 68,  54,  77],\n",
       "        ...,\n",
       "        [ 22,  40,  48],\n",
       "        [ 25,  39,  48],\n",
       "        [ 26,  35,  45]],\n",
       "\n",
       "       [[ 70,  61,  80],\n",
       "        [ 67,  59,  73],\n",
       "        [ 71,  59,  79],\n",
       "        ...,\n",
       "        [ 25,  38,  54],\n",
       "        [ 27,  39,  51],\n",
       "        [ 28,  37,  47]],\n",
       "\n",
       "       ...,\n",
       "\n",
       "       [[ 95,  87, 110],\n",
       "        [101,  93, 117],\n",
       "        [115, 103, 127],\n",
       "        ...,\n",
       "        [ 63,  49,  74],\n",
       "        [ 60,  47,  67],\n",
       "        [ 59,  45,  69]],\n",
       "\n",
       "       [[ 70,  67,  88],\n",
       "        [ 85,  78, 101],\n",
       "        [100,  91, 118],\n",
       "        ...,\n",
       "        [ 54,  41,  61],\n",
       "        [ 54,  41,  58],\n",
       "        [ 55,  42,  60]],\n",
       "\n",
       "       [[ 50,  48,  68],\n",
       "        [ 63,  60,  81],\n",
       "        [ 76,  67,  93],\n",
       "        ...,\n",
       "        [ 53,  40,  63],\n",
       "        [ 52,  39,  59],\n",
       "        [ 46,  34,  50]]], dtype=uint8)"
      ]
     },
     "execution_count": 25,
     "metadata": {},
     "output_type": "execute_result"
    }
   ],
   "source": [
    "# X validation data 확인\n",
    "X_valid[0]"
   ]
  },
  {
   "cell_type": "code",
   "execution_count": 26,
   "id": "f888ad5c",
   "metadata": {
    "execution": {
     "iopub.execute_input": "2022-11-22T05:33:36.672028Z",
     "iopub.status.busy": "2022-11-22T05:33:36.671694Z",
     "iopub.status.idle": "2022-11-22T05:33:37.748860Z",
     "shell.execute_reply": "2022-11-22T05:33:37.747745Z"
    },
    "papermill": {
     "duration": 1.104683,
     "end_time": "2022-11-22T05:33:37.751842",
     "exception": false,
     "start_time": "2022-11-22T05:33:36.647159",
     "status": "completed"
    },
    "tags": []
   },
   "outputs": [],
   "source": [
    "# 정규화 (0과1사이의값)\n",
    "X_train = X_train/255\n",
    "X_valid = X_valid/255"
   ]
  },
  {
   "cell_type": "code",
   "execution_count": 27,
   "id": "d75068c6",
   "metadata": {
    "execution": {
     "iopub.execute_input": "2022-11-22T05:33:37.807068Z",
     "iopub.status.busy": "2022-11-22T05:33:37.806679Z",
     "iopub.status.idle": "2022-11-22T05:33:37.817174Z",
     "shell.execute_reply": "2022-11-22T05:33:37.815306Z"
    },
    "papermill": {
     "duration": 0.042688,
     "end_time": "2022-11-22T05:33:37.819697",
     "exception": false,
     "start_time": "2022-11-22T05:33:37.777009",
     "status": "completed"
    },
    "tags": []
   },
   "outputs": [
    {
     "data": {
      "text/plain": [
       "array([[[0.27843137, 0.31764706, 0.35294118],\n",
       "        [0.30980392, 0.34901961, 0.38039216],\n",
       "        [0.34509804, 0.39607843, 0.41568627],\n",
       "        ...,\n",
       "        [0.34117647, 0.22352941, 0.31764706],\n",
       "        [0.35294118, 0.22745098, 0.32156863],\n",
       "        [0.34117647, 0.21568627, 0.30588235]],\n",
       "\n",
       "       [[0.32156863, 0.34901961, 0.38039216],\n",
       "        [0.34509804, 0.37254902, 0.39607843],\n",
       "        [0.37647059, 0.41960784, 0.43529412],\n",
       "        ...,\n",
       "        [0.39215686, 0.25882353, 0.36470588],\n",
       "        [0.38823529, 0.25490196, 0.36078431],\n",
       "        [0.36470588, 0.23529412, 0.34509804]],\n",
       "\n",
       "       [[0.30980392, 0.3254902 , 0.36862745],\n",
       "        [0.36470588, 0.38431373, 0.40784314],\n",
       "        [0.41960784, 0.44705882, 0.47058824],\n",
       "        ...,\n",
       "        [0.4       , 0.2627451 , 0.39215686],\n",
       "        [0.38823529, 0.25098039, 0.37647059],\n",
       "        [0.38431373, 0.24705882, 0.36470588]],\n",
       "\n",
       "       ...,\n",
       "\n",
       "       [[0.36862745, 0.24313725, 0.3372549 ],\n",
       "        [0.29411765, 0.18431373, 0.27058824],\n",
       "        [0.25098039, 0.16862745, 0.22745098],\n",
       "        ...,\n",
       "        [0.2745098 , 0.14509804, 0.17254902],\n",
       "        [0.27058824, 0.14509804, 0.18823529],\n",
       "        [0.2627451 , 0.14117647, 0.2       ]],\n",
       "\n",
       "       [[0.43137255, 0.29019608, 0.39215686],\n",
       "        [0.34901961, 0.22352941, 0.31764706],\n",
       "        [0.30196078, 0.19215686, 0.27843137],\n",
       "        ...,\n",
       "        [0.20784314, 0.09411765, 0.10980392],\n",
       "        [0.23529412, 0.11764706, 0.15686275],\n",
       "        [0.25490196, 0.14117647, 0.21176471]],\n",
       "\n",
       "       [[0.47058824, 0.32941176, 0.43137255],\n",
       "        [0.42352941, 0.29411765, 0.38823529],\n",
       "        [0.37254902, 0.24705882, 0.34117647],\n",
       "        ...,\n",
       "        [0.2       , 0.09019608, 0.1372549 ],\n",
       "        [0.23529412, 0.11372549, 0.18431373],\n",
       "        [0.30588235, 0.18039216, 0.28235294]]])"
      ]
     },
     "execution_count": 27,
     "metadata": {},
     "output_type": "execute_result"
    }
   ],
   "source": [
    "# 정규화한 X train data 확인\n",
    "X_train[0]"
   ]
  },
  {
   "cell_type": "code",
   "execution_count": 28,
   "id": "0d09f70f",
   "metadata": {
    "execution": {
     "iopub.execute_input": "2022-11-22T05:33:37.874477Z",
     "iopub.status.busy": "2022-11-22T05:33:37.872651Z",
     "iopub.status.idle": "2022-11-22T05:33:37.883469Z",
     "shell.execute_reply": "2022-11-22T05:33:37.882472Z"
    },
    "papermill": {
     "duration": 0.040196,
     "end_time": "2022-11-22T05:33:37.886143",
     "exception": false,
     "start_time": "2022-11-22T05:33:37.845947",
     "status": "completed"
    },
    "tags": []
   },
   "outputs": [
    {
     "data": {
      "text/plain": [
       "array([[[0.23137255, 0.2       , 0.28235294],\n",
       "        [0.22352941, 0.19215686, 0.2627451 ],\n",
       "        [0.23137255, 0.20392157, 0.2745098 ],\n",
       "        ...,\n",
       "        [0.11372549, 0.15294118, 0.19607843],\n",
       "        [0.08627451, 0.12156863, 0.15294118],\n",
       "        [0.10980392, 0.14117647, 0.17647059]],\n",
       "\n",
       "       [[0.23921569, 0.20784314, 0.28235294],\n",
       "        [0.2627451 , 0.21960784, 0.29803922],\n",
       "        [0.26666667, 0.21176471, 0.30196078],\n",
       "        ...,\n",
       "        [0.08627451, 0.15686275, 0.18823529],\n",
       "        [0.09803922, 0.15294118, 0.18823529],\n",
       "        [0.10196078, 0.1372549 , 0.17647059]],\n",
       "\n",
       "       [[0.2745098 , 0.23921569, 0.31372549],\n",
       "        [0.2627451 , 0.23137255, 0.28627451],\n",
       "        [0.27843137, 0.23137255, 0.30980392],\n",
       "        ...,\n",
       "        [0.09803922, 0.14901961, 0.21176471],\n",
       "        [0.10588235, 0.15294118, 0.2       ],\n",
       "        [0.10980392, 0.14509804, 0.18431373]],\n",
       "\n",
       "       ...,\n",
       "\n",
       "       [[0.37254902, 0.34117647, 0.43137255],\n",
       "        [0.39607843, 0.36470588, 0.45882353],\n",
       "        [0.45098039, 0.40392157, 0.49803922],\n",
       "        ...,\n",
       "        [0.24705882, 0.19215686, 0.29019608],\n",
       "        [0.23529412, 0.18431373, 0.2627451 ],\n",
       "        [0.23137255, 0.17647059, 0.27058824]],\n",
       "\n",
       "       [[0.2745098 , 0.2627451 , 0.34509804],\n",
       "        [0.33333333, 0.30588235, 0.39607843],\n",
       "        [0.39215686, 0.35686275, 0.4627451 ],\n",
       "        ...,\n",
       "        [0.21176471, 0.16078431, 0.23921569],\n",
       "        [0.21176471, 0.16078431, 0.22745098],\n",
       "        [0.21568627, 0.16470588, 0.23529412]],\n",
       "\n",
       "       [[0.19607843, 0.18823529, 0.26666667],\n",
       "        [0.24705882, 0.23529412, 0.31764706],\n",
       "        [0.29803922, 0.2627451 , 0.36470588],\n",
       "        ...,\n",
       "        [0.20784314, 0.15686275, 0.24705882],\n",
       "        [0.20392157, 0.15294118, 0.23137255],\n",
       "        [0.18039216, 0.13333333, 0.19607843]]])"
      ]
     },
     "execution_count": 28,
     "metadata": {},
     "output_type": "execute_result"
    }
   ],
   "source": [
    "# 정규화한 X validation data 확인\n",
    "X_valid[0]"
   ]
  },
  {
   "cell_type": "code",
   "execution_count": 29,
   "id": "1e2ef9cb",
   "metadata": {
    "execution": {
     "iopub.execute_input": "2022-11-22T05:33:37.939489Z",
     "iopub.status.busy": "2022-11-22T05:33:37.937719Z",
     "iopub.status.idle": "2022-11-22T05:33:37.944990Z",
     "shell.execute_reply": "2022-11-22T05:33:37.943753Z"
    },
    "papermill": {
     "duration": 0.03631,
     "end_time": "2022-11-22T05:33:37.948054",
     "exception": false,
     "start_time": "2022-11-22T05:33:37.911744",
     "status": "completed"
    },
    "tags": []
   },
   "outputs": [
    {
     "name": "stdout",
     "output_type": "stream",
     "text": [
      "6569 6569\n",
      "(6569, 128, 128, 3)\n"
     ]
    }
   ],
   "source": [
    "# train 개수, 차원 확인\n",
    "print(len(X_train), len(y_train))\n",
    "print(X_train.shape)"
   ]
  },
  {
   "cell_type": "code",
   "execution_count": 30,
   "id": "2c6221ea",
   "metadata": {
    "execution": {
     "iopub.execute_input": "2022-11-22T05:33:38.002370Z",
     "iopub.status.busy": "2022-11-22T05:33:38.002027Z",
     "iopub.status.idle": "2022-11-22T05:33:38.006860Z",
     "shell.execute_reply": "2022-11-22T05:33:38.005990Z"
    },
    "papermill": {
     "duration": 0.035126,
     "end_time": "2022-11-22T05:33:38.010529",
     "exception": false,
     "start_time": "2022-11-22T05:33:37.975403",
     "status": "completed"
    },
    "tags": []
   },
   "outputs": [
    {
     "name": "stdout",
     "output_type": "stream",
     "text": [
      "1643 1643\n",
      "(1643, 128, 128, 3)\n"
     ]
    }
   ],
   "source": [
    "# validation 개수, 차원 확인\n",
    "print(len(X_valid), len(y_valid))\n",
    "print(X_valid.shape)"
   ]
  },
  {
   "cell_type": "code",
   "execution_count": 31,
   "id": "a192802a",
   "metadata": {
    "execution": {
     "iopub.execute_input": "2022-11-22T05:33:38.061504Z",
     "iopub.status.busy": "2022-11-22T05:33:38.061149Z",
     "iopub.status.idle": "2022-11-22T05:33:38.070321Z",
     "shell.execute_reply": "2022-11-22T05:33:38.069346Z"
    },
    "papermill": {
     "duration": 0.035785,
     "end_time": "2022-11-22T05:33:38.072347",
     "exception": false,
     "start_time": "2022-11-22T05:33:38.036562",
     "status": "completed"
    },
    "tags": []
   },
   "outputs": [],
   "source": [
    "# y 라벨링 (string -> int)\n",
    "le = LabelEncoder().fit(['Type 1', 'Type 2', 'Type 3'])\n",
    "y_train = le.transform(y_train)\n",
    "y_valid = le.transform(y_valid)\n",
    "\n",
    "y_train_onehot = to_categorical(y_train, num_classes=3)\n",
    "y_valid_onehot = to_categorical(y_valid, num_classes=3)"
   ]
  },
  {
   "cell_type": "code",
   "execution_count": 32,
   "id": "674172b7",
   "metadata": {
    "execution": {
     "iopub.execute_input": "2022-11-22T05:33:38.122410Z",
     "iopub.status.busy": "2022-11-22T05:33:38.122054Z",
     "iopub.status.idle": "2022-11-22T05:33:38.130540Z",
     "shell.execute_reply": "2022-11-22T05:33:38.129469Z"
    },
    "papermill": {
     "duration": 0.036259,
     "end_time": "2022-11-22T05:33:38.132814",
     "exception": false,
     "start_time": "2022-11-22T05:33:38.096555",
     "status": "completed"
    },
    "tags": []
   },
   "outputs": [
    {
     "data": {
      "text/plain": [
       "array([[0., 1., 0.],\n",
       "       [0., 0., 1.],\n",
       "       [0., 1., 0.],\n",
       "       [0., 1., 0.],\n",
       "       [0., 0., 1.]], dtype=float32)"
      ]
     },
     "execution_count": 32,
     "metadata": {},
     "output_type": "execute_result"
    }
   ],
   "source": [
    "y_train_onehot[:5]"
   ]
  },
  {
   "cell_type": "code",
   "execution_count": 33,
   "id": "118efc12",
   "metadata": {
    "execution": {
     "iopub.execute_input": "2022-11-22T05:33:38.182676Z",
     "iopub.status.busy": "2022-11-22T05:33:38.182338Z",
     "iopub.status.idle": "2022-11-22T05:33:38.189530Z",
     "shell.execute_reply": "2022-11-22T05:33:38.188497Z"
    },
    "papermill": {
     "duration": 0.033578,
     "end_time": "2022-11-22T05:33:38.191486",
     "exception": false,
     "start_time": "2022-11-22T05:33:38.157908",
     "status": "completed"
    },
    "tags": []
   },
   "outputs": [
    {
     "data": {
      "text/plain": [
       "array([[0., 1., 0.],\n",
       "       [0., 1., 0.],\n",
       "       [0., 1., 0.],\n",
       "       [0., 0., 1.],\n",
       "       [0., 1., 0.]], dtype=float32)"
      ]
     },
     "execution_count": 33,
     "metadata": {},
     "output_type": "execute_result"
    }
   ],
   "source": [
    "y_valid_onehot[:5]"
   ]
  },
  {
   "cell_type": "markdown",
   "id": "857ff3d7",
   "metadata": {
    "papermill": {
     "duration": 0.025294,
     "end_time": "2022-11-22T05:33:38.242811",
     "exception": false,
     "start_time": "2022-11-22T05:33:38.217517",
     "status": "completed"
    },
    "tags": []
   },
   "source": [
    "# 모델링"
   ]
  },
  {
   "cell_type": "code",
   "execution_count": 34,
   "id": "81c5d84d",
   "metadata": {
    "execution": {
     "iopub.execute_input": "2022-11-22T05:33:38.296788Z",
     "iopub.status.busy": "2022-11-22T05:33:38.294674Z",
     "iopub.status.idle": "2022-11-22T05:33:38.300789Z",
     "shell.execute_reply": "2022-11-22T05:33:38.299730Z"
    },
    "papermill": {
     "duration": 0.035242,
     "end_time": "2022-11-22T05:33:38.303117",
     "exception": false,
     "start_time": "2022-11-22T05:33:38.267875",
     "status": "completed"
    },
    "tags": []
   },
   "outputs": [],
   "source": [
    "BATCH_SIZE = 16\n",
    "EPOCHS = 100"
   ]
  },
  {
   "cell_type": "code",
   "execution_count": 35,
   "id": "197f565f",
   "metadata": {
    "execution": {
     "iopub.execute_input": "2022-11-22T05:33:38.357938Z",
     "iopub.status.busy": "2022-11-22T05:33:38.357000Z",
     "iopub.status.idle": "2022-11-22T05:33:38.362406Z",
     "shell.execute_reply": "2022-11-22T05:33:38.361564Z"
    },
    "papermill": {
     "duration": 0.034801,
     "end_time": "2022-11-22T05:33:38.364401",
     "exception": false,
     "start_time": "2022-11-22T05:33:38.329600",
     "status": "completed"
    },
    "tags": []
   },
   "outputs": [],
   "source": [
    "# define training steps\n",
    "TRAIN_STEPS = len(train_df)//BATCH_SIZE\n",
    "VAL_STEPS = len(valid_df)//BATCH_SIZE"
   ]
  },
  {
   "cell_type": "markdown",
   "id": "6cd58dde",
   "metadata": {
    "papermill": {
     "duration": 0.024871,
     "end_time": "2022-11-22T05:33:38.414201",
     "exception": false,
     "start_time": "2022-11-22T05:33:38.389330",
     "status": "completed"
    },
    "tags": []
   },
   "source": [
    "## VGG16 - pretrained\n",
    "(Very Deep Convolutional Networks for Large-Scale Image Recognition(VGG-16))"
   ]
  },
  {
   "cell_type": "markdown",
   "id": "56b5d12f",
   "metadata": {
    "papermill": {
     "duration": 0.024988,
     "end_time": "2022-11-22T05:33:38.464184",
     "exception": false,
     "start_time": "2022-11-22T05:33:38.439196",
     "status": "completed"
    },
    "tags": []
   },
   "source": [
    "https://www.analyticsvidhya.com/blog/2020/08/top-4-pre-trained-models-for-image-classification-with-python-code/"
   ]
  },
  {
   "cell_type": "code",
   "execution_count": 36,
   "id": "055f28a7",
   "metadata": {
    "execution": {
     "iopub.execute_input": "2022-11-22T05:33:38.513307Z",
     "iopub.status.busy": "2022-11-22T05:33:38.512912Z",
     "iopub.status.idle": "2022-11-22T05:33:42.627041Z",
     "shell.execute_reply": "2022-11-22T05:33:42.625889Z"
    },
    "papermill": {
     "duration": 4.141832,
     "end_time": "2022-11-22T05:33:42.629996",
     "exception": false,
     "start_time": "2022-11-22T05:33:38.488164",
     "status": "completed"
    },
    "tags": []
   },
   "outputs": [
    {
     "name": "stderr",
     "output_type": "stream",
     "text": [
      "2022-11-22 05:33:38.635353: I tensorflow/stream_executor/cuda/cuda_gpu_executor.cc:937] successful NUMA node read from SysFS had negative value (-1), but there must be at least one NUMA node, so returning NUMA node zero\n",
      "2022-11-22 05:33:38.784689: I tensorflow/stream_executor/cuda/cuda_gpu_executor.cc:937] successful NUMA node read from SysFS had negative value (-1), but there must be at least one NUMA node, so returning NUMA node zero\n",
      "2022-11-22 05:33:38.785706: I tensorflow/stream_executor/cuda/cuda_gpu_executor.cc:937] successful NUMA node read from SysFS had negative value (-1), but there must be at least one NUMA node, so returning NUMA node zero\n",
      "2022-11-22 05:33:38.787762: I tensorflow/core/platform/cpu_feature_guard.cc:142] This TensorFlow binary is optimized with oneAPI Deep Neural Network Library (oneDNN) to use the following CPU instructions in performance-critical operations:  AVX2 AVX512F FMA\n",
      "To enable them in other operations, rebuild TensorFlow with the appropriate compiler flags.\n",
      "2022-11-22 05:33:38.788121: I tensorflow/stream_executor/cuda/cuda_gpu_executor.cc:937] successful NUMA node read from SysFS had negative value (-1), but there must be at least one NUMA node, so returning NUMA node zero\n",
      "2022-11-22 05:33:38.789202: I tensorflow/stream_executor/cuda/cuda_gpu_executor.cc:937] successful NUMA node read from SysFS had negative value (-1), but there must be at least one NUMA node, so returning NUMA node zero\n",
      "2022-11-22 05:33:38.790219: I tensorflow/stream_executor/cuda/cuda_gpu_executor.cc:937] successful NUMA node read from SysFS had negative value (-1), but there must be at least one NUMA node, so returning NUMA node zero\n",
      "2022-11-22 05:33:41.210480: I tensorflow/stream_executor/cuda/cuda_gpu_executor.cc:937] successful NUMA node read from SysFS had negative value (-1), but there must be at least one NUMA node, so returning NUMA node zero\n",
      "2022-11-22 05:33:41.211716: I tensorflow/stream_executor/cuda/cuda_gpu_executor.cc:937] successful NUMA node read from SysFS had negative value (-1), but there must be at least one NUMA node, so returning NUMA node zero\n",
      "2022-11-22 05:33:41.212799: I tensorflow/stream_executor/cuda/cuda_gpu_executor.cc:937] successful NUMA node read from SysFS had negative value (-1), but there must be at least one NUMA node, so returning NUMA node zero\n",
      "2022-11-22 05:33:41.215030: I tensorflow/core/common_runtime/gpu/gpu_device.cc:1510] Created device /job:localhost/replica:0/task:0/device:GPU:0 with 15401 MB memory:  -> device: 0, name: Tesla P100-PCIE-16GB, pci bus id: 0000:00:04.0, compute capability: 6.0\n"
     ]
    },
    {
     "name": "stdout",
     "output_type": "stream",
     "text": [
      "Downloading data from https://storage.googleapis.com/tensorflow/keras-applications/vgg16/vgg16_weights_tf_dim_ordering_tf_kernels_notop.h5\n",
      "58892288/58889256 [==============================] - 0s 0us/step\n",
      "58900480/58889256 [==============================] - 0s 0us/step\n"
     ]
    }
   ],
   "source": [
    "# Build base model\n",
    "base = VGG16(input_shape = (128, 128, 3)\n",
    "                   , weights = 'imagenet'\n",
    "                   , include_top = False)"
   ]
  },
  {
   "cell_type": "code",
   "execution_count": 37,
   "id": "20cc3f38",
   "metadata": {
    "execution": {
     "iopub.execute_input": "2022-11-22T05:33:42.683059Z",
     "iopub.status.busy": "2022-11-22T05:33:42.682655Z",
     "iopub.status.idle": "2022-11-22T05:33:42.688836Z",
     "shell.execute_reply": "2022-11-22T05:33:42.687735Z"
    },
    "papermill": {
     "duration": 0.037434,
     "end_time": "2022-11-22T05:33:42.693267",
     "exception": false,
     "start_time": "2022-11-22T05:33:42.655833",
     "status": "completed"
    },
    "tags": []
   },
   "outputs": [
    {
     "name": "stdout",
     "output_type": "stream",
     "text": [
      "This is the number of trainable weights before freezing layers in the conv base: 26\n"
     ]
    }
   ],
   "source": [
    "# show trainable layers before freezing\n",
    "print('This is the number of trainable weights '\n",
    "'before freezing layers in the conv base:', len(base.trainable_weights))"
   ]
  },
  {
   "cell_type": "code",
   "execution_count": 38,
   "id": "2046c49b",
   "metadata": {
    "execution": {
     "iopub.execute_input": "2022-11-22T05:33:42.744851Z",
     "iopub.status.busy": "2022-11-22T05:33:42.744531Z",
     "iopub.status.idle": "2022-11-22T05:33:42.750058Z",
     "shell.execute_reply": "2022-11-22T05:33:42.749033Z"
    },
    "papermill": {
     "duration": 0.033967,
     "end_time": "2022-11-22T05:33:42.752180",
     "exception": false,
     "start_time": "2022-11-22T05:33:42.718213",
     "status": "completed"
    },
    "tags": []
   },
   "outputs": [],
   "source": [
    "# do not train all layers (freezing few layers of pretrained model)\n",
    "for layer in base.layers[:-3]:\n",
    "    layer.trainable = False"
   ]
  },
  {
   "cell_type": "code",
   "execution_count": 39,
   "id": "f9ac7fa7",
   "metadata": {
    "execution": {
     "iopub.execute_input": "2022-11-22T05:33:42.808134Z",
     "iopub.status.busy": "2022-11-22T05:33:42.807793Z",
     "iopub.status.idle": "2022-11-22T05:33:42.813398Z",
     "shell.execute_reply": "2022-11-22T05:33:42.812285Z"
    },
    "papermill": {
     "duration": 0.038356,
     "end_time": "2022-11-22T05:33:42.816349",
     "exception": false,
     "start_time": "2022-11-22T05:33:42.777993",
     "status": "completed"
    },
    "tags": []
   },
   "outputs": [
    {
     "name": "stdout",
     "output_type": "stream",
     "text": [
      "This is the number of trainable weights after freezing layers in the conv base: 4\n"
     ]
    }
   ],
   "source": [
    "# show trainable layers after freezing\n",
    "print('This is the number of trainable weights '\n",
    "'after freezing layers in the conv base:', len(base.trainable_weights))"
   ]
  },
  {
   "cell_type": "code",
   "execution_count": 40,
   "id": "c498b53e",
   "metadata": {
    "execution": {
     "iopub.execute_input": "2022-11-22T05:33:42.941438Z",
     "iopub.status.busy": "2022-11-22T05:33:42.940452Z",
     "iopub.status.idle": "2022-11-22T05:33:43.022356Z",
     "shell.execute_reply": "2022-11-22T05:33:43.021298Z"
    },
    "papermill": {
     "duration": 0.142413,
     "end_time": "2022-11-22T05:33:43.025679",
     "exception": false,
     "start_time": "2022-11-22T05:33:42.883266",
     "status": "completed"
    },
    "tags": []
   },
   "outputs": [
    {
     "name": "stdout",
     "output_type": "stream",
     "text": [
      "Model: \"sequential\"\n",
      "_________________________________________________________________\n",
      "Layer (type)                 Output Shape              Param #   \n",
      "=================================================================\n",
      "vgg16 (Functional)           (None, 4, 4, 512)         14714688  \n",
      "_________________________________________________________________\n",
      "flatten (Flatten)            (None, 8192)              0         \n",
      "_________________________________________________________________\n",
      "dense (Dense)                (None, 256)               2097408   \n",
      "_________________________________________________________________\n",
      "dropout (Dropout)            (None, 256)               0         \n",
      "_________________________________________________________________\n",
      "dense_1 (Dense)              (None, 3)                 771       \n",
      "=================================================================\n",
      "Total params: 16,812,867\n",
      "Trainable params: 6,817,795\n",
      "Non-trainable params: 9,995,072\n",
      "_________________________________________________________________\n"
     ]
    }
   ],
   "source": [
    "# Flatten the output layer to 1 dimension\n",
    "vgg16 = Sequential([\n",
    "                    base\n",
    "                    , Flatten()\n",
    "                    , Dense(256, activation = 'relu')\n",
    "                    , Dropout(0.5)\n",
    "                    , Dense(3, activation = 'softmax')\n",
    "])\n",
    "\n",
    "vgg16.summary()"
   ]
  },
  {
   "cell_type": "code",
   "execution_count": 41,
   "id": "2ad07bef",
   "metadata": {
    "execution": {
     "iopub.execute_input": "2022-11-22T05:33:43.079727Z",
     "iopub.status.busy": "2022-11-22T05:33:43.079347Z",
     "iopub.status.idle": "2022-11-22T05:33:43.093175Z",
     "shell.execute_reply": "2022-11-22T05:33:43.092128Z"
    },
    "papermill": {
     "duration": 0.043115,
     "end_time": "2022-11-22T05:33:43.095402",
     "exception": false,
     "start_time": "2022-11-22T05:33:43.052287",
     "status": "completed"
    },
    "tags": []
   },
   "outputs": [],
   "source": [
    "vgg16.compile(\n",
    "    optimizer = Adam(0.0001)\n",
    "    , loss = 'sparse_categorical_crossentropy'\n",
    "    , metrics = ['accuracy']\n",
    ")"
   ]
  },
  {
   "cell_type": "code",
   "execution_count": 42,
   "id": "e0074d86",
   "metadata": {
    "execution": {
     "iopub.execute_input": "2022-11-22T05:33:43.148728Z",
     "iopub.status.busy": "2022-11-22T05:33:43.147252Z",
     "iopub.status.idle": "2022-11-22T05:33:43.154064Z",
     "shell.execute_reply": "2022-11-22T05:33:43.153003Z"
    },
    "papermill": {
     "duration": 0.035641,
     "end_time": "2022-11-22T05:33:43.156364",
     "exception": false,
     "start_time": "2022-11-22T05:33:43.120723",
     "status": "completed"
    },
    "tags": []
   },
   "outputs": [],
   "source": [
    "# initialize callbacks\n",
    "reduceLR = ReduceLROnPlateau(monitor='val_accuracy', patience=10, verbose= 1, mode='max', factor=  0.2, min_lr = 1e-5)\n",
    "\n",
    "early_stopping = EarlyStopping(monitor='val_accuracy', patience = 20, verbose=1, mode='max', restore_best_weights= True)\n",
    "\n",
    "checkpoint = ModelCheckpoint('vgg16.weights.hdf5', monitor='val_accuracy', verbose=1,save_best_only=True, mode= 'max')"
   ]
  },
  {
   "cell_type": "code",
   "execution_count": 43,
   "id": "fc7f2d43",
   "metadata": {
    "execution": {
     "iopub.execute_input": "2022-11-22T05:33:43.207031Z",
     "iopub.status.busy": "2022-11-22T05:33:43.206688Z",
     "iopub.status.idle": "2022-11-22T05:39:20.265994Z",
     "shell.execute_reply": "2022-11-22T05:39:20.264688Z"
    },
    "papermill": {
     "duration": 337.087135,
     "end_time": "2022-11-22T05:39:20.268382",
     "exception": false,
     "start_time": "2022-11-22T05:33:43.181247",
     "status": "completed"
    },
    "tags": []
   },
   "outputs": [
    {
     "name": "stderr",
     "output_type": "stream",
     "text": [
      "2022-11-22 05:33:43.888597: I tensorflow/compiler/mlir/mlir_graph_optimization_pass.cc:185] None of the MLIR Optimization Passes are enabled (registered 2)\n"
     ]
    },
    {
     "name": "stdout",
     "output_type": "stream",
     "text": [
      "Epoch 1/100\n"
     ]
    },
    {
     "name": "stderr",
     "output_type": "stream",
     "text": [
      "2022-11-22 05:33:45.387957: I tensorflow/stream_executor/cuda/cuda_dnn.cc:369] Loaded cuDNN version 8005\n"
     ]
    },
    {
     "name": "stdout",
     "output_type": "stream",
     "text": [
      "410/410 [==============================] - 18s 24ms/step - loss: 0.9866 - accuracy: 0.5178 - val_loss: 0.9153 - val_accuracy: 0.5606\n",
      "\n",
      "Epoch 00001: val_accuracy improved from -inf to 0.56056, saving model to vgg16.weights.hdf5\n",
      "Epoch 2/100\n",
      "410/410 [==============================] - 9s 21ms/step - loss: 0.8945 - accuracy: 0.5687 - val_loss: 0.8620 - val_accuracy: 0.5977\n",
      "\n",
      "Epoch 00002: val_accuracy improved from 0.56056 to 0.59769, saving model to vgg16.weights.hdf5\n",
      "Epoch 3/100\n",
      "410/410 [==============================] - 9s 21ms/step - loss: 0.7919 - accuracy: 0.6283 - val_loss: 0.8105 - val_accuracy: 0.6348\n",
      "\n",
      "Epoch 00003: val_accuracy improved from 0.59769 to 0.63481, saving model to vgg16.weights.hdf5\n",
      "Epoch 4/100\n",
      "410/410 [==============================] - 9s 21ms/step - loss: 0.6644 - accuracy: 0.7015 - val_loss: 0.7802 - val_accuracy: 0.6573\n",
      "\n",
      "Epoch 00004: val_accuracy improved from 0.63481 to 0.65733, saving model to vgg16.weights.hdf5\n",
      "Epoch 5/100\n",
      "410/410 [==============================] - 9s 21ms/step - loss: 0.5223 - accuracy: 0.7706 - val_loss: 0.9430 - val_accuracy: 0.6506\n",
      "\n",
      "Epoch 00005: val_accuracy did not improve from 0.65733\n",
      "Epoch 6/100\n",
      "410/410 [==============================] - 9s 21ms/step - loss: 0.4111 - accuracy: 0.8320 - val_loss: 0.7881 - val_accuracy: 0.6999\n",
      "\n",
      "Epoch 00006: val_accuracy improved from 0.65733 to 0.69994, saving model to vgg16.weights.hdf5\n",
      "Epoch 7/100\n",
      "410/410 [==============================] - 9s 21ms/step - loss: 0.2862 - accuracy: 0.8855 - val_loss: 0.7986 - val_accuracy: 0.7091\n",
      "\n",
      "Epoch 00007: val_accuracy improved from 0.69994 to 0.70907, saving model to vgg16.weights.hdf5\n",
      "Epoch 8/100\n",
      "410/410 [==============================] - 9s 21ms/step - loss: 0.2142 - accuracy: 0.9210 - val_loss: 0.9378 - val_accuracy: 0.7279\n",
      "\n",
      "Epoch 00008: val_accuracy improved from 0.70907 to 0.72794, saving model to vgg16.weights.hdf5\n",
      "Epoch 9/100\n",
      "410/410 [==============================] - 9s 21ms/step - loss: 0.1261 - accuracy: 0.9545 - val_loss: 0.9721 - val_accuracy: 0.7145\n",
      "\n",
      "Epoch 00009: val_accuracy did not improve from 0.72794\n",
      "Epoch 10/100\n",
      "410/410 [==============================] - 9s 21ms/step - loss: 0.1083 - accuracy: 0.9638 - val_loss: 1.0555 - val_accuracy: 0.7085\n",
      "\n",
      "Epoch 00010: val_accuracy did not improve from 0.72794\n",
      "Epoch 11/100\n",
      "410/410 [==============================] - 9s 21ms/step - loss: 0.0982 - accuracy: 0.9666 - val_loss: 1.0943 - val_accuracy: 0.7005\n",
      "\n",
      "Epoch 00011: val_accuracy did not improve from 0.72794\n",
      "Epoch 12/100\n",
      "410/410 [==============================] - 9s 21ms/step - loss: 0.0696 - accuracy: 0.9776 - val_loss: 1.3486 - val_accuracy: 0.7182\n",
      "\n",
      "Epoch 00012: val_accuracy did not improve from 0.72794\n",
      "Epoch 13/100\n",
      "410/410 [==============================] - 9s 21ms/step - loss: 0.0484 - accuracy: 0.9829 - val_loss: 1.3740 - val_accuracy: 0.7115\n",
      "\n",
      "Epoch 00013: val_accuracy did not improve from 0.72794\n",
      "Epoch 14/100\n",
      "410/410 [==============================] - 9s 21ms/step - loss: 0.0531 - accuracy: 0.9828 - val_loss: 1.4244 - val_accuracy: 0.7109\n",
      "\n",
      "Epoch 00014: val_accuracy did not improve from 0.72794\n",
      "Epoch 15/100\n",
      "410/410 [==============================] - 9s 21ms/step - loss: 0.0302 - accuracy: 0.9904 - val_loss: 1.3483 - val_accuracy: 0.7285\n",
      "\n",
      "Epoch 00015: val_accuracy improved from 0.72794 to 0.72855, saving model to vgg16.weights.hdf5\n",
      "Epoch 16/100\n",
      "410/410 [==============================] - 9s 21ms/step - loss: 0.0512 - accuracy: 0.9818 - val_loss: 1.4367 - val_accuracy: 0.7182\n",
      "\n",
      "Epoch 00016: val_accuracy did not improve from 0.72855\n",
      "Epoch 17/100\n",
      "410/410 [==============================] - 9s 21ms/step - loss: 0.0646 - accuracy: 0.9768 - val_loss: 1.2082 - val_accuracy: 0.7066\n",
      "\n",
      "Epoch 00017: val_accuracy did not improve from 0.72855\n",
      "Epoch 18/100\n",
      "410/410 [==============================] - 9s 21ms/step - loss: 0.0370 - accuracy: 0.9872 - val_loss: 1.5026 - val_accuracy: 0.7042\n",
      "\n",
      "Epoch 00018: val_accuracy did not improve from 0.72855\n",
      "Epoch 19/100\n",
      "410/410 [==============================] - 9s 21ms/step - loss: 0.0328 - accuracy: 0.9879 - val_loss: 1.6059 - val_accuracy: 0.7194\n",
      "\n",
      "Epoch 00019: val_accuracy did not improve from 0.72855\n",
      "Epoch 20/100\n",
      "410/410 [==============================] - 9s 21ms/step - loss: 0.0304 - accuracy: 0.9901 - val_loss: 1.7044 - val_accuracy: 0.7036\n",
      "\n",
      "Epoch 00020: val_accuracy did not improve from 0.72855\n",
      "Epoch 21/100\n",
      "410/410 [==============================] - 9s 21ms/step - loss: 0.0384 - accuracy: 0.9872 - val_loss: 1.6228 - val_accuracy: 0.7243\n",
      "\n",
      "Epoch 00021: val_accuracy did not improve from 0.72855\n",
      "Epoch 22/100\n",
      "410/410 [==============================] - 9s 21ms/step - loss: 0.0204 - accuracy: 0.9939 - val_loss: 1.6981 - val_accuracy: 0.7072\n",
      "\n",
      "Epoch 00022: val_accuracy did not improve from 0.72855\n",
      "Epoch 23/100\n",
      "410/410 [==============================] - 9s 22ms/step - loss: 0.0492 - accuracy: 0.9832 - val_loss: 2.0168 - val_accuracy: 0.6920\n",
      "\n",
      "Epoch 00023: val_accuracy did not improve from 0.72855\n",
      "Epoch 24/100\n",
      "410/410 [==============================] - 9s 21ms/step - loss: 0.0171 - accuracy: 0.9951 - val_loss: 1.6886 - val_accuracy: 0.7206\n",
      "\n",
      "Epoch 00024: val_accuracy did not improve from 0.72855\n",
      "Epoch 25/100\n",
      "410/410 [==============================] - 9s 21ms/step - loss: 0.0305 - accuracy: 0.9911 - val_loss: 1.6360 - val_accuracy: 0.7206\n",
      "\n",
      "Epoch 00025: ReduceLROnPlateau reducing learning rate to 1.9999999494757503e-05.\n",
      "\n",
      "Epoch 00025: val_accuracy did not improve from 0.72855\n",
      "Epoch 26/100\n",
      "410/410 [==============================] - 9s 21ms/step - loss: 0.0040 - accuracy: 0.9994 - val_loss: 1.7160 - val_accuracy: 0.7194\n",
      "\n",
      "Epoch 00026: val_accuracy did not improve from 0.72855\n",
      "Epoch 27/100\n",
      "410/410 [==============================] - 8s 21ms/step - loss: 8.9514e-04 - accuracy: 1.0000 - val_loss: 1.7800 - val_accuracy: 0.7182\n",
      "\n",
      "Epoch 00027: val_accuracy did not improve from 0.72855\n",
      "Epoch 28/100\n",
      "410/410 [==============================] - 9s 21ms/step - loss: 6.2554e-04 - accuracy: 1.0000 - val_loss: 1.8259 - val_accuracy: 0.7176\n",
      "\n",
      "Epoch 00028: val_accuracy did not improve from 0.72855\n",
      "Epoch 29/100\n",
      "410/410 [==============================] - 9s 21ms/step - loss: 5.1686e-04 - accuracy: 1.0000 - val_loss: 1.8723 - val_accuracy: 0.7194\n",
      "\n",
      "Epoch 00029: val_accuracy did not improve from 0.72855\n",
      "Epoch 30/100\n",
      "410/410 [==============================] - 9s 21ms/step - loss: 4.9495e-04 - accuracy: 1.0000 - val_loss: 1.9203 - val_accuracy: 0.7200\n",
      "\n",
      "Epoch 00030: val_accuracy did not improve from 0.72855\n",
      "Epoch 31/100\n",
      "410/410 [==============================] - 9s 21ms/step - loss: 3.0858e-04 - accuracy: 1.0000 - val_loss: 1.9570 - val_accuracy: 0.7255\n",
      "\n",
      "Epoch 00031: val_accuracy did not improve from 0.72855\n",
      "Epoch 32/100\n",
      "410/410 [==============================] - 9s 21ms/step - loss: 2.1815e-04 - accuracy: 1.0000 - val_loss: 2.0007 - val_accuracy: 0.7261\n",
      "\n",
      "Epoch 00032: val_accuracy did not improve from 0.72855\n",
      "Epoch 33/100\n",
      "410/410 [==============================] - 9s 21ms/step - loss: 1.6587e-04 - accuracy: 1.0000 - val_loss: 2.0465 - val_accuracy: 0.7273\n",
      "\n",
      "Epoch 00033: val_accuracy did not improve from 0.72855\n",
      "Epoch 34/100\n",
      "410/410 [==============================] - 9s 21ms/step - loss: 1.4578e-04 - accuracy: 1.0000 - val_loss: 2.0798 - val_accuracy: 0.7255\n",
      "\n",
      "Epoch 00034: val_accuracy did not improve from 0.72855\n",
      "Epoch 35/100\n",
      "410/410 [==============================] - 9s 21ms/step - loss: 1.2592e-04 - accuracy: 1.0000 - val_loss: 2.1595 - val_accuracy: 0.7285\n",
      "\n",
      "Epoch 00035: ReduceLROnPlateau reducing learning rate to 1e-05.\n",
      "Restoring model weights from the end of the best epoch.\n",
      "\n",
      "Epoch 00035: val_accuracy did not improve from 0.72855\n",
      "Epoch 00035: early stopping\n"
     ]
    }
   ],
   "source": [
    "# train model\n",
    "\n",
    "# Non-augmentation\n",
    "train_gen = ImageDataGenerator().flow(X_train, y_train, batch_size = BATCH_SIZE)\n",
    "valid_gen = ImageDataGenerator().flow(X_valid, y_valid, batch_size = BATCH_SIZE)\n",
    "\n",
    "history_vgg16 = vgg16.fit(\n",
    "    train_gen\n",
    "    , steps_per_epoch = TRAIN_STEPS\n",
    "    , validation_data = valid_gen\n",
    "    , epochs = 100\n",
    "    , callbacks = [reduceLR, early_stopping, checkpoint]\n",
    ")"
   ]
  },
  {
   "cell_type": "code",
   "execution_count": 44,
   "id": "9f330f35",
   "metadata": {
    "execution": {
     "iopub.execute_input": "2022-11-22T05:39:20.904180Z",
     "iopub.status.busy": "2022-11-22T05:39:20.903794Z",
     "iopub.status.idle": "2022-11-22T05:39:22.366702Z",
     "shell.execute_reply": "2022-11-22T05:39:22.365353Z"
    },
    "papermill": {
     "duration": 1.761068,
     "end_time": "2022-11-22T05:39:22.369415",
     "exception": false,
     "start_time": "2022-11-22T05:39:20.608347",
     "status": "completed"
    },
    "tags": []
   },
   "outputs": [
    {
     "data": {
      "image/png": "[encoded data removed]",
      "text/plain": [
       "<Figure size 1080x360 with 2 Axes>"
      ]
     },
     "metadata": {
      "needs_background": "light"
     },
     "output_type": "display_data"
    }
   ],
   "source": [
    "plt.figure(figsize=(15, 5))\n",
    "\n",
    "plt.subplot(1, 2, 1)\n",
    "plt.plot(history_vgg16.history['accuracy'], label='Training Accuracy')\n",
    "plt.plot(history_vgg16.history['val_accuracy'], label='Validation Accuracy')\n",
    "plt.legend(loc='lower right')\n",
    "plt.title('Training and Validation Accuracy')\n",
    "\n",
    "plt.subplot(1, 2, 2)\n",
    "plt.plot(history_vgg16.history['loss'], label='Training Loss')\n",
    "plt.plot(history_vgg16.history['val_loss'], label='Validation Loss')\n",
    "plt.legend(loc='upper right')\n",
    "plt.title('Training and Validation Loss')\n",
    "\n",
    "plt.show()"
   ]
  },
  {
   "cell_type": "markdown",
   "id": "078d910e",
   "metadata": {
    "papermill": {
     "duration": 0.295454,
     "end_time": "2022-11-22T05:39:23.018102",
     "exception": false,
     "start_time": "2022-11-22T05:39:22.722648",
     "status": "completed"
    },
    "tags": []
   },
   "source": [
    "## VGG16 (aug)"
   ]
  },
  {
   "cell_type": "code",
   "execution_count": 45,
   "id": "0008364d",
   "metadata": {
    "execution": {
     "iopub.execute_input": "2022-11-22T05:39:23.644228Z",
     "iopub.status.busy": "2022-11-22T05:39:23.643795Z",
     "iopub.status.idle": "2022-11-22T05:39:24.132027Z",
     "shell.execute_reply": "2022-11-22T05:39:24.130832Z"
    },
    "papermill": {
     "duration": 0.833659,
     "end_time": "2022-11-22T05:39:24.135063",
     "exception": false,
     "start_time": "2022-11-22T05:39:23.301404",
     "status": "completed"
    },
    "tags": []
   },
   "outputs": [],
   "source": [
    "# augmentation\n",
    "train_datagen = ImageDataGenerator(\n",
    "                                rotation_range = 40,\n",
    "                                zoom_range = 0.2,\n",
    "                                width_shift_range=0.2,\n",
    "                                height_shift_range=0.2,\n",
    "                                shear_range=0.2,\n",
    "                                horizontal_flip = True,\n",
    "                                vertical_flip = True)\n",
    "\n",
    "train_gen_ag = train_datagen.flow(X_train, y_train, batch_size= BATCH_SIZE)"
   ]
  },
  {
   "cell_type": "code",
   "execution_count": 46,
   "id": "ce0bf680",
   "metadata": {
    "execution": {
     "iopub.execute_input": "2022-11-22T05:39:24.722159Z",
     "iopub.status.busy": "2022-11-22T05:39:24.721736Z",
     "iopub.status.idle": "2022-11-22T05:39:24.728686Z",
     "shell.execute_reply": "2022-11-22T05:39:24.727510Z"
    },
    "papermill": {
     "duration": 0.302197,
     "end_time": "2022-11-22T05:39:24.730927",
     "exception": false,
     "start_time": "2022-11-22T05:39:24.428730",
     "status": "completed"
    },
    "tags": []
   },
   "outputs": [],
   "source": [
    "# initialize callbacks\n",
    "reduceLR = ReduceLROnPlateau(monitor='val_accuracy', patience=10, verbose= 1, mode='max', factor=  0.2, min_lr = 1e-5)\n",
    "\n",
    "early_stopping = EarlyStopping(monitor='val_accuracy', patience = 20, verbose=1, mode='max', restore_best_weights= True)\n",
    "\n",
    "checkpoint_ag = ModelCheckpoint('vgg_ag.weights.hdf5', monitor='val_accuracy', verbose=1,save_best_only=True, mode= 'max')"
   ]
  },
  {
   "cell_type": "code",
   "execution_count": 47,
   "id": "3e74fc64",
   "metadata": {
    "execution": {
     "iopub.execute_input": "2022-11-22T05:39:25.369597Z",
     "iopub.status.busy": "2022-11-22T05:39:25.369182Z",
     "iopub.status.idle": "2022-11-22T06:04:13.865484Z",
     "shell.execute_reply": "2022-11-22T06:04:13.864159Z"
    },
    "papermill": {
     "duration": 1488.836317,
     "end_time": "2022-11-22T06:04:13.867980",
     "exception": false,
     "start_time": "2022-11-22T05:39:25.031663",
     "status": "completed"
    },
    "tags": []
   },
   "outputs": [
    {
     "name": "stdout",
     "output_type": "stream",
     "text": [
      "Epoch 1/100\n",
      "410/410 [==============================] - 31s 76ms/step - loss: 1.0091 - accuracy: 0.5472 - val_loss: 0.7100 - val_accuracy: 0.6912\n",
      "\n",
      "Epoch 00001: val_accuracy improved from -inf to 0.69118, saving model to vgg_ag.weights.hdf5\n",
      "Epoch 2/100\n",
      "410/410 [==============================] - 31s 74ms/step - loss: 0.9073 - accuracy: 0.5781 - val_loss: 0.7027 - val_accuracy: 0.7004\n",
      "\n",
      "Epoch 00002: val_accuracy improved from 0.69118 to 0.70037, saving model to vgg_ag.weights.hdf5\n",
      "Epoch 3/100\n",
      "410/410 [==============================] - 31s 75ms/step - loss: 0.8889 - accuracy: 0.5855 - val_loss: 0.6981 - val_accuracy: 0.6973\n",
      "\n",
      "Epoch 00003: val_accuracy did not improve from 0.70037\n",
      "Epoch 4/100\n",
      "410/410 [==============================] - 31s 75ms/step - loss: 0.8701 - accuracy: 0.5965 - val_loss: 0.6894 - val_accuracy: 0.7040\n",
      "\n",
      "Epoch 00004: val_accuracy improved from 0.70037 to 0.70404, saving model to vgg_ag.weights.hdf5\n",
      "Epoch 5/100\n",
      "410/410 [==============================] - 31s 76ms/step - loss: 0.8700 - accuracy: 0.5922 - val_loss: 0.6852 - val_accuracy: 0.7096\n",
      "\n",
      "Epoch 00005: val_accuracy improved from 0.70404 to 0.70956, saving model to vgg_ag.weights.hdf5\n",
      "Epoch 6/100\n",
      "410/410 [==============================] - 31s 76ms/step - loss: 0.8575 - accuracy: 0.5953 - val_loss: 0.6838 - val_accuracy: 0.7089\n",
      "\n",
      "Epoch 00006: val_accuracy did not improve from 0.70956\n",
      "Epoch 7/100\n",
      "410/410 [==============================] - 31s 75ms/step - loss: 0.8455 - accuracy: 0.5976 - val_loss: 0.6778 - val_accuracy: 0.7114\n",
      "\n",
      "Epoch 00007: val_accuracy improved from 0.70956 to 0.71140, saving model to vgg_ag.weights.hdf5\n",
      "Epoch 8/100\n",
      "410/410 [==============================] - 31s 75ms/step - loss: 0.8352 - accuracy: 0.6135 - val_loss: 0.6757 - val_accuracy: 0.7145\n",
      "\n",
      "Epoch 00008: val_accuracy improved from 0.71140 to 0.71446, saving model to vgg_ag.weights.hdf5\n",
      "Epoch 9/100\n",
      "410/410 [==============================] - 31s 76ms/step - loss: 0.8289 - accuracy: 0.6232 - val_loss: 0.6990 - val_accuracy: 0.7163\n",
      "\n",
      "Epoch 00009: val_accuracy improved from 0.71446 to 0.71630, saving model to vgg_ag.weights.hdf5\n",
      "Epoch 10/100\n",
      "410/410 [==============================] - 31s 75ms/step - loss: 0.8349 - accuracy: 0.6190 - val_loss: 0.6812 - val_accuracy: 0.7169\n",
      "\n",
      "Epoch 00010: val_accuracy improved from 0.71630 to 0.71691, saving model to vgg_ag.weights.hdf5\n",
      "Epoch 11/100\n",
      "410/410 [==============================] - 31s 76ms/step - loss: 0.8188 - accuracy: 0.6168 - val_loss: 0.6876 - val_accuracy: 0.7108\n",
      "\n",
      "Epoch 00011: val_accuracy did not improve from 0.71691\n",
      "Epoch 12/100\n",
      "410/410 [==============================] - 31s 76ms/step - loss: 0.8201 - accuracy: 0.6211 - val_loss: 0.6914 - val_accuracy: 0.7230\n",
      "\n",
      "Epoch 00012: val_accuracy improved from 0.71691 to 0.72304, saving model to vgg_ag.weights.hdf5\n",
      "Epoch 13/100\n",
      "410/410 [==============================] - 31s 75ms/step - loss: 0.8088 - accuracy: 0.6315 - val_loss: 0.6846 - val_accuracy: 0.7255\n",
      "\n",
      "Epoch 00013: val_accuracy improved from 0.72304 to 0.72549, saving model to vgg_ag.weights.hdf5\n",
      "Epoch 14/100\n",
      "410/410 [==============================] - 31s 76ms/step - loss: 0.8065 - accuracy: 0.6309 - val_loss: 0.6719 - val_accuracy: 0.7279\n",
      "\n",
      "Epoch 00014: val_accuracy improved from 0.72549 to 0.72794, saving model to vgg_ag.weights.hdf5\n",
      "Epoch 15/100\n",
      "410/410 [==============================] - 31s 75ms/step - loss: 0.8052 - accuracy: 0.6251 - val_loss: 0.6746 - val_accuracy: 0.7132\n",
      "\n",
      "Epoch 00015: val_accuracy did not improve from 0.72794\n",
      "Epoch 16/100\n",
      "410/410 [==============================] - 31s 75ms/step - loss: 0.7865 - accuracy: 0.6345 - val_loss: 0.6878 - val_accuracy: 0.7249\n",
      "\n",
      "Epoch 00016: val_accuracy did not improve from 0.72794\n",
      "Epoch 17/100\n",
      "410/410 [==============================] - 31s 77ms/step - loss: 0.7942 - accuracy: 0.6278 - val_loss: 0.6849 - val_accuracy: 0.7212\n",
      "\n",
      "Epoch 00017: val_accuracy did not improve from 0.72794\n",
      "Epoch 18/100\n",
      "410/410 [==============================] - 31s 75ms/step - loss: 0.7748 - accuracy: 0.6478 - val_loss: 0.6857 - val_accuracy: 0.7181\n",
      "\n",
      "Epoch 00018: val_accuracy did not improve from 0.72794\n",
      "Epoch 19/100\n",
      "410/410 [==============================] - 32s 77ms/step - loss: 0.7822 - accuracy: 0.6359 - val_loss: 0.6830 - val_accuracy: 0.7286\n",
      "\n",
      "Epoch 00019: val_accuracy improved from 0.72794 to 0.72855, saving model to vgg_ag.weights.hdf5\n",
      "Epoch 20/100\n",
      "410/410 [==============================] - 32s 77ms/step - loss: 0.7699 - accuracy: 0.6467 - val_loss: 0.6807 - val_accuracy: 0.7261\n",
      "\n",
      "Epoch 00020: val_accuracy did not improve from 0.72855\n",
      "Epoch 21/100\n",
      "410/410 [==============================] - 31s 77ms/step - loss: 0.7753 - accuracy: 0.6415 - val_loss: 0.6789 - val_accuracy: 0.7200\n",
      "\n",
      "Epoch 00021: val_accuracy did not improve from 0.72855\n",
      "Epoch 22/100\n",
      "410/410 [==============================] - 31s 77ms/step - loss: 0.7648 - accuracy: 0.6455 - val_loss: 0.6813 - val_accuracy: 0.7445\n",
      "\n",
      "Epoch 00022: val_accuracy improved from 0.72855 to 0.74449, saving model to vgg_ag.weights.hdf5\n",
      "Epoch 23/100\n",
      "410/410 [==============================] - 31s 75ms/step - loss: 0.7548 - accuracy: 0.6560 - val_loss: 0.6772 - val_accuracy: 0.7304\n",
      "\n",
      "Epoch 00023: val_accuracy did not improve from 0.74449\n",
      "Epoch 24/100\n",
      "410/410 [==============================] - 31s 76ms/step - loss: 0.7484 - accuracy: 0.6656 - val_loss: 0.6771 - val_accuracy: 0.7359\n",
      "\n",
      "Epoch 00024: val_accuracy did not improve from 0.74449\n",
      "Epoch 25/100\n",
      "410/410 [==============================] - 31s 77ms/step - loss: 0.7538 - accuracy: 0.6527 - val_loss: 0.6701 - val_accuracy: 0.7371\n",
      "\n",
      "Epoch 00025: val_accuracy did not improve from 0.74449\n",
      "Epoch 26/100\n",
      "410/410 [==============================] - 31s 76ms/step - loss: 0.7311 - accuracy: 0.6623 - val_loss: 0.6805 - val_accuracy: 0.7353\n",
      "\n",
      "Epoch 00026: val_accuracy did not improve from 0.74449\n",
      "Epoch 27/100\n",
      "410/410 [==============================] - 31s 76ms/step - loss: 0.7432 - accuracy: 0.6606 - val_loss: 0.6735 - val_accuracy: 0.7390\n",
      "\n",
      "Epoch 00027: val_accuracy did not improve from 0.74449\n",
      "Epoch 28/100\n",
      "410/410 [==============================] - 31s 76ms/step - loss: 0.7361 - accuracy: 0.6627 - val_loss: 0.6728 - val_accuracy: 0.7353\n",
      "\n",
      "Epoch 00028: val_accuracy did not improve from 0.74449\n",
      "Epoch 29/100\n",
      "410/410 [==============================] - 31s 76ms/step - loss: 0.7348 - accuracy: 0.6623 - val_loss: 0.6740 - val_accuracy: 0.7402\n",
      "\n",
      "Epoch 00029: val_accuracy did not improve from 0.74449\n",
      "Epoch 30/100\n",
      "410/410 [==============================] - 31s 76ms/step - loss: 0.7296 - accuracy: 0.6711 - val_loss: 0.6779 - val_accuracy: 0.7390\n",
      "\n",
      "Epoch 00030: val_accuracy did not improve from 0.74449\n",
      "Epoch 31/100\n",
      "410/410 [==============================] - 31s 76ms/step - loss: 0.7225 - accuracy: 0.6716 - val_loss: 0.6763 - val_accuracy: 0.7384\n",
      "\n",
      "Epoch 00031: val_accuracy did not improve from 0.74449\n",
      "Epoch 32/100\n",
      "410/410 [==============================] - 32s 77ms/step - loss: 0.7261 - accuracy: 0.6669 - val_loss: 0.6758 - val_accuracy: 0.7414\n",
      "\n",
      "Epoch 00032: val_accuracy did not improve from 0.74449\n",
      "Epoch 33/100\n",
      "410/410 [==============================] - 32s 77ms/step - loss: 0.7226 - accuracy: 0.6667 - val_loss: 0.6743 - val_accuracy: 0.7377\n",
      "\n",
      "Epoch 00033: val_accuracy did not improve from 0.74449\n",
      "Epoch 34/100\n",
      "410/410 [==============================] - 31s 75ms/step - loss: 0.6993 - accuracy: 0.6873 - val_loss: 0.6825 - val_accuracy: 0.7420\n",
      "\n",
      "Epoch 00034: val_accuracy did not improve from 0.74449\n",
      "Epoch 35/100\n",
      "410/410 [==============================] - 31s 75ms/step - loss: 0.7038 - accuracy: 0.6748 - val_loss: 0.6955 - val_accuracy: 0.7341\n",
      "\n",
      "Epoch 00035: val_accuracy did not improve from 0.74449\n",
      "Epoch 36/100\n",
      "410/410 [==============================] - 31s 76ms/step - loss: 0.6928 - accuracy: 0.6872 - val_loss: 0.7058 - val_accuracy: 0.7365\n",
      "\n",
      "Epoch 00036: val_accuracy did not improve from 0.74449\n",
      "Epoch 37/100\n",
      "410/410 [==============================] - 32s 77ms/step - loss: 0.6989 - accuracy: 0.6814 - val_loss: 0.6835 - val_accuracy: 0.7273\n",
      "\n",
      "Epoch 00037: val_accuracy did not improve from 0.74449\n",
      "Epoch 38/100\n",
      "410/410 [==============================] - 31s 77ms/step - loss: 0.6947 - accuracy: 0.6855 - val_loss: 0.6801 - val_accuracy: 0.7255\n",
      "\n",
      "Epoch 00038: val_accuracy did not improve from 0.74449\n",
      "Epoch 39/100\n",
      "410/410 [==============================] - 32s 77ms/step - loss: 0.6916 - accuracy: 0.6936 - val_loss: 0.6798 - val_accuracy: 0.7353\n",
      "\n",
      "Epoch 00039: val_accuracy did not improve from 0.74449\n",
      "Epoch 40/100\n",
      "410/410 [==============================] - 31s 77ms/step - loss: 0.6830 - accuracy: 0.6957 - val_loss: 0.6774 - val_accuracy: 0.7292\n",
      "\n",
      "Epoch 00040: val_accuracy did not improve from 0.74449\n",
      "Epoch 41/100\n",
      "410/410 [==============================] - 31s 76ms/step - loss: 0.6831 - accuracy: 0.6913 - val_loss: 0.7037 - val_accuracy: 0.7341\n",
      "\n",
      "Epoch 00041: val_accuracy did not improve from 0.74449\n",
      "Epoch 42/100\n",
      "410/410 [==============================] - 32s 77ms/step - loss: 0.6792 - accuracy: 0.7004 - val_loss: 0.7028 - val_accuracy: 0.7353\n",
      "Restoring model weights from the end of the best epoch.\n",
      "\n",
      "Epoch 00042: val_accuracy did not improve from 0.74449\n",
      "Epoch 00042: early stopping\n"
     ]
    }
   ],
   "source": [
    "history_vgg_ag = vgg16.fit(\n",
    "    train_gen_ag\n",
    "    , steps_per_epoch= TRAIN_STEPS\n",
    "    , validation_data=valid_gen\n",
    "    , validation_steps=VAL_STEPS\n",
    "    , epochs= 100\n",
    "    , callbacks= [reduceLR, early_stopping, checkpoint_ag]\n",
    ")"
   ]
  },
  {
   "cell_type": "markdown",
   "id": "5c3a9028",
   "metadata": {
    "papermill": {
     "duration": 1.339853,
     "end_time": "2022-11-22T06:04:16.536545",
     "exception": false,
     "start_time": "2022-11-22T06:04:15.196692",
     "status": "completed"
    },
    "tags": []
   },
   "source": [
    "## Compare VGG16 ( non VS aug )"
   ]
  },
  {
   "cell_type": "code",
   "execution_count": 48,
   "id": "d5506ba2",
   "metadata": {
    "execution": {
     "iopub.execute_input": "2022-11-22T06:04:19.355010Z",
     "iopub.status.busy": "2022-11-22T06:04:19.354637Z",
     "iopub.status.idle": "2022-11-22T06:04:23.748278Z",
     "shell.execute_reply": "2022-11-22T06:04:23.747407Z"
    },
    "papermill": {
     "duration": 5.93369,
     "end_time": "2022-11-22T06:04:23.750517",
     "exception": false,
     "start_time": "2022-11-22T06:04:17.816827",
     "status": "completed"
    },
    "tags": []
   },
   "outputs": [
    {
     "data": {
      "image/png": "[encoded data removed]",
      "text/plain": [
       "<Figure size 1440x1152 with 4 Axes>"
      ]
     },
     "metadata": {
      "needs_background": "light"
     },
     "output_type": "display_data"
    }
   ],
   "source": [
    "plt.figure(figsize=(20, 16))\n",
    "\n",
    "plt.subplot(2, 2, 1)\n",
    "plt.plot(history_vgg16.history['accuracy'], label='Training Accuracy')\n",
    "plt.plot(history_vgg16.history['val_accuracy'], label='Validation Accuracy')\n",
    "plt.legend(loc='lower right')\n",
    "plt.title('Non-Augmentation Training and Validation Accuracy')\n",
    "\n",
    "plt.subplot(2, 2, 2)\n",
    "plt.plot(history_vgg16.history['loss'], label='Training Loss')\n",
    "plt.plot(history_vgg16.history['val_loss'], label='Validation Loss')\n",
    "plt.legend(loc='upper right')\n",
    "plt.title('Non-Augmentation Training and Validation Loss')\n",
    "\n",
    "plt.subplot(2, 2, 3)\n",
    "plt.plot(history_vgg_ag.history['accuracy'], label='Training Accuracy')\n",
    "plt.plot(history_vgg_ag.history['val_accuracy'], label='Validation Accuracy')\n",
    "plt.legend(loc='lower right')\n",
    "plt.title('Augmentation Training and Validation Accuracy')\n",
    "\n",
    "plt.subplot(2, 2, 4)\n",
    "plt.plot(history_vgg_ag.history['loss'], label='Training Loss')\n",
    "plt.plot(history_vgg_ag.history['val_loss'], label='Validation Loss')\n",
    "plt.legend(loc='upper right')\n",
    "plt.title('Augmentation Training and Validation Loss')\n",
    "\n",
    "plt.show()"
   ]
  },
  {
   "cell_type": "markdown",
   "id": "68568e11",
   "metadata": {
    "papermill": {
     "duration": 1.261744,
     "end_time": "2022-11-22T06:04:26.428187",
     "exception": false,
     "start_time": "2022-11-22T06:04:25.166443",
     "status": "completed"
    },
    "tags": []
   },
   "source": [
    "## VGG16 (224) -> failed (ram)"
   ]
  },
  {
   "cell_type": "code",
   "execution_count": 49,
   "id": "86b1f302",
   "metadata": {
    "execution": {
     "iopub.execute_input": "2022-11-22T06:04:29.321411Z",
     "iopub.status.busy": "2022-11-22T06:04:29.320999Z",
     "iopub.status.idle": "2022-11-22T06:04:29.325538Z",
     "shell.execute_reply": "2022-11-22T06:04:29.324640Z"
    },
    "papermill": {
     "duration": 1.545379,
     "end_time": "2022-11-22T06:04:29.329728",
     "exception": false,
     "start_time": "2022-11-22T06:04:27.784349",
     "status": "completed"
    },
    "tags": []
   },
   "outputs": [],
   "source": [
    "# Build base model\n",
    "#base_224 = VGG16(input_shape = (224, 224, 3)\n",
    "#                   , weights = 'imagenet')"
   ]
  },
  {
   "cell_type": "code",
   "execution_count": 50,
   "id": "4c9487bc",
   "metadata": {
    "execution": {
     "iopub.execute_input": "2022-11-22T06:04:32.080537Z",
     "iopub.status.busy": "2022-11-22T06:04:32.079350Z",
     "iopub.status.idle": "2022-11-22T06:04:32.084873Z",
     "shell.execute_reply": "2022-11-22T06:04:32.083798Z"
    },
    "papermill": {
     "duration": 1.362714,
     "end_time": "2022-11-22T06:04:32.087283",
     "exception": false,
     "start_time": "2022-11-22T06:04:30.724569",
     "status": "completed"
    },
    "tags": []
   },
   "outputs": [],
   "source": [
    "# show trainable layers before freezing\n",
    "#print('This is the number of trainable weights '\n",
    "#'before freezing layers in the conv base:', len(base_224.trainable_weights))"
   ]
  },
  {
   "cell_type": "code",
   "execution_count": 51,
   "id": "c8d0e058",
   "metadata": {
    "execution": {
     "iopub.execute_input": "2022-11-22T06:04:34.836066Z",
     "iopub.status.busy": "2022-11-22T06:04:34.835688Z",
     "iopub.status.idle": "2022-11-22T06:04:34.840244Z",
     "shell.execute_reply": "2022-11-22T06:04:34.839245Z"
    },
    "papermill": {
     "duration": 1.42426,
     "end_time": "2022-11-22T06:04:34.842635",
     "exception": false,
     "start_time": "2022-11-22T06:04:33.418375",
     "status": "completed"
    },
    "tags": []
   },
   "outputs": [],
   "source": [
    "# do not train all layers (freezing few layers of pretrained model)\n",
    "#for layer in base_224.layers[:-3]:\n",
    "#    layer.trainable = False"
   ]
  },
  {
   "cell_type": "code",
   "execution_count": 52,
   "id": "629d3928",
   "metadata": {
    "execution": {
     "iopub.execute_input": "2022-11-22T06:04:37.614466Z",
     "iopub.status.busy": "2022-11-22T06:04:37.613916Z",
     "iopub.status.idle": "2022-11-22T06:04:37.619244Z",
     "shell.execute_reply": "2022-11-22T06:04:37.618216Z"
    },
    "papermill": {
     "duration": 1.505673,
     "end_time": "2022-11-22T06:04:37.621805",
     "exception": false,
     "start_time": "2022-11-22T06:04:36.116132",
     "status": "completed"
    },
    "tags": []
   },
   "outputs": [],
   "source": [
    "# show trainable layers after freezing\n",
    "#print('This is the number of trainable weights '\n",
    "#'after freezing layers in the conv base:', len(base_224.trainable_weights))"
   ]
  },
  {
   "cell_type": "code",
   "execution_count": 53,
   "id": "6f83a4ba",
   "metadata": {
    "execution": {
     "iopub.execute_input": "2022-11-22T06:04:40.920093Z",
     "iopub.status.busy": "2022-11-22T06:04:40.919670Z",
     "iopub.status.idle": "2022-11-22T06:04:40.924614Z",
     "shell.execute_reply": "2022-11-22T06:04:40.923459Z"
    },
    "papermill": {
     "duration": 1.629048,
     "end_time": "2022-11-22T06:04:40.926847",
     "exception": false,
     "start_time": "2022-11-22T06:04:39.297799",
     "status": "completed"
    },
    "tags": []
   },
   "outputs": [],
   "source": [
    "# Flatten the output layer to 1 dimension\n",
    "#vgg16_224 = Sequential([\n",
    "#                    base_224\n",
    "#                    , Flatten()\n",
    "#                    , Dense(256, activation = 'relu')\n",
    "#                    , Dropout(0.5)\n",
    "#                    , Dense(3, activation = 'softmax')\n",
    "#])\n",
    "#\n",
    "#vgg16_224.summary()"
   ]
  },
  {
   "cell_type": "code",
   "execution_count": 54,
   "id": "e9db6872",
   "metadata": {
    "execution": {
     "iopub.execute_input": "2022-11-22T06:04:43.525950Z",
     "iopub.status.busy": "2022-11-22T06:04:43.525589Z",
     "iopub.status.idle": "2022-11-22T06:04:43.529874Z",
     "shell.execute_reply": "2022-11-22T06:04:43.528770Z"
    },
    "papermill": {
     "duration": 1.255723,
     "end_time": "2022-11-22T06:04:43.531888",
     "exception": false,
     "start_time": "2022-11-22T06:04:42.276165",
     "status": "completed"
    },
    "tags": []
   },
   "outputs": [],
   "source": [
    "#vgg16_224.compile(\n",
    "#    optimizer = Adam(0.0001)\n",
    "#    , loss = 'sparse_categorical_crossentropy'\n",
    "#    , metrics = ['accuracy']\n",
    "#)"
   ]
  },
  {
   "cell_type": "code",
   "execution_count": 55,
   "id": "cffc2bd5",
   "metadata": {
    "execution": {
     "iopub.execute_input": "2022-11-22T06:04:46.213567Z",
     "iopub.status.busy": "2022-11-22T06:04:46.213140Z",
     "iopub.status.idle": "2022-11-22T06:04:46.217965Z",
     "shell.execute_reply": "2022-11-22T06:04:46.216918Z"
    },
    "papermill": {
     "duration": 1.282513,
     "end_time": "2022-11-22T06:04:46.220001",
     "exception": false,
     "start_time": "2022-11-22T06:04:44.937488",
     "status": "completed"
    },
    "tags": []
   },
   "outputs": [],
   "source": [
    "# define training steps\n",
    "#BATCH_SIZE = 16\n",
    "#TRAIN_STEPS = len(train_df)//BATCH_SIZE\n",
    "#VAL_STEPS = len(valid_df)//BATCH_SIZE"
   ]
  },
  {
   "cell_type": "code",
   "execution_count": 56,
   "id": "6da06d15",
   "metadata": {
    "execution": {
     "iopub.execute_input": "2022-11-22T06:04:48.907211Z",
     "iopub.status.busy": "2022-11-22T06:04:48.906843Z",
     "iopub.status.idle": "2022-11-22T06:04:48.911457Z",
     "shell.execute_reply": "2022-11-22T06:04:48.910415Z"
    },
    "papermill": {
     "duration": 1.342554,
     "end_time": "2022-11-22T06:04:48.913723",
     "exception": false,
     "start_time": "2022-11-22T06:04:47.571169",
     "status": "completed"
    },
    "tags": []
   },
   "outputs": [],
   "source": [
    "# initialize callbacks\n",
    "#reduceLR = ReduceLROnPlateau(monitor='val_accuracy', patience=10, verbose= 1, mode='max', factor=  0.2, min_lr = 1e-5)\n",
    "\n",
    "#early_stopping = EarlyStopping(monitor='val_accuracy', patience = 20, verbose=1, mode='max', restore_best_weights= True)\n",
    "\n",
    "#checkpoint = ModelCheckpoint('vgg16_224.weights.hdf5', monitor='val_accuracy', verbose=1,save_best_only=True, mode= 'max')"
   ]
  },
  {
   "cell_type": "code",
   "execution_count": 57,
   "id": "a1a3bd2b",
   "metadata": {
    "execution": {
     "iopub.execute_input": "2022-11-22T06:04:51.855991Z",
     "iopub.status.busy": "2022-11-22T06:04:51.855609Z",
     "iopub.status.idle": "2022-11-22T06:04:51.860209Z",
     "shell.execute_reply": "2022-11-22T06:04:51.859165Z"
    },
    "papermill": {
     "duration": 1.597323,
     "end_time": "2022-11-22T06:04:51.862311",
     "exception": false,
     "start_time": "2022-11-22T06:04:50.264988",
     "status": "completed"
    },
    "tags": []
   },
   "outputs": [],
   "source": [
    "# 터짐\n",
    "# train model\n",
    "\n",
    "# Non-augmentation\n",
    "#train_gen = ImageDataGenerator().flow(X_train, y_train, batch_size = BATCH_SIZE)\n",
    "#valid_gen = ImageDataGenerator().flow(X_valid, y_valid, batch_size = BATCH_SIZE)\n",
    "\n",
    "#history_vgg16_224 = vgg16_224.fit(\n",
    "#    train_gen\n",
    "#    , steps_per_epoch = TRAIN_STEPS\n",
    "#    , validation_data = valid_gen\n",
    "#    , epochs = 100\n",
    "#    , callbacks = [reduceLR, early_stopping, checkpoint]\n",
    "#)"
   ]
  },
  {
   "cell_type": "code",
   "execution_count": 58,
   "id": "3a8e2940",
   "metadata": {
    "execution": {
     "iopub.execute_input": "2022-11-22T06:04:54.620437Z",
     "iopub.status.busy": "2022-11-22T06:04:54.619413Z",
     "iopub.status.idle": "2022-11-22T06:04:54.624415Z",
     "shell.execute_reply": "2022-11-22T06:04:54.623440Z"
    },
    "papermill": {
     "duration": 1.416185,
     "end_time": "2022-11-22T06:04:54.626699",
     "exception": false,
     "start_time": "2022-11-22T06:04:53.210514",
     "status": "completed"
    },
    "tags": []
   },
   "outputs": [],
   "source": [
    "#plt.figure(figsize=(15, 5))\n",
    "\n",
    "#plt.subplot(1, 2, 1)\n",
    "#plt.plot(history_vgg16_224.history['accuracy'], label='Training Accuracy')\n",
    "#plt.plot(history_vgg16_224.history['val_accuracy'], label='Validation Accuracy')\n",
    "#plt.legend(loc='lower right')\n",
    "#plt.title('Training and Validation Accuracy')\n",
    "\n",
    "#plt.subplot(1, 2, 2)\n",
    "#plt.plot(history_vgg16_224.history['loss'], label='Training Loss')\n",
    "#plt.plot(history_vgg16_224.history['val_loss'], label='Validation Loss')\n",
    "#plt.legend(loc='upper right')\n",
    "#plt.title('Training and Validation Loss')\n",
    "\n",
    "#plt.show()"
   ]
  },
  {
   "cell_type": "markdown",
   "id": "88bae3fd",
   "metadata": {
    "papermill": {
     "duration": 1.349066,
     "end_time": "2022-11-22T06:04:57.249831",
     "exception": false,
     "start_time": "2022-11-22T06:04:55.900765",
     "status": "completed"
    },
    "tags": []
   },
   "source": [
    "## Resnet50"
   ]
  },
  {
   "cell_type": "code",
   "execution_count": 59,
   "id": "c8d5793c",
   "metadata": {
    "execution": {
     "iopub.execute_input": "2022-11-22T06:04:59.921099Z",
     "iopub.status.busy": "2022-11-22T06:04:59.920702Z",
     "iopub.status.idle": "2022-11-22T06:05:02.995914Z",
     "shell.execute_reply": "2022-11-22T06:05:02.993651Z"
    },
    "papermill": {
     "duration": 4.405166,
     "end_time": "2022-11-22T06:05:02.998965",
     "exception": false,
     "start_time": "2022-11-22T06:04:58.593799",
     "status": "completed"
    },
    "tags": []
   },
   "outputs": [
    {
     "name": "stdout",
     "output_type": "stream",
     "text": [
      "Downloading data from https://storage.googleapis.com/tensorflow/keras-applications/resnet/resnet50_weights_tf_dim_ordering_tf_kernels_notop.h5\n",
      "94773248/94765736 [==============================] - 1s 0us/step\n",
      "94781440/94765736 [==============================] - 1s 0us/step\n",
      "Model: \"sequential_1\"\n",
      "_________________________________________________________________\n",
      "Layer (type)                 Output Shape              Param #   \n",
      "=================================================================\n",
      "resnet50 (Functional)        (None, 2048)              23587712  \n",
      "_________________________________________________________________\n",
      "flatten_1 (Flatten)          (None, 2048)              0         \n",
      "_________________________________________________________________\n",
      "batch_normalization (BatchNo (None, 2048)              8192      \n",
      "_________________________________________________________________\n",
      "dense_2 (Dense)              (None, 512)               1049088   \n",
      "_________________________________________________________________\n",
      "batch_normalization_1 (Batch (None, 512)               2048      \n",
      "_________________________________________________________________\n",
      "dense_3 (Dense)              (None, 256)               131328    \n",
      "_________________________________________________________________\n",
      "batch_normalization_2 (Batch (None, 256)               1024      \n",
      "_________________________________________________________________\n",
      "dense_4 (Dense)              (None, 3)                 771       \n",
      "=================================================================\n",
      "Total params: 24,780,163\n",
      "Trainable params: 1,186,819\n",
      "Non-trainable params: 23,593,344\n",
      "_________________________________________________________________\n"
     ]
    }
   ],
   "source": [
    "resnet50 = Sequential([\n",
    "    ResNet50(input_shape = (128,128,3) ,include_top = False, pooling = 'avg')\n",
    "    , Flatten()\n",
    "    , BatchNormalization()\n",
    "    , Dense(512, activation = 'relu')\n",
    "    , BatchNormalization()\n",
    "    , Dense(256, activation = 'relu')\n",
    "    , BatchNormalization()\n",
    "    , Dense(3, activation = 'softmax')\n",
    "])\n",
    "resnet50.layers[0].trainable = False\n",
    "\n",
    "resnet50.summary()"
   ]
  },
  {
   "cell_type": "code",
   "execution_count": 60,
   "id": "42346621",
   "metadata": {
    "execution": {
     "iopub.execute_input": "2022-11-22T06:05:05.604020Z",
     "iopub.status.busy": "2022-11-22T06:05:05.603515Z",
     "iopub.status.idle": "2022-11-22T06:05:05.618472Z",
     "shell.execute_reply": "2022-11-22T06:05:05.617528Z"
    },
    "papermill": {
     "duration": 1.279587,
     "end_time": "2022-11-22T06:05:05.620743",
     "exception": false,
     "start_time": "2022-11-22T06:05:04.341156",
     "status": "completed"
    },
    "tags": []
   },
   "outputs": [],
   "source": [
    "resnet50.compile(\n",
    "    optimizer = 'adam'\n",
    "    , loss = 'categorical_crossentropy'\n",
    "    , metrics = ['accuracy']\n",
    ")"
   ]
  },
  {
   "cell_type": "code",
   "execution_count": 61,
   "id": "b4330223",
   "metadata": {
    "execution": {
     "iopub.execute_input": "2022-11-22T06:05:08.418679Z",
     "iopub.status.busy": "2022-11-22T06:05:08.417347Z",
     "iopub.status.idle": "2022-11-22T06:05:08.427472Z",
     "shell.execute_reply": "2022-11-22T06:05:08.426558Z"
    },
    "papermill": {
     "duration": 1.279685,
     "end_time": "2022-11-22T06:05:08.429411",
     "exception": false,
     "start_time": "2022-11-22T06:05:07.149726",
     "status": "completed"
    },
    "tags": []
   },
   "outputs": [],
   "source": [
    "# initialize callbacks\n",
    "reduceLR = ReduceLROnPlateau(monitor='val_accuracy', patience=10, verbose= 1, mode='max', factor=  0.2, min_lr = 1e-5)\n",
    "\n",
    "early_stopping = EarlyStopping(monitor='val_accuracy', patience = 20, verbose= 1, mode='max', restore_best_weights= True)\n",
    "\n",
    "checkpoint = ModelCheckpoint('resnet50.weights.hdf5', monitor='val_accuracy', verbose= 1,save_best_only=True, mode= 'max')"
   ]
  },
  {
   "cell_type": "code",
   "execution_count": 62,
   "id": "c466e378",
   "metadata": {
    "execution": {
     "iopub.execute_input": "2022-11-22T06:05:11.591496Z",
     "iopub.status.busy": "2022-11-22T06:05:11.591094Z",
     "iopub.status.idle": "2022-11-22T06:24:59.496977Z",
     "shell.execute_reply": "2022-11-22T06:24:59.495955Z"
    },
    "papermill": {
     "duration": 1189.225997,
     "end_time": "2022-11-22T06:24:59.499512",
     "exception": false,
     "start_time": "2022-11-22T06:05:10.273515",
     "status": "completed"
    },
    "tags": []
   },
   "outputs": [
    {
     "name": "stdout",
     "output_type": "stream",
     "text": [
      "Epoch 1/100\n",
      "410/410 [==============================] - 16s 31ms/step - loss: 1.1093 - accuracy: 0.4891 - val_loss: 1.0238 - val_accuracy: 0.4437\n",
      "\n",
      "Epoch 00001: val_accuracy improved from -inf to 0.44370, saving model to resnet50.weights.hdf5\n",
      "Epoch 2/100\n",
      "410/410 [==============================] - 12s 29ms/step - loss: 0.9679 - accuracy: 0.5341 - val_loss: 1.0072 - val_accuracy: 0.5143\n",
      "\n",
      "Epoch 00002: val_accuracy improved from 0.44370 to 0.51430, saving model to resnet50.weights.hdf5\n",
      "Epoch 3/100\n",
      "410/410 [==============================] - 12s 28ms/step - loss: 0.9468 - accuracy: 0.5498 - val_loss: 1.0104 - val_accuracy: 0.5374\n",
      "\n",
      "Epoch 00003: val_accuracy improved from 0.51430 to 0.53743, saving model to resnet50.weights.hdf5\n",
      "Epoch 4/100\n",
      "410/410 [==============================] - 12s 29ms/step - loss: 0.9302 - accuracy: 0.5587 - val_loss: 0.9776 - val_accuracy: 0.5313\n",
      "\n",
      "Epoch 00004: val_accuracy did not improve from 0.53743\n",
      "Epoch 5/100\n",
      "410/410 [==============================] - 11s 27ms/step - loss: 0.9055 - accuracy: 0.5669 - val_loss: 1.0004 - val_accuracy: 0.5320\n",
      "\n",
      "Epoch 00005: val_accuracy did not improve from 0.53743\n",
      "Epoch 6/100\n",
      "410/410 [==============================] - 12s 29ms/step - loss: 0.8885 - accuracy: 0.5730 - val_loss: 0.9811 - val_accuracy: 0.5606\n",
      "\n",
      "Epoch 00006: val_accuracy improved from 0.53743 to 0.56056, saving model to resnet50.weights.hdf5\n",
      "Epoch 7/100\n",
      "410/410 [==============================] - 12s 28ms/step - loss: 0.8755 - accuracy: 0.5886 - val_loss: 1.0009 - val_accuracy: 0.5301\n",
      "\n",
      "Epoch 00007: val_accuracy did not improve from 0.56056\n",
      "Epoch 8/100\n",
      "410/410 [==============================] - 12s 30ms/step - loss: 0.8535 - accuracy: 0.6049 - val_loss: 0.9751 - val_accuracy: 0.5460\n",
      "\n",
      "Epoch 00008: val_accuracy did not improve from 0.56056\n",
      "Epoch 9/100\n",
      "410/410 [==============================] - 12s 28ms/step - loss: 0.8288 - accuracy: 0.6081 - val_loss: 1.0304 - val_accuracy: 0.5350\n",
      "\n",
      "Epoch 00009: val_accuracy did not improve from 0.56056\n",
      "Epoch 10/100\n",
      "410/410 [==============================] - 12s 29ms/step - loss: 0.8000 - accuracy: 0.6235 - val_loss: 1.0533 - val_accuracy: 0.5131\n",
      "\n",
      "Epoch 00010: val_accuracy did not improve from 0.56056\n",
      "Epoch 11/100\n",
      "410/410 [==============================] - 12s 28ms/step - loss: 0.7921 - accuracy: 0.6319 - val_loss: 1.0269 - val_accuracy: 0.5478\n",
      "\n",
      "Epoch 00011: val_accuracy did not improve from 0.56056\n",
      "Epoch 12/100\n",
      "410/410 [==============================] - 12s 28ms/step - loss: 0.7746 - accuracy: 0.6421 - val_loss: 1.1008 - val_accuracy: 0.5496\n",
      "\n",
      "Epoch 00012: val_accuracy did not improve from 0.56056\n",
      "Epoch 13/100\n",
      "410/410 [==============================] - 11s 28ms/step - loss: 0.7463 - accuracy: 0.6618 - val_loss: 1.0317 - val_accuracy: 0.5326\n",
      "\n",
      "Epoch 00013: val_accuracy did not improve from 0.56056\n",
      "Epoch 14/100\n",
      "410/410 [==============================] - 12s 29ms/step - loss: 0.7206 - accuracy: 0.6722 - val_loss: 1.0966 - val_accuracy: 0.5460\n",
      "\n",
      "Epoch 00014: val_accuracy did not improve from 0.56056\n",
      "Epoch 15/100\n",
      "410/410 [==============================] - 11s 28ms/step - loss: 0.6989 - accuracy: 0.6893 - val_loss: 1.0513 - val_accuracy: 0.5484\n",
      "\n",
      "Epoch 00015: val_accuracy did not improve from 0.56056\n",
      "Epoch 16/100\n",
      "410/410 [==============================] - 12s 28ms/step - loss: 0.6717 - accuracy: 0.7055 - val_loss: 1.0767 - val_accuracy: 0.5526\n",
      "\n",
      "Epoch 00016: ReduceLROnPlateau reducing learning rate to 0.00020000000949949026.\n",
      "\n",
      "Epoch 00016: val_accuracy did not improve from 0.56056\n",
      "Epoch 17/100\n",
      "410/410 [==============================] - 12s 29ms/step - loss: 0.5784 - accuracy: 0.7548 - val_loss: 1.0089 - val_accuracy: 0.5825\n",
      "\n",
      "Epoch 00017: val_accuracy improved from 0.56056 to 0.58247, saving model to resnet50.weights.hdf5\n",
      "Epoch 18/100\n",
      "410/410 [==============================] - 11s 28ms/step - loss: 0.5454 - accuracy: 0.7648 - val_loss: 1.0319 - val_accuracy: 0.5892\n",
      "\n",
      "Epoch 00018: val_accuracy improved from 0.58247 to 0.58917, saving model to resnet50.weights.hdf5\n",
      "Epoch 19/100\n",
      "410/410 [==============================] - 11s 28ms/step - loss: 0.5045 - accuracy: 0.7862 - val_loss: 1.0721 - val_accuracy: 0.5794\n",
      "\n",
      "Epoch 00019: val_accuracy did not improve from 0.58917\n",
      "Epoch 20/100\n",
      "410/410 [==============================] - 12s 28ms/step - loss: 0.4933 - accuracy: 0.7903 - val_loss: 1.1291 - val_accuracy: 0.5788\n",
      "\n",
      "Epoch 00020: val_accuracy did not improve from 0.58917\n",
      "Epoch 21/100\n",
      "410/410 [==============================] - 11s 28ms/step - loss: 0.4845 - accuracy: 0.7932 - val_loss: 1.1154 - val_accuracy: 0.5873\n",
      "\n",
      "Epoch 00021: val_accuracy did not improve from 0.58917\n",
      "Epoch 22/100\n",
      "410/410 [==============================] - 12s 29ms/step - loss: 0.4667 - accuracy: 0.8019 - val_loss: 1.1441 - val_accuracy: 0.5873\n",
      "\n",
      "Epoch 00022: val_accuracy did not improve from 0.58917\n",
      "Epoch 23/100\n",
      "410/410 [==============================] - 11s 28ms/step - loss: 0.4539 - accuracy: 0.8063 - val_loss: 1.1581 - val_accuracy: 0.5776\n",
      "\n",
      "Epoch 00023: val_accuracy did not improve from 0.58917\n",
      "Epoch 24/100\n",
      "410/410 [==============================] - 12s 29ms/step - loss: 0.4249 - accuracy: 0.8210 - val_loss: 1.1866 - val_accuracy: 0.5922\n",
      "\n",
      "Epoch 00024: val_accuracy improved from 0.58917 to 0.59221, saving model to resnet50.weights.hdf5\n",
      "Epoch 25/100\n",
      "410/410 [==============================] - 11s 28ms/step - loss: 0.4253 - accuracy: 0.8190 - val_loss: 1.1971 - val_accuracy: 0.5892\n",
      "\n",
      "Epoch 00025: val_accuracy did not improve from 0.59221\n",
      "Epoch 26/100\n",
      "410/410 [==============================] - 12s 29ms/step - loss: 0.4168 - accuracy: 0.8236 - val_loss: 1.2314 - val_accuracy: 0.5740\n",
      "\n",
      "Epoch 00026: val_accuracy did not improve from 0.59221\n",
      "Epoch 27/100\n",
      "410/410 [==============================] - 12s 29ms/step - loss: 0.4172 - accuracy: 0.8212 - val_loss: 1.2706 - val_accuracy: 0.5904\n",
      "\n",
      "Epoch 00027: val_accuracy did not improve from 0.59221\n",
      "Epoch 28/100\n",
      "410/410 [==============================] - 12s 28ms/step - loss: 0.3958 - accuracy: 0.8309 - val_loss: 1.2388 - val_accuracy: 0.5819\n",
      "\n",
      "Epoch 00028: val_accuracy did not improve from 0.59221\n",
      "Epoch 29/100\n",
      "410/410 [==============================] - 11s 28ms/step - loss: 0.3875 - accuracy: 0.8395 - val_loss: 1.2379 - val_accuracy: 0.5855\n",
      "\n",
      "Epoch 00029: val_accuracy did not improve from 0.59221\n",
      "Epoch 30/100\n",
      "410/410 [==============================] - 12s 29ms/step - loss: 0.3791 - accuracy: 0.8472 - val_loss: 1.3007 - val_accuracy: 0.5703\n",
      "\n",
      "Epoch 00030: val_accuracy did not improve from 0.59221\n",
      "Epoch 31/100\n",
      "410/410 [==============================] - 11s 27ms/step - loss: 0.3769 - accuracy: 0.8395 - val_loss: 1.3080 - val_accuracy: 0.5916\n",
      "\n",
      "Epoch 00031: val_accuracy did not improve from 0.59221\n",
      "Epoch 32/100\n",
      "410/410 [==============================] - 12s 28ms/step - loss: 0.3658 - accuracy: 0.8491 - val_loss: 1.2991 - val_accuracy: 0.5922\n",
      "\n",
      "Epoch 00032: val_accuracy did not improve from 0.59221\n",
      "Epoch 33/100\n",
      "410/410 [==============================] - 12s 29ms/step - loss: 0.3647 - accuracy: 0.8501 - val_loss: 1.3562 - val_accuracy: 0.5934\n",
      "\n",
      "Epoch 00033: val_accuracy improved from 0.59221 to 0.59343, saving model to resnet50.weights.hdf5\n",
      "Epoch 34/100\n",
      "410/410 [==============================] - 12s 29ms/step - loss: 0.3456 - accuracy: 0.8569 - val_loss: 1.3357 - val_accuracy: 0.5953\n",
      "\n",
      "Epoch 00034: val_accuracy improved from 0.59343 to 0.59525, saving model to resnet50.weights.hdf5\n",
      "Epoch 35/100\n",
      "410/410 [==============================] - 12s 28ms/step - loss: 0.3375 - accuracy: 0.8596 - val_loss: 1.3306 - val_accuracy: 0.5928\n",
      "\n",
      "Epoch 00035: val_accuracy did not improve from 0.59525\n",
      "Epoch 36/100\n",
      "410/410 [==============================] - 12s 28ms/step - loss: 0.3402 - accuracy: 0.8624 - val_loss: 1.3734 - val_accuracy: 0.5788\n",
      "\n",
      "Epoch 00036: val_accuracy did not improve from 0.59525\n",
      "Epoch 37/100\n",
      "410/410 [==============================] - 12s 29ms/step - loss: 0.3382 - accuracy: 0.8579 - val_loss: 1.3681 - val_accuracy: 0.5928\n",
      "\n",
      "Epoch 00037: val_accuracy did not improve from 0.59525\n",
      "Epoch 38/100\n",
      "410/410 [==============================] - 12s 29ms/step - loss: 0.3329 - accuracy: 0.8631 - val_loss: 1.3624 - val_accuracy: 0.5855\n",
      "\n",
      "Epoch 00038: val_accuracy did not improve from 0.59525\n",
      "Epoch 39/100\n",
      "410/410 [==============================] - 12s 29ms/step - loss: 0.3251 - accuracy: 0.8682 - val_loss: 1.4048 - val_accuracy: 0.5873\n",
      "\n",
      "Epoch 00039: val_accuracy did not improve from 0.59525\n",
      "Epoch 40/100\n",
      "410/410 [==============================] - 12s 29ms/step - loss: 0.3225 - accuracy: 0.8688 - val_loss: 1.3937 - val_accuracy: 0.6038\n",
      "\n",
      "Epoch 00040: val_accuracy improved from 0.59525 to 0.60377, saving model to resnet50.weights.hdf5\n",
      "Epoch 41/100\n",
      "410/410 [==============================] - 11s 28ms/step - loss: 0.3155 - accuracy: 0.8697 - val_loss: 1.4093 - val_accuracy: 0.5819\n",
      "\n",
      "Epoch 00041: val_accuracy did not improve from 0.60377\n",
      "Epoch 42/100\n",
      "410/410 [==============================] - 12s 29ms/step - loss: 0.3097 - accuracy: 0.8758 - val_loss: 1.4457 - val_accuracy: 0.5892\n",
      "\n",
      "Epoch 00042: val_accuracy did not improve from 0.60377\n",
      "Epoch 43/100\n",
      "410/410 [==============================] - 11s 28ms/step - loss: 0.3151 - accuracy: 0.8704 - val_loss: 1.4430 - val_accuracy: 0.5965\n",
      "\n",
      "Epoch 00043: val_accuracy did not improve from 0.60377\n",
      "Epoch 44/100\n",
      "410/410 [==============================] - 12s 28ms/step - loss: 0.3063 - accuracy: 0.8756 - val_loss: 1.4514 - val_accuracy: 0.5831\n",
      "\n",
      "Epoch 00044: val_accuracy did not improve from 0.60377\n",
      "Epoch 45/100\n",
      "410/410 [==============================] - 11s 28ms/step - loss: 0.3135 - accuracy: 0.8700 - val_loss: 1.4370 - val_accuracy: 0.6013\n",
      "\n",
      "Epoch 00045: val_accuracy did not improve from 0.60377\n",
      "Epoch 46/100\n",
      "410/410 [==============================] - 12s 28ms/step - loss: 0.3021 - accuracy: 0.8752 - val_loss: 1.4039 - val_accuracy: 0.6038\n",
      "\n",
      "Epoch 00046: val_accuracy did not improve from 0.60377\n",
      "Epoch 47/100\n",
      "410/410 [==============================] - 12s 29ms/step - loss: 0.2837 - accuracy: 0.8854 - val_loss: 1.4374 - val_accuracy: 0.6074\n",
      "\n",
      "Epoch 00047: val_accuracy improved from 0.60377 to 0.60743, saving model to resnet50.weights.hdf5\n",
      "Epoch 48/100\n",
      "410/410 [==============================] - 12s 28ms/step - loss: 0.2849 - accuracy: 0.8848 - val_loss: 1.4841 - val_accuracy: 0.6038\n",
      "\n",
      "Epoch 00048: val_accuracy did not improve from 0.60743\n",
      "Epoch 49/100\n",
      "410/410 [==============================] - 12s 29ms/step - loss: 0.2801 - accuracy: 0.8857 - val_loss: 1.5108 - val_accuracy: 0.5879\n",
      "\n",
      "Epoch 00049: val_accuracy did not improve from 0.60743\n",
      "Epoch 50/100\n",
      "410/410 [==============================] - 11s 28ms/step - loss: 0.2786 - accuracy: 0.8901 - val_loss: 1.5167 - val_accuracy: 0.5995\n",
      "\n",
      "Epoch 00050: val_accuracy did not improve from 0.60743\n",
      "Epoch 51/100\n",
      "410/410 [==============================] - 12s 29ms/step - loss: 0.2722 - accuracy: 0.8878 - val_loss: 1.5564 - val_accuracy: 0.5879\n",
      "\n",
      "Epoch 00051: val_accuracy did not improve from 0.60743\n",
      "Epoch 52/100\n",
      "410/410 [==============================] - 12s 28ms/step - loss: 0.2751 - accuracy: 0.8897 - val_loss: 1.5329 - val_accuracy: 0.5916\n",
      "\n",
      "Epoch 00052: val_accuracy did not improve from 0.60743\n",
      "Epoch 53/100\n",
      "410/410 [==============================] - 12s 29ms/step - loss: 0.2723 - accuracy: 0.8880 - val_loss: 1.5697 - val_accuracy: 0.5806\n",
      "\n",
      "Epoch 00053: val_accuracy did not improve from 0.60743\n",
      "Epoch 54/100\n",
      "410/410 [==============================] - 11s 28ms/step - loss: 0.2655 - accuracy: 0.8973 - val_loss: 1.5441 - val_accuracy: 0.5971\n",
      "\n",
      "Epoch 00054: val_accuracy did not improve from 0.60743\n",
      "Epoch 55/100\n",
      "410/410 [==============================] - 11s 28ms/step - loss: 0.2738 - accuracy: 0.8920 - val_loss: 1.5819 - val_accuracy: 0.5892\n",
      "\n",
      "Epoch 00055: val_accuracy did not improve from 0.60743\n",
      "Epoch 56/100\n",
      "410/410 [==============================] - 12s 29ms/step - loss: 0.2826 - accuracy: 0.8883 - val_loss: 1.5208 - val_accuracy: 0.5946\n",
      "\n",
      "Epoch 00056: val_accuracy did not improve from 0.60743\n",
      "Epoch 57/100\n",
      "410/410 [==============================] - 11s 28ms/step - loss: 0.2609 - accuracy: 0.8950 - val_loss: 1.5988 - val_accuracy: 0.5940\n",
      "\n",
      "Epoch 00057: ReduceLROnPlateau reducing learning rate to 4.0000001899898055e-05.\n",
      "\n",
      "Epoch 00057: val_accuracy did not improve from 0.60743\n",
      "Epoch 58/100\n",
      "410/410 [==============================] - 12s 30ms/step - loss: 0.2329 - accuracy: 0.9063 - val_loss: 1.5639 - val_accuracy: 0.5995\n",
      "\n",
      "Epoch 00058: val_accuracy did not improve from 0.60743\n",
      "Epoch 59/100\n",
      "410/410 [==============================] - 12s 28ms/step - loss: 0.2308 - accuracy: 0.9103 - val_loss: 1.5521 - val_accuracy: 0.6007\n",
      "\n",
      "Epoch 00059: val_accuracy did not improve from 0.60743\n",
      "Epoch 60/100\n",
      "410/410 [==============================] - 12s 29ms/step - loss: 0.2313 - accuracy: 0.9107 - val_loss: 1.5498 - val_accuracy: 0.6001\n",
      "\n",
      "Epoch 00060: val_accuracy did not improve from 0.60743\n",
      "Epoch 61/100\n",
      "410/410 [==============================] - 11s 28ms/step - loss: 0.2175 - accuracy: 0.9174 - val_loss: 1.5693 - val_accuracy: 0.5977\n",
      "\n",
      "Epoch 00061: val_accuracy did not improve from 0.60743\n",
      "Epoch 62/100\n",
      "410/410 [==============================] - 12s 29ms/step - loss: 0.2238 - accuracy: 0.9133 - val_loss: 1.5851 - val_accuracy: 0.6050\n",
      "\n",
      "Epoch 00062: val_accuracy did not improve from 0.60743\n",
      "Epoch 63/100\n",
      "410/410 [==============================] - 11s 28ms/step - loss: 0.2313 - accuracy: 0.9104 - val_loss: 1.5882 - val_accuracy: 0.5989\n",
      "\n",
      "Epoch 00063: val_accuracy did not improve from 0.60743\n",
      "Epoch 64/100\n",
      "410/410 [==============================] - 12s 29ms/step - loss: 0.2205 - accuracy: 0.9156 - val_loss: 1.5884 - val_accuracy: 0.5971\n",
      "\n",
      "Epoch 00064: val_accuracy did not improve from 0.60743\n",
      "Epoch 65/100\n",
      "410/410 [==============================] - 12s 29ms/step - loss: 0.2095 - accuracy: 0.9185 - val_loss: 1.6016 - val_accuracy: 0.5995\n",
      "\n",
      "Epoch 00065: val_accuracy did not improve from 0.60743\n",
      "Epoch 66/100\n",
      "410/410 [==============================] - 12s 28ms/step - loss: 0.2131 - accuracy: 0.9187 - val_loss: 1.5798 - val_accuracy: 0.5995\n",
      "\n",
      "Epoch 00066: val_accuracy did not improve from 0.60743\n",
      "Epoch 67/100\n",
      "410/410 [==============================] - 12s 30ms/step - loss: 0.2191 - accuracy: 0.9174 - val_loss: 1.5977 - val_accuracy: 0.5959\n",
      "\n",
      "Epoch 00067: ReduceLROnPlateau reducing learning rate to 1e-05.\n",
      "Restoring model weights from the end of the best epoch.\n",
      "\n",
      "Epoch 00067: val_accuracy did not improve from 0.60743\n",
      "Epoch 00067: early stopping\n"
     ]
    }
   ],
   "source": [
    "# Non-augmentation\n",
    "train_gen = ImageDataGenerator().flow(X_train, y_train_onehot , batch_size = BATCH_SIZE)\n",
    "valid_gen = ImageDataGenerator().flow(X_valid, y_valid_onehot, batch_size = BATCH_SIZE)\n",
    "\n",
    "history_resnet50 = resnet50.fit(\n",
    "    train_gen\n",
    "    , steps_per_epoch = TRAIN_STEPS\n",
    "    , validation_data = valid_gen\n",
    "    , epochs = 100\n",
    "    , callbacks = [reduceLR, early_stopping, checkpoint]\n",
    ")"
   ]
  },
  {
   "cell_type": "markdown",
   "id": "420e1f39",
   "metadata": {
    "papermill": {
     "duration": 1.955809,
     "end_time": "2022-11-22T06:25:03.747627",
     "exception": false,
     "start_time": "2022-11-22T06:25:01.791818",
     "status": "completed"
    },
    "tags": []
   },
   "source": [
    "## Resnet50 (Aug)"
   ]
  },
  {
   "cell_type": "code",
   "execution_count": 63,
   "id": "3f5f004e",
   "metadata": {
    "execution": {
     "iopub.execute_input": "2022-11-22T06:25:07.675671Z",
     "iopub.status.busy": "2022-11-22T06:25:07.675217Z",
     "iopub.status.idle": "2022-11-22T06:25:07.680974Z",
     "shell.execute_reply": "2022-11-22T06:25:07.679607Z"
    },
    "papermill": {
     "duration": 1.979258,
     "end_time": "2022-11-22T06:25:07.683718",
     "exception": false,
     "start_time": "2022-11-22T06:25:05.704460",
     "status": "completed"
    },
    "tags": []
   },
   "outputs": [],
   "source": [
    "# initialize callbacks\n",
    "checkpoint_ag = ModelCheckpoint('resnet_ag.weights.hdf5', monitor='val_accuracy', verbose=1,save_best_only=True, mode= 'max')"
   ]
  },
  {
   "cell_type": "code",
   "execution_count": 64,
   "id": "1d02e295",
   "metadata": {
    "execution": {
     "iopub.execute_input": "2022-11-22T06:25:11.543826Z",
     "iopub.status.busy": "2022-11-22T06:25:11.543380Z",
     "iopub.status.idle": "2022-11-22T06:39:06.131333Z",
     "shell.execute_reply": "2022-11-22T06:39:06.129110Z"
    },
    "papermill": {
     "duration": 836.510314,
     "end_time": "2022-11-22T06:39:06.134577",
     "exception": false,
     "start_time": "2022-11-22T06:25:09.624263",
     "status": "completed"
    },
    "tags": []
   },
   "outputs": [
    {
     "name": "stdout",
     "output_type": "stream",
     "text": [
      "Epoch 1/100\n",
      "410/410 [==============================] - 35s 86ms/step - loss: 2.0040 - accuracy: 0.4490 - val_loss: 1.5635 - val_accuracy: 0.5876\n",
      "\n",
      "Epoch 00001: val_accuracy improved from -inf to 0.58762, saving model to resnet_ag.weights.hdf5\n",
      "Epoch 2/100\n",
      "410/410 [==============================] - 35s 86ms/step - loss: 1.8205 - accuracy: 0.4628 - val_loss: 1.5089 - val_accuracy: 0.5839\n",
      "\n",
      "Epoch 00002: val_accuracy did not improve from 0.58762\n",
      "Epoch 3/100\n",
      "410/410 [==============================] - 35s 84ms/step - loss: 1.7938 - accuracy: 0.4636 - val_loss: 1.4873 - val_accuracy: 0.5803\n",
      "\n",
      "Epoch 00003: val_accuracy did not improve from 0.58762\n",
      "Epoch 4/100\n",
      "410/410 [==============================] - 35s 85ms/step - loss: 1.7519 - accuracy: 0.4570 - val_loss: 1.4438 - val_accuracy: 0.5815\n",
      "\n",
      "Epoch 00004: val_accuracy did not improve from 0.58762\n",
      "Epoch 5/100\n",
      "410/410 [==============================] - 34s 84ms/step - loss: 1.7340 - accuracy: 0.4590 - val_loss: 1.3958 - val_accuracy: 0.5790\n",
      "\n",
      "Epoch 00005: val_accuracy did not improve from 0.58762\n",
      "Epoch 6/100\n",
      "410/410 [==============================] - 35s 85ms/step - loss: 1.6639 - accuracy: 0.4657 - val_loss: 1.3710 - val_accuracy: 0.5809\n",
      "\n",
      "Epoch 00006: val_accuracy did not improve from 0.58762\n",
      "Epoch 7/100\n",
      "410/410 [==============================] - 34s 84ms/step - loss: 1.6664 - accuracy: 0.4517 - val_loss: 1.3409 - val_accuracy: 0.5852\n",
      "\n",
      "Epoch 00007: val_accuracy did not improve from 0.58762\n",
      "Epoch 8/100\n",
      "410/410 [==============================] - 35s 84ms/step - loss: 1.5762 - accuracy: 0.4642 - val_loss: 1.3107 - val_accuracy: 0.5833\n",
      "\n",
      "Epoch 00008: val_accuracy did not improve from 0.58762\n",
      "Epoch 9/100\n",
      "410/410 [==============================] - 35s 85ms/step - loss: 1.5824 - accuracy: 0.4644 - val_loss: 1.2912 - val_accuracy: 0.5790\n",
      "\n",
      "Epoch 00009: val_accuracy did not improve from 0.58762\n",
      "Epoch 10/100\n",
      "410/410 [==============================] - 35s 84ms/step - loss: 1.5405 - accuracy: 0.4680 - val_loss: 1.2785 - val_accuracy: 0.5815\n",
      "\n",
      "Epoch 00010: val_accuracy did not improve from 0.58762\n",
      "Epoch 11/100\n",
      "410/410 [==============================] - 35s 85ms/step - loss: 1.5240 - accuracy: 0.4619 - val_loss: 1.2494 - val_accuracy: 0.5827\n",
      "\n",
      "Epoch 00011: val_accuracy did not improve from 0.58762\n",
      "Epoch 12/100\n",
      "410/410 [==============================] - 35s 86ms/step - loss: 1.5047 - accuracy: 0.4642 - val_loss: 1.2257 - val_accuracy: 0.5772\n",
      "\n",
      "Epoch 00012: val_accuracy did not improve from 0.58762\n",
      "Epoch 13/100\n",
      "410/410 [==============================] - 34s 84ms/step - loss: 1.4776 - accuracy: 0.4694 - val_loss: 1.2044 - val_accuracy: 0.5790\n",
      "\n",
      "Epoch 00013: val_accuracy did not improve from 0.58762\n",
      "Epoch 14/100\n",
      "410/410 [==============================] - 35s 84ms/step - loss: 1.4550 - accuracy: 0.4612 - val_loss: 1.2045 - val_accuracy: 0.5784\n",
      "\n",
      "Epoch 00014: val_accuracy did not improve from 0.58762\n",
      "Epoch 15/100\n",
      "410/410 [==============================] - 35s 85ms/step - loss: 1.4620 - accuracy: 0.4496 - val_loss: 1.1905 - val_accuracy: 0.5809\n",
      "\n",
      "Epoch 00015: val_accuracy did not improve from 0.58762\n",
      "Epoch 16/100\n",
      "410/410 [==============================] - 35s 84ms/step - loss: 1.4349 - accuracy: 0.4584 - val_loss: 1.1604 - val_accuracy: 0.5748\n",
      "\n",
      "Epoch 00016: val_accuracy did not improve from 0.58762\n",
      "Epoch 17/100\n",
      "410/410 [==============================] - 34s 84ms/step - loss: 1.3660 - accuracy: 0.4688 - val_loss: 1.1466 - val_accuracy: 0.5803\n",
      "\n",
      "Epoch 00017: val_accuracy did not improve from 0.58762\n",
      "Epoch 18/100\n",
      "410/410 [==============================] - 34s 83ms/step - loss: 1.3625 - accuracy: 0.4644 - val_loss: 1.1400 - val_accuracy: 0.5778\n",
      "\n",
      "Epoch 00018: val_accuracy did not improve from 0.58762\n",
      "Epoch 19/100\n",
      "410/410 [==============================] - 34s 83ms/step - loss: 1.3515 - accuracy: 0.4651 - val_loss: 1.1329 - val_accuracy: 0.5772\n",
      "\n",
      "Epoch 00019: val_accuracy did not improve from 0.58762\n",
      "Epoch 20/100\n",
      "410/410 [==============================] - 35s 85ms/step - loss: 1.3037 - accuracy: 0.4804 - val_loss: 1.1171 - val_accuracy: 0.5815\n",
      "\n",
      "Epoch 00020: val_accuracy did not improve from 0.58762\n",
      "Epoch 21/100\n",
      "410/410 [==============================] - 35s 84ms/step - loss: 1.3419 - accuracy: 0.4630 - val_loss: 1.1089 - val_accuracy: 0.5772\n",
      "Restoring model weights from the end of the best epoch.\n",
      "\n",
      "Epoch 00021: val_accuracy did not improve from 0.58762\n",
      "Epoch 00021: early stopping\n"
     ]
    }
   ],
   "source": [
    "# augmentation\n",
    "train_datagen = ImageDataGenerator(\n",
    "                                rotation_range = 40,\n",
    "                                zoom_range = 0.2,\n",
    "                                width_shift_range=0.2,\n",
    "                                height_shift_range=0.2,\n",
    "                                shear_range=0.2,\n",
    "                                horizontal_flip = True,\n",
    "                                vertical_flip = True)\n",
    "\n",
    "train_gen_ag = train_datagen.flow(X_train, y_train_onehot, batch_size= BATCH_SIZE)\n",
    "\n",
    "history_resnet50_ag = resnet50.fit(\n",
    "    train_gen_ag\n",
    "    , steps_per_epoch= TRAIN_STEPS\n",
    "    , validation_data=valid_gen\n",
    "    , validation_steps=VAL_STEPS\n",
    "    , epochs= 100\n",
    "    , callbacks= [reduceLR, early_stopping, checkpoint_ag]\n",
    ")"
   ]
  },
  {
   "cell_type": "code",
   "execution_count": 65,
   "id": "9eba61c6",
   "metadata": {
    "execution": {
     "iopub.execute_input": "2022-11-22T06:39:11.893020Z",
     "iopub.status.busy": "2022-11-22T06:39:11.891784Z",
     "iopub.status.idle": "2022-11-22T06:39:12.601895Z",
     "shell.execute_reply": "2022-11-22T06:39:12.600805Z"
    },
    "papermill": {
     "duration": 3.489109,
     "end_time": "2022-11-22T06:39:12.604849",
     "exception": false,
     "start_time": "2022-11-22T06:39:09.115740",
     "status": "completed"
    },
    "tags": []
   },
   "outputs": [
    {
     "data": {
      "image/png": "[encoded data removed]",
      "text/plain": [
       "<Figure size 1440x1152 with 4 Axes>"
      ]
     },
     "metadata": {
      "needs_background": "light"
     },
     "output_type": "display_data"
    }
   ],
   "source": [
    "plt.figure(figsize=(20, 16))\n",
    "\n",
    "plt.subplot(2, 2, 1)\n",
    "plt.plot(history_resnet50.history['accuracy'], label='Training Accuracy')\n",
    "plt.plot(history_resnet50.history['val_accuracy'], label='Validation Accuracy')\n",
    "plt.legend(loc='lower right')\n",
    "plt.title('Non-Augmentation Training and Validation Accuracy')\n",
    "\n",
    "plt.subplot(2, 2, 2)\n",
    "plt.plot(history_resnet50.history['loss'], label='Training Loss')\n",
    "plt.plot(history_resnet50.history['val_loss'], label='Validation Loss')\n",
    "plt.legend(loc='upper right')\n",
    "plt.title('Non-Augmentation Training and Validation Loss')\n",
    "\n",
    "plt.subplot(2, 2, 3)\n",
    "plt.plot(history_resnet50_ag.history['accuracy'], label='Training Accuracy')\n",
    "plt.plot(history_resnet50_ag.history['val_accuracy'], label='Validation Accuracy')\n",
    "plt.legend(loc='lower right')\n",
    "plt.title('Augmentation Training and Validation Accuracy')\n",
    "\n",
    "plt.subplot(2, 2, 4)\n",
    "plt.plot(history_resnet50_ag.history['loss'], label='Training Loss')\n",
    "plt.plot(history_resnet50_ag.history['val_loss'], label='Validation Loss')\n",
    "plt.legend(loc='upper right')\n",
    "plt.title('Augmentation Training and Validation Loss')\n",
    "\n",
    "plt.show()"
   ]
  },
  {
   "cell_type": "markdown",
   "id": "e3bdf53e",
   "metadata": {
    "papermill": {
     "duration": 2.405411,
     "end_time": "2022-11-22T06:39:17.517716",
     "exception": false,
     "start_time": "2022-11-22T06:39:15.112305",
     "status": "completed"
    },
    "tags": []
   },
   "source": [
    "## GoogLeNet - failed"
   ]
  },
  {
   "cell_type": "code",
   "execution_count": 66,
   "id": "c43e9232",
   "metadata": {
    "execution": {
     "iopub.execute_input": "2022-11-22T06:39:22.624874Z",
     "iopub.status.busy": "2022-11-22T06:39:22.624504Z",
     "iopub.status.idle": "2022-11-22T06:39:22.629233Z",
     "shell.execute_reply": "2022-11-22T06:39:22.628249Z"
    },
    "papermill": {
     "duration": 2.436754,
     "end_time": "2022-11-22T06:39:22.631316",
     "exception": false,
     "start_time": "2022-11-22T06:39:20.194562",
     "status": "completed"
    },
    "tags": []
   },
   "outputs": [],
   "source": [
    "#from keras.models import Model\n",
    "#from keras.layers import Input, Conv2D, MaxPooling2D, AveragePooling2D, Flatten, GlobalAveragePooling2D, Dense, Dropout\n",
    "#from keras.layers.merge import concatenate"
   ]
  },
  {
   "cell_type": "code",
   "execution_count": 67,
   "id": "23225bc7",
   "metadata": {
    "execution": {
     "iopub.execute_input": "2022-11-22T06:39:27.613333Z",
     "iopub.status.busy": "2022-11-22T06:39:27.612720Z",
     "iopub.status.idle": "2022-11-22T06:39:27.618506Z",
     "shell.execute_reply": "2022-11-22T06:39:27.617381Z"
    },
    "papermill": {
     "duration": 2.560478,
     "end_time": "2022-11-22T06:39:27.620823",
     "exception": false,
     "start_time": "2022-11-22T06:39:25.060345",
     "status": "completed"
    },
    "tags": []
   },
   "outputs": [],
   "source": [
    "# Create Inception block\n",
    "\n",
    "\n",
    "#def Inception_block(input_layer, f1, f2_conv1, f2_conv3, f3_conv1, f3_conv5, f4): \n",
    "#  # Input: \n",
    "#  # - f1: number of filters of the 1x1 convolutional layer in the first path\n",
    "#  # - f2_conv1, f2_conv3 are number of filters corresponding to the 1x1 and 3x3 convolutional layers in the second path\n",
    "#  # - f3_conv1, f3_conv5 are the number of filters corresponding to the 1x1 and 5x5  convolutional layer in the third path\n",
    "#  # - f4: number of filters of the 1x1 convolutional layer in the fourth path\n",
    "\n",
    "#  # 1st path:\n",
    "#  path1 = Conv2D(filters=f1, kernel_size = (1,1), padding = 'same', activation = 'relu')(input_layer)\n",
    "\n",
    "#  # 2nd path\n",
    "#  path2 = Conv2D(filters = f2_conv1, kernel_size = (1,1), padding = 'same', activation = 'relu')(input_layer)\n",
    "#  path2 = Conv2D(filters = f2_conv3, kernel_size = (3,3), padding = 'same', activation = 'relu')(path2)\n",
    "\n",
    "#  # 3rd path\n",
    "#  path3 = Conv2D(filters = f3_conv1, kernel_size = (1,1), padding = 'same', activation = 'relu')(input_layer)\n",
    "#  path3 = Conv2D(filters = f3_conv5, kernel_size = (5,5), padding = 'same', activation = 'relu')(path3)\n",
    "\n",
    "#  # 4th path\n",
    "#  path4 = MaxPooling2D((3,3), strides= (1,1), padding = 'same')(input_layer)\n",
    "#  path4 = Conv2D(filters = f4, kernel_size = (1,1), padding = 'same', activation = 'relu')(path4)\n",
    "\n",
    "#  output_layer = concatenate([path1, path2, path3, path4], axis = -1)\n",
    "\n",
    "#  return output_layer"
   ]
  },
  {
   "cell_type": "markdown",
   "id": "bc0e3a05",
   "metadata": {
    "papermill": {
     "duration": 2.537967,
     "end_time": "2022-11-22T06:39:32.778195",
     "exception": false,
     "start_time": "2022-11-22T06:39:30.240228",
     "status": "completed"
    },
    "tags": []
   },
   "source": [
    "sequential로 변경시도"
   ]
  },
  {
   "cell_type": "code",
   "execution_count": 68,
   "id": "9f669ca9",
   "metadata": {
    "execution": {
     "iopub.execute_input": "2022-11-22T06:39:37.782000Z",
     "iopub.status.busy": "2022-11-22T06:39:37.781617Z",
     "iopub.status.idle": "2022-11-22T06:39:37.786990Z",
     "shell.execute_reply": "2022-11-22T06:39:37.785811Z"
    },
    "papermill": {
     "duration": 2.582496,
     "end_time": "2022-11-22T06:39:37.789126",
     "exception": false,
     "start_time": "2022-11-22T06:39:35.206630",
     "status": "completed"
    },
    "tags": []
   },
   "outputs": [],
   "source": [
    "#googlenet = Sequential([\n",
    "#    Input(shape = (128,128,3))\n",
    "#    , Conv2D(filters = 64, kernel_size =(7,7), strides = 2, padding = 'valid', activation = 'relu')\n",
    "#    , MaxPooling2D(pool_size = (3,3), strides = 2)\n",
    "#    , Conv2D(filters = 64, kernel_size = (1,1), strides = 1, padding = 'same', activation = 'relu')\n",
    "#    , Conv2D(filters = 192, kernel_size = (3,3), padding = 'same', activation = 'relu')\n",
    "#    , MaxPooling2D(pool_size= (3,3), strides = 2)\n",
    "##first inception block\n",
    "#    , Inception_block(X, f1 = 64, f2_conv1 = 96, f2_conv3 = 128, f3_conv1 = 16, f3_conv5 = 32, f4 = 32)\n",
    "##second inception block\n",
    "#    , Inception_block(X, f1 = 128, f2_conv1 = 128, f2_conv3 = 192, f3_conv1 = 32, f3_conv5 = 96, f4 = 64)\n",
    "#    , MaxPooling2D(pool_size= (3,3), strides = 2)\n",
    "##third inception block\n",
    "#    , Inception_block(X, f1 = 192, f2_conv1 = 96, f2_conv3 = 208, f3_conv1 = 16, f3_conv5 = 48, f4 = 64)\n",
    "##Extra network 1   \n",
    "#])"
   ]
  },
  {
   "cell_type": "code",
   "execution_count": 69,
   "id": "44bf2c38",
   "metadata": {
    "execution": {
     "iopub.execute_input": "2022-11-22T06:39:43.455010Z",
     "iopub.status.busy": "2022-11-22T06:39:43.454318Z",
     "iopub.status.idle": "2022-11-22T06:39:43.463238Z",
     "shell.execute_reply": "2022-11-22T06:39:43.462128Z"
    },
    "papermill": {
     "duration": 3.268949,
     "end_time": "2022-11-22T06:39:43.465295",
     "exception": false,
     "start_time": "2022-11-22T06:39:40.196346",
     "status": "completed"
    },
    "tags": []
   },
   "outputs": [],
   "source": [
    "#def GoogLeNet():\n",
    "#  # input layer \n",
    "#  input_layer = Input(shape = (128, 128, 3))\n",
    "\n",
    "#  # convolutional layer: filters = 64, kernel_size = (7,7), strides = 2\n",
    "#  X = Conv2D(filters = 64, kernel_size = (7,7), strides = 2, padding = 'valid', activation = 'relu')(input_layer)\n",
    "\n",
    "#  # max-pooling layer: pool_size = (3,3), strides = 2\n",
    "#  X = MaxPooling2D(pool_size = (3,3), strides = 2)(X)\n",
    "\n",
    "#  # convolutional layer: filters = 64, strides = 1\n",
    "#  X = Conv2D(filters = 64, kernel_size = (1,1), strides = 1, padding = 'same', activation = 'relu')(X)\n",
    "\n",
    "#  # convolutional layer: filters = 192, kernel_size = (3,3)\n",
    "#  X = Conv2D(filters = 192, kernel_size = (3,3), padding = 'same', activation = 'relu')(X)\n",
    "\n",
    "#  # max-pooling layer: pool_size = (3,3), strides = 2\n",
    "#  X = MaxPooling2D(pool_size= (3,3), strides = 2)(X)\n",
    "\n",
    "#  # 1st Inception block\n",
    "#  X = Inception_block(X, f1 = 64, f2_conv1 = 96, f2_conv3 = 128, f3_conv1 = 16, f3_conv5 = 32, f4 = 32)\n",
    "\n",
    "#  # 2nd Inception block\n",
    "#  X = Inception_block(X, f1 = 128, f2_conv1 = 128, f2_conv3 = 192, f3_conv1 = 32, f3_conv5 = 96, f4 = 64)\n",
    "\n",
    "#  # max-pooling layer: pool_size = (3,3), strides = 2\n",
    "#  X = MaxPooling2D(pool_size= (3,3), strides = 2)(X)\n",
    "\n",
    "#  # 3rd Inception block\n",
    "#  X = Inception_block(X, f1 = 192, f2_conv1 = 96, f2_conv3 = 208, f3_conv1 = 16, f3_conv5 = 48, f4 = 64)\n",
    "\n",
    "#  # Extra network 1:\n",
    "#  X1 = AveragePooling2D(pool_size = (5,5), strides = 3)(X)\n",
    "#  X1 = Conv2D(filters = 128, kernel_size = (1,1), padding = 'same', activation = 'relu')(X1)\n",
    "#  X1 = Flatten()(X1)\n",
    "#  X1 = Dense(1024, activation = 'relu')(X1)\n",
    "#  X1 = Dropout(0.7)(X1)\n",
    "#  X1 = Dense(3, activation = 'softmax')(X1)\n",
    "\n",
    "  \n",
    "#  # 4th Inception block\n",
    "#  X = Inception_block(X, f1 = 160, f2_conv1 = 112, f2_conv3 = 224, f3_conv1 = 24, f3_conv5 = 64, f4 = 64)\n",
    "\n",
    "#  # 5th Inception block\n",
    "#  X = Inception_block(X, f1 = 128, f2_conv1 = 128, f2_conv3 = 256, f3_conv1 = 24, f3_conv5 = 64, f4 = 64)\n",
    "\n",
    "#  # 6th Inception block\n",
    "#  X = Inception_block(X, f1 = 112, f2_conv1 = 144, f2_conv3 = 288, f3_conv1 = 32, f3_conv5 = 64, f4 = 64)\n",
    "\n",
    "#  # Extra network 2:\n",
    "#  X2 = AveragePooling2D(pool_size = (5,5), strides = 3)(X)\n",
    "#  X2 = Conv2D(filters = 128, kernel_size = (1,1), padding = 'same', activation = 'relu')(X2)\n",
    "#  X2 = Flatten()(X2)\n",
    "#  X2 = Dense(1024, activation = 'relu')(X2)\n",
    "#  X2 = Dropout(0.7)(X2)\n",
    "#  X2 = Dense(3, activation = 'softmax')(X2)\n",
    "#  \n",
    "#  \n",
    "#  # 7th Inception block\n",
    "#  X = Inception_block(X, f1 = 256, f2_conv1 = 160, f2_conv3 = 320, f3_conv1 = 32, \n",
    "#                      f3_conv5 = 128, f4 = 128)\n",
    "#\n",
    "#  # max-pooling layer: pool_size = (3,3), strides = 2\n",
    "#  X = MaxPooling2D(pool_size = (3,3), strides = 2)(X)\n",
    "#\n",
    "#  # 8th Inception block\n",
    "#  X = Inception_block(X, f1 = 256, f2_conv1 = 160, f2_conv3 = 320, f3_conv1 = 32, f3_conv5 = 128, f4 = 128)\n",
    "#\n",
    "#  # 9th Inception block\n",
    "#  X = Inception_block(X, f1 = 384, f2_conv1 = 192, f2_conv3 = 384, f3_conv1 = 48, f3_conv5 = 128, f4 = 128)\n",
    "\n",
    "#  # Global Average pooling layer \n",
    "#  X = GlobalAveragePooling2D(name = 'GAPL')(X)\n",
    "\n",
    "#  # Dropoutlayer \n",
    "#  X = Dropout(0.4)(X)\n",
    "\n",
    "#  # output layer \n",
    "#  X = Dense(3, activation = 'softmax')(X)\n",
    "  \n",
    "#  # model\n",
    "#  model = Model(input_layer, [X, X1, X2], name = 'GoogLeNet')\n",
    "\n",
    "#  return model"
   ]
  },
  {
   "cell_type": "code",
   "execution_count": 70,
   "id": "c9841ed8",
   "metadata": {
    "execution": {
     "iopub.execute_input": "2022-11-22T06:39:48.371484Z",
     "iopub.status.busy": "2022-11-22T06:39:48.371074Z",
     "iopub.status.idle": "2022-11-22T06:39:48.375994Z",
     "shell.execute_reply": "2022-11-22T06:39:48.374907Z"
    },
    "papermill": {
     "duration": 2.496851,
     "end_time": "2022-11-22T06:39:48.378031",
     "exception": false,
     "start_time": "2022-11-22T06:39:45.881180",
     "status": "completed"
    },
    "tags": []
   },
   "outputs": [],
   "source": [
    "#googlenet = GoogLeNet()"
   ]
  },
  {
   "cell_type": "code",
   "execution_count": 71,
   "id": "6c2bcc99",
   "metadata": {
    "execution": {
     "iopub.execute_input": "2022-11-22T06:39:53.586441Z",
     "iopub.status.busy": "2022-11-22T06:39:53.586015Z",
     "iopub.status.idle": "2022-11-22T06:39:53.590764Z",
     "shell.execute_reply": "2022-11-22T06:39:53.589703Z"
    },
    "papermill": {
     "duration": 2.674844,
     "end_time": "2022-11-22T06:39:53.593221",
     "exception": false,
     "start_time": "2022-11-22T06:39:50.918377",
     "status": "completed"
    },
    "tags": []
   },
   "outputs": [],
   "source": [
    "#googlenet.summary()"
   ]
  },
  {
   "cell_type": "code",
   "execution_count": 72,
   "id": "660276d4",
   "metadata": {
    "execution": {
     "iopub.execute_input": "2022-11-22T06:39:58.559893Z",
     "iopub.status.busy": "2022-11-22T06:39:58.559499Z",
     "iopub.status.idle": "2022-11-22T06:39:58.564175Z",
     "shell.execute_reply": "2022-11-22T06:39:58.563186Z"
    },
    "papermill": {
     "duration": 2.431057,
     "end_time": "2022-11-22T06:39:58.566421",
     "exception": false,
     "start_time": "2022-11-22T06:39:56.135364",
     "status": "completed"
    },
    "tags": []
   },
   "outputs": [],
   "source": [
    "#googlenet.compile(\n",
    "#    optimizer='adam'\n",
    "#    , loss = 'categorical_crossentropy'\n",
    "#    , metrics = ['accuracy']\n",
    "#)"
   ]
  },
  {
   "cell_type": "code",
   "execution_count": 73,
   "id": "d65009cc",
   "metadata": {
    "execution": {
     "iopub.execute_input": "2022-11-22T06:40:03.638612Z",
     "iopub.status.busy": "2022-11-22T06:40:03.638177Z",
     "iopub.status.idle": "2022-11-22T06:40:03.642863Z",
     "shell.execute_reply": "2022-11-22T06:40:03.641667Z"
    },
    "papermill": {
     "duration": 2.674408,
     "end_time": "2022-11-22T06:40:03.644969",
     "exception": false,
     "start_time": "2022-11-22T06:40:00.970561",
     "status": "completed"
    },
    "tags": []
   },
   "outputs": [],
   "source": [
    "# initialize callbacks\n",
    "#reduceLR = ReduceLROnPlateau(monitor='val_accuracy', patience=10, verbose= 1, mode='max', factor=  0.2, min_lr = 1e-5)\n",
    "\n",
    "#early_stopping = EarlyStopping(monitor='val_accuracy', patience = 20, verbose=1, mode='max', restore_best_weights= True)\n",
    "\n",
    "#checkpoint = ModelCheckpoint('ggl.weights.hdf5', monitor='val_accuracy', verbose=1,save_best_only=True, mode= 'max')"
   ]
  },
  {
   "cell_type": "code",
   "execution_count": 74,
   "id": "f2d5bd50",
   "metadata": {
    "execution": {
     "iopub.execute_input": "2022-11-22T06:40:08.601249Z",
     "iopub.status.busy": "2022-11-22T06:40:08.600847Z",
     "iopub.status.idle": "2022-11-22T06:40:08.606619Z",
     "shell.execute_reply": "2022-11-22T06:40:08.605564Z"
    },
    "papermill": {
     "duration": 2.526946,
     "end_time": "2022-11-22T06:40:08.609650",
     "exception": false,
     "start_time": "2022-11-22T06:40:06.082704",
     "status": "completed"
    },
    "tags": []
   },
   "outputs": [],
   "source": [
    "# Non-augmentation\n",
    "#train_gen = ImageDataGenerator().flow(X_train, y_train_onehot, batch_size = BATCH_SIZE)\n",
    "#valid_gen = ImageDataGenerator().flow(X_valid, y_valid_onehot, batch_size = BATCH_SIZE)\n",
    "\n",
    "#history_Google = googlenet.fit(\n",
    "#    train_gen\n",
    "#    , steps_per_epoch = TRAIN_STEPS\n",
    "#    , validation_data = valid_gen\n",
    "#    , epochs = EPOCHS\n",
    "#    , callbacks = [reduceLR, early_stopping, checkpoint]\n",
    "#)"
   ]
  },
  {
   "cell_type": "code",
   "execution_count": null,
   "id": "4fc1591f",
   "metadata": {
    "papermill": {
     "duration": 2.981275,
     "end_time": "2022-11-22T06:40:13.936817",
     "exception": false,
     "start_time": "2022-11-22T06:40:10.955542",
     "status": "completed"
    },
    "tags": []
   },
   "outputs": [],
   "source": []
  },
  {
   "cell_type": "markdown",
   "id": "f2994231",
   "metadata": {
    "papermill": {
     "duration": 2.518919,
     "end_time": "2022-11-22T06:40:19.012818",
     "exception": false,
     "start_time": "2022-11-22T06:40:16.493899",
     "status": "completed"
    },
    "tags": []
   },
   "source": [
    "# 모델진단"
   ]
  },
  {
   "cell_type": "code",
   "execution_count": 75,
   "id": "07235bf2",
   "metadata": {
    "execution": {
     "iopub.execute_input": "2022-11-22T06:40:23.796781Z",
     "iopub.status.busy": "2022-11-22T06:40:23.795179Z",
     "iopub.status.idle": "2022-11-22T06:42:24.796147Z",
     "shell.execute_reply": "2022-11-22T06:42:24.794558Z"
    },
    "papermill": {
     "duration": 123.410906,
     "end_time": "2022-11-22T06:42:24.798322",
     "exception": false,
     "start_time": "2022-11-22T06:40:21.387416",
     "status": "completed"
    },
    "tags": []
   },
   "outputs": [
    {
     "name": "stderr",
     "output_type": "stream",
     "text": [
      "100%|██████████| 512/512 [02:00<00:00,  4.23it/s]\n"
     ]
    }
   ],
   "source": [
    "test_y = pd.read_csv(\"../input/intel-mobileodt-cervical-cancer-screening/solution_stg1_release.csv\")\n",
    "test_y.loc[1,['Type_1','Type_2','Type_3']]\n",
    "\n",
    "root_dir = '../input/intel-mobileodt-cervical-cancer-screening'\n",
    "test_dir = os.path.join(root_dir,'test', 'test')\n",
    "\n",
    "test_type = []\n",
    "test_features = []\n",
    "i=0\n",
    "for fn in tqdm(test_y[['image_name']].to_numpy()):\n",
    "    for filename in fn:\n",
    "        filepath = os.path.join(test_dir,filename)\n",
    "        img = cv2.imread(filepath)\n",
    "        resized_img = cv2.resize(img, (128, 128))\n",
    "        test_features.append(np.array(resized_img))\n",
    "        test_type.append(np.array(test_y.loc[i,['Type_1','Type_2','Type_3']]))\n",
    "        i=i+1\n",
    "        \n",
    "#np.save('/kaggle/working/X_test_128', X_valid)\n",
    "#np.save('/kaggle/working/y_test_128', y_valid)"
   ]
  },
  {
   "cell_type": "code",
   "execution_count": 76,
   "id": "f2f4d7e7",
   "metadata": {
    "execution": {
     "iopub.execute_input": "2022-11-22T06:42:29.996948Z",
     "iopub.status.busy": "2022-11-22T06:42:29.996349Z",
     "iopub.status.idle": "2022-11-22T06:42:30.001357Z",
     "shell.execute_reply": "2022-11-22T06:42:30.000277Z"
    },
    "papermill": {
     "duration": 2.466681,
     "end_time": "2022-11-22T06:42:30.004066",
     "exception": false,
     "start_time": "2022-11-22T06:42:27.537385",
     "status": "completed"
    },
    "tags": []
   },
   "outputs": [],
   "source": [
    "#load best weights\n",
    "#vgg16.load_weights('cervicalModel.weights.hdf5')"
   ]
  },
  {
   "cell_type": "code",
   "execution_count": 77,
   "id": "39e0308d",
   "metadata": {
    "execution": {
     "iopub.execute_input": "2022-11-22T06:42:34.965107Z",
     "iopub.status.busy": "2022-11-22T06:42:34.964738Z",
     "iopub.status.idle": "2022-11-22T06:42:34.969223Z",
     "shell.execute_reply": "2022-11-22T06:42:34.968216Z"
    },
    "papermill": {
     "duration": 2.474949,
     "end_time": "2022-11-22T06:42:34.971411",
     "exception": false,
     "start_time": "2022-11-22T06:42:32.496462",
     "status": "completed"
    },
    "tags": []
   },
   "outputs": [],
   "source": [
    "#vgg16.evaluate(test_gen)"
   ]
  },
  {
   "cell_type": "code",
   "execution_count": null,
   "id": "75f615de",
   "metadata": {
    "papermill": {
     "duration": 2.559642,
     "end_time": "2022-11-22T06:42:40.231183",
     "exception": false,
     "start_time": "2022-11-22T06:42:37.671541",
     "status": "completed"
    },
    "tags": []
   },
   "outputs": [],
   "source": []
  },
  {
   "cell_type": "code",
   "execution_count": 78,
   "id": "da2c467f",
   "metadata": {
    "collapsed": false,
    "execution": {
     "iopub.execute_input": "2022-11-22T06:42:45.122981Z",
     "iopub.status.busy": "2022-11-22T06:42:45.122585Z",
     "iopub.status.idle": "2022-11-22T06:42:45.128601Z",
     "shell.execute_reply": "2022-11-22T06:42:45.127489Z"
    },
    "jupyter": {
     "outputs_hidden": false
    },
    "papermill": {
     "duration": 2.451318,
     "end_time": "2022-11-22T06:42:45.130925",
     "exception": false,
     "start_time": "2022-11-22T06:42:42.679607",
     "status": "completed"
    },
    "pycharm": {
     "name": "#%%\n"
    },
    "tags": []
   },
   "outputs": [],
   "source": [
    "#이미지 오류남\n",
    "\n",
    "#stage1 = y_train[y_train == 0].index\n",
    "#stage2 = y_train[y_train == 1].index\n",
    "#stage3 = y_train[y_train == 2].index\n",
    "\n",
    "#\n",
    "\n",
    "#stage1 = np.where(y_train == 0)\n",
    "#type(stage1)\n",
    "#stageq = stage1[0]\n",
    "\n",
    "#stage2 = np.where(y_train == 1)\n",
    "#type(stage2)\n",
    "#stagew = stage2[0]\n",
    "\n",
    "#stage3 = np.where(y_train == 2)\n",
    "#type(stage3)\n",
    "#stagee = stage3[0]\n",
    "\n",
    "#\n",
    "\n",
    "#plt.figure(figsize=(20, 20))\n",
    "\n",
    "#for i in range(16):\n",
    "#    plt.subplot(4, 4, i+1)\n",
    "#    plt.suptitle('Type1 Images', fontsize=20) # 하나의 큰 제목 설정\n",
    "#    plt.imshow(X_train[stageq[i]])\n",
    "#    plt.title('Type1')\n",
    "#    plt.subplots_adjust(hspace=0.5)\n",
    "#    plt.axis(False)\n",
    "#plt.show()\n",
    "\n",
    "#\n",
    "\n",
    "#plt.figure(figsize=(20, 20))\n",
    "\n",
    "#for i in range(16):\n",
    "#    plt.subplot(4, 4, i+1)\n",
    "#    plt.suptitle('type2 Images', fontsize=20) # 하나의 큰 제목 설정\n",
    "#    plt.imshow(X_train[stagew[i]])\n",
    "#    plt.title('type2')\n",
    "#    plt.subplots_adjust(hspace=0.5)\n",
    "#    plt.axis(False)\n",
    "#plt.savefig('type2.png', dpi=300)\n",
    "#plt.show()\n",
    "\n",
    "#\n",
    "\n",
    "#plt.figure(figsize=(20, 20))\n",
    "#\n",
    "#for i in range(16):\n",
    "#    plt.subplot(4, 4, i+1)\n",
    "#    plt.suptitle('type3 Images', fontsize=20) # 하나의 큰 제목 설정\n",
    "#    plt.imshow(X_train[stagee[i]])\n",
    "#    plt.title('type3')\n",
    "#    plt.subplots_adjust(hspace=0.5)\n",
    "#    plt.axis(False)\n",
    "#plt.savefig('type3.png', dpi=300)\n",
    "#plt.show()"
   ]
  },
  {
   "cell_type": "code",
   "execution_count": 79,
   "id": "07eb39e1",
   "metadata": {
    "execution": {
     "iopub.execute_input": "2022-11-22T06:42:50.871745Z",
     "iopub.status.busy": "2022-11-22T06:42:50.871079Z",
     "iopub.status.idle": "2022-11-22T06:42:50.876807Z",
     "shell.execute_reply": "2022-11-22T06:42:50.875789Z"
    },
    "papermill": {
     "duration": 3.200785,
     "end_time": "2022-11-22T06:42:50.879181",
     "exception": false,
     "start_time": "2022-11-22T06:42:47.678396",
     "status": "completed"
    },
    "pycharm": {
     "name": "#%%\n"
    },
    "tags": []
   },
   "outputs": [],
   "source": [
    "# 참고용\n",
    "# double\n",
    "\n",
    "#history_df_cnn = pd.DataFrame(historycnn.history)\n",
    "#history_df_dnn = pd.DataFrame(historydnn.history)\n",
    "\n",
    "#plt.figure(figsize= (15,6))\n",
    "#plt.subplot(1,2,1)\n",
    "#plt.plot(history_df_cnn['accuracy'], label= 'cnn_accuracy' )\n",
    "## plt.plot(history_df_cnn['val_accuracy'], label= 'val_accuracy')\n",
    "#plt.plot(history_df_dnn['accuracy'], label= 'dnn_accuracy', color='limegreen' )\n",
    "## plt.plot(history_df_dnn['val_accuracy'], label= 'val_accuracy', color='limegreen')\n",
    "## history_df[['acc', 'val_acc']]\n",
    "#plt.xlabel('Epochs')\n",
    "#plt.ylabel('Accuracy')\n",
    "#plt.title('Training and Validation Accuracy History')\n",
    "#plt.legend()\n",
    "\n",
    "# display history of loss\n",
    "#plt.subplot(1,2,2)\n",
    "#plt.plot(history_df_cnn['loss'], label= 'cnn_loss')\n",
    "##plt.plot(history_df_cnn['val_loss'], label= 'val_loss')\n",
    "#plt.plot(history_df_dnn['loss'], label= 'dnn_loss', color='limegreen')\n",
    "##plt.plot(history_df_dnn['val_loss'], label= 'val_loss', color='limegreen')\n",
    "# history_df[['loss', 'val_loss']].plot()\n",
    "#plt.xlabel('Epochs')\n",
    "#plt.ylabel('Loss')\n",
    "#plt.title('Training and Validation Loss History')\n",
    "#plt.legend()\n",
    "#plt.savefig('fig2.png', dpi=300)\n",
    "#plt.show()\n"
   ]
  },
  {
   "cell_type": "code",
   "execution_count": 80,
   "id": "73fa1282",
   "metadata": {
    "execution": {
     "iopub.execute_input": "2022-11-22T06:42:55.729218Z",
     "iopub.status.busy": "2022-11-22T06:42:55.728837Z",
     "iopub.status.idle": "2022-11-22T06:42:55.733813Z",
     "shell.execute_reply": "2022-11-22T06:42:55.732718Z"
    },
    "papermill": {
     "duration": 2.428566,
     "end_time": "2022-11-22T06:42:55.736595",
     "exception": false,
     "start_time": "2022-11-22T06:42:53.308029",
     "status": "completed"
    },
    "tags": []
   },
   "outputs": [],
   "source": [
    "#plt.figure(figsize= (6,6))\n",
    "#plt.plot(history_df_cnn['accuracy'], label= 'cnn_accuracy' )\n",
    "##plt.plot(history_df_cnn['val_loss'], label= 'val_loss')\n",
    "##plt.plot(history_df_dnn['loss'], label= 'dnn_loss', color='limegreen')\n",
    "##plt.plot(history_df_dnn['val_loss'], label= 'val_loss', color='limegreen')\n",
    "## history_df[['loss', 'val_loss']].plot()\n",
    "#plt.xlabel('Epochs')\n",
    "#plt.ylabel('Loss')\n",
    "#plt.title('Training and Validation Loss History')\n",
    "#plt.legend()\n",
    "#plt.savefig('cnnaccuracy.png', dpi=300)\n",
    "#plt.show()"
   ]
  },
  {
   "cell_type": "markdown",
   "id": "b9e3eed3",
   "metadata": {
    "papermill": {
     "duration": 2.711211,
     "end_time": "2022-11-22T06:43:00.966720",
     "exception": false,
     "start_time": "2022-11-22T06:42:58.255509",
     "status": "completed"
    },
    "tags": []
   },
   "source": [
    "# test data (2차에 활용)"
   ]
  },
  {
   "cell_type": "code",
   "execution_count": 81,
   "id": "81048c4a",
   "metadata": {
    "execution": {
     "iopub.execute_input": "2022-11-22T06:43:05.907577Z",
     "iopub.status.busy": "2022-11-22T06:43:05.907160Z",
     "iopub.status.idle": "2022-11-22T06:43:05.912087Z",
     "shell.execute_reply": "2022-11-22T06:43:05.911038Z"
    },
    "papermill": {
     "duration": 2.494678,
     "end_time": "2022-11-22T06:43:05.914417",
     "exception": false,
     "start_time": "2022-11-22T06:43:03.419739",
     "status": "completed"
    },
    "tags": []
   },
   "outputs": [],
   "source": [
    "# test data\n",
    "\n",
    "#test_y = pd.read_csv(\"../input/intel-mobileodt-cervical-cancer-screening/solution_stg1_release.csv\")\n",
    "#test_y.loc[1,['Type_1','Type_2','Type_3']]\n",
    "\n",
    "#root_dir = '../input/intel-mobileodt-cervical-cancer-screening'\n",
    "#test_dir = os.path.join(root_dir,'test', 'test')\n",
    "\n",
    "#test_type = []\n",
    "#test_features = []\n",
    "#i=0\n",
    "#for fn in test_y[['image_name']].to_numpy():\n",
    "#    for filename in fn:\n",
    "#        filepath = os.path.join(test_dir,filename)\n",
    "#        #print(filepath)\n",
    "#        img = cv2.imread(filepath)\n",
    "#        resized_img = cv2.resize(img, (180, 180))\n",
    "#        test_features.append(np.array(resized_img))\n",
    "#        test_type.append(np.array(test_y.loc[i,['Type_1','Type_2','Type_3']]))\n",
    "#        i=i+1\n",
    "    \n",
    "#print( len(test_features))"
   ]
  },
  {
   "cell_type": "code",
   "execution_count": 82,
   "id": "0b639796",
   "metadata": {
    "execution": {
     "iopub.execute_input": "2022-11-22T06:43:11.063300Z",
     "iopub.status.busy": "2022-11-22T06:43:11.062885Z",
     "iopub.status.idle": "2022-11-22T06:43:11.067547Z",
     "shell.execute_reply": "2022-11-22T06:43:11.066398Z"
    },
    "papermill": {
     "duration": 2.69434,
     "end_time": "2022-11-22T06:43:11.070269",
     "exception": false,
     "start_time": "2022-11-22T06:43:08.375929",
     "status": "completed"
    },
    "tags": []
   },
   "outputs": [],
   "source": [
    "#test_y = pd.read_csv(\"../input/intel-mobileodt-cervical-cancer-screening/solution_stg1_release.csv\")\n",
    "#test_y.loc[1,['Type_1','Type_2','Type_3']]"
   ]
  },
  {
   "cell_type": "code",
   "execution_count": 83,
   "id": "fd5cd77e",
   "metadata": {
    "execution": {
     "iopub.execute_input": "2022-11-22T06:43:15.958378Z",
     "iopub.status.busy": "2022-11-22T06:43:15.957988Z",
     "iopub.status.idle": "2022-11-22T06:43:15.962739Z",
     "shell.execute_reply": "2022-11-22T06:43:15.961683Z"
    },
    "papermill": {
     "duration": 2.410655,
     "end_time": "2022-11-22T06:43:15.964939",
     "exception": false,
     "start_time": "2022-11-22T06:43:13.554284",
     "status": "completed"
    },
    "tags": []
   },
   "outputs": [],
   "source": [
    "#y_test = test_y.loc[:,['Type_1','Type_2','Type_3']]\n",
    "#y_test\n",
    "#import tensorflow as tf"
   ]
  },
  {
   "cell_type": "code",
   "execution_count": 84,
   "id": "672f75e6",
   "metadata": {
    "execution": {
     "iopub.execute_input": "2022-11-22T06:43:21.390277Z",
     "iopub.status.busy": "2022-11-22T06:43:21.389848Z",
     "iopub.status.idle": "2022-11-22T06:43:21.394615Z",
     "shell.execute_reply": "2022-11-22T06:43:21.393549Z"
    },
    "papermill": {
     "duration": 2.983091,
     "end_time": "2022-11-22T06:43:21.411805",
     "exception": false,
     "start_time": "2022-11-22T06:43:18.428714",
     "status": "completed"
    },
    "tags": []
   },
   "outputs": [],
   "source": [
    "#y_train_onehot"
   ]
  },
  {
   "cell_type": "code",
   "execution_count": 85,
   "id": "b2e9ea64",
   "metadata": {
    "execution": {
     "iopub.execute_input": "2022-11-22T06:43:26.569450Z",
     "iopub.status.busy": "2022-11-22T06:43:26.569039Z",
     "iopub.status.idle": "2022-11-22T06:43:26.573420Z",
     "shell.execute_reply": "2022-11-22T06:43:26.572456Z"
    },
    "papermill": {
     "duration": 2.424194,
     "end_time": "2022-11-22T06:43:26.575925",
     "exception": false,
     "start_time": "2022-11-22T06:43:24.151731",
     "status": "completed"
    },
    "tags": []
   },
   "outputs": [],
   "source": [
    "#print(y_test)\n",
    "#list = []\n",
    "#for d in y_test.index:\n",
    "#    res = y_test.loc[d,:].values.tolist()\n",
    "#    list.append(res)"
   ]
  },
  {
   "cell_type": "code",
   "execution_count": 86,
   "id": "137e0389",
   "metadata": {
    "execution": {
     "iopub.execute_input": "2022-11-22T06:43:31.518605Z",
     "iopub.status.busy": "2022-11-22T06:43:31.518190Z",
     "iopub.status.idle": "2022-11-22T06:43:31.522897Z",
     "shell.execute_reply": "2022-11-22T06:43:31.521826Z"
    },
    "papermill": {
     "duration": 2.507344,
     "end_time": "2022-11-22T06:43:31.525195",
     "exception": false,
     "start_time": "2022-11-22T06:43:29.017851",
     "status": "completed"
    },
    "tags": []
   },
   "outputs": [],
   "source": [
    "#y_test = np.array(list)\n",
    "#y_test"
   ]
  },
  {
   "cell_type": "code",
   "execution_count": 87,
   "id": "cd79bff8",
   "metadata": {
    "execution": {
     "iopub.execute_input": "2022-11-22T06:43:36.684664Z",
     "iopub.status.busy": "2022-11-22T06:43:36.684276Z",
     "iopub.status.idle": "2022-11-22T06:43:36.688724Z",
     "shell.execute_reply": "2022-11-22T06:43:36.687700Z"
    },
    "papermill": {
     "duration": 2.443283,
     "end_time": "2022-11-22T06:43:36.690684",
     "exception": false,
     "start_time": "2022-11-22T06:43:34.247401",
     "status": "completed"
    },
    "tags": []
   },
   "outputs": [],
   "source": [
    "# normalize test features\n",
    "#test_X = np.array(test_features)\n",
    "#X_test = test_X/255"
   ]
  },
  {
   "cell_type": "code",
   "execution_count": 88,
   "id": "873b2b49",
   "metadata": {
    "execution": {
     "iopub.execute_input": "2022-11-22T06:43:41.677950Z",
     "iopub.status.busy": "2022-11-22T06:43:41.677574Z",
     "iopub.status.idle": "2022-11-22T06:43:41.682110Z",
     "shell.execute_reply": "2022-11-22T06:43:41.681119Z"
    },
    "papermill": {
     "duration": 2.494082,
     "end_time": "2022-11-22T06:43:41.684230",
     "exception": false,
     "start_time": "2022-11-22T06:43:39.190148",
     "status": "completed"
    },
    "tags": []
   },
   "outputs": [],
   "source": [
    "#print(cnn.evaluate(X_test, y_test))\n",
    "#print(dnn.evaluate(X_test, y_test))"
   ]
  }
 ],
 "metadata": {
  "kernelspec": {
   "display_name": "Python 3",
   "language": "python",
   "name": "python3"
  },
  "language_info": {
   "codemirror_mode": {
    "name": "ipython",
    "version": 3
   },
   "file_extension": ".py",
   "mimetype": "text/x-python",
   "name": "python",
   "nbconvert_exporter": "python",
   "pygments_lexer": "ipython3",
   "version": "3.7.12"
  },
  "papermill": {
   "default_parameters": {},
   "duration": 4238.012173,
   "end_time": "2022-11-22T06:43:47.775708",
   "environment_variables": {},
   "exception": null,
   "input_path": "__notebook__.ipynb",
   "output_path": "__notebook__.ipynb",
   "parameters": {},
   "start_time": "2022-11-22T05:33:09.763535",
   "version": "2.3.4"
  }
 },
 "nbformat": 4,
 "nbformat_minor": 5
}
