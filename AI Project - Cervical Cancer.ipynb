{
 "cells": [
  {
   "cell_type": "code",
   "execution_count": 1,
   "id": "ed142237",
   "metadata": {
    "collapsed": false,
    "execution": {
     "iopub.execute_input": "2022-11-21T08:26:50.874431Z",
     "iopub.status.busy": "2022-11-21T08:26:50.873589Z",
     "iopub.status.idle": "2022-11-21T08:26:56.987340Z",
     "shell.execute_reply": "2022-11-21T08:26:56.986366Z"
    },
    "jupyter": {
     "outputs_hidden": false
    },
    "papermill": {
     "duration": 6.141242,
     "end_time": "2022-11-21T08:26:56.989827",
     "exception": false,
     "start_time": "2022-11-21T08:26:50.848585",
     "status": "completed"
    },
    "pycharm": {
     "name": "#%%\n"
    },
    "tags": []
   },
   "outputs": [],
   "source": [
    "import numpy as np\n",
    "import pandas as pd\n",
    "\n",
    "from tensorflow import keras\n",
    "\n",
    "from tensorflow.keras.models import Sequential\n",
    "from tensorflow.keras.layers import Activation, Conv2D, MaxPooling2D, Dense, Flatten\n",
    "from tensorflow.keras.layers import Dropout, BatchNormalization \n",
    "from tensorflow.keras.utils import to_categorical\n",
    "\n",
    "from keras.callbacks import ModelCheckpoint\n",
    "\n",
    "import matplotlib.pyplot as plt\n",
    "\n",
    "import seaborn as sns\n",
    "import os\n",
    "import glob\n",
    "import plotly.graph_objects as go\n",
    "import cv2\n",
    "from PIL import Image\n",
    "from PIL import ImageFile\n",
    "from sklearn.model_selection import train_test_split\n",
    "from sklearn.preprocessing import LabelEncoder\n",
    "import tensorflow as tf\n",
    "from keras.preprocessing.image import ImageDataGenerator\n",
    "from keras.utils.np_utils import to_categorical\n",
    "from keras.applications.vgg16 import VGG16\n",
    "from keras.applications.resnet import ResNet50\n",
    "from tensorflow.keras.optimizers import Adam\n",
    "from keras.callbacks import EarlyStopping, ReduceLROnPlateau,ModelCheckpoint \n",
    "from sklearn.metrics import accuracy_score, confusion_matrix, classification_report\n",
    "import warnings\n",
    "warnings.filterwarnings(\"ignore\")\n",
    "ImageFile.LOAD_TRUNCATED_IMAGES = True\n",
    "\n",
    "from tqdm import tqdm"
   ]
  },
  {
   "cell_type": "markdown",
   "id": "569a032d",
   "metadata": {
    "papermill": {
     "duration": 0.015808,
     "end_time": "2022-11-21T08:26:57.022211",
     "exception": false,
     "start_time": "2022-11-21T08:26:57.006403",
     "status": "completed"
    },
    "tags": []
   },
   "source": [
    "# 데이터"
   ]
  },
  {
   "cell_type": "code",
   "execution_count": 2,
   "id": "a7b552a5",
   "metadata": {
    "execution": {
     "iopub.execute_input": "2022-11-21T08:26:57.056241Z",
     "iopub.status.busy": "2022-11-21T08:26:57.055108Z",
     "iopub.status.idle": "2022-11-21T08:26:57.059611Z",
     "shell.execute_reply": "2022-11-21T08:26:57.058674Z"
    },
    "papermill": {
     "duration": 0.023496,
     "end_time": "2022-11-21T08:26:57.061620",
     "exception": false,
     "start_time": "2022-11-21T08:26:57.038124",
     "status": "completed"
    },
    "tags": []
   },
   "outputs": [],
   "source": [
    "# 사용안하는듯\n",
    "#label = pd.read_csv(\"../input/intel-mobileodt-cervical-cancer-screening/fixed_labels_v2.csv\")\n",
    "#label"
   ]
  },
  {
   "cell_type": "code",
   "execution_count": 3,
   "id": "d9873215",
   "metadata": {
    "execution": {
     "iopub.execute_input": "2022-11-21T08:26:57.094968Z",
     "iopub.status.busy": "2022-11-21T08:26:57.094092Z",
     "iopub.status.idle": "2022-11-21T08:26:58.278827Z",
     "shell.execute_reply": "2022-11-21T08:26:58.277788Z"
    },
    "papermill": {
     "duration": 1.203987,
     "end_time": "2022-11-21T08:26:58.281330",
     "exception": false,
     "start_time": "2022-11-21T08:26:57.077343",
     "status": "completed"
    },
    "tags": []
   },
   "outputs": [
    {
     "name": "stdout",
     "output_type": "stream",
     "text": [
      "Type 1 files for training: 1441 \n",
      "Type 2 files for training: 4348\n",
      "Type 3 files for training: 2426\n"
     ]
    }
   ],
   "source": [
    "root_dir = '../input/intel-mobileodt-cervical-cancer-screening'\n",
    "train_dir = os.path.join(root_dir,'train', 'train')\n",
    "\n",
    "type1_dir = os.path.join(train_dir, 'Type_1')\n",
    "type2_dir = os.path.join(train_dir, 'Type_2')\n",
    "type3_dir = os.path.join(train_dir, 'Type_3')\n",
    "\n",
    "train_type1_files = glob.glob(type1_dir+'/*.jpg')\n",
    "train_type2_files = glob.glob(type2_dir+'/*.jpg')\n",
    "train_type3_files = glob.glob(type3_dir+'/*.jpg')\n",
    "\n",
    "added_type1_files  =  glob.glob(os.path.join(root_dir, \"additional_Type_1_v2\", \"Type_1\")+'/*.jpg')\n",
    "added_type2_files  =  glob.glob(os.path.join(root_dir, \"additional_Type_2_v2\", \"Type_2\")+'/*.jpg')\n",
    "added_type3_files  =  glob.glob(os.path.join(root_dir, \"additional_Type_3_v2\", \"Type_3\")+'/*.jpg')\n",
    "\n",
    "type1_files = train_type1_files + added_type1_files\n",
    "type2_files = train_type2_files + added_type2_files\n",
    "type3_files = train_type3_files + added_type3_files\n",
    "\n",
    "print(f'''Type 1 files for training: {len(type1_files)} \n",
    "Type 2 files for training: {len(type2_files)}\n",
    "Type 3 files for training: {len(type3_files)}''' )"
   ]
  },
  {
   "cell_type": "code",
   "execution_count": 4,
   "id": "3cfbffac",
   "metadata": {
    "execution": {
     "iopub.execute_input": "2022-11-21T08:26:58.315195Z",
     "iopub.status.busy": "2022-11-21T08:26:58.314267Z",
     "iopub.status.idle": "2022-11-21T08:26:58.318955Z",
     "shell.execute_reply": "2022-11-21T08:26:58.318111Z"
    },
    "papermill": {
     "duration": 0.023324,
     "end_time": "2022-11-21T08:26:58.320800",
     "exception": false,
     "start_time": "2022-11-21T08:26:58.297476",
     "status": "completed"
    },
    "tags": []
   },
   "outputs": [],
   "source": [
    "#files = {'filepath': type1_files + type2_files + type3_files,\n",
    "#          'label': ['Type 1']* len(type1_files) + ['Type 2']* len(type2_files) + ['Type 3']* len(type3_files)}\n",
    "#\n",
    "#files_df = pd.DataFrame(files).sample(frac=1, random_state= 1).reset_index(drop=True)\n",
    "#files_df"
   ]
  },
  {
   "cell_type": "code",
   "execution_count": 5,
   "id": "d4a69cd0",
   "metadata": {
    "execution": {
     "iopub.execute_input": "2022-11-21T08:26:58.355186Z",
     "iopub.status.busy": "2022-11-21T08:26:58.354266Z",
     "iopub.status.idle": "2022-11-21T08:26:58.358969Z",
     "shell.execute_reply": "2022-11-21T08:26:58.357912Z"
    },
    "papermill": {
     "duration": 0.02396,
     "end_time": "2022-11-21T08:26:58.361113",
     "exception": false,
     "start_time": "2022-11-21T08:26:58.337153",
     "status": "completed"
    },
    "tags": []
   },
   "outputs": [],
   "source": [
    "#bad_files = []\n",
    "#for path in tqdm(files_df['filepath'].values):\n",
    "#    try:\n",
    "#        img = Image.open(path)\n",
    "#    except:\n",
    "#        index = files_df[files_df['filepath']==path].index.values[0]\n",
    "#        bad_files.append(index)"
   ]
  },
  {
   "cell_type": "code",
   "execution_count": 6,
   "id": "bbd01ca6",
   "metadata": {
    "execution": {
     "iopub.execute_input": "2022-11-21T08:26:58.395049Z",
     "iopub.status.busy": "2022-11-21T08:26:58.394227Z",
     "iopub.status.idle": "2022-11-21T08:26:58.398426Z",
     "shell.execute_reply": "2022-11-21T08:26:58.397537Z"
    },
    "papermill": {
     "duration": 0.023411,
     "end_time": "2022-11-21T08:26:58.400474",
     "exception": false,
     "start_time": "2022-11-21T08:26:58.377063",
     "status": "completed"
    },
    "tags": []
   },
   "outputs": [],
   "source": [
    "#bad_files\n",
    "#files_df.drop(bad_files, inplace=True)"
   ]
  },
  {
   "cell_type": "code",
   "execution_count": 7,
   "id": "fcf1fd04",
   "metadata": {
    "execution": {
     "iopub.execute_input": "2022-11-21T08:26:58.434071Z",
     "iopub.status.busy": "2022-11-21T08:26:58.433246Z",
     "iopub.status.idle": "2022-11-21T08:26:58.437409Z",
     "shell.execute_reply": "2022-11-21T08:26:58.436527Z"
    },
    "papermill": {
     "duration": 0.02276,
     "end_time": "2022-11-21T08:26:58.439338",
     "exception": false,
     "start_time": "2022-11-21T08:26:58.416578",
     "status": "completed"
    },
    "tags": []
   },
   "outputs": [],
   "source": [
    "# save csv (files_df)\n",
    "#files_df.to_csv('/kaggle/working/dropfiles.csv', sep=',')"
   ]
  },
  {
   "cell_type": "code",
   "execution_count": 8,
   "id": "838df3fe",
   "metadata": {
    "execution": {
     "iopub.execute_input": "2022-11-21T08:26:58.472655Z",
     "iopub.status.busy": "2022-11-21T08:26:58.471974Z",
     "iopub.status.idle": "2022-11-21T08:26:58.531875Z",
     "shell.execute_reply": "2022-11-21T08:26:58.531045Z"
    },
    "papermill": {
     "duration": 0.07867,
     "end_time": "2022-11-21T08:26:58.533962",
     "exception": false,
     "start_time": "2022-11-21T08:26:58.455292",
     "status": "completed"
    },
    "tags": []
   },
   "outputs": [
    {
     "data": {
      "text/html": [
       "<div>\n",
       "<style scoped>\n",
       "    .dataframe tbody tr th:only-of-type {\n",
       "        vertical-align: middle;\n",
       "    }\n",
       "\n",
       "    .dataframe tbody tr th {\n",
       "        vertical-align: top;\n",
       "    }\n",
       "\n",
       "    .dataframe thead th {\n",
       "        text-align: right;\n",
       "    }\n",
       "</style>\n",
       "<table border=\"1\" class=\"dataframe\">\n",
       "  <thead>\n",
       "    <tr style=\"text-align: right;\">\n",
       "      <th></th>\n",
       "      <th>filepath</th>\n",
       "      <th>label</th>\n",
       "    </tr>\n",
       "  </thead>\n",
       "  <tbody>\n",
       "    <tr>\n",
       "      <th>0</th>\n",
       "      <td>../input/intel-mobileodt-cervical-cancer-scree...</td>\n",
       "      <td>Type 1</td>\n",
       "    </tr>\n",
       "    <tr>\n",
       "      <th>1</th>\n",
       "      <td>../input/intel-mobileodt-cervical-cancer-scree...</td>\n",
       "      <td>Type 3</td>\n",
       "    </tr>\n",
       "    <tr>\n",
       "      <th>2</th>\n",
       "      <td>../input/intel-mobileodt-cervical-cancer-scree...</td>\n",
       "      <td>Type 1</td>\n",
       "    </tr>\n",
       "    <tr>\n",
       "      <th>3</th>\n",
       "      <td>../input/intel-mobileodt-cervical-cancer-scree...</td>\n",
       "      <td>Type 2</td>\n",
       "    </tr>\n",
       "    <tr>\n",
       "      <th>4</th>\n",
       "      <td>../input/intel-mobileodt-cervical-cancer-scree...</td>\n",
       "      <td>Type 3</td>\n",
       "    </tr>\n",
       "    <tr>\n",
       "      <th>...</th>\n",
       "      <td>...</td>\n",
       "      <td>...</td>\n",
       "    </tr>\n",
       "    <tr>\n",
       "      <th>8207</th>\n",
       "      <td>../input/intel-mobileodt-cervical-cancer-scree...</td>\n",
       "      <td>Type 2</td>\n",
       "    </tr>\n",
       "    <tr>\n",
       "      <th>8208</th>\n",
       "      <td>../input/intel-mobileodt-cervical-cancer-scree...</td>\n",
       "      <td>Type 3</td>\n",
       "    </tr>\n",
       "    <tr>\n",
       "      <th>8209</th>\n",
       "      <td>../input/intel-mobileodt-cervical-cancer-scree...</td>\n",
       "      <td>Type 1</td>\n",
       "    </tr>\n",
       "    <tr>\n",
       "      <th>8210</th>\n",
       "      <td>../input/intel-mobileodt-cervical-cancer-scree...</td>\n",
       "      <td>Type 2</td>\n",
       "    </tr>\n",
       "    <tr>\n",
       "      <th>8211</th>\n",
       "      <td>../input/intel-mobileodt-cervical-cancer-scree...</td>\n",
       "      <td>Type 1</td>\n",
       "    </tr>\n",
       "  </tbody>\n",
       "</table>\n",
       "<p>8212 rows × 2 columns</p>\n",
       "</div>"
      ],
      "text/plain": [
       "                                               filepath   label\n",
       "0     ../input/intel-mobileodt-cervical-cancer-scree...  Type 1\n",
       "1     ../input/intel-mobileodt-cervical-cancer-scree...  Type 3\n",
       "2     ../input/intel-mobileodt-cervical-cancer-scree...  Type 1\n",
       "3     ../input/intel-mobileodt-cervical-cancer-scree...  Type 2\n",
       "4     ../input/intel-mobileodt-cervical-cancer-scree...  Type 3\n",
       "...                                                 ...     ...\n",
       "8207  ../input/intel-mobileodt-cervical-cancer-scree...  Type 2\n",
       "8208  ../input/intel-mobileodt-cervical-cancer-scree...  Type 3\n",
       "8209  ../input/intel-mobileodt-cervical-cancer-scree...  Type 1\n",
       "8210  ../input/intel-mobileodt-cervical-cancer-scree...  Type 2\n",
       "8211  ../input/intel-mobileodt-cervical-cancer-scree...  Type 1\n",
       "\n",
       "[8212 rows x 2 columns]"
      ]
     },
     "execution_count": 8,
     "metadata": {},
     "output_type": "execute_result"
    }
   ],
   "source": [
    "# 정리된 files_df 사용\n",
    "files_df = pd.read_csv('../input/cervical-dropfiles/dropfiles.csv', sep=',').drop('Unnamed: 0', axis=1)\n",
    "files_df"
   ]
  },
  {
   "cell_type": "code",
   "execution_count": 9,
   "id": "a0a47660",
   "metadata": {
    "execution": {
     "iopub.execute_input": "2022-11-21T08:26:58.567807Z",
     "iopub.status.busy": "2022-11-21T08:26:58.566986Z",
     "iopub.status.idle": "2022-11-21T08:26:58.578605Z",
     "shell.execute_reply": "2022-11-21T08:26:58.577650Z"
    },
    "papermill": {
     "duration": 0.030443,
     "end_time": "2022-11-21T08:26:58.580554",
     "exception": false,
     "start_time": "2022-11-21T08:26:58.550111",
     "status": "completed"
    },
    "tags": []
   },
   "outputs": [
    {
     "data": {
      "text/html": [
       "<div>\n",
       "<style scoped>\n",
       "    .dataframe tbody tr th:only-of-type {\n",
       "        vertical-align: middle;\n",
       "    }\n",
       "\n",
       "    .dataframe tbody tr th {\n",
       "        vertical-align: top;\n",
       "    }\n",
       "\n",
       "    .dataframe thead th {\n",
       "        text-align: right;\n",
       "    }\n",
       "</style>\n",
       "<table border=\"1\" class=\"dataframe\">\n",
       "  <thead>\n",
       "    <tr style=\"text-align: right;\">\n",
       "      <th></th>\n",
       "      <th>Num_Values</th>\n",
       "    </tr>\n",
       "  </thead>\n",
       "  <tbody>\n",
       "    <tr>\n",
       "      <th>Type 2</th>\n",
       "      <td>4346</td>\n",
       "    </tr>\n",
       "    <tr>\n",
       "      <th>Type 3</th>\n",
       "      <td>2426</td>\n",
       "    </tr>\n",
       "    <tr>\n",
       "      <th>Type 1</th>\n",
       "      <td>1440</td>\n",
       "    </tr>\n",
       "  </tbody>\n",
       "</table>\n",
       "</div>"
      ],
      "text/plain": [
       "        Num_Values\n",
       "Type 2        4346\n",
       "Type 3        2426\n",
       "Type 1        1440"
      ]
     },
     "execution_count": 9,
     "metadata": {},
     "output_type": "execute_result"
    }
   ],
   "source": [
    "# get count of each type \n",
    "type_count = pd.DataFrame(files_df['label'].value_counts()).rename(columns= {'label': 'Num_Values'})\n",
    "type_count"
   ]
  },
  {
   "cell_type": "code",
   "execution_count": 10,
   "id": "2223dc77",
   "metadata": {
    "collapsed": false,
    "execution": {
     "iopub.execute_input": "2022-11-21T08:26:58.614565Z",
     "iopub.status.busy": "2022-11-21T08:26:58.613702Z",
     "iopub.status.idle": "2022-11-21T08:26:58.818785Z",
     "shell.execute_reply": "2022-11-21T08:26:58.817760Z"
    },
    "jupyter": {
     "outputs_hidden": false
    },
    "papermill": {
     "duration": 0.224296,
     "end_time": "2022-11-21T08:26:58.821059",
     "exception": false,
     "start_time": "2022-11-21T08:26:58.596763",
     "status": "completed"
    },
    "pycharm": {
     "name": "#%%\n"
    },
    "tags": []
   },
   "outputs": [
    {
     "data": {
      "image/png": "[encoded data removed]",
      "text/plain": [
       "<Figure size 1080x432 with 1 Axes>"
      ]
     },
     "metadata": {
      "needs_background": "light"
     },
     "output_type": "display_data"
    }
   ],
   "source": [
    "plt.figure(figsize = (15, 6))\n",
    "sns.barplot(x= type_count['Num_Values'], y= type_count.index.to_list())\n",
    "plt.title('Type Distribution')\n",
    "plt.grid(True)\n",
    "plt.show()"
   ]
  },
  {
   "cell_type": "code",
   "execution_count": 11,
   "id": "c4a44e42",
   "metadata": {
    "execution": {
     "iopub.execute_input": "2022-11-21T08:26:58.855955Z",
     "iopub.status.busy": "2022-11-21T08:26:58.855135Z",
     "iopub.status.idle": "2022-11-21T08:26:58.859402Z",
     "shell.execute_reply": "2022-11-21T08:26:58.858591Z"
    },
    "papermill": {
     "duration": 0.02354,
     "end_time": "2022-11-21T08:26:58.861340",
     "exception": false,
     "start_time": "2022-11-21T08:26:58.837800",
     "status": "completed"
    },
    "tags": []
   },
   "outputs": [],
   "source": [
    "#pie chart\n",
    "\n",
    "#pie_plot = go.Pie(labels= type_count.index.to_list(), values= type_count.values.flatten(),\n",
    "#                 hole= 0.2, text= type_count.index.to_list(), textposition='auto')\n",
    "#fig = go.Figure([pie_plot])\n",
    "#fig.update_layout(title_text='Pie Chart of Type Distribution')\n",
    "#fig.show()"
   ]
  },
  {
   "cell_type": "markdown",
   "id": "95595fed",
   "metadata": {
    "papermill": {
     "duration": 0.016126,
     "end_time": "2022-11-21T08:26:58.893837",
     "exception": false,
     "start_time": "2022-11-21T08:26:58.877711",
     "status": "completed"
    },
    "tags": []
   },
   "source": [
    "# 데이터 분리"
   ]
  },
  {
   "cell_type": "code",
   "execution_count": 12,
   "id": "4003bea4",
   "metadata": {
    "execution": {
     "iopub.execute_input": "2022-11-21T08:26:58.928243Z",
     "iopub.status.busy": "2022-11-21T08:26:58.927427Z",
     "iopub.status.idle": "2022-11-21T08:26:58.941331Z",
     "shell.execute_reply": "2022-11-21T08:26:58.940280Z"
    },
    "papermill": {
     "duration": 0.033707,
     "end_time": "2022-11-21T08:26:58.943868",
     "exception": false,
     "start_time": "2022-11-21T08:26:58.910161",
     "status": "completed"
    },
    "tags": []
   },
   "outputs": [
    {
     "name": "stdout",
     "output_type": "stream",
     "text": [
      "6569 1643\n"
     ]
    }
   ],
   "source": [
    "# Train / Validation\n",
    "\n",
    "train_df, valid_df = train_test_split(files_df, test_size = 0.2, stratify = files_df['label'], random_state = 1234)\n",
    "\n",
    "print(len(train_df), len(valid_df))"
   ]
  },
  {
   "cell_type": "code",
   "execution_count": 13,
   "id": "81c267f2",
   "metadata": {
    "execution": {
     "iopub.execute_input": "2022-11-21T08:26:58.978840Z",
     "iopub.status.busy": "2022-11-21T08:26:58.977950Z",
     "iopub.status.idle": "2022-11-21T08:26:58.984898Z",
     "shell.execute_reply": "2022-11-21T08:26:58.984067Z"
    },
    "papermill": {
     "duration": 0.026439,
     "end_time": "2022-11-21T08:26:58.986941",
     "exception": false,
     "start_time": "2022-11-21T08:26:58.960502",
     "status": "completed"
    },
    "tags": []
   },
   "outputs": [],
   "source": [
    "X_train = train_df[['filepath']]\n",
    "y_train = train_df[['label']]\n",
    "X_train = X_train.reset_index(drop=True)\n",
    "y_train = y_train.reset_index(drop=True)"
   ]
  },
  {
   "cell_type": "code",
   "execution_count": 14,
   "id": "e3bca574",
   "metadata": {
    "execution": {
     "iopub.execute_input": "2022-11-21T08:26:59.021397Z",
     "iopub.status.busy": "2022-11-21T08:26:59.020547Z",
     "iopub.status.idle": "2022-11-21T08:26:59.028526Z",
     "shell.execute_reply": "2022-11-21T08:26:59.027187Z"
    },
    "papermill": {
     "duration": 0.027789,
     "end_time": "2022-11-21T08:26:59.031108",
     "exception": false,
     "start_time": "2022-11-21T08:26:59.003319",
     "status": "completed"
    },
    "tags": []
   },
   "outputs": [
    {
     "name": "stdout",
     "output_type": "stream",
     "text": [
      "6569 6569 1643 1643\n"
     ]
    }
   ],
   "source": [
    "X_valid = valid_df[['filepath']].reset_index(drop=True)\n",
    "y_valid = valid_df[['label']].reset_index(drop=True)\n",
    "\n",
    "print(len(X_train), len(y_train), len(X_valid),len(y_valid))"
   ]
  },
  {
   "cell_type": "markdown",
   "id": "2cce94c0",
   "metadata": {
    "papermill": {
     "duration": 0.016438,
     "end_time": "2022-11-21T08:26:59.064355",
     "exception": false,
     "start_time": "2022-11-21T08:26:59.047917",
     "status": "completed"
    },
    "tags": []
   },
   "source": [
    "# 데이터 전처리"
   ]
  },
  {
   "cell_type": "code",
   "execution_count": 15,
   "id": "c0a08d38",
   "metadata": {
    "execution": {
     "iopub.execute_input": "2022-11-21T08:26:59.099049Z",
     "iopub.status.busy": "2022-11-21T08:26:59.098264Z",
     "iopub.status.idle": "2022-11-21T08:26:59.304145Z",
     "shell.execute_reply": "2022-11-21T08:26:59.302981Z"
    },
    "papermill": {
     "duration": 0.225939,
     "end_time": "2022-11-21T08:26:59.306756",
     "exception": false,
     "start_time": "2022-11-21T08:26:59.080817",
     "status": "completed"
    },
    "tags": []
   },
   "outputs": [
    {
     "data": {
      "text/plain": [
       "(4160, 3120, 3)"
      ]
     },
     "execution_count": 15,
     "metadata": {},
     "output_type": "execute_result"
    }
   ],
   "source": [
    "# check original image size\n",
    "\n",
    "(cv2.imread(train_df['filepath'].values[0])).shape"
   ]
  },
  {
   "cell_type": "code",
   "execution_count": 16,
   "id": "b1aa5488",
   "metadata": {
    "execution": {
     "iopub.execute_input": "2022-11-21T08:26:59.341632Z",
     "iopub.status.busy": "2022-11-21T08:26:59.341337Z",
     "iopub.status.idle": "2022-11-21T08:27:03.941846Z",
     "shell.execute_reply": "2022-11-21T08:27:03.940077Z"
    },
    "papermill": {
     "duration": 4.630476,
     "end_time": "2022-11-21T08:27:03.954089",
     "exception": false,
     "start_time": "2022-11-21T08:26:59.323613",
     "status": "completed"
    },
    "tags": []
   },
   "outputs": [
    {
     "data": {
      "text/plain": [
       "Text(0.5, 1.0, 'Resizing')"
      ]
     },
     "execution_count": 16,
     "metadata": {},
     "output_type": "execute_result"
    },
    {
     "data": {
      "image/png": "[encoded data removed]",
      "text/plain": [
       "<Figure size 1080x432 with 4 Axes>"
      ]
     },
     "metadata": {
      "needs_background": "light"
     },
     "output_type": "display_data"
    }
   ],
   "source": [
    "# load image\n",
    "\n",
    "fig = plt.figure(figsize= (15,6))\n",
    "fig.add_subplot(1,4,1)\n",
    "plt.imshow(cv2.imread(train_df['filepath'].values[0]))\n",
    "plt.axis(False)\n",
    "plt.title('Original')\n",
    "\n",
    "fig.add_subplot(1,4,2)\n",
    "plt.imshow(cv2.cvtColor(cv2.imread(train_df['filepath'].values[0]),cv2.COLOR_RGB2BGR))\n",
    "plt.axis(False)\n",
    "plt.title('Color edit')\n",
    "\n",
    "fig.add_subplot(1,4,3)\n",
    "plt.imshow(cv2.resize(cv2.cvtColor(cv2.imread(train_df['filepath'].values[0]),cv2.COLOR_RGB2BGR),(224,224)))\n",
    "plt.axis(False)\n",
    "plt.title('Resizing')\n",
    "\n",
    "fig.add_subplot(1,4,4)\n",
    "plt.imshow(cv2.resize(cv2.cvtColor(cv2.imread(train_df['filepath'].values[0]),cv2.COLOR_RGB2BGR),(128,128)))\n",
    "plt.axis(False)\n",
    "plt.title('Resizing')"
   ]
  },
  {
   "cell_type": "code",
   "execution_count": 17,
   "id": "fdfe738a",
   "metadata": {
    "execution": {
     "iopub.execute_input": "2022-11-21T08:27:04.026447Z",
     "iopub.status.busy": "2022-11-21T08:27:04.025922Z",
     "iopub.status.idle": "2022-11-21T08:27:04.030857Z",
     "shell.execute_reply": "2022-11-21T08:27:04.029500Z"
    },
    "papermill": {
     "duration": 0.041033,
     "end_time": "2022-11-21T08:27:04.034778",
     "exception": false,
     "start_time": "2022-11-21T08:27:03.993745",
     "status": "completed"
    },
    "tags": []
   },
   "outputs": [],
   "source": [
    "# train data\n",
    "\n",
    "#features = []\n",
    "#f_app = features.append\n",
    "#path = train_df['filepath'].values\n",
    "#labels = train_df['label'].values\n",
    "#for p in tqdm(path):\n",
    "#    image = cv2.imread(p)\n",
    "#    image = cv2.cvtColor(image, cv2.COLOR_RGB2BGR)\n",
    "#    re_image = cv2.resize(image, (224,224))\n",
    "#    f_app(np.array(re_image))\n",
    "\n",
    "#X_train = np.array(features)\n",
    "#y_train = np.array(labels)"
   ]
  },
  {
   "cell_type": "code",
   "execution_count": 18,
   "id": "102d771c",
   "metadata": {
    "execution": {
     "iopub.execute_input": "2022-11-21T08:27:04.099791Z",
     "iopub.status.busy": "2022-11-21T08:27:04.099433Z",
     "iopub.status.idle": "2022-11-21T08:27:04.104231Z",
     "shell.execute_reply": "2022-11-21T08:27:04.103048Z"
    },
    "papermill": {
     "duration": 0.039367,
     "end_time": "2022-11-21T08:27:04.107102",
     "exception": false,
     "start_time": "2022-11-21T08:27:04.067735",
     "status": "completed"
    },
    "tags": []
   },
   "outputs": [],
   "source": [
    "# save train data as npy files\n",
    "\n",
    "#np.save('/kaggle/working/X_train_224', X_train)\n",
    "#np.save('/kaggle/working/y_train_224', y_train)"
   ]
  },
  {
   "cell_type": "code",
   "execution_count": 19,
   "id": "52e26a40",
   "metadata": {
    "execution": {
     "iopub.execute_input": "2022-11-21T08:27:04.168987Z",
     "iopub.status.busy": "2022-11-21T08:27:04.168477Z",
     "iopub.status.idle": "2022-11-21T08:27:07.359990Z",
     "shell.execute_reply": "2022-11-21T08:27:07.359025Z"
    },
    "papermill": {
     "duration": 3.224618,
     "end_time": "2022-11-21T08:27:07.362425",
     "exception": false,
     "start_time": "2022-11-21T08:27:04.137807",
     "status": "completed"
    },
    "tags": []
   },
   "outputs": [],
   "source": [
    "# use npy files\n",
    "\n",
    "X_train = np.load('../input/data128/X_train_128.npy')\n",
    "y_train = np.load('../input/data128/y_train_128.npy', allow_pickle=True)"
   ]
  },
  {
   "cell_type": "code",
   "execution_count": 20,
   "id": "d9db68c1",
   "metadata": {
    "execution": {
     "iopub.execute_input": "2022-11-21T08:27:07.406292Z",
     "iopub.status.busy": "2022-11-21T08:27:07.404713Z",
     "iopub.status.idle": "2022-11-21T08:27:07.410435Z",
     "shell.execute_reply": "2022-11-21T08:27:07.409589Z"
    },
    "papermill": {
     "duration": 0.029266,
     "end_time": "2022-11-21T08:27:07.412408",
     "exception": false,
     "start_time": "2022-11-21T08:27:07.383142",
     "status": "completed"
    },
    "tags": []
   },
   "outputs": [],
   "source": [
    "# 소요시간줄이는코드 (추가 수정 필요)\n",
    "#path = train_df['filepath'].values\n",
    "#labels = train_df['label'].values\n",
    "#features = [np.array(cv2.resize(cv2.cvtColor(cv2.imread(p),cv2.COLOR_RGB2BGR),(180,180))) for p in tqdm(path)]"
   ]
  },
  {
   "cell_type": "code",
   "execution_count": 21,
   "id": "88ec76bd",
   "metadata": {
    "execution": {
     "iopub.execute_input": "2022-11-21T08:27:07.454003Z",
     "iopub.status.busy": "2022-11-21T08:27:07.453731Z",
     "iopub.status.idle": "2022-11-21T08:27:07.457698Z",
     "shell.execute_reply": "2022-11-21T08:27:07.456778Z"
    },
    "papermill": {
     "duration": 0.027171,
     "end_time": "2022-11-21T08:27:07.459783",
     "exception": false,
     "start_time": "2022-11-21T08:27:07.432612",
     "status": "completed"
    },
    "tags": []
   },
   "outputs": [],
   "source": [
    "# validation data\n",
    "\n",
    "#features = []\n",
    "#f_app = features.append\n",
    "#path = valid_df['filepath'].values\n",
    "#labels = valid_df['label'].values\n",
    "#for p in tqdm(path):\n",
    "#    image = cv2.imread(p)\n",
    "#    image = cv2.cvtColor(image, cv2.COLOR_RGB2BGR)\n",
    "#    re_image = cv2.resize(image, (224,224))\n",
    "#    f_app(np.array(re_image))\n",
    "\n",
    "#X_valid = np.array(features)\n",
    "#y_valid = np.array(labels)"
   ]
  },
  {
   "cell_type": "code",
   "execution_count": 22,
   "id": "dff5ba3c",
   "metadata": {
    "execution": {
     "iopub.execute_input": "2022-11-21T08:27:07.501390Z",
     "iopub.status.busy": "2022-11-21T08:27:07.501115Z",
     "iopub.status.idle": "2022-11-21T08:27:07.506242Z",
     "shell.execute_reply": "2022-11-21T08:27:07.505413Z"
    },
    "papermill": {
     "duration": 0.028518,
     "end_time": "2022-11-21T08:27:07.508632",
     "exception": false,
     "start_time": "2022-11-21T08:27:07.480114",
     "status": "completed"
    },
    "tags": []
   },
   "outputs": [],
   "source": [
    "# save validation data as npy files\n",
    "\n",
    "#np.save('/kaggle/working/X_valid_224', X_valid)\n",
    "#np.save('/kaggle/working/y_valid_224', y_valid)"
   ]
  },
  {
   "cell_type": "code",
   "execution_count": 23,
   "id": "7520fe6c",
   "metadata": {
    "execution": {
     "iopub.execute_input": "2022-11-21T08:27:07.549964Z",
     "iopub.status.busy": "2022-11-21T08:27:07.549698Z",
     "iopub.status.idle": "2022-11-21T08:27:08.236149Z",
     "shell.execute_reply": "2022-11-21T08:27:08.235166Z"
    },
    "papermill": {
     "duration": 0.709827,
     "end_time": "2022-11-21T08:27:08.238592",
     "exception": false,
     "start_time": "2022-11-21T08:27:07.528765",
     "status": "completed"
    },
    "tags": []
   },
   "outputs": [],
   "source": [
    "# use npy files\n",
    "\n",
    "X_valid = np.load('../input/data128/X_valid_128.npy', allow_pickle=True)\n",
    "y_valid = np.load('../input/data128/y_valid_128.npy', allow_pickle=True)"
   ]
  },
  {
   "cell_type": "code",
   "execution_count": 24,
   "id": "bb516ebf",
   "metadata": {
    "execution": {
     "iopub.execute_input": "2022-11-21T08:27:08.281581Z",
     "iopub.status.busy": "2022-11-21T08:27:08.281253Z",
     "iopub.status.idle": "2022-11-21T08:27:08.289101Z",
     "shell.execute_reply": "2022-11-21T08:27:08.287211Z"
    },
    "papermill": {
     "duration": 0.031243,
     "end_time": "2022-11-21T08:27:08.291003",
     "exception": false,
     "start_time": "2022-11-21T08:27:08.259760",
     "status": "completed"
    },
    "tags": []
   },
   "outputs": [
    {
     "data": {
      "text/plain": [
       "array([[[ 71,  81,  90],\n",
       "        [ 79,  89,  97],\n",
       "        [ 88, 101, 106],\n",
       "        ...,\n",
       "        [ 87,  57,  81],\n",
       "        [ 90,  58,  82],\n",
       "        [ 87,  55,  78]],\n",
       "\n",
       "       [[ 82,  89,  97],\n",
       "        [ 88,  95, 101],\n",
       "        [ 96, 107, 111],\n",
       "        ...,\n",
       "        [100,  66,  93],\n",
       "        [ 99,  65,  92],\n",
       "        [ 93,  60,  88]],\n",
       "\n",
       "       [[ 79,  83,  94],\n",
       "        [ 93,  98, 104],\n",
       "        [107, 114, 120],\n",
       "        ...,\n",
       "        [102,  67, 100],\n",
       "        [ 99,  64,  96],\n",
       "        [ 98,  63,  93]],\n",
       "\n",
       "       ...,\n",
       "\n",
       "       [[ 94,  62,  86],\n",
       "        [ 75,  47,  69],\n",
       "        [ 64,  43,  58],\n",
       "        ...,\n",
       "        [ 70,  37,  44],\n",
       "        [ 69,  37,  48],\n",
       "        [ 67,  36,  51]],\n",
       "\n",
       "       [[110,  74, 100],\n",
       "        [ 89,  57,  81],\n",
       "        [ 77,  49,  71],\n",
       "        ...,\n",
       "        [ 53,  24,  28],\n",
       "        [ 60,  30,  40],\n",
       "        [ 65,  36,  54]],\n",
       "\n",
       "       [[120,  84, 110],\n",
       "        [108,  75,  99],\n",
       "        [ 95,  63,  87],\n",
       "        ...,\n",
       "        [ 51,  23,  35],\n",
       "        [ 60,  29,  47],\n",
       "        [ 78,  46,  72]]], dtype=uint8)"
      ]
     },
     "execution_count": 24,
     "metadata": {},
     "output_type": "execute_result"
    }
   ],
   "source": [
    "# X train data 확인\n",
    "X_train[0]"
   ]
  },
  {
   "cell_type": "code",
   "execution_count": 25,
   "id": "22e534c7",
   "metadata": {
    "execution": {
     "iopub.execute_input": "2022-11-21T08:27:08.333612Z",
     "iopub.status.busy": "2022-11-21T08:27:08.332915Z",
     "iopub.status.idle": "2022-11-21T08:27:08.339549Z",
     "shell.execute_reply": "2022-11-21T08:27:08.338533Z"
    },
    "papermill": {
     "duration": 0.031469,
     "end_time": "2022-11-21T08:27:08.342605",
     "exception": false,
     "start_time": "2022-11-21T08:27:08.311136",
     "status": "completed"
    },
    "tags": []
   },
   "outputs": [
    {
     "data": {
      "text/plain": [
       "array([[[ 59,  51,  72],\n",
       "        [ 57,  49,  67],\n",
       "        [ 59,  52,  70],\n",
       "        ...,\n",
       "        [ 29,  39,  50],\n",
       "        [ 22,  31,  39],\n",
       "        [ 28,  36,  45]],\n",
       "\n",
       "       [[ 61,  53,  72],\n",
       "        [ 67,  56,  76],\n",
       "        [ 68,  54,  77],\n",
       "        ...,\n",
       "        [ 22,  40,  48],\n",
       "        [ 25,  39,  48],\n",
       "        [ 26,  35,  45]],\n",
       "\n",
       "       [[ 70,  61,  80],\n",
       "        [ 67,  59,  73],\n",
       "        [ 71,  59,  79],\n",
       "        ...,\n",
       "        [ 25,  38,  54],\n",
       "        [ 27,  39,  51],\n",
       "        [ 28,  37,  47]],\n",
       "\n",
       "       ...,\n",
       "\n",
       "       [[ 95,  87, 110],\n",
       "        [101,  93, 117],\n",
       "        [115, 103, 127],\n",
       "        ...,\n",
       "        [ 63,  49,  74],\n",
       "        [ 60,  47,  67],\n",
       "        [ 59,  45,  69]],\n",
       "\n",
       "       [[ 70,  67,  88],\n",
       "        [ 85,  78, 101],\n",
       "        [100,  91, 118],\n",
       "        ...,\n",
       "        [ 54,  41,  61],\n",
       "        [ 54,  41,  58],\n",
       "        [ 55,  42,  60]],\n",
       "\n",
       "       [[ 50,  48,  68],\n",
       "        [ 63,  60,  81],\n",
       "        [ 76,  67,  93],\n",
       "        ...,\n",
       "        [ 53,  40,  63],\n",
       "        [ 52,  39,  59],\n",
       "        [ 46,  34,  50]]], dtype=uint8)"
      ]
     },
     "execution_count": 25,
     "metadata": {},
     "output_type": "execute_result"
    }
   ],
   "source": [
    "# X validation data 확인\n",
    "X_valid[0]"
   ]
  },
  {
   "cell_type": "code",
   "execution_count": 26,
   "id": "44fe36cc",
   "metadata": {
    "execution": {
     "iopub.execute_input": "2022-11-21T08:27:08.384325Z",
     "iopub.status.busy": "2022-11-21T08:27:08.384040Z",
     "iopub.status.idle": "2022-11-21T08:27:09.369093Z",
     "shell.execute_reply": "2022-11-21T08:27:09.368066Z"
    },
    "papermill": {
     "duration": 1.008811,
     "end_time": "2022-11-21T08:27:09.371622",
     "exception": false,
     "start_time": "2022-11-21T08:27:08.362811",
     "status": "completed"
    },
    "tags": []
   },
   "outputs": [],
   "source": [
    "# 정규화 (0과1사이의값)\n",
    "X_train = X_train/255\n",
    "X_valid = X_valid/255"
   ]
  },
  {
   "cell_type": "code",
   "execution_count": 27,
   "id": "c40b8d90",
   "metadata": {
    "execution": {
     "iopub.execute_input": "2022-11-21T08:27:09.416344Z",
     "iopub.status.busy": "2022-11-21T08:27:09.415971Z",
     "iopub.status.idle": "2022-11-21T08:27:09.423424Z",
     "shell.execute_reply": "2022-11-21T08:27:09.422509Z"
    },
    "papermill": {
     "duration": 0.031701,
     "end_time": "2022-11-21T08:27:09.425436",
     "exception": false,
     "start_time": "2022-11-21T08:27:09.393735",
     "status": "completed"
    },
    "tags": []
   },
   "outputs": [
    {
     "data": {
      "text/plain": [
       "array([[[0.27843137, 0.31764706, 0.35294118],\n",
       "        [0.30980392, 0.34901961, 0.38039216],\n",
       "        [0.34509804, 0.39607843, 0.41568627],\n",
       "        ...,\n",
       "        [0.34117647, 0.22352941, 0.31764706],\n",
       "        [0.35294118, 0.22745098, 0.32156863],\n",
       "        [0.34117647, 0.21568627, 0.30588235]],\n",
       "\n",
       "       [[0.32156863, 0.34901961, 0.38039216],\n",
       "        [0.34509804, 0.37254902, 0.39607843],\n",
       "        [0.37647059, 0.41960784, 0.43529412],\n",
       "        ...,\n",
       "        [0.39215686, 0.25882353, 0.36470588],\n",
       "        [0.38823529, 0.25490196, 0.36078431],\n",
       "        [0.36470588, 0.23529412, 0.34509804]],\n",
       "\n",
       "       [[0.30980392, 0.3254902 , 0.36862745],\n",
       "        [0.36470588, 0.38431373, 0.40784314],\n",
       "        [0.41960784, 0.44705882, 0.47058824],\n",
       "        ...,\n",
       "        [0.4       , 0.2627451 , 0.39215686],\n",
       "        [0.38823529, 0.25098039, 0.37647059],\n",
       "        [0.38431373, 0.24705882, 0.36470588]],\n",
       "\n",
       "       ...,\n",
       "\n",
       "       [[0.36862745, 0.24313725, 0.3372549 ],\n",
       "        [0.29411765, 0.18431373, 0.27058824],\n",
       "        [0.25098039, 0.16862745, 0.22745098],\n",
       "        ...,\n",
       "        [0.2745098 , 0.14509804, 0.17254902],\n",
       "        [0.27058824, 0.14509804, 0.18823529],\n",
       "        [0.2627451 , 0.14117647, 0.2       ]],\n",
       "\n",
       "       [[0.43137255, 0.29019608, 0.39215686],\n",
       "        [0.34901961, 0.22352941, 0.31764706],\n",
       "        [0.30196078, 0.19215686, 0.27843137],\n",
       "        ...,\n",
       "        [0.20784314, 0.09411765, 0.10980392],\n",
       "        [0.23529412, 0.11764706, 0.15686275],\n",
       "        [0.25490196, 0.14117647, 0.21176471]],\n",
       "\n",
       "       [[0.47058824, 0.32941176, 0.43137255],\n",
       "        [0.42352941, 0.29411765, 0.38823529],\n",
       "        [0.37254902, 0.24705882, 0.34117647],\n",
       "        ...,\n",
       "        [0.2       , 0.09019608, 0.1372549 ],\n",
       "        [0.23529412, 0.11372549, 0.18431373],\n",
       "        [0.30588235, 0.18039216, 0.28235294]]])"
      ]
     },
     "execution_count": 27,
     "metadata": {},
     "output_type": "execute_result"
    }
   ],
   "source": [
    "# 정규화한 X train data 확인\n",
    "X_train[0]"
   ]
  },
  {
   "cell_type": "code",
   "execution_count": 28,
   "id": "43dbab40",
   "metadata": {
    "execution": {
     "iopub.execute_input": "2022-11-21T08:27:09.468328Z",
     "iopub.status.busy": "2022-11-21T08:27:09.468049Z",
     "iopub.status.idle": "2022-11-21T08:27:09.475476Z",
     "shell.execute_reply": "2022-11-21T08:27:09.474527Z"
    },
    "papermill": {
     "duration": 0.031376,
     "end_time": "2022-11-21T08:27:09.477457",
     "exception": false,
     "start_time": "2022-11-21T08:27:09.446081",
     "status": "completed"
    },
    "tags": []
   },
   "outputs": [
    {
     "data": {
      "text/plain": [
       "array([[[0.23137255, 0.2       , 0.28235294],\n",
       "        [0.22352941, 0.19215686, 0.2627451 ],\n",
       "        [0.23137255, 0.20392157, 0.2745098 ],\n",
       "        ...,\n",
       "        [0.11372549, 0.15294118, 0.19607843],\n",
       "        [0.08627451, 0.12156863, 0.15294118],\n",
       "        [0.10980392, 0.14117647, 0.17647059]],\n",
       "\n",
       "       [[0.23921569, 0.20784314, 0.28235294],\n",
       "        [0.2627451 , 0.21960784, 0.29803922],\n",
       "        [0.26666667, 0.21176471, 0.30196078],\n",
       "        ...,\n",
       "        [0.08627451, 0.15686275, 0.18823529],\n",
       "        [0.09803922, 0.15294118, 0.18823529],\n",
       "        [0.10196078, 0.1372549 , 0.17647059]],\n",
       "\n",
       "       [[0.2745098 , 0.23921569, 0.31372549],\n",
       "        [0.2627451 , 0.23137255, 0.28627451],\n",
       "        [0.27843137, 0.23137255, 0.30980392],\n",
       "        ...,\n",
       "        [0.09803922, 0.14901961, 0.21176471],\n",
       "        [0.10588235, 0.15294118, 0.2       ],\n",
       "        [0.10980392, 0.14509804, 0.18431373]],\n",
       "\n",
       "       ...,\n",
       "\n",
       "       [[0.37254902, 0.34117647, 0.43137255],\n",
       "        [0.39607843, 0.36470588, 0.45882353],\n",
       "        [0.45098039, 0.40392157, 0.49803922],\n",
       "        ...,\n",
       "        [0.24705882, 0.19215686, 0.29019608],\n",
       "        [0.23529412, 0.18431373, 0.2627451 ],\n",
       "        [0.23137255, 0.17647059, 0.27058824]],\n",
       "\n",
       "       [[0.2745098 , 0.2627451 , 0.34509804],\n",
       "        [0.33333333, 0.30588235, 0.39607843],\n",
       "        [0.39215686, 0.35686275, 0.4627451 ],\n",
       "        ...,\n",
       "        [0.21176471, 0.16078431, 0.23921569],\n",
       "        [0.21176471, 0.16078431, 0.22745098],\n",
       "        [0.21568627, 0.16470588, 0.23529412]],\n",
       "\n",
       "       [[0.19607843, 0.18823529, 0.26666667],\n",
       "        [0.24705882, 0.23529412, 0.31764706],\n",
       "        [0.29803922, 0.2627451 , 0.36470588],\n",
       "        ...,\n",
       "        [0.20784314, 0.15686275, 0.24705882],\n",
       "        [0.20392157, 0.15294118, 0.23137255],\n",
       "        [0.18039216, 0.13333333, 0.19607843]]])"
      ]
     },
     "execution_count": 28,
     "metadata": {},
     "output_type": "execute_result"
    }
   ],
   "source": [
    "# 정규화한 X validation data 확인\n",
    "X_valid[0]"
   ]
  },
  {
   "cell_type": "code",
   "execution_count": 29,
   "id": "82877342",
   "metadata": {
    "execution": {
     "iopub.execute_input": "2022-11-21T08:27:09.520216Z",
     "iopub.status.busy": "2022-11-21T08:27:09.519925Z",
     "iopub.status.idle": "2022-11-21T08:27:09.526090Z",
     "shell.execute_reply": "2022-11-21T08:27:09.525025Z"
    },
    "papermill": {
     "duration": 0.030776,
     "end_time": "2022-11-21T08:27:09.528753",
     "exception": false,
     "start_time": "2022-11-21T08:27:09.497977",
     "status": "completed"
    },
    "tags": []
   },
   "outputs": [
    {
     "name": "stdout",
     "output_type": "stream",
     "text": [
      "6569 6569\n",
      "(6569, 128, 128, 3)\n"
     ]
    }
   ],
   "source": [
    "# train 개수, 차원 확인\n",
    "print(len(X_train), len(y_train))\n",
    "print(X_train.shape)"
   ]
  },
  {
   "cell_type": "code",
   "execution_count": 30,
   "id": "e7c8aaa7",
   "metadata": {
    "execution": {
     "iopub.execute_input": "2022-11-21T08:27:09.571905Z",
     "iopub.status.busy": "2022-11-21T08:27:09.571159Z",
     "iopub.status.idle": "2022-11-21T08:27:09.576533Z",
     "shell.execute_reply": "2022-11-21T08:27:09.575503Z"
    },
    "papermill": {
     "duration": 0.029961,
     "end_time": "2022-11-21T08:27:09.579655",
     "exception": false,
     "start_time": "2022-11-21T08:27:09.549694",
     "status": "completed"
    },
    "tags": []
   },
   "outputs": [
    {
     "name": "stdout",
     "output_type": "stream",
     "text": [
      "1643 1643\n",
      "(1643, 128, 128, 3)\n"
     ]
    }
   ],
   "source": [
    "# validation 개수, 차원 확인\n",
    "print(len(X_valid), len(y_valid))\n",
    "print(X_valid.shape)"
   ]
  },
  {
   "cell_type": "code",
   "execution_count": 31,
   "id": "f601904c",
   "metadata": {
    "execution": {
     "iopub.execute_input": "2022-11-21T08:27:09.625366Z",
     "iopub.status.busy": "2022-11-21T08:27:09.625098Z",
     "iopub.status.idle": "2022-11-21T08:27:09.632420Z",
     "shell.execute_reply": "2022-11-21T08:27:09.631424Z"
    },
    "papermill": {
     "duration": 0.030981,
     "end_time": "2022-11-21T08:27:09.634583",
     "exception": false,
     "start_time": "2022-11-21T08:27:09.603602",
     "status": "completed"
    },
    "tags": []
   },
   "outputs": [],
   "source": [
    "# y 라벨링 (string -> int)\n",
    "le = LabelEncoder().fit(['Type 1', 'Type 2', 'Type 3'])\n",
    "y_train = le.transform(y_train)\n",
    "y_valid = le.transform(y_valid)\n",
    "\n",
    "y_train_onehot = to_categorical(y_train, num_classes=3)\n",
    "y_valid_onehot = to_categorical(y_valid, num_classes=3)"
   ]
  },
  {
   "cell_type": "code",
   "execution_count": 32,
   "id": "cd713246",
   "metadata": {
    "execution": {
     "iopub.execute_input": "2022-11-21T08:27:09.676878Z",
     "iopub.status.busy": "2022-11-21T08:27:09.676591Z",
     "iopub.status.idle": "2022-11-21T08:27:09.683261Z",
     "shell.execute_reply": "2022-11-21T08:27:09.682241Z"
    },
    "papermill": {
     "duration": 0.031331,
     "end_time": "2022-11-21T08:27:09.686375",
     "exception": false,
     "start_time": "2022-11-21T08:27:09.655044",
     "status": "completed"
    },
    "tags": []
   },
   "outputs": [
    {
     "data": {
      "text/plain": [
       "array([[0., 1., 0.],\n",
       "       [0., 0., 1.],\n",
       "       [0., 1., 0.],\n",
       "       [0., 1., 0.],\n",
       "       [0., 0., 1.]], dtype=float32)"
      ]
     },
     "execution_count": 32,
     "metadata": {},
     "output_type": "execute_result"
    }
   ],
   "source": [
    "y_train_onehot[:5]"
   ]
  },
  {
   "cell_type": "code",
   "execution_count": 33,
   "id": "f0b02363",
   "metadata": {
    "execution": {
     "iopub.execute_input": "2022-11-21T08:27:09.729752Z",
     "iopub.status.busy": "2022-11-21T08:27:09.728876Z",
     "iopub.status.idle": "2022-11-21T08:27:09.735548Z",
     "shell.execute_reply": "2022-11-21T08:27:09.734519Z"
    },
    "papermill": {
     "duration": 0.030859,
     "end_time": "2022-11-21T08:27:09.737987",
     "exception": false,
     "start_time": "2022-11-21T08:27:09.707128",
     "status": "completed"
    },
    "tags": []
   },
   "outputs": [
    {
     "data": {
      "text/plain": [
       "array([[0., 1., 0.],\n",
       "       [0., 1., 0.],\n",
       "       [0., 1., 0.],\n",
       "       [0., 0., 1.],\n",
       "       [0., 1., 0.]], dtype=float32)"
      ]
     },
     "execution_count": 33,
     "metadata": {},
     "output_type": "execute_result"
    }
   ],
   "source": [
    "y_valid_onehot[:5]"
   ]
  },
  {
   "cell_type": "markdown",
   "id": "17ac88bf",
   "metadata": {
    "papermill": {
     "duration": 0.020614,
     "end_time": "2022-11-21T08:27:09.779700",
     "exception": false,
     "start_time": "2022-11-21T08:27:09.759086",
     "status": "completed"
    },
    "tags": []
   },
   "source": [
    "# 모델링"
   ]
  },
  {
   "cell_type": "code",
   "execution_count": 34,
   "id": "524f4a8c",
   "metadata": {
    "execution": {
     "iopub.execute_input": "2022-11-21T08:27:09.822896Z",
     "iopub.status.busy": "2022-11-21T08:27:09.822267Z",
     "iopub.status.idle": "2022-11-21T08:27:09.827006Z",
     "shell.execute_reply": "2022-11-21T08:27:09.826180Z"
    },
    "papermill": {
     "duration": 0.028495,
     "end_time": "2022-11-21T08:27:09.828982",
     "exception": false,
     "start_time": "2022-11-21T08:27:09.800487",
     "status": "completed"
    },
    "tags": []
   },
   "outputs": [],
   "source": [
    "BATCH_SIZE = 16\n",
    "EPOCHS = 100"
   ]
  },
  {
   "cell_type": "code",
   "execution_count": 35,
   "id": "4921b04c",
   "metadata": {
    "execution": {
     "iopub.execute_input": "2022-11-21T08:27:09.879266Z",
     "iopub.status.busy": "2022-11-21T08:27:09.877873Z",
     "iopub.status.idle": "2022-11-21T08:27:09.884422Z",
     "shell.execute_reply": "2022-11-21T08:27:09.883540Z"
    },
    "papermill": {
     "duration": 0.031817,
     "end_time": "2022-11-21T08:27:09.886564",
     "exception": false,
     "start_time": "2022-11-21T08:27:09.854747",
     "status": "completed"
    },
    "tags": []
   },
   "outputs": [],
   "source": [
    "# define training steps\n",
    "TRAIN_STEPS = len(train_df)//BATCH_SIZE\n",
    "VAL_STEPS = len(valid_df)//BATCH_SIZE"
   ]
  },
  {
   "cell_type": "markdown",
   "id": "30300644",
   "metadata": {
    "papermill": {
     "duration": 0.020782,
     "end_time": "2022-11-21T08:27:09.928537",
     "exception": false,
     "start_time": "2022-11-21T08:27:09.907755",
     "status": "completed"
    },
    "tags": []
   },
   "source": [
    "## VGG16 (128)\n",
    "(Very Deep Convolutional Networks for Large-Scale Image Recognition(VGG-16))"
   ]
  },
  {
   "cell_type": "markdown",
   "id": "30fc54cb",
   "metadata": {
    "papermill": {
     "duration": 0.021015,
     "end_time": "2022-11-21T08:27:09.970512",
     "exception": false,
     "start_time": "2022-11-21T08:27:09.949497",
     "status": "completed"
    },
    "tags": []
   },
   "source": [
    "https://www.analyticsvidhya.com/blog/2020/08/top-4-pre-trained-models-for-image-classification-with-python-code/"
   ]
  },
  {
   "cell_type": "code",
   "execution_count": 36,
   "id": "cf16aadd",
   "metadata": {
    "execution": {
     "iopub.execute_input": "2022-11-21T08:27:10.014403Z",
     "iopub.status.busy": "2022-11-21T08:27:10.013584Z",
     "iopub.status.idle": "2022-11-21T08:27:13.421699Z",
     "shell.execute_reply": "2022-11-21T08:27:13.420722Z"
    },
    "papermill": {
     "duration": 3.4329,
     "end_time": "2022-11-21T08:27:13.424257",
     "exception": false,
     "start_time": "2022-11-21T08:27:09.991357",
     "status": "completed"
    },
    "tags": []
   },
   "outputs": [
    {
     "name": "stderr",
     "output_type": "stream",
     "text": [
      "2022-11-21 08:27:10.111279: I tensorflow/stream_executor/cuda/cuda_gpu_executor.cc:937] successful NUMA node read from SysFS had negative value (-1), but there must be at least one NUMA node, so returning NUMA node zero\n",
      "2022-11-21 08:27:10.201495: I tensorflow/stream_executor/cuda/cuda_gpu_executor.cc:937] successful NUMA node read from SysFS had negative value (-1), but there must be at least one NUMA node, so returning NUMA node zero\n",
      "2022-11-21 08:27:10.202256: I tensorflow/stream_executor/cuda/cuda_gpu_executor.cc:937] successful NUMA node read from SysFS had negative value (-1), but there must be at least one NUMA node, so returning NUMA node zero\n",
      "2022-11-21 08:27:10.203437: I tensorflow/core/platform/cpu_feature_guard.cc:142] This TensorFlow binary is optimized with oneAPI Deep Neural Network Library (oneDNN) to use the following CPU instructions in performance-critical operations:  AVX2 AVX512F FMA\n",
      "To enable them in other operations, rebuild TensorFlow with the appropriate compiler flags.\n",
      "2022-11-21 08:27:10.203736: I tensorflow/stream_executor/cuda/cuda_gpu_executor.cc:937] successful NUMA node read from SysFS had negative value (-1), but there must be at least one NUMA node, so returning NUMA node zero\n",
      "2022-11-21 08:27:10.204437: I tensorflow/stream_executor/cuda/cuda_gpu_executor.cc:937] successful NUMA node read from SysFS had negative value (-1), but there must be at least one NUMA node, so returning NUMA node zero\n",
      "2022-11-21 08:27:10.205067: I tensorflow/stream_executor/cuda/cuda_gpu_executor.cc:937] successful NUMA node read from SysFS had negative value (-1), but there must be at least one NUMA node, so returning NUMA node zero\n",
      "2022-11-21 08:27:12.357306: I tensorflow/stream_executor/cuda/cuda_gpu_executor.cc:937] successful NUMA node read from SysFS had negative value (-1), but there must be at least one NUMA node, so returning NUMA node zero\n",
      "2022-11-21 08:27:12.358193: I tensorflow/stream_executor/cuda/cuda_gpu_executor.cc:937] successful NUMA node read from SysFS had negative value (-1), but there must be at least one NUMA node, so returning NUMA node zero\n",
      "2022-11-21 08:27:12.358891: I tensorflow/stream_executor/cuda/cuda_gpu_executor.cc:937] successful NUMA node read from SysFS had negative value (-1), but there must be at least one NUMA node, so returning NUMA node zero\n",
      "2022-11-21 08:27:12.359553: I tensorflow/core/common_runtime/gpu/gpu_device.cc:1510] Created device /job:localhost/replica:0/task:0/device:GPU:0 with 15401 MB memory:  -> device: 0, name: Tesla P100-PCIE-16GB, pci bus id: 0000:00:04.0, compute capability: 6.0\n"
     ]
    },
    {
     "name": "stdout",
     "output_type": "stream",
     "text": [
      "Downloading data from https://storage.googleapis.com/tensorflow/keras-applications/vgg16/vgg16_weights_tf_dim_ordering_tf_kernels_notop.h5\n",
      "58892288/58889256 [==============================] - 0s 0us/step\n",
      "58900480/58889256 [==============================] - 0s 0us/step\n"
     ]
    }
   ],
   "source": [
    "# Build base model\n",
    "base = VGG16(input_shape = (128, 128, 3)\n",
    "                   , weights = 'imagenet'\n",
    "                   , include_top = False)"
   ]
  },
  {
   "cell_type": "code",
   "execution_count": 37,
   "id": "b0078d46",
   "metadata": {
    "execution": {
     "iopub.execute_input": "2022-11-21T08:27:13.470047Z",
     "iopub.status.busy": "2022-11-21T08:27:13.469160Z",
     "iopub.status.idle": "2022-11-21T08:27:13.475473Z",
     "shell.execute_reply": "2022-11-21T08:27:13.474075Z"
    },
    "papermill": {
     "duration": 0.031891,
     "end_time": "2022-11-21T08:27:13.478052",
     "exception": false,
     "start_time": "2022-11-21T08:27:13.446161",
     "status": "completed"
    },
    "tags": []
   },
   "outputs": [
    {
     "name": "stdout",
     "output_type": "stream",
     "text": [
      "This is the number of trainable weights before freezing layers in the conv base: 26\n"
     ]
    }
   ],
   "source": [
    "# show trainable layers before freezing\n",
    "print('This is the number of trainable weights '\n",
    "'before freezing layers in the conv base:', len(base.trainable_weights))"
   ]
  },
  {
   "cell_type": "code",
   "execution_count": 38,
   "id": "cb29d546",
   "metadata": {
    "execution": {
     "iopub.execute_input": "2022-11-21T08:27:13.524028Z",
     "iopub.status.busy": "2022-11-21T08:27:13.523120Z",
     "iopub.status.idle": "2022-11-21T08:27:13.528540Z",
     "shell.execute_reply": "2022-11-21T08:27:13.527680Z"
    },
    "papermill": {
     "duration": 0.030376,
     "end_time": "2022-11-21T08:27:13.530519",
     "exception": false,
     "start_time": "2022-11-21T08:27:13.500143",
     "status": "completed"
    },
    "tags": []
   },
   "outputs": [],
   "source": [
    "# do not train all layers (freezing few layers of pretrained model)\n",
    "for layer in base.layers[:-3]:\n",
    "    layer.trainable = False"
   ]
  },
  {
   "cell_type": "code",
   "execution_count": 39,
   "id": "6b7c1a2c",
   "metadata": {
    "execution": {
     "iopub.execute_input": "2022-11-21T08:27:13.574917Z",
     "iopub.status.busy": "2022-11-21T08:27:13.574289Z",
     "iopub.status.idle": "2022-11-21T08:27:13.579121Z",
     "shell.execute_reply": "2022-11-21T08:27:13.578219Z"
    },
    "papermill": {
     "duration": 0.029229,
     "end_time": "2022-11-21T08:27:13.581083",
     "exception": false,
     "start_time": "2022-11-21T08:27:13.551854",
     "status": "completed"
    },
    "tags": []
   },
   "outputs": [
    {
     "name": "stdout",
     "output_type": "stream",
     "text": [
      "This is the number of trainable weights after freezing layers in the conv base: 4\n"
     ]
    }
   ],
   "source": [
    "# show trainable layers after freezing\n",
    "print('This is the number of trainable weights '\n",
    "'after freezing layers in the conv base:', len(base.trainable_weights))"
   ]
  },
  {
   "cell_type": "code",
   "execution_count": 40,
   "id": "10505b98",
   "metadata": {
    "execution": {
     "iopub.execute_input": "2022-11-21T08:27:13.625320Z",
     "iopub.status.busy": "2022-11-21T08:27:13.624546Z",
     "iopub.status.idle": "2022-11-21T08:27:13.698850Z",
     "shell.execute_reply": "2022-11-21T08:27:13.697781Z"
    },
    "papermill": {
     "duration": 0.098602,
     "end_time": "2022-11-21T08:27:13.700837",
     "exception": false,
     "start_time": "2022-11-21T08:27:13.602235",
     "status": "completed"
    },
    "tags": []
   },
   "outputs": [
    {
     "name": "stdout",
     "output_type": "stream",
     "text": [
      "Model: \"sequential\"\n",
      "_________________________________________________________________\n",
      "Layer (type)                 Output Shape              Param #   \n",
      "=================================================================\n",
      "vgg16 (Functional)           (None, 4, 4, 512)         14714688  \n",
      "_________________________________________________________________\n",
      "flatten (Flatten)            (None, 8192)              0         \n",
      "_________________________________________________________________\n",
      "dense (Dense)                (None, 256)               2097408   \n",
      "_________________________________________________________________\n",
      "dropout (Dropout)            (None, 256)               0         \n",
      "_________________________________________________________________\n",
      "dense_1 (Dense)              (None, 3)                 771       \n",
      "=================================================================\n",
      "Total params: 16,812,867\n",
      "Trainable params: 6,817,795\n",
      "Non-trainable params: 9,995,072\n",
      "_________________________________________________________________\n"
     ]
    }
   ],
   "source": [
    "# Flatten the output layer to 1 dimension\n",
    "vgg16 = Sequential([\n",
    "                    base\n",
    "                    , Flatten()\n",
    "                    , Dense(256, activation = 'relu')\n",
    "                    , Dropout(0.5)\n",
    "                    , Dense(3, activation = 'softmax')\n",
    "])\n",
    "\n",
    "vgg16.summary()"
   ]
  },
  {
   "cell_type": "code",
   "execution_count": 41,
   "id": "c89f12ef",
   "metadata": {
    "execution": {
     "iopub.execute_input": "2022-11-21T08:27:13.745843Z",
     "iopub.status.busy": "2022-11-21T08:27:13.745194Z",
     "iopub.status.idle": "2022-11-21T08:27:13.756824Z",
     "shell.execute_reply": "2022-11-21T08:27:13.755999Z"
    },
    "papermill": {
     "duration": 0.036041,
     "end_time": "2022-11-21T08:27:13.758611",
     "exception": false,
     "start_time": "2022-11-21T08:27:13.722570",
     "status": "completed"
    },
    "tags": []
   },
   "outputs": [],
   "source": [
    "vgg16.compile(\n",
    "    optimizer = Adam(0.0001)\n",
    "    , loss = 'sparse_categorical_crossentropy'\n",
    "    , metrics = ['accuracy']\n",
    ")"
   ]
  },
  {
   "cell_type": "code",
   "execution_count": 42,
   "id": "b9e12ad0",
   "metadata": {
    "execution": {
     "iopub.execute_input": "2022-11-21T08:27:13.804293Z",
     "iopub.status.busy": "2022-11-21T08:27:13.803372Z",
     "iopub.status.idle": "2022-11-21T08:27:13.809560Z",
     "shell.execute_reply": "2022-11-21T08:27:13.808703Z"
    },
    "papermill": {
     "duration": 0.031224,
     "end_time": "2022-11-21T08:27:13.811511",
     "exception": false,
     "start_time": "2022-11-21T08:27:13.780287",
     "status": "completed"
    },
    "tags": []
   },
   "outputs": [],
   "source": [
    "# initialize callbacks\n",
    "reduceLR = ReduceLROnPlateau(monitor='val_accuracy', patience=10, verbose= 1, mode='max', factor=  0.2, min_lr = 1e-5)\n",
    "\n",
    "early_stopping = EarlyStopping(monitor='val_accuracy', patience = 20, verbose=1, mode='max', restore_best_weights= True)\n",
    "\n",
    "checkpoint = ModelCheckpoint('vgg16.weights.hdf5', monitor='val_accuracy', verbose=1,save_best_only=True, mode= 'max')"
   ]
  },
  {
   "cell_type": "code",
   "execution_count": 43,
   "id": "b7d4aea9",
   "metadata": {
    "execution": {
     "iopub.execute_input": "2022-11-21T08:27:13.858578Z",
     "iopub.status.busy": "2022-11-21T08:27:13.858313Z",
     "iopub.status.idle": "2022-11-21T08:34:17.904208Z",
     "shell.execute_reply": "2022-11-21T08:34:17.902683Z"
    },
    "papermill": {
     "duration": 424.07119,
     "end_time": "2022-11-21T08:34:17.907280",
     "exception": false,
     "start_time": "2022-11-21T08:27:13.836090",
     "status": "completed"
    },
    "tags": []
   },
   "outputs": [
    {
     "name": "stderr",
     "output_type": "stream",
     "text": [
      "2022-11-21 08:27:14.553398: I tensorflow/compiler/mlir/mlir_graph_optimization_pass.cc:185] None of the MLIR Optimization Passes are enabled (registered 2)\n"
     ]
    },
    {
     "name": "stdout",
     "output_type": "stream",
     "text": [
      "Epoch 1/100\n"
     ]
    },
    {
     "name": "stderr",
     "output_type": "stream",
     "text": [
      "2022-11-21 08:27:16.120755: I tensorflow/stream_executor/cuda/cuda_dnn.cc:369] Loaded cuDNN version 8005\n"
     ]
    },
    {
     "name": "stdout",
     "output_type": "stream",
     "text": [
      "410/410 [==============================] - 17s 23ms/step - loss: 0.9933 - accuracy: 0.5166 - val_loss: 0.9307 - val_accuracy: 0.5368\n",
      "\n",
      "Epoch 00001: val_accuracy improved from -inf to 0.53682, saving model to vgg16.weights.hdf5\n",
      "Epoch 2/100\n",
      "410/410 [==============================] - 8s 21ms/step - loss: 0.9122 - accuracy: 0.5547 - val_loss: 0.8775 - val_accuracy: 0.5770\n",
      "\n",
      "Epoch 00002: val_accuracy improved from 0.53682 to 0.57699, saving model to vgg16.weights.hdf5\n",
      "Epoch 3/100\n",
      "410/410 [==============================] - 8s 20ms/step - loss: 0.8277 - accuracy: 0.6035 - val_loss: 0.8227 - val_accuracy: 0.6135\n",
      "\n",
      "Epoch 00003: val_accuracy improved from 0.57699 to 0.61351, saving model to vgg16.weights.hdf5\n",
      "Epoch 4/100\n",
      "410/410 [==============================] - 8s 20ms/step - loss: 0.7223 - accuracy: 0.6698 - val_loss: 0.7754 - val_accuracy: 0.6372\n",
      "\n",
      "Epoch 00004: val_accuracy improved from 0.61351 to 0.63725, saving model to vgg16.weights.hdf5\n",
      "Epoch 5/100\n",
      "410/410 [==============================] - 8s 20ms/step - loss: 0.5926 - accuracy: 0.7363 - val_loss: 0.7245 - val_accuracy: 0.6671\n",
      "\n",
      "Epoch 00005: val_accuracy improved from 0.63725 to 0.66707, saving model to vgg16.weights.hdf5\n",
      "Epoch 6/100\n",
      "410/410 [==============================] - 8s 20ms/step - loss: 0.4525 - accuracy: 0.8126 - val_loss: 0.7411 - val_accuracy: 0.7005\n",
      "\n",
      "Epoch 00006: val_accuracy improved from 0.66707 to 0.70055, saving model to vgg16.weights.hdf5\n",
      "Epoch 7/100\n",
      "410/410 [==============================] - 8s 20ms/step - loss: 0.3286 - accuracy: 0.8686 - val_loss: 0.7341 - val_accuracy: 0.7018\n",
      "\n",
      "Epoch 00007: val_accuracy improved from 0.70055 to 0.70177, saving model to vgg16.weights.hdf5\n",
      "Epoch 8/100\n",
      "410/410 [==============================] - 8s 20ms/step - loss: 0.2283 - accuracy: 0.9118 - val_loss: 0.8784 - val_accuracy: 0.7042\n",
      "\n",
      "Epoch 00008: val_accuracy improved from 0.70177 to 0.70420, saving model to vgg16.weights.hdf5\n",
      "Epoch 9/100\n",
      "410/410 [==============================] - 8s 20ms/step - loss: 0.1579 - accuracy: 0.9443 - val_loss: 0.9203 - val_accuracy: 0.7206\n",
      "\n",
      "Epoch 00009: val_accuracy improved from 0.70420 to 0.72063, saving model to vgg16.weights.hdf5\n",
      "Epoch 10/100\n",
      "410/410 [==============================] - 8s 20ms/step - loss: 0.1180 - accuracy: 0.9574 - val_loss: 1.0578 - val_accuracy: 0.7005\n",
      "\n",
      "Epoch 00010: val_accuracy did not improve from 0.72063\n",
      "Epoch 11/100\n",
      "410/410 [==============================] - 8s 20ms/step - loss: 0.0781 - accuracy: 0.9728 - val_loss: 1.0370 - val_accuracy: 0.7237\n",
      "\n",
      "Epoch 00011: val_accuracy improved from 0.72063 to 0.72368, saving model to vgg16.weights.hdf5\n",
      "Epoch 12/100\n",
      "410/410 [==============================] - 8s 20ms/step - loss: 0.0860 - accuracy: 0.9712 - val_loss: 1.1118 - val_accuracy: 0.7304\n",
      "\n",
      "Epoch 00012: val_accuracy improved from 0.72368 to 0.73037, saving model to vgg16.weights.hdf5\n",
      "Epoch 13/100\n",
      "410/410 [==============================] - 8s 20ms/step - loss: 0.0550 - accuracy: 0.9823 - val_loss: 1.2095 - val_accuracy: 0.7188\n",
      "\n",
      "Epoch 00013: val_accuracy did not improve from 0.73037\n",
      "Epoch 14/100\n",
      "410/410 [==============================] - 8s 20ms/step - loss: 0.0380 - accuracy: 0.9892 - val_loss: 1.6354 - val_accuracy: 0.7091\n",
      "\n",
      "Epoch 00014: val_accuracy did not improve from 0.73037\n",
      "Epoch 15/100\n",
      "410/410 [==============================] - 9s 21ms/step - loss: 0.0545 - accuracy: 0.9821 - val_loss: 1.5099 - val_accuracy: 0.7091\n",
      "\n",
      "Epoch 00015: val_accuracy did not improve from 0.73037\n",
      "Epoch 16/100\n",
      "410/410 [==============================] - 8s 20ms/step - loss: 0.0473 - accuracy: 0.9828 - val_loss: 1.4097 - val_accuracy: 0.7170\n",
      "\n",
      "Epoch 00016: val_accuracy did not improve from 0.73037\n",
      "Epoch 17/100\n",
      "410/410 [==============================] - 8s 20ms/step - loss: 0.0598 - accuracy: 0.9809 - val_loss: 1.3451 - val_accuracy: 0.7261\n",
      "\n",
      "Epoch 00017: val_accuracy did not improve from 0.73037\n",
      "Epoch 18/100\n",
      "410/410 [==============================] - 8s 20ms/step - loss: 0.0449 - accuracy: 0.9846 - val_loss: 1.5865 - val_accuracy: 0.7219\n",
      "\n",
      "Epoch 00018: val_accuracy did not improve from 0.73037\n",
      "Epoch 19/100\n",
      "410/410 [==============================] - 8s 20ms/step - loss: 0.0223 - accuracy: 0.9925 - val_loss: 1.2439 - val_accuracy: 0.7285\n",
      "\n",
      "Epoch 00019: val_accuracy did not improve from 0.73037\n",
      "Epoch 20/100\n",
      "410/410 [==============================] - 8s 20ms/step - loss: 0.0402 - accuracy: 0.9860 - val_loss: 1.3388 - val_accuracy: 0.7066\n",
      "\n",
      "Epoch 00020: val_accuracy did not improve from 0.73037\n",
      "Epoch 21/100\n",
      "410/410 [==============================] - 8s 20ms/step - loss: 0.0295 - accuracy: 0.9901 - val_loss: 1.6412 - val_accuracy: 0.7054\n",
      "\n",
      "Epoch 00021: val_accuracy did not improve from 0.73037\n",
      "Epoch 22/100\n",
      "410/410 [==============================] - 8s 20ms/step - loss: 0.0429 - accuracy: 0.9870 - val_loss: 1.4739 - val_accuracy: 0.7219\n",
      "\n",
      "Epoch 00022: ReduceLROnPlateau reducing learning rate to 1.9999999494757503e-05.\n",
      "\n",
      "Epoch 00022: val_accuracy did not improve from 0.73037\n",
      "Epoch 23/100\n",
      "410/410 [==============================] - 8s 20ms/step - loss: 0.0094 - accuracy: 0.9980 - val_loss: 1.4969 - val_accuracy: 0.7401\n",
      "\n",
      "Epoch 00023: val_accuracy improved from 0.73037 to 0.74011, saving model to vgg16.weights.hdf5\n",
      "Epoch 24/100\n",
      "410/410 [==============================] - 8s 20ms/step - loss: 0.0017 - accuracy: 1.0000 - val_loss: 1.6145 - val_accuracy: 0.7407\n",
      "\n",
      "Epoch 00024: val_accuracy improved from 0.74011 to 0.74072, saving model to vgg16.weights.hdf5\n",
      "Epoch 25/100\n",
      "410/410 [==============================] - 8s 21ms/step - loss: 0.0014 - accuracy: 0.9998 - val_loss: 1.6242 - val_accuracy: 0.7365\n",
      "\n",
      "Epoch 00025: val_accuracy did not improve from 0.74072\n",
      "Epoch 26/100\n",
      "410/410 [==============================] - 8s 20ms/step - loss: 8.1327e-04 - accuracy: 1.0000 - val_loss: 1.6632 - val_accuracy: 0.7371\n",
      "\n",
      "Epoch 00026: val_accuracy did not improve from 0.74072\n",
      "Epoch 27/100\n",
      "410/410 [==============================] - 8s 20ms/step - loss: 6.0904e-04 - accuracy: 1.0000 - val_loss: 1.6926 - val_accuracy: 0.7407\n",
      "\n",
      "Epoch 00027: val_accuracy did not improve from 0.74072\n",
      "Epoch 28/100\n",
      "410/410 [==============================] - 8s 21ms/step - loss: 4.6663e-04 - accuracy: 1.0000 - val_loss: 1.7373 - val_accuracy: 0.7371\n",
      "\n",
      "Epoch 00028: val_accuracy did not improve from 0.74072\n",
      "Epoch 29/100\n",
      "410/410 [==============================] - 8s 20ms/step - loss: 3.7600e-04 - accuracy: 1.0000 - val_loss: 1.7769 - val_accuracy: 0.7389\n",
      "\n",
      "Epoch 00029: val_accuracy did not improve from 0.74072\n",
      "Epoch 30/100\n",
      "410/410 [==============================] - 8s 20ms/step - loss: 2.6835e-04 - accuracy: 1.0000 - val_loss: 1.8348 - val_accuracy: 0.7383\n",
      "\n",
      "Epoch 00030: val_accuracy did not improve from 0.74072\n",
      "Epoch 31/100\n",
      "410/410 [==============================] - 8s 20ms/step - loss: 2.1991e-04 - accuracy: 1.0000 - val_loss: 1.8640 - val_accuracy: 0.7383\n",
      "\n",
      "Epoch 00031: val_accuracy did not improve from 0.74072\n",
      "Epoch 32/100\n",
      "410/410 [==============================] - 8s 20ms/step - loss: 2.6214e-04 - accuracy: 1.0000 - val_loss: 1.9232 - val_accuracy: 0.7358\n",
      "\n",
      "Epoch 00032: val_accuracy did not improve from 0.74072\n",
      "Epoch 33/100\n",
      "410/410 [==============================] - 8s 20ms/step - loss: 4.2504e-04 - accuracy: 1.0000 - val_loss: 1.8897 - val_accuracy: 0.7340\n",
      "\n",
      "Epoch 00033: val_accuracy did not improve from 0.74072\n",
      "Epoch 34/100\n",
      "410/410 [==============================] - 8s 20ms/step - loss: 2.3610e-04 - accuracy: 1.0000 - val_loss: 1.8805 - val_accuracy: 0.7322\n",
      "\n",
      "Epoch 00034: ReduceLROnPlateau reducing learning rate to 1e-05.\n",
      "\n",
      "Epoch 00034: val_accuracy did not improve from 0.74072\n",
      "Epoch 35/100\n",
      "410/410 [==============================] - 8s 20ms/step - loss: 1.3535e-04 - accuracy: 1.0000 - val_loss: 1.9229 - val_accuracy: 0.7328\n",
      "\n",
      "Epoch 00035: val_accuracy did not improve from 0.74072\n",
      "Epoch 36/100\n",
      "410/410 [==============================] - 8s 20ms/step - loss: 1.4289e-04 - accuracy: 1.0000 - val_loss: 1.9434 - val_accuracy: 0.7316\n",
      "\n",
      "Epoch 00036: val_accuracy did not improve from 0.74072\n",
      "Epoch 37/100\n",
      "410/410 [==============================] - 8s 20ms/step - loss: 1.0335e-04 - accuracy: 1.0000 - val_loss: 1.9575 - val_accuracy: 0.7340\n",
      "\n",
      "Epoch 00037: val_accuracy did not improve from 0.74072\n",
      "Epoch 38/100\n",
      "410/410 [==============================] - 8s 20ms/step - loss: 1.5496e-04 - accuracy: 1.0000 - val_loss: 1.9809 - val_accuracy: 0.7328\n",
      "\n",
      "Epoch 00038: val_accuracy did not improve from 0.74072\n",
      "Epoch 39/100\n",
      "410/410 [==============================] - 8s 20ms/step - loss: 9.2404e-05 - accuracy: 1.0000 - val_loss: 2.0317 - val_accuracy: 0.7383\n",
      "\n",
      "Epoch 00039: val_accuracy did not improve from 0.74072\n",
      "Epoch 40/100\n",
      "410/410 [==============================] - 8s 20ms/step - loss: 1.0031e-04 - accuracy: 1.0000 - val_loss: 2.0702 - val_accuracy: 0.7352\n",
      "\n",
      "Epoch 00040: val_accuracy did not improve from 0.74072\n",
      "Epoch 41/100\n",
      "410/410 [==============================] - 8s 20ms/step - loss: 7.7498e-05 - accuracy: 1.0000 - val_loss: 2.0314 - val_accuracy: 0.7346\n",
      "\n",
      "Epoch 00041: val_accuracy did not improve from 0.74072\n",
      "Epoch 42/100\n",
      "410/410 [==============================] - 9s 21ms/step - loss: 5.0758e-05 - accuracy: 1.0000 - val_loss: 2.0796 - val_accuracy: 0.7346\n",
      "\n",
      "Epoch 00042: val_accuracy did not improve from 0.74072\n",
      "Epoch 43/100\n",
      "410/410 [==============================] - 8s 21ms/step - loss: 5.0392e-05 - accuracy: 1.0000 - val_loss: 2.0995 - val_accuracy: 0.7322\n",
      "\n",
      "Epoch 00043: val_accuracy did not improve from 0.74072\n",
      "Epoch 44/100\n",
      "410/410 [==============================] - 8s 20ms/step - loss: 4.9347e-05 - accuracy: 1.0000 - val_loss: 2.2052 - val_accuracy: 0.7316\n",
      "Restoring model weights from the end of the best epoch.\n",
      "\n",
      "Epoch 00044: val_accuracy did not improve from 0.74072\n",
      "Epoch 00044: early stopping\n"
     ]
    }
   ],
   "source": [
    "# train model\n",
    "\n",
    "# Non-augmentation\n",
    "train_gen = ImageDataGenerator().flow(X_train, y_train, batch_size = BATCH_SIZE)\n",
    "valid_gen = ImageDataGenerator().flow(X_valid, y_valid, batch_size = BATCH_SIZE)\n",
    "\n",
    "history_vgg16 = vgg16.fit(\n",
    "    train_gen\n",
    "    , steps_per_epoch = TRAIN_STEPS\n",
    "    , validation_data = valid_gen\n",
    "    , epochs = 100\n",
    "    , callbacks = [reduceLR, early_stopping, checkpoint]\n",
    ")"
   ]
  },
  {
   "cell_type": "code",
   "execution_count": 44,
   "id": "542f5212",
   "metadata": {
    "execution": {
     "iopub.execute_input": "2022-11-21T08:34:18.551449Z",
     "iopub.status.busy": "2022-11-21T08:34:18.551081Z",
     "iopub.status.idle": "2022-11-21T08:34:20.073750Z",
     "shell.execute_reply": "2022-11-21T08:34:20.072795Z"
    },
    "papermill": {
     "duration": 1.821333,
     "end_time": "2022-11-21T08:34:20.075980",
     "exception": false,
     "start_time": "2022-11-21T08:34:18.254647",
     "status": "completed"
    },
    "tags": []
   },
   "outputs": [
    {
     "data": {
      "image/png": "[encoded data removed]",
      "text/plain": [
       "<Figure size 1080x360 with 2 Axes>"
      ]
     },
     "metadata": {
      "needs_background": "light"
     },
     "output_type": "display_data"
    }
   ],
   "source": [
    "plt.figure(figsize=(15, 5))\n",
    "\n",
    "plt.subplot(1, 2, 1)\n",
    "plt.plot(history_vgg16.history['accuracy'], label='Training Accuracy')\n",
    "plt.plot(history_vgg16.history['val_accuracy'], label='Validation Accuracy')\n",
    "plt.legend(loc='lower right')\n",
    "plt.title('Training and Validation Accuracy')\n",
    "\n",
    "plt.subplot(1, 2, 2)\n",
    "plt.plot(history_vgg16.history['loss'], label='Training Loss')\n",
    "plt.plot(history_vgg16.history['val_loss'], label='Validation Loss')\n",
    "plt.legend(loc='upper right')\n",
    "plt.title('Training and Validation Loss')\n",
    "\n",
    "plt.show()"
   ]
  },
  {
   "cell_type": "markdown",
   "id": "917dbd20",
   "metadata": {
    "papermill": {
     "duration": 0.295158,
     "end_time": "2022-11-21T08:34:20.662089",
     "exception": false,
     "start_time": "2022-11-21T08:34:20.366931",
     "status": "completed"
    },
    "tags": []
   },
   "source": [
    "## Augmentation VGG16 (128)"
   ]
  },
  {
   "cell_type": "code",
   "execution_count": 45,
   "id": "6614adbe",
   "metadata": {
    "execution": {
     "iopub.execute_input": "2022-11-21T08:34:21.307359Z",
     "iopub.status.busy": "2022-11-21T08:34:21.306961Z",
     "iopub.status.idle": "2022-11-21T08:34:22.855812Z",
     "shell.execute_reply": "2022-11-21T08:34:22.854796Z"
    },
    "papermill": {
     "duration": 1.89395,
     "end_time": "2022-11-21T08:34:22.858519",
     "exception": false,
     "start_time": "2022-11-21T08:34:20.964569",
     "status": "completed"
    },
    "tags": []
   },
   "outputs": [],
   "source": [
    "# augmentation\n",
    "train_datagen = ImageDataGenerator(\n",
    "                                rotation_range = 40,\n",
    "                                zoom_range = 0.2,\n",
    "                                width_shift_range=0.2,\n",
    "                                height_shift_range=0.2,\n",
    "                                shear_range=0.2,\n",
    "                                horizontal_flip = True,\n",
    "                                vertical_flip = True)\n",
    "\n",
    "train_gen_ag = train_datagen.flow(X_train, y_train, batch_size= BATCH_SIZE)"
   ]
  },
  {
   "cell_type": "code",
   "execution_count": 46,
   "id": "46a5fd90",
   "metadata": {
    "execution": {
     "iopub.execute_input": "2022-11-21T08:34:23.452586Z",
     "iopub.status.busy": "2022-11-21T08:34:23.451587Z",
     "iopub.status.idle": "2022-11-21T08:34:23.458497Z",
     "shell.execute_reply": "2022-11-21T08:34:23.457645Z"
    },
    "papermill": {
     "duration": 0.303904,
     "end_time": "2022-11-21T08:34:23.460559",
     "exception": false,
     "start_time": "2022-11-21T08:34:23.156655",
     "status": "completed"
    },
    "tags": []
   },
   "outputs": [],
   "source": [
    "# initialize callbacks\n",
    "reduceLR = ReduceLROnPlateau(monitor='val_accuracy', patience=10, verbose= 1, mode='max', factor=  0.2, min_lr = 1e-5)\n",
    "\n",
    "early_stopping = EarlyStopping(monitor='val_accuracy', patience = 20, verbose=1, mode='max', restore_best_weights= True)\n",
    "\n",
    "checkpoint_ag = ModelCheckpoint('vgg_ag.weights.hdf5', monitor='val_accuracy', verbose=1,save_best_only=True, mode= 'max')"
   ]
  },
  {
   "cell_type": "code",
   "execution_count": 47,
   "id": "ebcbb682",
   "metadata": {
    "execution": {
     "iopub.execute_input": "2022-11-21T08:34:24.450596Z",
     "iopub.status.busy": "2022-11-21T08:34:24.450149Z",
     "iopub.status.idle": "2022-11-21T09:34:20.288741Z",
     "shell.execute_reply": "2022-11-21T09:34:20.287729Z"
    },
    "papermill": {
     "duration": 3596.538656,
     "end_time": "2022-11-21T09:34:20.291275",
     "exception": false,
     "start_time": "2022-11-21T08:34:23.752619",
     "status": "completed"
    },
    "tags": []
   },
   "outputs": [
    {
     "name": "stdout",
     "output_type": "stream",
     "text": [
      "Epoch 1/100\n",
      "410/410 [==============================] - 28s 67ms/step - loss: 1.0519 - accuracy: 0.5449 - val_loss: 0.7145 - val_accuracy: 0.6955\n",
      "\n",
      "Epoch 00001: val_accuracy improved from -inf to 0.69547, saving model to vgg_ag.weights.hdf5\n",
      "Epoch 2/100\n",
      "410/410 [==============================] - 28s 69ms/step - loss: 0.9297 - accuracy: 0.5561 - val_loss: 0.7274 - val_accuracy: 0.6679\n",
      "\n",
      "Epoch 00002: val_accuracy did not improve from 0.69547\n",
      "Epoch 3/100\n",
      "410/410 [==============================] - 27s 67ms/step - loss: 0.9074 - accuracy: 0.5575 - val_loss: 0.7210 - val_accuracy: 0.6857\n",
      "\n",
      "Epoch 00003: val_accuracy did not improve from 0.69547\n",
      "Epoch 4/100\n",
      "410/410 [==============================] - 27s 65ms/step - loss: 0.8923 - accuracy: 0.5868 - val_loss: 0.7418 - val_accuracy: 0.6795\n",
      "\n",
      "Epoch 00004: val_accuracy did not improve from 0.69547\n",
      "Epoch 5/100\n",
      "410/410 [==============================] - 27s 67ms/step - loss: 0.8845 - accuracy: 0.5820 - val_loss: 0.7213 - val_accuracy: 0.6814\n",
      "\n",
      "Epoch 00005: val_accuracy did not improve from 0.69547\n",
      "Epoch 6/100\n",
      "410/410 [==============================] - 27s 66ms/step - loss: 0.8805 - accuracy: 0.5942 - val_loss: 0.7138 - val_accuracy: 0.6900\n",
      "\n",
      "Epoch 00006: val_accuracy did not improve from 0.69547\n",
      "Epoch 7/100\n",
      "410/410 [==============================] - 28s 67ms/step - loss: 0.8725 - accuracy: 0.5944 - val_loss: 0.7143 - val_accuracy: 0.6979\n",
      "\n",
      "Epoch 00007: val_accuracy improved from 0.69547 to 0.69792, saving model to vgg_ag.weights.hdf5\n",
      "Epoch 8/100\n",
      "410/410 [==============================] - 27s 67ms/step - loss: 0.8597 - accuracy: 0.5945 - val_loss: 0.7114 - val_accuracy: 0.6979\n",
      "\n",
      "Epoch 00008: val_accuracy did not improve from 0.69792\n",
      "Epoch 9/100\n",
      "410/410 [==============================] - 28s 67ms/step - loss: 0.8491 - accuracy: 0.6103 - val_loss: 0.7140 - val_accuracy: 0.6906\n",
      "\n",
      "Epoch 00009: val_accuracy did not improve from 0.69792\n",
      "Epoch 10/100\n",
      "410/410 [==============================] - 28s 67ms/step - loss: 0.8436 - accuracy: 0.6067 - val_loss: 0.7035 - val_accuracy: 0.6942\n",
      "\n",
      "Epoch 00010: val_accuracy did not improve from 0.69792\n",
      "Epoch 11/100\n",
      "410/410 [==============================] - 28s 68ms/step - loss: 0.8508 - accuracy: 0.6006 - val_loss: 0.7074 - val_accuracy: 0.6924\n",
      "\n",
      "Epoch 00011: val_accuracy did not improve from 0.69792\n",
      "Epoch 12/100\n",
      "410/410 [==============================] - 28s 68ms/step - loss: 0.8422 - accuracy: 0.6136 - val_loss: 0.7179 - val_accuracy: 0.6936\n",
      "\n",
      "Epoch 00012: val_accuracy did not improve from 0.69792\n",
      "Epoch 13/100\n",
      "410/410 [==============================] - 28s 69ms/step - loss: 0.8297 - accuracy: 0.6098 - val_loss: 0.7058 - val_accuracy: 0.6985\n",
      "\n",
      "Epoch 00013: val_accuracy improved from 0.69792 to 0.69853, saving model to vgg_ag.weights.hdf5\n",
      "Epoch 14/100\n",
      "410/410 [==============================] - 27s 66ms/step - loss: 0.8271 - accuracy: 0.6208 - val_loss: 0.7006 - val_accuracy: 0.6979\n",
      "\n",
      "Epoch 00014: val_accuracy did not improve from 0.69853\n",
      "Epoch 15/100\n",
      "410/410 [==============================] - 28s 69ms/step - loss: 0.8154 - accuracy: 0.6176 - val_loss: 0.6991 - val_accuracy: 0.7016\n",
      "\n",
      "Epoch 00015: val_accuracy improved from 0.69853 to 0.70159, saving model to vgg_ag.weights.hdf5\n",
      "Epoch 16/100\n",
      "410/410 [==============================] - 27s 66ms/step - loss: 0.8151 - accuracy: 0.6287 - val_loss: 0.7024 - val_accuracy: 0.7089\n",
      "\n",
      "Epoch 00016: val_accuracy improved from 0.70159 to 0.70895, saving model to vgg_ag.weights.hdf5\n",
      "Epoch 17/100\n",
      "410/410 [==============================] - 28s 68ms/step - loss: 0.7981 - accuracy: 0.6306 - val_loss: 0.6949 - val_accuracy: 0.7047\n",
      "\n",
      "Epoch 00017: val_accuracy did not improve from 0.70895\n",
      "Epoch 18/100\n",
      "410/410 [==============================] - 28s 69ms/step - loss: 0.8044 - accuracy: 0.6296 - val_loss: 0.6976 - val_accuracy: 0.7071\n",
      "\n",
      "Epoch 00018: val_accuracy did not improve from 0.70895\n",
      "Epoch 19/100\n",
      "410/410 [==============================] - 28s 68ms/step - loss: 0.8063 - accuracy: 0.6292 - val_loss: 0.6977 - val_accuracy: 0.7120\n",
      "\n",
      "Epoch 00019: val_accuracy improved from 0.70895 to 0.71201, saving model to vgg_ag.weights.hdf5\n",
      "Epoch 20/100\n",
      "410/410 [==============================] - 28s 68ms/step - loss: 0.7930 - accuracy: 0.6299 - val_loss: 0.6879 - val_accuracy: 0.7096\n",
      "\n",
      "Epoch 00020: val_accuracy did not improve from 0.71201\n",
      "Epoch 21/100\n",
      "410/410 [==============================] - 30s 73ms/step - loss: 0.7844 - accuracy: 0.6373 - val_loss: 0.6922 - val_accuracy: 0.7065\n",
      "\n",
      "Epoch 00021: val_accuracy did not improve from 0.71201\n",
      "Epoch 22/100\n",
      "410/410 [==============================] - 30s 72ms/step - loss: 0.7866 - accuracy: 0.6388 - val_loss: 0.6840 - val_accuracy: 0.7114\n",
      "\n",
      "Epoch 00022: val_accuracy did not improve from 0.71201\n",
      "Epoch 23/100\n",
      "410/410 [==============================] - 29s 70ms/step - loss: 0.7847 - accuracy: 0.6418 - val_loss: 0.6902 - val_accuracy: 0.7126\n",
      "\n",
      "Epoch 00023: val_accuracy improved from 0.71201 to 0.71262, saving model to vgg_ag.weights.hdf5\n",
      "Epoch 24/100\n",
      "410/410 [==============================] - 29s 70ms/step - loss: 0.7742 - accuracy: 0.6458 - val_loss: 0.6959 - val_accuracy: 0.7188\n",
      "\n",
      "Epoch 00024: val_accuracy improved from 0.71262 to 0.71875, saving model to vgg_ag.weights.hdf5\n",
      "Epoch 25/100\n",
      "410/410 [==============================] - 28s 68ms/step - loss: 0.7719 - accuracy: 0.6527 - val_loss: 0.6989 - val_accuracy: 0.7132\n",
      "\n",
      "Epoch 00025: val_accuracy did not improve from 0.71875\n",
      "Epoch 26/100\n",
      "410/410 [==============================] - 28s 69ms/step - loss: 0.7717 - accuracy: 0.6476 - val_loss: 0.6930 - val_accuracy: 0.7163\n",
      "\n",
      "Epoch 00026: val_accuracy did not improve from 0.71875\n",
      "Epoch 27/100\n",
      "410/410 [==============================] - 28s 69ms/step - loss: 0.7646 - accuracy: 0.6512 - val_loss: 0.6805 - val_accuracy: 0.7224\n",
      "\n",
      "Epoch 00027: val_accuracy improved from 0.71875 to 0.72243, saving model to vgg_ag.weights.hdf5\n",
      "Epoch 28/100\n",
      "410/410 [==============================] - 28s 69ms/step - loss: 0.7656 - accuracy: 0.6499 - val_loss: 0.6781 - val_accuracy: 0.7120\n",
      "\n",
      "Epoch 00028: val_accuracy did not improve from 0.72243\n",
      "Epoch 29/100\n",
      "410/410 [==============================] - 29s 70ms/step - loss: 0.7664 - accuracy: 0.6460 - val_loss: 0.6807 - val_accuracy: 0.7132\n",
      "\n",
      "Epoch 00029: val_accuracy did not improve from 0.72243\n",
      "Epoch 30/100\n",
      "410/410 [==============================] - 28s 68ms/step - loss: 0.7602 - accuracy: 0.6519 - val_loss: 0.6826 - val_accuracy: 0.7132\n",
      "\n",
      "Epoch 00030: val_accuracy did not improve from 0.72243\n",
      "Epoch 31/100\n",
      "410/410 [==============================] - 29s 70ms/step - loss: 0.7508 - accuracy: 0.6559 - val_loss: 0.6850 - val_accuracy: 0.7230\n",
      "\n",
      "Epoch 00031: val_accuracy improved from 0.72243 to 0.72304, saving model to vgg_ag.weights.hdf5\n",
      "Epoch 32/100\n",
      "410/410 [==============================] - 28s 69ms/step - loss: 0.7422 - accuracy: 0.6595 - val_loss: 0.6941 - val_accuracy: 0.7151\n",
      "\n",
      "Epoch 00032: val_accuracy did not improve from 0.72304\n",
      "Epoch 33/100\n",
      "410/410 [==============================] - 29s 70ms/step - loss: 0.7401 - accuracy: 0.6693 - val_loss: 0.6936 - val_accuracy: 0.7218\n",
      "\n",
      "Epoch 00033: val_accuracy did not improve from 0.72304\n",
      "Epoch 34/100\n",
      "410/410 [==============================] - 28s 69ms/step - loss: 0.7366 - accuracy: 0.6656 - val_loss: 0.6977 - val_accuracy: 0.7181\n",
      "\n",
      "Epoch 00034: val_accuracy did not improve from 0.72304\n",
      "Epoch 35/100\n",
      "410/410 [==============================] - 28s 67ms/step - loss: 0.7320 - accuracy: 0.6711 - val_loss: 0.6976 - val_accuracy: 0.7230\n",
      "\n",
      "Epoch 00035: val_accuracy did not improve from 0.72304\n",
      "Epoch 36/100\n",
      "410/410 [==============================] - 29s 70ms/step - loss: 0.7312 - accuracy: 0.6664 - val_loss: 0.6901 - val_accuracy: 0.7249\n",
      "\n",
      "Epoch 00036: val_accuracy improved from 0.72304 to 0.72488, saving model to vgg_ag.weights.hdf5\n",
      "Epoch 37/100\n",
      "410/410 [==============================] - 29s 70ms/step - loss: 0.7351 - accuracy: 0.6644 - val_loss: 0.6854 - val_accuracy: 0.7243\n",
      "\n",
      "Epoch 00037: val_accuracy did not improve from 0.72488\n",
      "Epoch 38/100\n",
      "410/410 [==============================] - 28s 68ms/step - loss: 0.7258 - accuracy: 0.6634 - val_loss: 0.7040 - val_accuracy: 0.7243\n",
      "\n",
      "Epoch 00038: val_accuracy did not improve from 0.72488\n",
      "Epoch 39/100\n",
      "410/410 [==============================] - 28s 69ms/step - loss: 0.7098 - accuracy: 0.6808 - val_loss: 0.7103 - val_accuracy: 0.7261\n",
      "\n",
      "Epoch 00039: val_accuracy improved from 0.72488 to 0.72610, saving model to vgg_ag.weights.hdf5\n",
      "Epoch 40/100\n",
      "410/410 [==============================] - 29s 70ms/step - loss: 0.7133 - accuracy: 0.6721 - val_loss: 0.7068 - val_accuracy: 0.7200\n",
      "\n",
      "Epoch 00040: val_accuracy did not improve from 0.72610\n",
      "Epoch 41/100\n",
      "410/410 [==============================] - 28s 68ms/step - loss: 0.7220 - accuracy: 0.6693 - val_loss: 0.7012 - val_accuracy: 0.7243\n",
      "\n",
      "Epoch 00041: val_accuracy did not improve from 0.72610\n",
      "Epoch 42/100\n",
      "410/410 [==============================] - 28s 69ms/step - loss: 0.7064 - accuracy: 0.6872 - val_loss: 0.7262 - val_accuracy: 0.7243\n",
      "\n",
      "Epoch 00042: val_accuracy did not improve from 0.72610\n",
      "Epoch 43/100\n",
      "410/410 [==============================] - 28s 69ms/step - loss: 0.7100 - accuracy: 0.6766 - val_loss: 0.6991 - val_accuracy: 0.7279\n",
      "\n",
      "Epoch 00043: val_accuracy improved from 0.72610 to 0.72794, saving model to vgg_ag.weights.hdf5\n",
      "Epoch 44/100\n",
      "410/410 [==============================] - 28s 69ms/step - loss: 0.7002 - accuracy: 0.6820 - val_loss: 0.7087 - val_accuracy: 0.7212\n",
      "\n",
      "Epoch 00044: val_accuracy did not improve from 0.72794\n",
      "Epoch 45/100\n",
      "410/410 [==============================] - 28s 69ms/step - loss: 0.6948 - accuracy: 0.6896 - val_loss: 0.7042 - val_accuracy: 0.7335\n",
      "\n",
      "Epoch 00045: val_accuracy improved from 0.72794 to 0.73346, saving model to vgg_ag.weights.hdf5\n",
      "Epoch 46/100\n",
      "410/410 [==============================] - 29s 70ms/step - loss: 0.7083 - accuracy: 0.6904 - val_loss: 0.7012 - val_accuracy: 0.7310\n",
      "\n",
      "Epoch 00046: val_accuracy did not improve from 0.73346\n",
      "Epoch 47/100\n",
      "410/410 [==============================] - 29s 70ms/step - loss: 0.7013 - accuracy: 0.6892 - val_loss: 0.7158 - val_accuracy: 0.7298\n",
      "\n",
      "Epoch 00047: val_accuracy did not improve from 0.73346\n",
      "Epoch 48/100\n",
      "410/410 [==============================] - 29s 70ms/step - loss: 0.6827 - accuracy: 0.6917 - val_loss: 0.7283 - val_accuracy: 0.7292\n",
      "\n",
      "Epoch 00048: val_accuracy did not improve from 0.73346\n",
      "Epoch 49/100\n",
      "410/410 [==============================] - 29s 70ms/step - loss: 0.6909 - accuracy: 0.6888 - val_loss: 0.7001 - val_accuracy: 0.7200\n",
      "\n",
      "Epoch 00049: val_accuracy did not improve from 0.73346\n",
      "Epoch 50/100\n",
      "410/410 [==============================] - 28s 69ms/step - loss: 0.6896 - accuracy: 0.6917 - val_loss: 0.7109 - val_accuracy: 0.7273\n",
      "\n",
      "Epoch 00050: val_accuracy did not improve from 0.73346\n",
      "Epoch 51/100\n",
      "410/410 [==============================] - 28s 69ms/step - loss: 0.6732 - accuracy: 0.6986 - val_loss: 0.7193 - val_accuracy: 0.7255\n",
      "\n",
      "Epoch 00051: val_accuracy did not improve from 0.73346\n",
      "Epoch 52/100\n",
      "410/410 [==============================] - 28s 68ms/step - loss: 0.6834 - accuracy: 0.6953 - val_loss: 0.6948 - val_accuracy: 0.7267\n",
      "\n",
      "Epoch 00052: val_accuracy did not improve from 0.73346\n",
      "Epoch 53/100\n",
      "410/410 [==============================] - 28s 69ms/step - loss: 0.6736 - accuracy: 0.6946 - val_loss: 0.6994 - val_accuracy: 0.7335\n",
      "\n",
      "Epoch 00053: val_accuracy did not improve from 0.73346\n",
      "Epoch 54/100\n",
      "410/410 [==============================] - 29s 71ms/step - loss: 0.6769 - accuracy: 0.7012 - val_loss: 0.7109 - val_accuracy: 0.7243\n",
      "\n",
      "Epoch 00054: val_accuracy did not improve from 0.73346\n",
      "Epoch 55/100\n",
      "410/410 [==============================] - 29s 71ms/step - loss: 0.6568 - accuracy: 0.7114 - val_loss: 0.7174 - val_accuracy: 0.7249\n",
      "\n",
      "Epoch 00055: val_accuracy did not improve from 0.73346\n",
      "Epoch 56/100\n",
      "410/410 [==============================] - 29s 70ms/step - loss: 0.6723 - accuracy: 0.7044 - val_loss: 0.7025 - val_accuracy: 0.7347\n",
      "\n",
      "Epoch 00056: val_accuracy improved from 0.73346 to 0.73468, saving model to vgg_ag.weights.hdf5\n",
      "Epoch 57/100\n",
      "410/410 [==============================] - 29s 71ms/step - loss: 0.6526 - accuracy: 0.7069 - val_loss: 0.7288 - val_accuracy: 0.7310\n",
      "\n",
      "Epoch 00057: val_accuracy did not improve from 0.73468\n",
      "Epoch 58/100\n",
      "410/410 [==============================] - 30s 72ms/step - loss: 0.6512 - accuracy: 0.7169 - val_loss: 0.7280 - val_accuracy: 0.7286\n",
      "\n",
      "Epoch 00058: val_accuracy did not improve from 0.73468\n",
      "Epoch 59/100\n",
      "410/410 [==============================] - 29s 71ms/step - loss: 0.6520 - accuracy: 0.7067 - val_loss: 0.7214 - val_accuracy: 0.7371\n",
      "\n",
      "Epoch 00059: val_accuracy improved from 0.73468 to 0.73713, saving model to vgg_ag.weights.hdf5\n",
      "Epoch 60/100\n",
      "410/410 [==============================] - 29s 71ms/step - loss: 0.6490 - accuracy: 0.7157 - val_loss: 0.7119 - val_accuracy: 0.7365\n",
      "\n",
      "Epoch 00060: val_accuracy did not improve from 0.73713\n",
      "Epoch 61/100\n",
      "410/410 [==============================] - 29s 71ms/step - loss: 0.6512 - accuracy: 0.7061 - val_loss: 0.7099 - val_accuracy: 0.7322\n",
      "\n",
      "Epoch 00061: val_accuracy did not improve from 0.73713\n",
      "Epoch 62/100\n",
      "410/410 [==============================] - 29s 71ms/step - loss: 0.6508 - accuracy: 0.7087 - val_loss: 0.7132 - val_accuracy: 0.7310\n",
      "\n",
      "Epoch 00062: val_accuracy did not improve from 0.73713\n",
      "Epoch 63/100\n",
      "410/410 [==============================] - 29s 70ms/step - loss: 0.6549 - accuracy: 0.7119 - val_loss: 0.7153 - val_accuracy: 0.7335\n",
      "\n",
      "Epoch 00063: val_accuracy did not improve from 0.73713\n",
      "Epoch 64/100\n",
      "410/410 [==============================] - 29s 71ms/step - loss: 0.6394 - accuracy: 0.7143 - val_loss: 0.7185 - val_accuracy: 0.7408\n",
      "\n",
      "Epoch 00064: val_accuracy improved from 0.73713 to 0.74081, saving model to vgg_ag.weights.hdf5\n",
      "Epoch 65/100\n",
      "410/410 [==============================] - 29s 71ms/step - loss: 0.6398 - accuracy: 0.7191 - val_loss: 0.7292 - val_accuracy: 0.7188\n",
      "\n",
      "Epoch 00065: val_accuracy did not improve from 0.74081\n",
      "Epoch 66/100\n",
      "410/410 [==============================] - 29s 71ms/step - loss: 0.6356 - accuracy: 0.7200 - val_loss: 0.7082 - val_accuracy: 0.7322\n",
      "\n",
      "Epoch 00066: val_accuracy did not improve from 0.74081\n",
      "Epoch 67/100\n",
      "410/410 [==============================] - 29s 71ms/step - loss: 0.6312 - accuracy: 0.7233 - val_loss: 0.7251 - val_accuracy: 0.7328\n",
      "\n",
      "Epoch 00067: val_accuracy did not improve from 0.74081\n",
      "Epoch 68/100\n",
      "410/410 [==============================] - 29s 71ms/step - loss: 0.6260 - accuracy: 0.7291 - val_loss: 0.7146 - val_accuracy: 0.7322\n",
      "\n",
      "Epoch 00068: val_accuracy did not improve from 0.74081\n",
      "Epoch 69/100\n",
      "410/410 [==============================] - 29s 71ms/step - loss: 0.6238 - accuracy: 0.7268 - val_loss: 0.7100 - val_accuracy: 0.7384\n",
      "\n",
      "Epoch 00069: val_accuracy did not improve from 0.74081\n",
      "Epoch 70/100\n",
      "410/410 [==============================] - 29s 71ms/step - loss: 0.6193 - accuracy: 0.7284 - val_loss: 0.7200 - val_accuracy: 0.7322\n",
      "\n",
      "Epoch 00070: val_accuracy did not improve from 0.74081\n",
      "Epoch 71/100\n",
      "410/410 [==============================] - 30s 72ms/step - loss: 0.6262 - accuracy: 0.7252 - val_loss: 0.7102 - val_accuracy: 0.7304\n",
      "\n",
      "Epoch 00071: val_accuracy did not improve from 0.74081\n",
      "Epoch 72/100\n",
      "410/410 [==============================] - 29s 71ms/step - loss: 0.6270 - accuracy: 0.7253 - val_loss: 0.7297 - val_accuracy: 0.7292\n",
      "\n",
      "Epoch 00072: val_accuracy did not improve from 0.74081\n",
      "Epoch 73/100\n",
      "410/410 [==============================] - 29s 71ms/step - loss: 0.6016 - accuracy: 0.7360 - val_loss: 0.7481 - val_accuracy: 0.7298\n",
      "\n",
      "Epoch 00073: val_accuracy did not improve from 0.74081\n",
      "Epoch 74/100\n",
      "410/410 [==============================] - 29s 72ms/step - loss: 0.6160 - accuracy: 0.7304 - val_loss: 0.7577 - val_accuracy: 0.7347\n",
      "\n",
      "Epoch 00074: val_accuracy did not improve from 0.74081\n",
      "Epoch 75/100\n",
      "410/410 [==============================] - 30s 72ms/step - loss: 0.6102 - accuracy: 0.7273 - val_loss: 0.7478 - val_accuracy: 0.7316\n",
      "\n",
      "Epoch 00075: val_accuracy did not improve from 0.74081\n",
      "Epoch 76/100\n",
      "410/410 [==============================] - 29s 71ms/step - loss: 0.6100 - accuracy: 0.7294 - val_loss: 0.7445 - val_accuracy: 0.7420\n",
      "\n",
      "Epoch 00076: val_accuracy improved from 0.74081 to 0.74203, saving model to vgg_ag.weights.hdf5\n",
      "Epoch 77/100\n",
      "410/410 [==============================] - 28s 69ms/step - loss: 0.6107 - accuracy: 0.7285 - val_loss: 0.7410 - val_accuracy: 0.7322\n",
      "\n",
      "Epoch 00077: val_accuracy did not improve from 0.74203\n",
      "Epoch 78/100\n",
      "410/410 [==============================] - 29s 70ms/step - loss: 0.5986 - accuracy: 0.7430 - val_loss: 0.7505 - val_accuracy: 0.7341\n",
      "\n",
      "Epoch 00078: val_accuracy did not improve from 0.74203\n",
      "Epoch 79/100\n",
      "410/410 [==============================] - 29s 71ms/step - loss: 0.5985 - accuracy: 0.7355 - val_loss: 0.7282 - val_accuracy: 0.7384\n",
      "\n",
      "Epoch 00079: val_accuracy did not improve from 0.74203\n",
      "Epoch 80/100\n",
      "410/410 [==============================] - 29s 72ms/step - loss: 0.5883 - accuracy: 0.7409 - val_loss: 0.7339 - val_accuracy: 0.7414\n",
      "\n",
      "Epoch 00080: val_accuracy did not improve from 0.74203\n",
      "Epoch 81/100\n",
      "410/410 [==============================] - 29s 71ms/step - loss: 0.5833 - accuracy: 0.7479 - val_loss: 0.7376 - val_accuracy: 0.7445\n",
      "\n",
      "Epoch 00081: val_accuracy improved from 0.74203 to 0.74449, saving model to vgg_ag.weights.hdf5\n",
      "Epoch 82/100\n",
      "410/410 [==============================] - 29s 71ms/step - loss: 0.5861 - accuracy: 0.7441 - val_loss: 0.7269 - val_accuracy: 0.7353\n",
      "\n",
      "Epoch 00082: val_accuracy did not improve from 0.74449\n",
      "Epoch 83/100\n",
      "410/410 [==============================] - 30s 72ms/step - loss: 0.5741 - accuracy: 0.7494 - val_loss: 0.7504 - val_accuracy: 0.7316\n",
      "\n",
      "Epoch 00083: val_accuracy did not improve from 0.74449\n",
      "Epoch 84/100\n",
      "410/410 [==============================] - 29s 70ms/step - loss: 0.5733 - accuracy: 0.7484 - val_loss: 0.7613 - val_accuracy: 0.7347\n",
      "\n",
      "Epoch 00084: val_accuracy did not improve from 0.74449\n",
      "Epoch 85/100\n",
      "410/410 [==============================] - 29s 70ms/step - loss: 0.5704 - accuracy: 0.7571 - val_loss: 0.7477 - val_accuracy: 0.7384\n",
      "\n",
      "Epoch 00085: val_accuracy did not improve from 0.74449\n",
      "Epoch 86/100\n",
      "410/410 [==============================] - 29s 72ms/step - loss: 0.5798 - accuracy: 0.7488 - val_loss: 0.7364 - val_accuracy: 0.7469\n",
      "\n",
      "Epoch 00086: val_accuracy improved from 0.74449 to 0.74694, saving model to vgg_ag.weights.hdf5\n",
      "Epoch 87/100\n",
      "410/410 [==============================] - 29s 71ms/step - loss: 0.5790 - accuracy: 0.7513 - val_loss: 0.7452 - val_accuracy: 0.7439\n",
      "\n",
      "Epoch 00087: val_accuracy did not improve from 0.74694\n",
      "Epoch 88/100\n",
      "410/410 [==============================] - 29s 70ms/step - loss: 0.5686 - accuracy: 0.7560 - val_loss: 0.7590 - val_accuracy: 0.7439\n",
      "\n",
      "Epoch 00088: val_accuracy did not improve from 0.74694\n",
      "Epoch 89/100\n",
      "410/410 [==============================] - 29s 72ms/step - loss: 0.5583 - accuracy: 0.7648 - val_loss: 0.7706 - val_accuracy: 0.7426\n",
      "\n",
      "Epoch 00089: val_accuracy did not improve from 0.74694\n",
      "Epoch 90/100\n",
      "410/410 [==============================] - 31s 74ms/step - loss: 0.5669 - accuracy: 0.7571 - val_loss: 0.7552 - val_accuracy: 0.7390\n",
      "\n",
      "Epoch 00090: val_accuracy did not improve from 0.74694\n",
      "Epoch 91/100\n",
      "410/410 [==============================] - 30s 73ms/step - loss: 0.5610 - accuracy: 0.7590 - val_loss: 0.7665 - val_accuracy: 0.7445\n",
      "\n",
      "Epoch 00091: val_accuracy did not improve from 0.74694\n",
      "Epoch 92/100\n",
      "410/410 [==============================] - 30s 73ms/step - loss: 0.5687 - accuracy: 0.7517 - val_loss: 0.7624 - val_accuracy: 0.7347\n",
      "\n",
      "Epoch 00092: val_accuracy did not improve from 0.74694\n",
      "Epoch 93/100\n",
      "410/410 [==============================] - 30s 72ms/step - loss: 0.5530 - accuracy: 0.7601 - val_loss: 0.7749 - val_accuracy: 0.7384\n",
      "\n",
      "Epoch 00093: val_accuracy did not improve from 0.74694\n",
      "Epoch 94/100\n",
      "410/410 [==============================] - 29s 71ms/step - loss: 0.5469 - accuracy: 0.7632 - val_loss: 0.7797 - val_accuracy: 0.7353\n",
      "\n",
      "Epoch 00094: val_accuracy did not improve from 0.74694\n",
      "Epoch 95/100\n",
      "410/410 [==============================] - 29s 71ms/step - loss: 0.5482 - accuracy: 0.7677 - val_loss: 0.7776 - val_accuracy: 0.7433\n",
      "\n",
      "Epoch 00095: val_accuracy did not improve from 0.74694\n",
      "Epoch 96/100\n",
      "410/410 [==============================] - 29s 72ms/step - loss: 0.5442 - accuracy: 0.7658 - val_loss: 0.7702 - val_accuracy: 0.7469\n",
      "\n",
      "Epoch 00096: val_accuracy did not improve from 0.74694\n",
      "Epoch 97/100\n",
      "410/410 [==============================] - 29s 72ms/step - loss: 0.5300 - accuracy: 0.7740 - val_loss: 0.7825 - val_accuracy: 0.7377\n",
      "\n",
      "Epoch 00097: val_accuracy did not improve from 0.74694\n",
      "Epoch 98/100\n",
      "410/410 [==============================] - 30s 73ms/step - loss: 0.5332 - accuracy: 0.7708 - val_loss: 0.8164 - val_accuracy: 0.7359\n",
      "\n",
      "Epoch 00098: val_accuracy did not improve from 0.74694\n",
      "Epoch 99/100\n",
      "410/410 [==============================] - 29s 72ms/step - loss: 0.5445 - accuracy: 0.7656 - val_loss: 0.7760 - val_accuracy: 0.7500\n",
      "\n",
      "Epoch 00099: val_accuracy improved from 0.74694 to 0.75000, saving model to vgg_ag.weights.hdf5\n",
      "Epoch 100/100\n",
      "410/410 [==============================] - 30s 73ms/step - loss: 0.5338 - accuracy: 0.7714 - val_loss: 0.7888 - val_accuracy: 0.7439\n",
      "\n",
      "Epoch 00100: val_accuracy did not improve from 0.75000\n"
     ]
    }
   ],
   "source": [
    "history_vgg_ag = vgg16.fit(\n",
    "    train_gen_ag\n",
    "    , steps_per_epoch= TRAIN_STEPS\n",
    "    , validation_data=valid_gen\n",
    "    , validation_steps=VAL_STEPS\n",
    "    , epochs= 100\n",
    "    , callbacks= [reduceLR, early_stopping, checkpoint_ag]\n",
    ")"
   ]
  },
  {
   "cell_type": "markdown",
   "id": "6005c727",
   "metadata": {
    "papermill": {
     "duration": 2.619838,
     "end_time": "2022-11-21T09:34:25.538267",
     "exception": false,
     "start_time": "2022-11-21T09:34:22.918429",
     "status": "completed"
    },
    "tags": []
   },
   "source": [
    "## Compare VGG16 ( non VS aug )"
   ]
  },
  {
   "cell_type": "code",
   "execution_count": 48,
   "id": "ab16eefc",
   "metadata": {
    "execution": {
     "iopub.execute_input": "2022-11-21T09:34:31.376120Z",
     "iopub.status.busy": "2022-11-21T09:34:31.375745Z",
     "iopub.status.idle": "2022-11-21T09:34:31.952837Z",
     "shell.execute_reply": "2022-11-21T09:34:31.951920Z"
    },
    "papermill": {
     "duration": 3.168734,
     "end_time": "2022-11-21T09:34:31.955315",
     "exception": false,
     "start_time": "2022-11-21T09:34:28.786581",
     "status": "completed"
    },
    "tags": []
   },
   "outputs": [
    {
     "data": {
      "image/png": "[encoded data removed]",
      "text/plain": [
       "<Figure size 1440x1152 with 4 Axes>"
      ]
     },
     "metadata": {
      "needs_background": "light"
     },
     "output_type": "display_data"
    }
   ],
   "source": [
    "plt.figure(figsize=(20, 16))\n",
    "\n",
    "plt.subplot(2, 2, 1)\n",
    "plt.plot(history_vgg16.history['accuracy'], label='Training Accuracy')\n",
    "plt.plot(history_vgg16.history['val_accuracy'], label='Validation Accuracy')\n",
    "plt.legend(loc='lower right')\n",
    "plt.title('Non-Augmentation Training and Validation Accuracy')\n",
    "\n",
    "plt.subplot(2, 2, 2)\n",
    "plt.plot(history_vgg16.history['loss'], label='Training Loss')\n",
    "plt.plot(history_vgg16.history['val_loss'], label='Validation Loss')\n",
    "plt.legend(loc='upper right')\n",
    "plt.title('Non-Augmentation Training and Validation Loss')\n",
    "\n",
    "plt.subplot(2, 2, 3)\n",
    "plt.plot(history_vgg_ag.history['accuracy'], label='Training Accuracy')\n",
    "plt.plot(history_vgg_ag.history['val_accuracy'], label='Validation Accuracy')\n",
    "plt.legend(loc='lower right')\n",
    "plt.title('Augmentation Training and Validation Accuracy')\n",
    "\n",
    "plt.subplot(2, 2, 4)\n",
    "plt.plot(history_vgg_ag.history['loss'], label='Training Loss')\n",
    "plt.plot(history_vgg_ag.history['val_loss'], label='Validation Loss')\n",
    "plt.legend(loc='upper right')\n",
    "plt.title('Augmentation Training and Validation Loss')\n",
    "\n",
    "plt.show()"
   ]
  },
  {
   "cell_type": "markdown",
   "id": "96cebb3e",
   "metadata": {
    "papermill": {
     "duration": 2.812645,
     "end_time": "2022-11-21T09:34:37.443537",
     "exception": false,
     "start_time": "2022-11-21T09:34:34.630892",
     "status": "completed"
    },
    "tags": []
   },
   "source": [
    "## VGG16 (224) -> ram 부족"
   ]
  },
  {
   "cell_type": "code",
   "execution_count": 49,
   "id": "ae7e21f6",
   "metadata": {
    "execution": {
     "iopub.execute_input": "2022-11-21T09:34:42.668655Z",
     "iopub.status.busy": "2022-11-21T09:34:42.668293Z",
     "iopub.status.idle": "2022-11-21T09:34:42.672767Z",
     "shell.execute_reply": "2022-11-21T09:34:42.671812Z"
    },
    "papermill": {
     "duration": 2.646631,
     "end_time": "2022-11-21T09:34:42.674710",
     "exception": false,
     "start_time": "2022-11-21T09:34:40.028079",
     "status": "completed"
    },
    "tags": []
   },
   "outputs": [],
   "source": [
    "# Build base model\n",
    "#base_224 = VGG16(input_shape = (224, 224, 3)\n",
    "#                   , weights = 'imagenet')"
   ]
  },
  {
   "cell_type": "code",
   "execution_count": 50,
   "id": "8353c165",
   "metadata": {
    "execution": {
     "iopub.execute_input": "2022-11-21T09:34:48.003178Z",
     "iopub.status.busy": "2022-11-21T09:34:48.002148Z",
     "iopub.status.idle": "2022-11-21T09:34:48.009176Z",
     "shell.execute_reply": "2022-11-21T09:34:48.008071Z"
    },
    "papermill": {
     "duration": 2.757663,
     "end_time": "2022-11-21T09:34:48.011667",
     "exception": false,
     "start_time": "2022-11-21T09:34:45.254004",
     "status": "completed"
    },
    "tags": []
   },
   "outputs": [],
   "source": [
    "# show trainable layers before freezing\n",
    "#print('This is the number of trainable weights '\n",
    "#'before freezing layers in the conv base:', len(base_224.trainable_weights))"
   ]
  },
  {
   "cell_type": "code",
   "execution_count": 51,
   "id": "5e1c2ed0",
   "metadata": {
    "execution": {
     "iopub.execute_input": "2022-11-21T09:34:53.282403Z",
     "iopub.status.busy": "2022-11-21T09:34:53.282033Z",
     "iopub.status.idle": "2022-11-21T09:34:53.286299Z",
     "shell.execute_reply": "2022-11-21T09:34:53.285290Z"
    },
    "papermill": {
     "duration": 2.563452,
     "end_time": "2022-11-21T09:34:53.288256",
     "exception": false,
     "start_time": "2022-11-21T09:34:50.724804",
     "status": "completed"
    },
    "tags": []
   },
   "outputs": [],
   "source": [
    "# do not train all layers (freezing few layers of pretrained model)\n",
    "#for layer in base_224.layers[:-3]:\n",
    "#    layer.trainable = False"
   ]
  },
  {
   "cell_type": "code",
   "execution_count": 52,
   "id": "a91da67a",
   "metadata": {
    "execution": {
     "iopub.execute_input": "2022-11-21T09:34:58.576477Z",
     "iopub.status.busy": "2022-11-21T09:34:58.576122Z",
     "iopub.status.idle": "2022-11-21T09:34:58.580300Z",
     "shell.execute_reply": "2022-11-21T09:34:58.579308Z"
    },
    "papermill": {
     "duration": 2.741897,
     "end_time": "2022-11-21T09:34:58.582416",
     "exception": false,
     "start_time": "2022-11-21T09:34:55.840519",
     "status": "completed"
    },
    "tags": []
   },
   "outputs": [],
   "source": [
    "# show trainable layers after freezing\n",
    "#print('This is the number of trainable weights '\n",
    "#'after freezing layers in the conv base:', len(base_224.trainable_weights))"
   ]
  },
  {
   "cell_type": "code",
   "execution_count": 53,
   "id": "e52006a1",
   "metadata": {
    "execution": {
     "iopub.execute_input": "2022-11-21T09:35:04.376688Z",
     "iopub.status.busy": "2022-11-21T09:35:04.376321Z",
     "iopub.status.idle": "2022-11-21T09:35:04.380688Z",
     "shell.execute_reply": "2022-11-21T09:35:04.379717Z"
    },
    "papermill": {
     "duration": 2.564799,
     "end_time": "2022-11-21T09:35:04.382707",
     "exception": false,
     "start_time": "2022-11-21T09:35:01.817908",
     "status": "completed"
    },
    "tags": []
   },
   "outputs": [],
   "source": [
    "# Flatten the output layer to 1 dimension\n",
    "#vgg16_224 = Sequential([\n",
    "#                    base_224\n",
    "#                    , Flatten()\n",
    "#                    , Dense(256, activation = 'relu')\n",
    "#                    , Dropout(0.5)\n",
    "#                    , Dense(3, activation = 'softmax')\n",
    "#])\n",
    "#\n",
    "#vgg16_224.summary()"
   ]
  },
  {
   "cell_type": "code",
   "execution_count": 54,
   "id": "34a82b72",
   "metadata": {
    "execution": {
     "iopub.execute_input": "2022-11-21T09:35:09.741547Z",
     "iopub.status.busy": "2022-11-21T09:35:09.741116Z",
     "iopub.status.idle": "2022-11-21T09:35:09.745283Z",
     "shell.execute_reply": "2022-11-21T09:35:09.744449Z"
    },
    "papermill": {
     "duration": 2.802134,
     "end_time": "2022-11-21T09:35:09.749552",
     "exception": false,
     "start_time": "2022-11-21T09:35:06.947418",
     "status": "completed"
    },
    "tags": []
   },
   "outputs": [],
   "source": [
    "#vgg16_224.compile(\n",
    "#    optimizer = Adam(0.0001)\n",
    "#    , loss = 'sparse_categorical_crossentropy'\n",
    "#    , metrics = ['accuracy']\n",
    "#)"
   ]
  },
  {
   "cell_type": "code",
   "execution_count": 55,
   "id": "f83b0c10",
   "metadata": {
    "execution": {
     "iopub.execute_input": "2022-11-21T09:35:15.163947Z",
     "iopub.status.busy": "2022-11-21T09:35:15.163574Z",
     "iopub.status.idle": "2022-11-21T09:35:15.168001Z",
     "shell.execute_reply": "2022-11-21T09:35:15.167040Z"
    },
    "papermill": {
     "duration": 2.685908,
     "end_time": "2022-11-21T09:35:15.169994",
     "exception": false,
     "start_time": "2022-11-21T09:35:12.484086",
     "status": "completed"
    },
    "tags": []
   },
   "outputs": [],
   "source": [
    "# define training steps\n",
    "#BATCH_SIZE = 16\n",
    "#TRAIN_STEPS = len(train_df)//BATCH_SIZE\n",
    "#VAL_STEPS = len(valid_df)//BATCH_SIZE"
   ]
  },
  {
   "cell_type": "code",
   "execution_count": 56,
   "id": "82214bc1",
   "metadata": {
    "execution": {
     "iopub.execute_input": "2022-11-21T09:35:20.416851Z",
     "iopub.status.busy": "2022-11-21T09:35:20.415881Z",
     "iopub.status.idle": "2022-11-21T09:35:20.420578Z",
     "shell.execute_reply": "2022-11-21T09:35:20.419513Z"
    },
    "papermill": {
     "duration": 2.642814,
     "end_time": "2022-11-21T09:35:20.422669",
     "exception": false,
     "start_time": "2022-11-21T09:35:17.779855",
     "status": "completed"
    },
    "tags": []
   },
   "outputs": [],
   "source": [
    "# initialize callbacks\n",
    "#reduceLR = ReduceLROnPlateau(monitor='val_accuracy', patience=10, verbose= 1, mode='max', factor=  0.2, min_lr = 1e-5)\n",
    "\n",
    "#early_stopping = EarlyStopping(monitor='val_accuracy', patience = 20, verbose=1, mode='max', restore_best_weights= True)\n",
    "\n",
    "#checkpoint = ModelCheckpoint('vgg16_224.weights.hdf5', monitor='val_accuracy', verbose=1,save_best_only=True, mode= 'max')"
   ]
  },
  {
   "cell_type": "code",
   "execution_count": 57,
   "id": "f32051f0",
   "metadata": {
    "execution": {
     "iopub.execute_input": "2022-11-21T09:35:25.811284Z",
     "iopub.status.busy": "2022-11-21T09:35:25.810919Z",
     "iopub.status.idle": "2022-11-21T09:35:25.815451Z",
     "shell.execute_reply": "2022-11-21T09:35:25.814515Z"
    },
    "papermill": {
     "duration": 2.633729,
     "end_time": "2022-11-21T09:35:25.817656",
     "exception": false,
     "start_time": "2022-11-21T09:35:23.183927",
     "status": "completed"
    },
    "tags": []
   },
   "outputs": [],
   "source": [
    "# 터짐\n",
    "# train model\n",
    "\n",
    "# Non-augmentation\n",
    "#train_gen = ImageDataGenerator().flow(X_train, y_train, batch_size = BATCH_SIZE)\n",
    "#valid_gen = ImageDataGenerator().flow(X_valid, y_valid, batch_size = BATCH_SIZE)\n",
    "\n",
    "#history_vgg16_224 = vgg16_224.fit(\n",
    "#    train_gen\n",
    "#    , steps_per_epoch = TRAIN_STEPS\n",
    "#    , validation_data = valid_gen\n",
    "#    , epochs = 100\n",
    "#    , callbacks = [reduceLR, early_stopping, checkpoint]\n",
    "#)"
   ]
  },
  {
   "cell_type": "code",
   "execution_count": 58,
   "id": "40d8a46e",
   "metadata": {
    "execution": {
     "iopub.execute_input": "2022-11-21T09:35:31.468062Z",
     "iopub.status.busy": "2022-11-21T09:35:31.467492Z",
     "iopub.status.idle": "2022-11-21T09:35:31.472648Z",
     "shell.execute_reply": "2022-11-21T09:35:31.471823Z"
    },
    "papermill": {
     "duration": 3.063876,
     "end_time": "2022-11-21T09:35:31.476610",
     "exception": false,
     "start_time": "2022-11-21T09:35:28.412734",
     "status": "completed"
    },
    "tags": []
   },
   "outputs": [],
   "source": [
    "#plt.figure(figsize=(15, 5))\n",
    "\n",
    "#plt.subplot(1, 2, 1)\n",
    "#plt.plot(history_vgg16_224.history['accuracy'], label='Training Accuracy')\n",
    "#plt.plot(history_vgg16_224.history['val_accuracy'], label='Validation Accuracy')\n",
    "#plt.legend(loc='lower right')\n",
    "#plt.title('Training and Validation Accuracy')\n",
    "\n",
    "#plt.subplot(1, 2, 2)\n",
    "#plt.plot(history_vgg16_224.history['loss'], label='Training Loss')\n",
    "#plt.plot(history_vgg16_224.history['val_loss'], label='Validation Loss')\n",
    "#plt.legend(loc='upper right')\n",
    "#plt.title('Training and Validation Loss')\n",
    "\n",
    "#plt.show()"
   ]
  },
  {
   "cell_type": "markdown",
   "id": "06b2ebe2",
   "metadata": {
    "papermill": {
     "duration": 2.53915,
     "end_time": "2022-11-21T09:35:36.904751",
     "exception": false,
     "start_time": "2022-11-21T09:35:34.365601",
     "status": "completed"
    },
    "tags": []
   },
   "source": [
    "## Resnet50"
   ]
  },
  {
   "cell_type": "code",
   "execution_count": 59,
   "id": "a5847b4d",
   "metadata": {
    "execution": {
     "iopub.execute_input": "2022-11-21T09:35:42.096185Z",
     "iopub.status.busy": "2022-11-21T09:35:42.095809Z",
     "iopub.status.idle": "2022-11-21T09:35:45.764243Z",
     "shell.execute_reply": "2022-11-21T09:35:45.763049Z"
    },
    "papermill": {
     "duration": 6.32223,
     "end_time": "2022-11-21T09:35:45.767115",
     "exception": false,
     "start_time": "2022-11-21T09:35:39.444885",
     "status": "completed"
    },
    "tags": []
   },
   "outputs": [
    {
     "name": "stdout",
     "output_type": "stream",
     "text": [
      "Downloading data from https://storage.googleapis.com/tensorflow/keras-applications/resnet/resnet50_weights_tf_dim_ordering_tf_kernels_notop.h5\n",
      "94773248/94765736 [==============================] - 2s 0us/step\n",
      "94781440/94765736 [==============================] - 2s 0us/step\n",
      "Model: \"sequential_1\"\n",
      "_________________________________________________________________\n",
      "Layer (type)                 Output Shape              Param #   \n",
      "=================================================================\n",
      "resnet50 (Functional)        (None, 2048)              23587712  \n",
      "_________________________________________________________________\n",
      "flatten_1 (Flatten)          (None, 2048)              0         \n",
      "_________________________________________________________________\n",
      "batch_normalization (BatchNo (None, 2048)              8192      \n",
      "_________________________________________________________________\n",
      "dense_2 (Dense)              (None, 512)               1049088   \n",
      "_________________________________________________________________\n",
      "batch_normalization_1 (Batch (None, 512)               2048      \n",
      "_________________________________________________________________\n",
      "dense_3 (Dense)              (None, 256)               131328    \n",
      "_________________________________________________________________\n",
      "batch_normalization_2 (Batch (None, 256)               1024      \n",
      "_________________________________________________________________\n",
      "dense_4 (Dense)              (None, 3)                 771       \n",
      "=================================================================\n",
      "Total params: 24,780,163\n",
      "Trainable params: 1,186,819\n",
      "Non-trainable params: 23,593,344\n",
      "_________________________________________________________________\n"
     ]
    }
   ],
   "source": [
    "resnet50 = Sequential([\n",
    "    ResNet50(input_shape = (128,128,3) ,include_top = False, pooling = 'avg')\n",
    "    , Flatten()\n",
    "    , BatchNormalization()\n",
    "    , Dense(512, activation = 'relu')\n",
    "    , BatchNormalization()\n",
    "    , Dense(256, activation = 'relu')\n",
    "    , BatchNormalization()\n",
    "    , Dense(3, activation = 'softmax')\n",
    "])\n",
    "resnet50.layers[0].trainable = False\n",
    "\n",
    "resnet50.summary()"
   ]
  },
  {
   "cell_type": "code",
   "execution_count": 60,
   "id": "a1034513",
   "metadata": {
    "execution": {
     "iopub.execute_input": "2022-11-21T09:35:50.978849Z",
     "iopub.status.busy": "2022-11-21T09:35:50.978490Z",
     "iopub.status.idle": "2022-11-21T09:35:50.991052Z",
     "shell.execute_reply": "2022-11-21T09:35:50.990191Z"
    },
    "papermill": {
     "duration": 2.657637,
     "end_time": "2022-11-21T09:35:50.993314",
     "exception": false,
     "start_time": "2022-11-21T09:35:48.335677",
     "status": "completed"
    },
    "tags": []
   },
   "outputs": [],
   "source": [
    "resnet50.compile(\n",
    "    optimizer = 'adam'\n",
    "    , loss = 'categorical_crossentropy'\n",
    "    , metrics = ['accuracy']\n",
    ")"
   ]
  },
  {
   "cell_type": "code",
   "execution_count": 61,
   "id": "496ff178",
   "metadata": {
    "execution": {
     "iopub.execute_input": "2022-11-21T09:35:56.495504Z",
     "iopub.status.busy": "2022-11-21T09:35:56.495134Z",
     "iopub.status.idle": "2022-11-21T09:35:56.500455Z",
     "shell.execute_reply": "2022-11-21T09:35:56.499534Z"
    },
    "papermill": {
     "duration": 2.749728,
     "end_time": "2022-11-21T09:35:56.502783",
     "exception": false,
     "start_time": "2022-11-21T09:35:53.753055",
     "status": "completed"
    },
    "tags": []
   },
   "outputs": [],
   "source": [
    "# initialize callbacks\n",
    "reduceLR = ReduceLROnPlateau(monitor='val_accuracy', patience=10, verbose= 1, mode='max', factor=  0.2, min_lr = 1e-5)\n",
    "\n",
    "early_stopping = EarlyStopping(monitor='val_accuracy', patience = 20, verbose= 1, mode='max', restore_best_weights= True)\n",
    "\n",
    "checkpoint = ModelCheckpoint('resnet50.weights.hdf5', monitor='val_accuracy', verbose= 1,save_best_only=True, mode= 'max')"
   ]
  },
  {
   "cell_type": "code",
   "execution_count": 62,
   "id": "aeb0ef52",
   "metadata": {
    "execution": {
     "iopub.execute_input": "2022-11-21T09:36:01.688559Z",
     "iopub.status.busy": "2022-11-21T09:36:01.688082Z",
     "iopub.status.idle": "2022-11-21T09:57:10.736439Z",
     "shell.execute_reply": "2022-11-21T09:57:10.734378Z"
    },
    "papermill": {
     "duration": 1271.655266,
     "end_time": "2022-11-21T09:57:10.739240",
     "exception": false,
     "start_time": "2022-11-21T09:35:59.083974",
     "status": "completed"
    },
    "tags": []
   },
   "outputs": [
    {
     "name": "stdout",
     "output_type": "stream",
     "text": [
      "Epoch 1/100\n",
      "410/410 [==============================] - 15s 29ms/step - loss: 1.1096 - accuracy: 0.4847 - val_loss: 1.0150 - val_accuracy: 0.5271\n",
      "\n",
      "Epoch 00001: val_accuracy improved from -inf to 0.52708, saving model to resnet50.weights.hdf5\n",
      "Epoch 2/100\n",
      "410/410 [==============================] - 12s 29ms/step - loss: 0.9598 - accuracy: 0.5367 - val_loss: 0.9984 - val_accuracy: 0.5502\n",
      "\n",
      "Epoch 00002: val_accuracy improved from 0.52708 to 0.55021, saving model to resnet50.weights.hdf5\n",
      "Epoch 3/100\n",
      "410/410 [==============================] - 11s 26ms/step - loss: 0.9417 - accuracy: 0.5588 - val_loss: 0.9648 - val_accuracy: 0.5533\n",
      "\n",
      "Epoch 00003: val_accuracy improved from 0.55021 to 0.55326, saving model to resnet50.weights.hdf5\n",
      "Epoch 4/100\n",
      "410/410 [==============================] - 12s 28ms/step - loss: 0.9241 - accuracy: 0.5604 - val_loss: 1.0410 - val_accuracy: 0.5027\n",
      "\n",
      "Epoch 00004: val_accuracy did not improve from 0.55326\n",
      "Epoch 5/100\n",
      "410/410 [==============================] - 11s 27ms/step - loss: 0.9074 - accuracy: 0.5782 - val_loss: 1.0135 - val_accuracy: 0.5551\n",
      "\n",
      "Epoch 00005: val_accuracy improved from 0.55326 to 0.55508, saving model to resnet50.weights.hdf5\n",
      "Epoch 6/100\n",
      "410/410 [==============================] - 11s 28ms/step - loss: 0.8856 - accuracy: 0.5832 - val_loss: 1.0483 - val_accuracy: 0.5307\n",
      "\n",
      "Epoch 00006: val_accuracy did not improve from 0.55508\n",
      "Epoch 7/100\n",
      "410/410 [==============================] - 11s 27ms/step - loss: 0.8694 - accuracy: 0.5907 - val_loss: 0.9726 - val_accuracy: 0.5490\n",
      "\n",
      "Epoch 00007: val_accuracy did not improve from 0.55508\n",
      "Epoch 8/100\n",
      "410/410 [==============================] - 11s 28ms/step - loss: 0.8530 - accuracy: 0.6063 - val_loss: 1.1072 - val_accuracy: 0.5313\n",
      "\n",
      "Epoch 00008: val_accuracy did not improve from 0.55508\n",
      "Epoch 9/100\n",
      "410/410 [==============================] - 11s 28ms/step - loss: 0.8301 - accuracy: 0.6109 - val_loss: 1.0157 - val_accuracy: 0.5563\n",
      "\n",
      "Epoch 00009: val_accuracy improved from 0.55508 to 0.55630, saving model to resnet50.weights.hdf5\n",
      "Epoch 10/100\n",
      "410/410 [==============================] - 11s 27ms/step - loss: 0.8128 - accuracy: 0.6240 - val_loss: 0.9975 - val_accuracy: 0.5490\n",
      "\n",
      "Epoch 00010: val_accuracy did not improve from 0.55630\n",
      "Epoch 11/100\n",
      "410/410 [==============================] - 12s 29ms/step - loss: 0.7944 - accuracy: 0.6367 - val_loss: 1.0385 - val_accuracy: 0.5490\n",
      "\n",
      "Epoch 00011: val_accuracy did not improve from 0.55630\n",
      "Epoch 12/100\n",
      "410/410 [==============================] - 11s 27ms/step - loss: 0.7722 - accuracy: 0.6476 - val_loss: 1.0330 - val_accuracy: 0.5557\n",
      "\n",
      "Epoch 00012: val_accuracy did not improve from 0.55630\n",
      "Epoch 13/100\n",
      "410/410 [==============================] - 12s 29ms/step - loss: 0.7558 - accuracy: 0.6502 - val_loss: 1.0240 - val_accuracy: 0.5727\n",
      "\n",
      "Epoch 00013: val_accuracy improved from 0.55630 to 0.57273, saving model to resnet50.weights.hdf5\n",
      "Epoch 14/100\n",
      "410/410 [==============================] - 11s 27ms/step - loss: 0.7242 - accuracy: 0.6702 - val_loss: 1.0463 - val_accuracy: 0.5253\n",
      "\n",
      "Epoch 00014: val_accuracy did not improve from 0.57273\n",
      "Epoch 15/100\n",
      "410/410 [==============================] - 12s 28ms/step - loss: 0.7111 - accuracy: 0.6783 - val_loss: 1.0730 - val_accuracy: 0.5472\n",
      "\n",
      "Epoch 00015: val_accuracy did not improve from 0.57273\n",
      "Epoch 16/100\n",
      "410/410 [==============================] - 11s 27ms/step - loss: 0.6853 - accuracy: 0.6882 - val_loss: 1.1095 - val_accuracy: 0.5502\n",
      "\n",
      "Epoch 00016: val_accuracy did not improve from 0.57273\n",
      "Epoch 17/100\n",
      "410/410 [==============================] - 11s 27ms/step - loss: 0.6640 - accuracy: 0.7021 - val_loss: 1.0745 - val_accuracy: 0.5709\n",
      "\n",
      "Epoch 00017: val_accuracy did not improve from 0.57273\n",
      "Epoch 18/100\n",
      "410/410 [==============================] - 11s 26ms/step - loss: 0.6574 - accuracy: 0.7053 - val_loss: 1.0471 - val_accuracy: 0.5630\n",
      "\n",
      "Epoch 00018: val_accuracy did not improve from 0.57273\n",
      "Epoch 19/100\n",
      "410/410 [==============================] - 11s 28ms/step - loss: 0.6208 - accuracy: 0.7287 - val_loss: 1.1580 - val_accuracy: 0.5666\n",
      "\n",
      "Epoch 00019: val_accuracy did not improve from 0.57273\n",
      "Epoch 20/100\n",
      "410/410 [==============================] - 11s 27ms/step - loss: 0.6036 - accuracy: 0.7345 - val_loss: 1.2561 - val_accuracy: 0.5386\n",
      "\n",
      "Epoch 00020: val_accuracy did not improve from 0.57273\n",
      "Epoch 21/100\n",
      "410/410 [==============================] - 11s 28ms/step - loss: 0.6044 - accuracy: 0.7358 - val_loss: 1.1687 - val_accuracy: 0.5350\n",
      "\n",
      "Epoch 00021: val_accuracy did not improve from 0.57273\n",
      "Epoch 22/100\n",
      "410/410 [==============================] - 11s 26ms/step - loss: 0.5650 - accuracy: 0.7555 - val_loss: 1.1456 - val_accuracy: 0.5770\n",
      "\n",
      "Epoch 00022: val_accuracy improved from 0.57273 to 0.57699, saving model to resnet50.weights.hdf5\n",
      "Epoch 23/100\n",
      "410/410 [==============================] - 11s 28ms/step - loss: 0.5473 - accuracy: 0.7619 - val_loss: 1.1789 - val_accuracy: 0.5758\n",
      "\n",
      "Epoch 00023: val_accuracy did not improve from 0.57699\n",
      "Epoch 24/100\n",
      "410/410 [==============================] - 11s 27ms/step - loss: 0.5509 - accuracy: 0.7601 - val_loss: 1.3687 - val_accuracy: 0.5435\n",
      "\n",
      "Epoch 00024: val_accuracy did not improve from 0.57699\n",
      "Epoch 25/100\n",
      "410/410 [==============================] - 11s 27ms/step - loss: 0.5387 - accuracy: 0.7717 - val_loss: 1.2243 - val_accuracy: 0.5709\n",
      "\n",
      "Epoch 00025: val_accuracy did not improve from 0.57699\n",
      "Epoch 26/100\n",
      "410/410 [==============================] - 11s 28ms/step - loss: 0.5246 - accuracy: 0.7740 - val_loss: 1.2514 - val_accuracy: 0.5721\n",
      "\n",
      "Epoch 00026: val_accuracy did not improve from 0.57699\n",
      "Epoch 27/100\n",
      "410/410 [==============================] - 11s 27ms/step - loss: 0.5312 - accuracy: 0.7677 - val_loss: 1.2831 - val_accuracy: 0.5472\n",
      "\n",
      "Epoch 00027: val_accuracy did not improve from 0.57699\n",
      "Epoch 28/100\n",
      "410/410 [==============================] - 11s 27ms/step - loss: 0.5093 - accuracy: 0.7812 - val_loss: 1.2476 - val_accuracy: 0.5758\n",
      "\n",
      "Epoch 00028: val_accuracy did not improve from 0.57699\n",
      "Epoch 29/100\n",
      "410/410 [==============================] - 12s 29ms/step - loss: 0.4844 - accuracy: 0.7949 - val_loss: 1.3422 - val_accuracy: 0.5965\n",
      "\n",
      "Epoch 00029: val_accuracy improved from 0.57699 to 0.59647, saving model to resnet50.weights.hdf5\n",
      "Epoch 30/100\n",
      "410/410 [==============================] - 11s 26ms/step - loss: 0.4770 - accuracy: 0.7919 - val_loss: 1.2963 - val_accuracy: 0.5752\n",
      "\n",
      "Epoch 00030: val_accuracy did not improve from 0.59647\n",
      "Epoch 31/100\n",
      "410/410 [==============================] - 11s 28ms/step - loss: 0.4579 - accuracy: 0.8062 - val_loss: 1.2612 - val_accuracy: 0.5837\n",
      "\n",
      "Epoch 00031: val_accuracy did not improve from 0.59647\n",
      "Epoch 32/100\n",
      "410/410 [==============================] - 11s 27ms/step - loss: 0.4637 - accuracy: 0.8015 - val_loss: 1.4290 - val_accuracy: 0.5648\n",
      "\n",
      "Epoch 00032: val_accuracy did not improve from 0.59647\n",
      "Epoch 33/100\n",
      "410/410 [==============================] - 11s 28ms/step - loss: 0.4500 - accuracy: 0.8114 - val_loss: 1.3359 - val_accuracy: 0.5849\n",
      "\n",
      "Epoch 00033: val_accuracy did not improve from 0.59647\n",
      "Epoch 34/100\n",
      "410/410 [==============================] - 11s 27ms/step - loss: 0.4488 - accuracy: 0.8103 - val_loss: 1.2957 - val_accuracy: 0.5922\n",
      "\n",
      "Epoch 00034: val_accuracy did not improve from 0.59647\n",
      "Epoch 35/100\n",
      "410/410 [==============================] - 12s 28ms/step - loss: 0.4446 - accuracy: 0.8070 - val_loss: 1.4301 - val_accuracy: 0.5648\n",
      "\n",
      "Epoch 00035: val_accuracy did not improve from 0.59647\n",
      "Epoch 36/100\n",
      "410/410 [==============================] - 11s 27ms/step - loss: 0.4400 - accuracy: 0.8150 - val_loss: 1.4173 - val_accuracy: 0.5386\n",
      "\n",
      "Epoch 00036: val_accuracy did not improve from 0.59647\n",
      "Epoch 37/100\n",
      "410/410 [==============================] - 12s 29ms/step - loss: 0.4327 - accuracy: 0.8178 - val_loss: 1.4178 - val_accuracy: 0.5685\n",
      "\n",
      "Epoch 00037: val_accuracy did not improve from 0.59647\n",
      "Epoch 38/100\n",
      "410/410 [==============================] - 11s 26ms/step - loss: 0.4264 - accuracy: 0.8228 - val_loss: 1.3484 - val_accuracy: 0.5733\n",
      "\n",
      "Epoch 00038: val_accuracy did not improve from 0.59647\n",
      "Epoch 39/100\n",
      "410/410 [==============================] - 11s 27ms/step - loss: 0.3971 - accuracy: 0.8361 - val_loss: 1.4624 - val_accuracy: 0.5800\n",
      "\n",
      "Epoch 00039: ReduceLROnPlateau reducing learning rate to 0.00020000000949949026.\n",
      "\n",
      "Epoch 00039: val_accuracy did not improve from 0.59647\n",
      "Epoch 40/100\n",
      "410/410 [==============================] - 12s 28ms/step - loss: 0.3518 - accuracy: 0.8544 - val_loss: 1.3131 - val_accuracy: 0.5904\n",
      "\n",
      "Epoch 00040: val_accuracy did not improve from 0.59647\n",
      "Epoch 41/100\n",
      "410/410 [==============================] - 11s 27ms/step - loss: 0.3356 - accuracy: 0.8668 - val_loss: 1.3220 - val_accuracy: 0.6080\n",
      "\n",
      "Epoch 00041: val_accuracy improved from 0.59647 to 0.60803, saving model to resnet50.weights.hdf5\n",
      "Epoch 42/100\n",
      "410/410 [==============================] - 11s 27ms/step - loss: 0.3093 - accuracy: 0.8741 - val_loss: 1.3313 - val_accuracy: 0.6038\n",
      "\n",
      "Epoch 00042: val_accuracy did not improve from 0.60803\n",
      "Epoch 43/100\n",
      "410/410 [==============================] - 11s 27ms/step - loss: 0.2934 - accuracy: 0.8831 - val_loss: 1.3682 - val_accuracy: 0.6019\n",
      "\n",
      "Epoch 00043: val_accuracy did not improve from 0.60803\n",
      "Epoch 44/100\n",
      "410/410 [==============================] - 12s 28ms/step - loss: 0.2984 - accuracy: 0.8825 - val_loss: 1.3854 - val_accuracy: 0.6172\n",
      "\n",
      "Epoch 00044: val_accuracy improved from 0.60803 to 0.61716, saving model to resnet50.weights.hdf5\n",
      "Epoch 45/100\n",
      "410/410 [==============================] - 11s 27ms/step - loss: 0.2773 - accuracy: 0.8886 - val_loss: 1.4280 - val_accuracy: 0.6099\n",
      "\n",
      "Epoch 00045: val_accuracy did not improve from 0.61716\n",
      "Epoch 46/100\n",
      "410/410 [==============================] - 11s 28ms/step - loss: 0.2666 - accuracy: 0.8941 - val_loss: 1.4403 - val_accuracy: 0.6129\n",
      "\n",
      "Epoch 00046: val_accuracy did not improve from 0.61716\n",
      "Epoch 47/100\n",
      "410/410 [==============================] - 11s 27ms/step - loss: 0.2826 - accuracy: 0.8839 - val_loss: 1.4414 - val_accuracy: 0.6099\n",
      "\n",
      "Epoch 00047: val_accuracy did not improve from 0.61716\n",
      "Epoch 48/100\n",
      "410/410 [==============================] - 12s 28ms/step - loss: 0.2576 - accuracy: 0.8955 - val_loss: 1.4447 - val_accuracy: 0.6129\n",
      "\n",
      "Epoch 00048: val_accuracy did not improve from 0.61716\n",
      "Epoch 49/100\n",
      "410/410 [==============================] - 11s 27ms/step - loss: 0.2610 - accuracy: 0.8967 - val_loss: 1.5150 - val_accuracy: 0.6050\n",
      "\n",
      "Epoch 00049: val_accuracy did not improve from 0.61716\n",
      "Epoch 50/100\n",
      "410/410 [==============================] - 11s 27ms/step - loss: 0.2520 - accuracy: 0.8999 - val_loss: 1.5086 - val_accuracy: 0.6056\n",
      "\n",
      "Epoch 00050: val_accuracy did not improve from 0.61716\n",
      "Epoch 51/100\n",
      "410/410 [==============================] - 12s 28ms/step - loss: 0.2612 - accuracy: 0.8917 - val_loss: 1.5072 - val_accuracy: 0.6007\n",
      "\n",
      "Epoch 00051: val_accuracy did not improve from 0.61716\n",
      "Epoch 52/100\n",
      "410/410 [==============================] - 11s 26ms/step - loss: 0.2591 - accuracy: 0.8956 - val_loss: 1.5071 - val_accuracy: 0.6251\n",
      "\n",
      "Epoch 00052: val_accuracy improved from 0.61716 to 0.62508, saving model to resnet50.weights.hdf5\n",
      "Epoch 53/100\n",
      "410/410 [==============================] - 12s 28ms/step - loss: 0.2582 - accuracy: 0.8938 - val_loss: 1.5009 - val_accuracy: 0.6166\n",
      "\n",
      "Epoch 00053: val_accuracy did not improve from 0.62508\n",
      "Epoch 54/100\n",
      "410/410 [==============================] - 11s 27ms/step - loss: 0.2452 - accuracy: 0.8999 - val_loss: 1.5363 - val_accuracy: 0.6141\n",
      "\n",
      "Epoch 00054: val_accuracy did not improve from 0.62508\n",
      "Epoch 55/100\n",
      "410/410 [==============================] - 12s 28ms/step - loss: 0.2423 - accuracy: 0.9045 - val_loss: 1.5462 - val_accuracy: 0.6153\n",
      "\n",
      "Epoch 00055: val_accuracy did not improve from 0.62508\n",
      "Epoch 56/100\n",
      "410/410 [==============================] - 11s 27ms/step - loss: 0.2343 - accuracy: 0.9052 - val_loss: 1.5560 - val_accuracy: 0.6013\n",
      "\n",
      "Epoch 00056: val_accuracy did not improve from 0.62508\n",
      "Epoch 57/100\n",
      "410/410 [==============================] - 12s 28ms/step - loss: 0.2362 - accuracy: 0.9046 - val_loss: 1.5802 - val_accuracy: 0.6013\n",
      "\n",
      "Epoch 00057: val_accuracy did not improve from 0.62508\n",
      "Epoch 58/100\n",
      "410/410 [==============================] - 11s 26ms/step - loss: 0.2263 - accuracy: 0.9119 - val_loss: 1.5664 - val_accuracy: 0.6123\n",
      "\n",
      "Epoch 00058: val_accuracy did not improve from 0.62508\n",
      "Epoch 59/100\n",
      "410/410 [==============================] - 12s 28ms/step - loss: 0.2428 - accuracy: 0.9026 - val_loss: 1.5825 - val_accuracy: 0.6111\n",
      "\n",
      "Epoch 00059: val_accuracy did not improve from 0.62508\n",
      "Epoch 60/100\n",
      "410/410 [==============================] - 11s 27ms/step - loss: 0.2230 - accuracy: 0.9116 - val_loss: 1.6069 - val_accuracy: 0.6123\n",
      "\n",
      "Epoch 00060: val_accuracy did not improve from 0.62508\n",
      "Epoch 61/100\n",
      "410/410 [==============================] - 12s 29ms/step - loss: 0.2290 - accuracy: 0.9084 - val_loss: 1.5962 - val_accuracy: 0.6105\n",
      "\n",
      "Epoch 00061: val_accuracy did not improve from 0.62508\n",
      "Epoch 62/100\n",
      "410/410 [==============================] - 11s 27ms/step - loss: 0.2240 - accuracy: 0.9129 - val_loss: 1.6156 - val_accuracy: 0.6038\n",
      "\n",
      "Epoch 00062: ReduceLROnPlateau reducing learning rate to 4.0000001899898055e-05.\n",
      "\n",
      "Epoch 00062: val_accuracy did not improve from 0.62508\n",
      "Epoch 63/100\n",
      "410/410 [==============================] - 12s 28ms/step - loss: 0.2095 - accuracy: 0.9162 - val_loss: 1.5952 - val_accuracy: 0.6074\n",
      "\n",
      "Epoch 00063: val_accuracy did not improve from 0.62508\n",
      "Epoch 64/100\n",
      "410/410 [==============================] - 11s 27ms/step - loss: 0.2066 - accuracy: 0.9173 - val_loss: 1.6060 - val_accuracy: 0.6159\n",
      "\n",
      "Epoch 00064: val_accuracy did not improve from 0.62508\n",
      "Epoch 65/100\n",
      "410/410 [==============================] - 11s 28ms/step - loss: 0.2113 - accuracy: 0.9162 - val_loss: 1.6169 - val_accuracy: 0.6123\n",
      "\n",
      "Epoch 00065: val_accuracy did not improve from 0.62508\n",
      "Epoch 66/100\n",
      "410/410 [==============================] - 11s 27ms/step - loss: 0.2103 - accuracy: 0.9176 - val_loss: 1.6111 - val_accuracy: 0.6105\n",
      "\n",
      "Epoch 00066: val_accuracy did not improve from 0.62508\n",
      "Epoch 67/100\n",
      "410/410 [==============================] - 11s 28ms/step - loss: 0.2036 - accuracy: 0.9197 - val_loss: 1.6199 - val_accuracy: 0.6178\n",
      "\n",
      "Epoch 00067: val_accuracy did not improve from 0.62508\n",
      "Epoch 68/100\n",
      "410/410 [==============================] - 11s 27ms/step - loss: 0.2104 - accuracy: 0.9168 - val_loss: 1.6123 - val_accuracy: 0.6129\n",
      "\n",
      "Epoch 00068: val_accuracy did not improve from 0.62508\n",
      "Epoch 69/100\n",
      "410/410 [==============================] - 11s 27ms/step - loss: 0.1982 - accuracy: 0.9266 - val_loss: 1.6490 - val_accuracy: 0.6184\n",
      "\n",
      "Epoch 00069: val_accuracy did not improve from 0.62508\n",
      "Epoch 70/100\n",
      "410/410 [==============================] - 12s 29ms/step - loss: 0.1939 - accuracy: 0.9246 - val_loss: 1.6281 - val_accuracy: 0.6111\n",
      "\n",
      "Epoch 00070: val_accuracy did not improve from 0.62508\n",
      "Epoch 71/100\n",
      "410/410 [==============================] - 11s 27ms/step - loss: 0.2018 - accuracy: 0.9225 - val_loss: 1.6500 - val_accuracy: 0.6172\n",
      "\n",
      "Epoch 00071: val_accuracy did not improve from 0.62508\n",
      "Epoch 72/100\n",
      "410/410 [==============================] - 11s 28ms/step - loss: 0.1926 - accuracy: 0.9220 - val_loss: 1.6155 - val_accuracy: 0.6159\n",
      "\n",
      "Epoch 00072: ReduceLROnPlateau reducing learning rate to 1e-05.\n",
      "Restoring model weights from the end of the best epoch.\n",
      "\n",
      "Epoch 00072: val_accuracy did not improve from 0.62508\n",
      "Epoch 00072: early stopping\n"
     ]
    }
   ],
   "source": [
    "# Non-augmentation\n",
    "train_gen = ImageDataGenerator().flow(X_train, y_train_onehot , batch_size = BATCH_SIZE)\n",
    "valid_gen = ImageDataGenerator().flow(X_valid, y_valid_onehot, batch_size = BATCH_SIZE)\n",
    "\n",
    "history_resnet50 = resnet50.fit(\n",
    "    train_gen\n",
    "    , steps_per_epoch = TRAIN_STEPS\n",
    "    , validation_data = valid_gen\n",
    "    , epochs = 100\n",
    "    , callbacks = [reduceLR, early_stopping, checkpoint]\n",
    ")"
   ]
  },
  {
   "cell_type": "code",
   "execution_count": 63,
   "id": "944f1951",
   "metadata": {
    "execution": {
     "iopub.execute_input": "2022-11-21T09:57:17.067912Z",
     "iopub.status.busy": "2022-11-21T09:57:17.067536Z",
     "iopub.status.idle": "2022-11-21T09:57:17.072228Z",
     "shell.execute_reply": "2022-11-21T09:57:17.071272Z"
    },
    "papermill": {
     "duration": 3.108272,
     "end_time": "2022-11-21T09:57:17.074196",
     "exception": false,
     "start_time": "2022-11-21T09:57:13.965924",
     "status": "completed"
    },
    "tags": []
   },
   "outputs": [],
   "source": [
    "# initialize callbacks\n",
    "checkpoint_ag = ModelCheckpoint('resnet_ag.weights.hdf5', monitor='val_accuracy', verbose=1,save_best_only=True, mode= 'max')"
   ]
  },
  {
   "cell_type": "code",
   "execution_count": 64,
   "id": "320dafe6",
   "metadata": {
    "execution": {
     "iopub.execute_input": "2022-11-21T09:57:24.208286Z",
     "iopub.status.busy": "2022-11-21T09:57:24.207911Z",
     "iopub.status.idle": "2022-11-21T10:10:04.072330Z",
     "shell.execute_reply": "2022-11-21T10:10:04.070897Z"
    },
    "papermill": {
     "duration": 763.724064,
     "end_time": "2022-11-21T10:10:04.074834",
     "exception": false,
     "start_time": "2022-11-21T09:57:20.350770",
     "status": "completed"
    },
    "tags": []
   },
   "outputs": [
    {
     "name": "stdout",
     "output_type": "stream",
     "text": [
      "Epoch 1/100\n",
      "410/410 [==============================] - 29s 71ms/step - loss: 2.1156 - accuracy: 0.4505 - val_loss: 1.6353 - val_accuracy: 0.5956\n",
      "\n",
      "Epoch 00001: val_accuracy improved from -inf to 0.59559, saving model to resnet_ag.weights.hdf5\n",
      "Epoch 2/100\n",
      "410/410 [==============================] - 32s 77ms/step - loss: 2.0238 - accuracy: 0.4506 - val_loss: 1.5869 - val_accuracy: 0.5944\n",
      "\n",
      "Epoch 00002: val_accuracy did not improve from 0.59559\n",
      "Epoch 3/100\n",
      "410/410 [==============================] - 30s 74ms/step - loss: 1.9737 - accuracy: 0.4497 - val_loss: 1.5720 - val_accuracy: 0.5938\n",
      "\n",
      "Epoch 00003: val_accuracy did not improve from 0.59559\n",
      "Epoch 4/100\n",
      "410/410 [==============================] - 32s 78ms/step - loss: 1.9465 - accuracy: 0.4491 - val_loss: 1.5243 - val_accuracy: 0.5907\n",
      "\n",
      "Epoch 00004: val_accuracy did not improve from 0.59559\n",
      "Epoch 5/100\n",
      "410/410 [==============================] - 32s 78ms/step - loss: 1.9063 - accuracy: 0.4511 - val_loss: 1.5126 - val_accuracy: 0.5931\n",
      "\n",
      "Epoch 00005: val_accuracy did not improve from 0.59559\n",
      "Epoch 6/100\n",
      "410/410 [==============================] - 32s 79ms/step - loss: 1.8260 - accuracy: 0.4601 - val_loss: 1.4837 - val_accuracy: 0.5907\n",
      "\n",
      "Epoch 00006: val_accuracy did not improve from 0.59559\n",
      "Epoch 7/100\n",
      "410/410 [==============================] - 32s 77ms/step - loss: 1.8541 - accuracy: 0.4544 - val_loss: 1.4510 - val_accuracy: 0.5925\n",
      "\n",
      "Epoch 00007: val_accuracy did not improve from 0.59559\n",
      "Epoch 8/100\n",
      "410/410 [==============================] - 32s 78ms/step - loss: 1.7835 - accuracy: 0.4541 - val_loss: 1.4498 - val_accuracy: 0.5944\n",
      "\n",
      "Epoch 00008: val_accuracy did not improve from 0.59559\n",
      "Epoch 9/100\n",
      "410/410 [==============================] - 32s 79ms/step - loss: 1.7525 - accuracy: 0.4560 - val_loss: 1.4059 - val_accuracy: 0.5895\n",
      "\n",
      "Epoch 00009: val_accuracy did not improve from 0.59559\n",
      "Epoch 10/100\n",
      "410/410 [==============================] - 32s 79ms/step - loss: 1.7494 - accuracy: 0.4511 - val_loss: 1.3871 - val_accuracy: 0.5907\n",
      "\n",
      "Epoch 00010: val_accuracy did not improve from 0.59559\n",
      "Epoch 11/100\n",
      "410/410 [==============================] - 32s 78ms/step - loss: 1.7111 - accuracy: 0.4483 - val_loss: 1.3885 - val_accuracy: 0.5858\n",
      "\n",
      "Epoch 00011: val_accuracy did not improve from 0.59559\n",
      "Epoch 12/100\n",
      "410/410 [==============================] - 31s 76ms/step - loss: 1.6911 - accuracy: 0.4526 - val_loss: 1.3649 - val_accuracy: 0.5907\n",
      "\n",
      "Epoch 00012: val_accuracy did not improve from 0.59559\n",
      "Epoch 13/100\n",
      "410/410 [==============================] - 31s 76ms/step - loss: 1.6893 - accuracy: 0.4511 - val_loss: 1.3606 - val_accuracy: 0.5858\n",
      "\n",
      "Epoch 00013: val_accuracy did not improve from 0.59559\n",
      "Epoch 14/100\n",
      "410/410 [==============================] - 30s 72ms/step - loss: 1.6666 - accuracy: 0.4529 - val_loss: 1.3349 - val_accuracy: 0.5938\n",
      "\n",
      "Epoch 00014: val_accuracy did not improve from 0.59559\n",
      "Epoch 15/100\n",
      "410/410 [==============================] - 32s 78ms/step - loss: 1.6431 - accuracy: 0.4482 - val_loss: 1.3204 - val_accuracy: 0.5870\n",
      "\n",
      "Epoch 00015: val_accuracy did not improve from 0.59559\n",
      "Epoch 16/100\n",
      "410/410 [==============================] - 32s 79ms/step - loss: 1.6139 - accuracy: 0.4586 - val_loss: 1.3130 - val_accuracy: 0.5852\n",
      "\n",
      "Epoch 00016: val_accuracy did not improve from 0.59559\n",
      "Epoch 17/100\n",
      "410/410 [==============================] - 32s 77ms/step - loss: 1.5968 - accuracy: 0.4470 - val_loss: 1.2847 - val_accuracy: 0.5858\n",
      "\n",
      "Epoch 00017: val_accuracy did not improve from 0.59559\n",
      "Epoch 18/100\n",
      "410/410 [==============================] - 31s 75ms/step - loss: 1.5814 - accuracy: 0.4454 - val_loss: 1.2716 - val_accuracy: 0.5888\n",
      "\n",
      "Epoch 00018: val_accuracy did not improve from 0.59559\n",
      "Epoch 19/100\n",
      "410/410 [==============================] - 30s 74ms/step - loss: 1.5488 - accuracy: 0.4514 - val_loss: 1.2793 - val_accuracy: 0.5864\n",
      "\n",
      "Epoch 00019: val_accuracy did not improve from 0.59559\n",
      "Epoch 20/100\n",
      "410/410 [==============================] - 32s 78ms/step - loss: 1.5174 - accuracy: 0.4616 - val_loss: 1.2561 - val_accuracy: 0.5870\n",
      "\n",
      "Epoch 00020: val_accuracy did not improve from 0.59559\n",
      "Epoch 21/100\n",
      "410/410 [==============================] - 32s 77ms/step - loss: 1.5277 - accuracy: 0.4572 - val_loss: 1.2350 - val_accuracy: 0.5803\n",
      "Restoring model weights from the end of the best epoch.\n",
      "\n",
      "Epoch 00021: val_accuracy did not improve from 0.59559\n",
      "Epoch 00021: early stopping\n"
     ]
    }
   ],
   "source": [
    "# augmentation\n",
    "train_datagen = ImageDataGenerator(\n",
    "                                rotation_range = 40,\n",
    "                                zoom_range = 0.2,\n",
    "                                width_shift_range=0.2,\n",
    "                                height_shift_range=0.2,\n",
    "                                shear_range=0.2,\n",
    "                                horizontal_flip = True,\n",
    "                                vertical_flip = True)\n",
    "\n",
    "train_gen_ag = train_datagen.flow(X_train, y_train_onehot, batch_size= BATCH_SIZE)\n",
    "\n",
    "history_resnet50_ag = resnet50.fit(\n",
    "    train_gen_ag\n",
    "    , steps_per_epoch= TRAIN_STEPS\n",
    "    , validation_data=valid_gen\n",
    "    , validation_steps=VAL_STEPS\n",
    "    , epochs= 100\n",
    "    , callbacks= [reduceLR, early_stopping, checkpoint_ag]\n",
    ")"
   ]
  },
  {
   "cell_type": "code",
   "execution_count": 65,
   "id": "1b30e156",
   "metadata": {
    "execution": {
     "iopub.execute_input": "2022-11-21T10:10:11.598570Z",
     "iopub.status.busy": "2022-11-21T10:10:11.597315Z",
     "iopub.status.idle": "2022-11-21T10:10:13.798242Z",
     "shell.execute_reply": "2022-11-21T10:10:13.797268Z"
    },
    "papermill": {
     "duration": 6.036391,
     "end_time": "2022-11-21T10:10:13.800497",
     "exception": false,
     "start_time": "2022-11-21T10:10:07.764106",
     "status": "completed"
    },
    "tags": []
   },
   "outputs": [
    {
     "data": {
      "image/png": "[encoded data removed]",
      "text/plain": [
       "<Figure size 1440x1152 with 4 Axes>"
      ]
     },
     "metadata": {
      "needs_background": "light"
     },
     "output_type": "display_data"
    }
   ],
   "source": [
    "plt.figure(figsize=(20, 16))\n",
    "\n",
    "plt.subplot(2, 2, 1)\n",
    "plt.plot(history_resnet50.history['accuracy'], label='Training Accuracy')\n",
    "plt.plot(history_resnet50.history['val_accuracy'], label='Validation Accuracy')\n",
    "plt.legend(loc='lower right')\n",
    "plt.title('Non-Augmentation Training and Validation Accuracy')\n",
    "\n",
    "plt.subplot(2, 2, 2)\n",
    "plt.plot(history_resnet50.history['loss'], label='Training Loss')\n",
    "plt.plot(history_resnet50.history['val_loss'], label='Validation Loss')\n",
    "plt.legend(loc='upper right')\n",
    "plt.title('Non-Augmentation Training and Validation Loss')\n",
    "\n",
    "plt.subplot(2, 2, 3)\n",
    "plt.plot(history_resnet50_ag.history['accuracy'], label='Training Accuracy')\n",
    "plt.plot(history_resnet50_ag.history['val_accuracy'], label='Validation Accuracy')\n",
    "plt.legend(loc='lower right')\n",
    "plt.title('Augmentation Training and Validation Accuracy')\n",
    "\n",
    "plt.subplot(2, 2, 4)\n",
    "plt.plot(history_resnet50_ag.history['loss'], label='Training Loss')\n",
    "plt.plot(history_resnet50_ag.history['val_loss'], label='Validation Loss')\n",
    "plt.legend(loc='upper right')\n",
    "plt.title('Augmentation Training and Validation Loss')\n",
    "\n",
    "plt.show()"
   ]
  },
  {
   "cell_type": "code",
   "execution_count": null,
   "id": "b8d44fb5",
   "metadata": {
    "papermill": {
     "duration": 3.71486,
     "end_time": "2022-11-21T10:10:21.227250",
     "exception": false,
     "start_time": "2022-11-21T10:10:17.512390",
     "status": "completed"
    },
    "tags": []
   },
   "outputs": [],
   "source": []
  },
  {
   "cell_type": "code",
   "execution_count": null,
   "id": "c5bad889",
   "metadata": {
    "papermill": {
     "duration": 4.137783,
     "end_time": "2022-11-21T10:10:29.309197",
     "exception": false,
     "start_time": "2022-11-21T10:10:25.171414",
     "status": "completed"
    },
    "tags": []
   },
   "outputs": [],
   "source": []
  },
  {
   "cell_type": "markdown",
   "id": "adcdb211",
   "metadata": {
    "papermill": {
     "duration": 3.701435,
     "end_time": "2022-11-21T10:10:36.850324",
     "exception": false,
     "start_time": "2022-11-21T10:10:33.148889",
     "status": "completed"
    },
    "tags": []
   },
   "source": [
    "# 모델진단"
   ]
  },
  {
   "cell_type": "code",
   "execution_count": 66,
   "id": "18dae901",
   "metadata": {
    "execution": {
     "iopub.execute_input": "2022-11-21T10:10:44.320139Z",
     "iopub.status.busy": "2022-11-21T10:10:44.319725Z",
     "iopub.status.idle": "2022-11-21T10:10:44.324691Z",
     "shell.execute_reply": "2022-11-21T10:10:44.323680Z"
    },
    "papermill": {
     "duration": 3.794882,
     "end_time": "2022-11-21T10:10:44.326934",
     "exception": false,
     "start_time": "2022-11-21T10:10:40.532052",
     "status": "completed"
    },
    "tags": []
   },
   "outputs": [],
   "source": [
    "# import test data\n",
    "\n",
    "#test_y = pd.read_csv(\"../input/intel-mobileodt-cervical-cancer-screening/solution_stg1_release.csv\")\n",
    "#test_y.loc[1,['Type_1','Type_2','Type_3']]\n",
    "\n",
    "#root_dir = '../input/intel-mobileodt-cervical-cancer-screening'\n",
    "#test_dir = os.path.join(root_dir,'test', 'test')\n",
    "\n",
    "#test_type = []\n",
    "#test_features = []\n",
    "#i=0\n",
    "#for fn in test_y[['image_name']].to_numpy():\n",
    "#    for filename in fn:\n",
    "#        filepath = os.path.join(test_dir,filename)\n",
    "#        img = cv2.imread(filepath)\n",
    "#        resized_img = cv2.resize(img, (128, 128))\n",
    "#        test_features.append(np.array(resized_img))\n",
    "#        test_type.append(np.array(test_y.loc[i,['Type_1','Type_2','Type_3']]))\n",
    "#        i=i+1\n",
    "    \n",
    "#print( len(test_features))"
   ]
  },
  {
   "cell_type": "code",
   "execution_count": 67,
   "id": "ea0cd4c5",
   "metadata": {
    "execution": {
     "iopub.execute_input": "2022-11-21T10:10:51.680189Z",
     "iopub.status.busy": "2022-11-21T10:10:51.679807Z",
     "iopub.status.idle": "2022-11-21T10:10:51.684034Z",
     "shell.execute_reply": "2022-11-21T10:10:51.683000Z"
    },
    "papermill": {
     "duration": 3.683767,
     "end_time": "2022-11-21T10:10:51.685910",
     "exception": false,
     "start_time": "2022-11-21T10:10:48.002143",
     "status": "completed"
    },
    "tags": []
   },
   "outputs": [],
   "source": [
    "#load best weights\n",
    "#vgg16.load_weights('cervicalModel.weights.hdf5')"
   ]
  },
  {
   "cell_type": "code",
   "execution_count": 68,
   "id": "72f915b0",
   "metadata": {
    "execution": {
     "iopub.execute_input": "2022-11-21T10:10:59.678008Z",
     "iopub.status.busy": "2022-11-21T10:10:59.677619Z",
     "iopub.status.idle": "2022-11-21T10:10:59.682339Z",
     "shell.execute_reply": "2022-11-21T10:10:59.681214Z"
    },
    "papermill": {
     "duration": 4.098759,
     "end_time": "2022-11-21T10:10:59.684438",
     "exception": false,
     "start_time": "2022-11-21T10:10:55.585679",
     "status": "completed"
    },
    "tags": []
   },
   "outputs": [],
   "source": [
    "#vgg16.evaluate(test_gen)"
   ]
  },
  {
   "cell_type": "code",
   "execution_count": null,
   "id": "505c3b9b",
   "metadata": {
    "papermill": {
     "duration": 3.92055,
     "end_time": "2022-11-21T10:11:07.285982",
     "exception": false,
     "start_time": "2022-11-21T10:11:03.365432",
     "status": "completed"
    },
    "tags": []
   },
   "outputs": [],
   "source": []
  },
  {
   "cell_type": "code",
   "execution_count": 69,
   "id": "9acdc4dc",
   "metadata": {
    "collapsed": false,
    "execution": {
     "iopub.execute_input": "2022-11-21T10:11:14.511251Z",
     "iopub.status.busy": "2022-11-21T10:11:14.510867Z",
     "iopub.status.idle": "2022-11-21T10:11:14.516457Z",
     "shell.execute_reply": "2022-11-21T10:11:14.515547Z"
    },
    "jupyter": {
     "outputs_hidden": false
    },
    "papermill": {
     "duration": 3.674765,
     "end_time": "2022-11-21T10:11:14.518344",
     "exception": false,
     "start_time": "2022-11-21T10:11:10.843579",
     "status": "completed"
    },
    "pycharm": {
     "name": "#%%\n"
    },
    "tags": []
   },
   "outputs": [],
   "source": [
    "#이미지 오류남\n",
    "\n",
    "#stage1 = y_train[y_train == 0].index\n",
    "#stage2 = y_train[y_train == 1].index\n",
    "#stage3 = y_train[y_train == 2].index\n",
    "\n",
    "#\n",
    "\n",
    "#stage1 = np.where(y_train == 0)\n",
    "#type(stage1)\n",
    "#stageq = stage1[0]\n",
    "\n",
    "#stage2 = np.where(y_train == 1)\n",
    "#type(stage2)\n",
    "#stagew = stage2[0]\n",
    "\n",
    "#stage3 = np.where(y_train == 2)\n",
    "#type(stage3)\n",
    "#stagee = stage3[0]\n",
    "\n",
    "#\n",
    "\n",
    "#plt.figure(figsize=(20, 20))\n",
    "\n",
    "#for i in range(16):\n",
    "#    plt.subplot(4, 4, i+1)\n",
    "#    plt.suptitle('Type1 Images', fontsize=20) # 하나의 큰 제목 설정\n",
    "#    plt.imshow(X_train[stageq[i]])\n",
    "#    plt.title('Type1')\n",
    "#    plt.subplots_adjust(hspace=0.5)\n",
    "#    plt.axis(False)\n",
    "#plt.show()\n",
    "\n",
    "#\n",
    "\n",
    "#plt.figure(figsize=(20, 20))\n",
    "\n",
    "#for i in range(16):\n",
    "#    plt.subplot(4, 4, i+1)\n",
    "#    plt.suptitle('type2 Images', fontsize=20) # 하나의 큰 제목 설정\n",
    "#    plt.imshow(X_train[stagew[i]])\n",
    "#    plt.title('type2')\n",
    "#    plt.subplots_adjust(hspace=0.5)\n",
    "#    plt.axis(False)\n",
    "#plt.savefig('type2.png', dpi=300)\n",
    "#plt.show()\n",
    "\n",
    "#\n",
    "\n",
    "#plt.figure(figsize=(20, 20))\n",
    "#\n",
    "#for i in range(16):\n",
    "#    plt.subplot(4, 4, i+1)\n",
    "#    plt.suptitle('type3 Images', fontsize=20) # 하나의 큰 제목 설정\n",
    "#    plt.imshow(X_train[stagee[i]])\n",
    "#    plt.title('type3')\n",
    "#    plt.subplots_adjust(hspace=0.5)\n",
    "#    plt.axis(False)\n",
    "#plt.savefig('type3.png', dpi=300)\n",
    "#plt.show()"
   ]
  },
  {
   "cell_type": "code",
   "execution_count": 70,
   "id": "4ceddd8a",
   "metadata": {
    "execution": {
     "iopub.execute_input": "2022-11-21T10:11:22.134927Z",
     "iopub.status.busy": "2022-11-21T10:11:22.134531Z",
     "iopub.status.idle": "2022-11-21T10:11:22.139958Z",
     "shell.execute_reply": "2022-11-21T10:11:22.138851Z"
    },
    "papermill": {
     "duration": 3.710557,
     "end_time": "2022-11-21T10:11:22.142094",
     "exception": false,
     "start_time": "2022-11-21T10:11:18.431537",
     "status": "completed"
    },
    "pycharm": {
     "name": "#%%\n"
    },
    "tags": []
   },
   "outputs": [],
   "source": [
    "# 참고용\n",
    "# double\n",
    "\n",
    "#history_df_cnn = pd.DataFrame(historycnn.history)\n",
    "#history_df_dnn = pd.DataFrame(historydnn.history)\n",
    "\n",
    "#plt.figure(figsize= (15,6))\n",
    "#plt.subplot(1,2,1)\n",
    "#plt.plot(history_df_cnn['accuracy'], label= 'cnn_accuracy' )\n",
    "## plt.plot(history_df_cnn['val_accuracy'], label= 'val_accuracy')\n",
    "#plt.plot(history_df_dnn['accuracy'], label= 'dnn_accuracy', color='limegreen' )\n",
    "## plt.plot(history_df_dnn['val_accuracy'], label= 'val_accuracy', color='limegreen')\n",
    "## history_df[['acc', 'val_acc']]\n",
    "#plt.xlabel('Epochs')\n",
    "#plt.ylabel('Accuracy')\n",
    "#plt.title('Training and Validation Accuracy History')\n",
    "#plt.legend()\n",
    "\n",
    "# display history of loss\n",
    "#plt.subplot(1,2,2)\n",
    "#plt.plot(history_df_cnn['loss'], label= 'cnn_loss')\n",
    "##plt.plot(history_df_cnn['val_loss'], label= 'val_loss')\n",
    "#plt.plot(history_df_dnn['loss'], label= 'dnn_loss', color='limegreen')\n",
    "##plt.plot(history_df_dnn['val_loss'], label= 'val_loss', color='limegreen')\n",
    "# history_df[['loss', 'val_loss']].plot()\n",
    "#plt.xlabel('Epochs')\n",
    "#plt.ylabel('Loss')\n",
    "#plt.title('Training and Validation Loss History')\n",
    "#plt.legend()\n",
    "#plt.savefig('fig2.png', dpi=300)\n",
    "#plt.show()\n"
   ]
  },
  {
   "cell_type": "code",
   "execution_count": 71,
   "id": "9bb3c3c6",
   "metadata": {
    "execution": {
     "iopub.execute_input": "2022-11-21T10:11:29.976690Z",
     "iopub.status.busy": "2022-11-21T10:11:29.976281Z",
     "iopub.status.idle": "2022-11-21T10:11:29.981226Z",
     "shell.execute_reply": "2022-11-21T10:11:29.980297Z"
    },
    "papermill": {
     "duration": 4.233869,
     "end_time": "2022-11-21T10:11:29.985408",
     "exception": false,
     "start_time": "2022-11-21T10:11:25.751539",
     "status": "completed"
    },
    "tags": []
   },
   "outputs": [],
   "source": [
    "#plt.figure(figsize= (6,6))\n",
    "#plt.plot(history_df_cnn['accuracy'], label= 'cnn_accuracy' )\n",
    "##plt.plot(history_df_cnn['val_loss'], label= 'val_loss')\n",
    "##plt.plot(history_df_dnn['loss'], label= 'dnn_loss', color='limegreen')\n",
    "##plt.plot(history_df_dnn['val_loss'], label= 'val_loss', color='limegreen')\n",
    "## history_df[['loss', 'val_loss']].plot()\n",
    "#plt.xlabel('Epochs')\n",
    "#plt.ylabel('Loss')\n",
    "#plt.title('Training and Validation Loss History')\n",
    "#plt.legend()\n",
    "#plt.savefig('cnnaccuracy.png', dpi=300)\n",
    "#plt.show()"
   ]
  },
  {
   "cell_type": "markdown",
   "id": "8a29f6f7",
   "metadata": {
    "papermill": {
     "duration": 3.601124,
     "end_time": "2022-11-21T10:11:37.445478",
     "exception": false,
     "start_time": "2022-11-21T10:11:33.844354",
     "status": "completed"
    },
    "tags": []
   },
   "source": [
    "# test data (2차에 활용)"
   ]
  },
  {
   "cell_type": "code",
   "execution_count": 72,
   "id": "2c6b43fc",
   "metadata": {
    "execution": {
     "iopub.execute_input": "2022-11-21T10:11:45.080285Z",
     "iopub.status.busy": "2022-11-21T10:11:45.079903Z",
     "iopub.status.idle": "2022-11-21T10:11:45.084599Z",
     "shell.execute_reply": "2022-11-21T10:11:45.083680Z"
    },
    "papermill": {
     "duration": 3.719812,
     "end_time": "2022-11-21T10:11:45.086571",
     "exception": false,
     "start_time": "2022-11-21T10:11:41.366759",
     "status": "completed"
    },
    "tags": []
   },
   "outputs": [],
   "source": [
    "# test data\n",
    "\n",
    "#test_y = pd.read_csv(\"../input/intel-mobileodt-cervical-cancer-screening/solution_stg1_release.csv\")\n",
    "#test_y.loc[1,['Type_1','Type_2','Type_3']]\n",
    "\n",
    "#root_dir = '../input/intel-mobileodt-cervical-cancer-screening'\n",
    "#test_dir = os.path.join(root_dir,'test', 'test')\n",
    "\n",
    "#test_type = []\n",
    "#test_features = []\n",
    "#i=0\n",
    "#for fn in test_y[['image_name']].to_numpy():\n",
    "#    for filename in fn:\n",
    "#        filepath = os.path.join(test_dir,filename)\n",
    "#        #print(filepath)\n",
    "#        img = cv2.imread(filepath)\n",
    "#        resized_img = cv2.resize(img, (180, 180))\n",
    "#        test_features.append(np.array(resized_img))\n",
    "#        test_type.append(np.array(test_y.loc[i,['Type_1','Type_2','Type_3']]))\n",
    "#        i=i+1\n",
    "    \n",
    "#print( len(test_features))"
   ]
  },
  {
   "cell_type": "code",
   "execution_count": 73,
   "id": "0ad09462",
   "metadata": {
    "execution": {
     "iopub.execute_input": "2022-11-21T10:11:52.518129Z",
     "iopub.status.busy": "2022-11-21T10:11:52.517735Z",
     "iopub.status.idle": "2022-11-21T10:11:52.522145Z",
     "shell.execute_reply": "2022-11-21T10:11:52.521162Z"
    },
    "papermill": {
     "duration": 3.888816,
     "end_time": "2022-11-21T10:11:52.524121",
     "exception": false,
     "start_time": "2022-11-21T10:11:48.635305",
     "status": "completed"
    },
    "tags": []
   },
   "outputs": [],
   "source": [
    "#test_y = pd.read_csv(\"../input/intel-mobileodt-cervical-cancer-screening/solution_stg1_release.csv\")\n",
    "#test_y.loc[1,['Type_1','Type_2','Type_3']]"
   ]
  },
  {
   "cell_type": "code",
   "execution_count": 74,
   "id": "b705fbee",
   "metadata": {
    "execution": {
     "iopub.execute_input": "2022-11-21T10:11:59.804685Z",
     "iopub.status.busy": "2022-11-21T10:11:59.804317Z",
     "iopub.status.idle": "2022-11-21T10:11:59.808902Z",
     "shell.execute_reply": "2022-11-21T10:11:59.807965Z"
    },
    "papermill": {
     "duration": 3.572476,
     "end_time": "2022-11-21T10:11:59.810986",
     "exception": false,
     "start_time": "2022-11-21T10:11:56.238510",
     "status": "completed"
    },
    "tags": []
   },
   "outputs": [],
   "source": [
    "#y_test = test_y.loc[:,['Type_1','Type_2','Type_3']]\n",
    "#y_test\n",
    "#import tensorflow as tf"
   ]
  },
  {
   "cell_type": "code",
   "execution_count": 75,
   "id": "201d8111",
   "metadata": {
    "execution": {
     "iopub.execute_input": "2022-11-21T10:12:07.893907Z",
     "iopub.status.busy": "2022-11-21T10:12:07.893529Z",
     "iopub.status.idle": "2022-11-21T10:12:07.897860Z",
     "shell.execute_reply": "2022-11-21T10:12:07.896911Z"
    },
    "papermill": {
     "duration": 3.632117,
     "end_time": "2022-11-21T10:12:07.899827",
     "exception": false,
     "start_time": "2022-11-21T10:12:04.267710",
     "status": "completed"
    },
    "tags": []
   },
   "outputs": [],
   "source": [
    "#y_train_onehot"
   ]
  },
  {
   "cell_type": "code",
   "execution_count": 76,
   "id": "b7035d26",
   "metadata": {
    "execution": {
     "iopub.execute_input": "2022-11-21T10:12:15.359626Z",
     "iopub.status.busy": "2022-11-21T10:12:15.359241Z",
     "iopub.status.idle": "2022-11-21T10:12:15.363514Z",
     "shell.execute_reply": "2022-11-21T10:12:15.362536Z"
    },
    "papermill": {
     "duration": 3.751725,
     "end_time": "2022-11-21T10:12:15.365664",
     "exception": false,
     "start_time": "2022-11-21T10:12:11.613939",
     "status": "completed"
    },
    "tags": []
   },
   "outputs": [],
   "source": [
    "#print(y_test)\n",
    "#list = []\n",
    "#for d in y_test.index:\n",
    "#    res = y_test.loc[d,:].values.tolist()\n",
    "#    list.append(res)"
   ]
  },
  {
   "cell_type": "code",
   "execution_count": 77,
   "id": "428ac0db",
   "metadata": {
    "execution": {
     "iopub.execute_input": "2022-11-21T10:12:22.873029Z",
     "iopub.status.busy": "2022-11-21T10:12:22.872441Z",
     "iopub.status.idle": "2022-11-21T10:12:22.876817Z",
     "shell.execute_reply": "2022-11-21T10:12:22.875989Z"
    },
    "papermill": {
     "duration": 3.845274,
     "end_time": "2022-11-21T10:12:22.881839",
     "exception": false,
     "start_time": "2022-11-21T10:12:19.036565",
     "status": "completed"
    },
    "tags": []
   },
   "outputs": [],
   "source": [
    "#y_test = np.array(list)\n",
    "#y_test"
   ]
  },
  {
   "cell_type": "code",
   "execution_count": 78,
   "id": "eb9ff216",
   "metadata": {
    "execution": {
     "iopub.execute_input": "2022-11-21T10:12:30.325126Z",
     "iopub.status.busy": "2022-11-21T10:12:30.324750Z",
     "iopub.status.idle": "2022-11-21T10:12:30.328921Z",
     "shell.execute_reply": "2022-11-21T10:12:30.327949Z"
    },
    "papermill": {
     "duration": 3.686248,
     "end_time": "2022-11-21T10:12:30.330838",
     "exception": false,
     "start_time": "2022-11-21T10:12:26.644590",
     "status": "completed"
    },
    "tags": []
   },
   "outputs": [],
   "source": [
    "# normalize test features\n",
    "#test_X = np.array(test_features)\n",
    "#X_test = test_X/255"
   ]
  },
  {
   "cell_type": "code",
   "execution_count": 79,
   "id": "f2819943",
   "metadata": {
    "execution": {
     "iopub.execute_input": "2022-11-21T10:12:38.380049Z",
     "iopub.status.busy": "2022-11-21T10:12:38.379066Z",
     "iopub.status.idle": "2022-11-21T10:12:38.383447Z",
     "shell.execute_reply": "2022-11-21T10:12:38.382445Z"
    },
    "papermill": {
     "duration": 3.669629,
     "end_time": "2022-11-21T10:12:38.385502",
     "exception": false,
     "start_time": "2022-11-21T10:12:34.715873",
     "status": "completed"
    },
    "tags": []
   },
   "outputs": [],
   "source": [
    "#print(cnn.evaluate(X_test, y_test))\n",
    "#print(dnn.evaluate(X_test, y_test))"
   ]
  }
 ],
 "metadata": {
  "kernelspec": {
   "display_name": "Python 3",
   "language": "python",
   "name": "python3"
  },
  "language_info": {
   "codemirror_mode": {
    "name": "ipython",
    "version": 3
   },
   "file_extension": ".py",
   "mimetype": "text/x-python",
   "name": "python",
   "nbconvert_exporter": "python",
   "pygments_lexer": "ipython3",
   "version": "3.7.12"
  },
  "papermill": {
   "default_parameters": {},
   "duration": 6362.836483,
   "end_time": "2022-11-21T10:12:46.066143",
   "environment_variables": {},
   "exception": null,
   "input_path": "__notebook__.ipynb",
   "output_path": "__notebook__.ipynb",
   "parameters": {},
   "start_time": "2022-11-21T08:26:43.229660",
   "version": "2.3.4"
  }
 },
 "nbformat": 4,
 "nbformat_minor": 5
}
