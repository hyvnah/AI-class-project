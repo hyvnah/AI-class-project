{
 "cells": [
  {
   "cell_type": "code",
   "execution_count": 1,
   "id": "cd342677",
   "metadata": {
    "collapsed": false,
    "execution": {
     "iopub.execute_input": "2022-11-13T07:13:27.250679Z",
     "iopub.status.busy": "2022-11-13T07:13:27.249946Z",
     "iopub.status.idle": "2022-11-13T07:13:32.962493Z",
     "shell.execute_reply": "2022-11-13T07:13:32.961495Z"
    },
    "jupyter": {
     "outputs_hidden": false
    },
    "papermill": {
     "duration": 5.728345,
     "end_time": "2022-11-13T07:13:32.965114",
     "exception": false,
     "start_time": "2022-11-13T07:13:27.236769",
     "status": "completed"
    },
    "pycharm": {
     "name": "#%%\n"
    },
    "tags": []
   },
   "outputs": [],
   "source": [
    "import numpy as np\n",
    "import pandas as pd\n",
    "\n",
    "from tensorflow import keras\n",
    "\n",
    "from tensorflow.keras.models import Sequential\n",
    "from tensorflow.keras.layers import Activation, Conv2D, MaxPooling2D, Dense, Flatten\n",
    "from tensorflow.keras.layers import Dropout, BatchNormalization \n",
    "from tensorflow.keras.utils import to_categorical\n",
    "\n",
    "from keras.callbacks import ModelCheckpoint\n",
    "\n",
    "import matplotlib.pyplot as plt\n",
    "\n",
    "import seaborn as sns\n",
    "import os\n",
    "import glob\n",
    "import plotly.graph_objects as go\n",
    "import cv2\n",
    "from PIL import Image\n",
    "from PIL import ImageFile\n",
    "from sklearn.model_selection import train_test_split\n",
    "from sklearn.preprocessing import LabelEncoder\n",
    "import tensorflow as tf\n",
    "from keras.preprocessing.image import ImageDataGenerator\n",
    "from keras.utils.np_utils import to_categorical\n",
    "from keras.applications.vgg16 import VGG16\n",
    "from tensorflow.keras.optimizers import Adam\n",
    "from keras.callbacks import EarlyStopping, ReduceLROnPlateau,ModelCheckpoint \n",
    "from sklearn.metrics import accuracy_score, confusion_matrix, classification_report\n",
    "import warnings\n",
    "warnings.filterwarnings(\"ignore\")\n",
    "ImageFile.LOAD_TRUNCATED_IMAGES = True\n",
    "\n",
    "from tqdm import tqdm"
   ]
  },
  {
   "cell_type": "markdown",
   "id": "ac52fc3e",
   "metadata": {
    "papermill": {
     "duration": 0.011723,
     "end_time": "2022-11-13T07:13:32.988189",
     "exception": false,
     "start_time": "2022-11-13T07:13:32.976466",
     "status": "completed"
    },
    "tags": []
   },
   "source": [
    "# 데이터"
   ]
  },
  {
   "cell_type": "code",
   "execution_count": 2,
   "id": "86b2b9e4",
   "metadata": {
    "execution": {
     "iopub.execute_input": "2022-11-13T07:13:33.011050Z",
     "iopub.status.busy": "2022-11-13T07:13:33.009765Z",
     "iopub.status.idle": "2022-11-13T07:13:33.039524Z",
     "shell.execute_reply": "2022-11-13T07:13:33.038600Z"
    },
    "papermill": {
     "duration": 0.0432,
     "end_time": "2022-11-13T07:13:33.041659",
     "exception": false,
     "start_time": "2022-11-13T07:13:32.998459",
     "status": "completed"
    },
    "tags": []
   },
   "outputs": [
    {
     "data": {
      "text/html": [
       "<div>\n",
       "<style scoped>\n",
       "    .dataframe tbody tr th:only-of-type {\n",
       "        vertical-align: middle;\n",
       "    }\n",
       "\n",
       "    .dataframe tbody tr th {\n",
       "        vertical-align: top;\n",
       "    }\n",
       "\n",
       "    .dataframe thead th {\n",
       "        text-align: right;\n",
       "    }\n",
       "</style>\n",
       "<table border=\"1\" class=\"dataframe\">\n",
       "  <thead>\n",
       "    <tr style=\"text-align: right;\">\n",
       "      <th></th>\n",
       "      <th>filename</th>\n",
       "      <th>old_label</th>\n",
       "      <th>new_label</th>\n",
       "    </tr>\n",
       "  </thead>\n",
       "  <tbody>\n",
       "    <tr>\n",
       "      <th>0</th>\n",
       "      <td>10.jpg</td>\n",
       "      <td>Type_2</td>\n",
       "      <td>Type_1</td>\n",
       "    </tr>\n",
       "    <tr>\n",
       "      <th>1</th>\n",
       "      <td>1001.jpg</td>\n",
       "      <td>Type_2</td>\n",
       "      <td>Type_1</td>\n",
       "    </tr>\n",
       "    <tr>\n",
       "      <th>2</th>\n",
       "      <td>1002.jpg</td>\n",
       "      <td>Type_3</td>\n",
       "      <td>Type_2</td>\n",
       "    </tr>\n",
       "    <tr>\n",
       "      <th>3</th>\n",
       "      <td>1004.jpg</td>\n",
       "      <td>Type_2</td>\n",
       "      <td>Type_1</td>\n",
       "    </tr>\n",
       "    <tr>\n",
       "      <th>4</th>\n",
       "      <td>1005.jpg</td>\n",
       "      <td>Type_3</td>\n",
       "      <td>Type_1</td>\n",
       "    </tr>\n",
       "    <tr>\n",
       "      <th>...</th>\n",
       "      <td>...</td>\n",
       "      <td>...</td>\n",
       "      <td>...</td>\n",
       "    </tr>\n",
       "    <tr>\n",
       "      <th>1816</th>\n",
       "      <td>975.jpg</td>\n",
       "      <td>Type_2</td>\n",
       "      <td>Type_1</td>\n",
       "    </tr>\n",
       "    <tr>\n",
       "      <th>1817</th>\n",
       "      <td>984.jpg</td>\n",
       "      <td>Type_2</td>\n",
       "      <td>Type_3</td>\n",
       "    </tr>\n",
       "    <tr>\n",
       "      <th>1818</th>\n",
       "      <td>986.jpg</td>\n",
       "      <td>Type_2</td>\n",
       "      <td>Type_1</td>\n",
       "    </tr>\n",
       "    <tr>\n",
       "      <th>1819</th>\n",
       "      <td>988.jpg</td>\n",
       "      <td>Type_2</td>\n",
       "      <td>Type_1</td>\n",
       "    </tr>\n",
       "    <tr>\n",
       "      <th>1820</th>\n",
       "      <td>997.jpg</td>\n",
       "      <td>Type_3</td>\n",
       "      <td>Type_2</td>\n",
       "    </tr>\n",
       "  </tbody>\n",
       "</table>\n",
       "<p>1821 rows × 3 columns</p>\n",
       "</div>"
      ],
      "text/plain": [
       "      filename old_label new_label\n",
       "0       10.jpg    Type_2    Type_1\n",
       "1     1001.jpg    Type_2    Type_1\n",
       "2     1002.jpg    Type_3    Type_2\n",
       "3     1004.jpg    Type_2    Type_1\n",
       "4     1005.jpg    Type_3    Type_1\n",
       "...        ...       ...       ...\n",
       "1816   975.jpg    Type_2    Type_1\n",
       "1817   984.jpg    Type_2    Type_3\n",
       "1818   986.jpg    Type_2    Type_1\n",
       "1819   988.jpg    Type_2    Type_1\n",
       "1820   997.jpg    Type_3    Type_2\n",
       "\n",
       "[1821 rows x 3 columns]"
      ]
     },
     "execution_count": 2,
     "metadata": {},
     "output_type": "execute_result"
    }
   ],
   "source": [
    "label = pd.read_csv(\"../input/intel-mobileodt-cervical-cancer-screening/fixed_labels_v2.csv\")\n",
    "label"
   ]
  },
  {
   "cell_type": "code",
   "execution_count": 3,
   "id": "0d7dd375",
   "metadata": {
    "execution": {
     "iopub.execute_input": "2022-11-13T07:13:33.064753Z",
     "iopub.status.busy": "2022-11-13T07:13:33.063805Z",
     "iopub.status.idle": "2022-11-13T07:13:33.526172Z",
     "shell.execute_reply": "2022-11-13T07:13:33.524264Z"
    },
    "papermill": {
     "duration": 0.476892,
     "end_time": "2022-11-13T07:13:33.529303",
     "exception": false,
     "start_time": "2022-11-13T07:13:33.052411",
     "status": "completed"
    },
    "tags": []
   },
   "outputs": [
    {
     "name": "stdout",
     "output_type": "stream",
     "text": [
      "Type 1 files for training: 1441 \n",
      "Type 2 files for training: 4348\n",
      "Type 3 files for training: 2426\n"
     ]
    }
   ],
   "source": [
    "root_dir = '../input/intel-mobileodt-cervical-cancer-screening'\n",
    "train_dir = os.path.join(root_dir,'train', 'train')\n",
    "\n",
    "type1_dir = os.path.join(train_dir, 'Type_1')\n",
    "type2_dir = os.path.join(train_dir, 'Type_2')\n",
    "type3_dir = os.path.join(train_dir, 'Type_3')\n",
    "\n",
    "train_type1_files = glob.glob(type1_dir+'/*.jpg')\n",
    "train_type2_files = glob.glob(type2_dir+'/*.jpg')\n",
    "train_type3_files = glob.glob(type3_dir+'/*.jpg')\n",
    "\n",
    "added_type1_files  =  glob.glob(os.path.join(root_dir, \"additional_Type_1_v2\", \"Type_1\")+'/*.jpg')\n",
    "added_type2_files  =  glob.glob(os.path.join(root_dir, \"additional_Type_2_v2\", \"Type_2\")+'/*.jpg')\n",
    "added_type3_files  =  glob.glob(os.path.join(root_dir, \"additional_Type_3_v2\", \"Type_3\")+'/*.jpg')\n",
    "\n",
    "\n",
    "type1_files = train_type1_files + added_type1_files\n",
    "type2_files = train_type2_files + added_type2_files\n",
    "type3_files = train_type3_files + added_type3_files\n",
    "\n",
    "print(f'''Type 1 files for training: {len(type1_files)} \n",
    "Type 2 files for training: {len(type2_files)}\n",
    "Type 3 files for training: {len(type3_files)}''' )"
   ]
  },
  {
   "cell_type": "code",
   "execution_count": 4,
   "id": "42ec781f",
   "metadata": {
    "execution": {
     "iopub.execute_input": "2022-11-13T07:13:33.553213Z",
     "iopub.status.busy": "2022-11-13T07:13:33.552549Z",
     "iopub.status.idle": "2022-11-13T07:13:33.569119Z",
     "shell.execute_reply": "2022-11-13T07:13:33.567943Z"
    },
    "papermill": {
     "duration": 0.030373,
     "end_time": "2022-11-13T07:13:33.571081",
     "exception": false,
     "start_time": "2022-11-13T07:13:33.540708",
     "status": "completed"
    },
    "tags": []
   },
   "outputs": [
    {
     "data": {
      "text/html": [
       "<div>\n",
       "<style scoped>\n",
       "    .dataframe tbody tr th:only-of-type {\n",
       "        vertical-align: middle;\n",
       "    }\n",
       "\n",
       "    .dataframe tbody tr th {\n",
       "        vertical-align: top;\n",
       "    }\n",
       "\n",
       "    .dataframe thead th {\n",
       "        text-align: right;\n",
       "    }\n",
       "</style>\n",
       "<table border=\"1\" class=\"dataframe\">\n",
       "  <thead>\n",
       "    <tr style=\"text-align: right;\">\n",
       "      <th></th>\n",
       "      <th>filepath</th>\n",
       "      <th>label</th>\n",
       "    </tr>\n",
       "  </thead>\n",
       "  <tbody>\n",
       "    <tr>\n",
       "      <th>0</th>\n",
       "      <td>../input/intel-mobileodt-cervical-cancer-scree...</td>\n",
       "      <td>Type 1</td>\n",
       "    </tr>\n",
       "    <tr>\n",
       "      <th>1</th>\n",
       "      <td>../input/intel-mobileodt-cervical-cancer-scree...</td>\n",
       "      <td>Type 3</td>\n",
       "    </tr>\n",
       "    <tr>\n",
       "      <th>2</th>\n",
       "      <td>../input/intel-mobileodt-cervical-cancer-scree...</td>\n",
       "      <td>Type 1</td>\n",
       "    </tr>\n",
       "    <tr>\n",
       "      <th>3</th>\n",
       "      <td>../input/intel-mobileodt-cervical-cancer-scree...</td>\n",
       "      <td>Type 2</td>\n",
       "    </tr>\n",
       "    <tr>\n",
       "      <th>4</th>\n",
       "      <td>../input/intel-mobileodt-cervical-cancer-scree...</td>\n",
       "      <td>Type 3</td>\n",
       "    </tr>\n",
       "    <tr>\n",
       "      <th>...</th>\n",
       "      <td>...</td>\n",
       "      <td>...</td>\n",
       "    </tr>\n",
       "    <tr>\n",
       "      <th>8210</th>\n",
       "      <td>../input/intel-mobileodt-cervical-cancer-scree...</td>\n",
       "      <td>Type 2</td>\n",
       "    </tr>\n",
       "    <tr>\n",
       "      <th>8211</th>\n",
       "      <td>../input/intel-mobileodt-cervical-cancer-scree...</td>\n",
       "      <td>Type 3</td>\n",
       "    </tr>\n",
       "    <tr>\n",
       "      <th>8212</th>\n",
       "      <td>../input/intel-mobileodt-cervical-cancer-scree...</td>\n",
       "      <td>Type 1</td>\n",
       "    </tr>\n",
       "    <tr>\n",
       "      <th>8213</th>\n",
       "      <td>../input/intel-mobileodt-cervical-cancer-scree...</td>\n",
       "      <td>Type 2</td>\n",
       "    </tr>\n",
       "    <tr>\n",
       "      <th>8214</th>\n",
       "      <td>../input/intel-mobileodt-cervical-cancer-scree...</td>\n",
       "      <td>Type 1</td>\n",
       "    </tr>\n",
       "  </tbody>\n",
       "</table>\n",
       "<p>8215 rows × 2 columns</p>\n",
       "</div>"
      ],
      "text/plain": [
       "                                               filepath   label\n",
       "0     ../input/intel-mobileodt-cervical-cancer-scree...  Type 1\n",
       "1     ../input/intel-mobileodt-cervical-cancer-scree...  Type 3\n",
       "2     ../input/intel-mobileodt-cervical-cancer-scree...  Type 1\n",
       "3     ../input/intel-mobileodt-cervical-cancer-scree...  Type 2\n",
       "4     ../input/intel-mobileodt-cervical-cancer-scree...  Type 3\n",
       "...                                                 ...     ...\n",
       "8210  ../input/intel-mobileodt-cervical-cancer-scree...  Type 2\n",
       "8211  ../input/intel-mobileodt-cervical-cancer-scree...  Type 3\n",
       "8212  ../input/intel-mobileodt-cervical-cancer-scree...  Type 1\n",
       "8213  ../input/intel-mobileodt-cervical-cancer-scree...  Type 2\n",
       "8214  ../input/intel-mobileodt-cervical-cancer-scree...  Type 1\n",
       "\n",
       "[8215 rows x 2 columns]"
      ]
     },
     "execution_count": 4,
     "metadata": {},
     "output_type": "execute_result"
    }
   ],
   "source": [
    "files = {'filepath': type1_files + type2_files + type3_files,\n",
    "          'label': ['Type 1']* len(type1_files) + ['Type 2']* len(type2_files) + ['Type 3']* len(type3_files)}\n",
    "\n",
    "files_df = pd.DataFrame(files).sample(frac=1, random_state= 1).reset_index(drop=True)\n",
    "files_df"
   ]
  },
  {
   "cell_type": "code",
   "execution_count": 5,
   "id": "e71caa8f",
   "metadata": {
    "execution": {
     "iopub.execute_input": "2022-11-13T07:13:33.593959Z",
     "iopub.status.busy": "2022-11-13T07:13:33.593666Z",
     "iopub.status.idle": "2022-11-13T07:15:27.906317Z",
     "shell.execute_reply": "2022-11-13T07:15:27.905229Z"
    },
    "papermill": {
     "duration": 114.328369,
     "end_time": "2022-11-13T07:15:27.910340",
     "exception": false,
     "start_time": "2022-11-13T07:13:33.581971",
     "status": "completed"
    },
    "tags": []
   },
   "outputs": [
    {
     "name": "stderr",
     "output_type": "stream",
     "text": [
      "100%|██████████| 8215/8215 [01:54<00:00, 71.87it/s]\n"
     ]
    }
   ],
   "source": [
    "bad_files = []\n",
    "for path in tqdm(files_df['filepath'].values):\n",
    "    try:\n",
    "        img = Image.open(path)\n",
    "    except:\n",
    "        index = files_df[files_df['filepath']==path].index.values[0]\n",
    "        bad_files.append(index)"
   ]
  },
  {
   "cell_type": "code",
   "execution_count": 6,
   "id": "331f4172",
   "metadata": {
    "execution": {
     "iopub.execute_input": "2022-11-13T07:15:28.033934Z",
     "iopub.status.busy": "2022-11-13T07:15:28.032863Z",
     "iopub.status.idle": "2022-11-13T07:15:28.039720Z",
     "shell.execute_reply": "2022-11-13T07:15:28.038714Z"
    },
    "papermill": {
     "duration": 0.070261,
     "end_time": "2022-11-13T07:15:28.041967",
     "exception": false,
     "start_time": "2022-11-13T07:15:27.971706",
     "status": "completed"
    },
    "tags": []
   },
   "outputs": [],
   "source": [
    "bad_files\n",
    "files_df.drop(bad_files, inplace=True)"
   ]
  },
  {
   "cell_type": "code",
   "execution_count": 7,
   "id": "c8d5f3d1",
   "metadata": {
    "execution": {
     "iopub.execute_input": "2022-11-13T07:15:28.164121Z",
     "iopub.status.busy": "2022-11-13T07:15:28.163336Z",
     "iopub.status.idle": "2022-11-13T07:15:28.167550Z",
     "shell.execute_reply": "2022-11-13T07:15:28.166524Z"
    },
    "papermill": {
     "duration": 0.067213,
     "end_time": "2022-11-13T07:15:28.169923",
     "exception": false,
     "start_time": "2022-11-13T07:15:28.102710",
     "status": "completed"
    },
    "tags": []
   },
   "outputs": [],
   "source": [
    "# save csv (files_df)\n",
    "#files_df.to_csv('/kaggle/working/dropfiles.csv', sep=',')"
   ]
  },
  {
   "cell_type": "code",
   "execution_count": 8,
   "id": "a3eaa97e",
   "metadata": {
    "execution": {
     "iopub.execute_input": "2022-11-13T07:15:28.290698Z",
     "iopub.status.busy": "2022-11-13T07:15:28.290428Z",
     "iopub.status.idle": "2022-11-13T07:15:28.294333Z",
     "shell.execute_reply": "2022-11-13T07:15:28.293441Z"
    },
    "papermill": {
     "duration": 0.066246,
     "end_time": "2022-11-13T07:15:28.296208",
     "exception": false,
     "start_time": "2022-11-13T07:15:28.229962",
     "status": "completed"
    },
    "tags": []
   },
   "outputs": [],
   "source": [
    "# 정리된 files_df 사용\n",
    "#files_df = pd.read_csv('../input/cervical-dropfiles/dropfiles.csv', sep=',').drop('Unnamed: 0', axis=1)\n",
    "#files_df"
   ]
  },
  {
   "cell_type": "code",
   "execution_count": 9,
   "id": "63004fb9",
   "metadata": {
    "execution": {
     "iopub.execute_input": "2022-11-13T07:15:28.417293Z",
     "iopub.status.busy": "2022-11-13T07:15:28.417018Z",
     "iopub.status.idle": "2022-11-13T07:15:28.434578Z",
     "shell.execute_reply": "2022-11-13T07:15:28.433764Z"
    },
    "papermill": {
     "duration": 0.079906,
     "end_time": "2022-11-13T07:15:28.436628",
     "exception": false,
     "start_time": "2022-11-13T07:15:28.356722",
     "status": "completed"
    },
    "tags": []
   },
   "outputs": [
    {
     "data": {
      "text/html": [
       "<div>\n",
       "<style scoped>\n",
       "    .dataframe tbody tr th:only-of-type {\n",
       "        vertical-align: middle;\n",
       "    }\n",
       "\n",
       "    .dataframe tbody tr th {\n",
       "        vertical-align: top;\n",
       "    }\n",
       "\n",
       "    .dataframe thead th {\n",
       "        text-align: right;\n",
       "    }\n",
       "</style>\n",
       "<table border=\"1\" class=\"dataframe\">\n",
       "  <thead>\n",
       "    <tr style=\"text-align: right;\">\n",
       "      <th></th>\n",
       "      <th>Num_Values</th>\n",
       "    </tr>\n",
       "  </thead>\n",
       "  <tbody>\n",
       "    <tr>\n",
       "      <th>Type 2</th>\n",
       "      <td>4346</td>\n",
       "    </tr>\n",
       "    <tr>\n",
       "      <th>Type 3</th>\n",
       "      <td>2426</td>\n",
       "    </tr>\n",
       "    <tr>\n",
       "      <th>Type 1</th>\n",
       "      <td>1440</td>\n",
       "    </tr>\n",
       "  </tbody>\n",
       "</table>\n",
       "</div>"
      ],
      "text/plain": [
       "        Num_Values\n",
       "Type 2        4346\n",
       "Type 3        2426\n",
       "Type 1        1440"
      ]
     },
     "execution_count": 9,
     "metadata": {},
     "output_type": "execute_result"
    }
   ],
   "source": [
    "# get count of each type \n",
    "type_count = pd.DataFrame(files_df['label'].value_counts()).rename(columns= {'label': 'Num_Values'})\n",
    "type_count"
   ]
  },
  {
   "cell_type": "code",
   "execution_count": 10,
   "id": "b9c139ab",
   "metadata": {
    "collapsed": false,
    "execution": {
     "iopub.execute_input": "2022-11-13T07:15:28.556976Z",
     "iopub.status.busy": "2022-11-13T07:15:28.556677Z",
     "iopub.status.idle": "2022-11-13T07:15:28.761619Z",
     "shell.execute_reply": "2022-11-13T07:15:28.760638Z"
    },
    "jupyter": {
     "outputs_hidden": false
    },
    "papermill": {
     "duration": 0.267485,
     "end_time": "2022-11-13T07:15:28.763622",
     "exception": false,
     "start_time": "2022-11-13T07:15:28.496137",
     "status": "completed"
    },
    "pycharm": {
     "name": "#%%\n"
    },
    "tags": []
   },
   "outputs": [
    {
     "data": {
      "image/png": "[encoded data removed]",
      "text/plain": [
       "<Figure size 1080x432 with 1 Axes>"
      ]
     },
     "metadata": {
      "needs_background": "light"
     },
     "output_type": "display_data"
    }
   ],
   "source": [
    "plt.figure(figsize = (15, 6))\n",
    "sns.barplot(x= type_count['Num_Values'], y= type_count.index.to_list())\n",
    "plt.title('Type Distribution')\n",
    "plt.grid(True)\n",
    "plt.show()"
   ]
  },
  {
   "cell_type": "code",
   "execution_count": 11,
   "id": "9a459811",
   "metadata": {
    "execution": {
     "iopub.execute_input": "2022-11-13T07:15:28.885643Z",
     "iopub.status.busy": "2022-11-13T07:15:28.884766Z",
     "iopub.status.idle": "2022-11-13T07:15:28.979305Z",
     "shell.execute_reply": "2022-11-13T07:15:28.978268Z"
    },
    "papermill": {
     "duration": 0.15754,
     "end_time": "2022-11-13T07:15:28.981563",
     "exception": false,
     "start_time": "2022-11-13T07:15:28.824023",
     "status": "completed"
    },
    "tags": []
   },
   "outputs": [
    {
     "data": {
      "text/html": [
       "        <script type=\"text/javascript\">\n",
       "        window.PlotlyConfig = {MathJaxConfig: 'local'};\n",
       "        if (window.MathJax && window.MathJax.Hub && window.MathJax.Hub.Config) {window.MathJax.Hub.Config({SVG: {font: \"STIX-Web\"}});}\n",
       "        if (typeof require !== 'undefined') {\n",
       "        require.undef(\"plotly\");\n",
       "        requirejs.config({\n",
       "            paths: {\n",
       "                'plotly': ['https://cdn.plot.ly/plotly-2.14.0.min']\n",
       "            }\n",
       "        });\n",
       "        require(['plotly'], function(Plotly) {\n",
       "            window._Plotly = Plotly;\n",
       "        });\n",
       "        }\n",
       "        </script>\n",
       "        "
      ]
     },
     "metadata": {},
     "output_type": "display_data"
    },
    {
     "data": {
      "text/html": [
       "<div>                            <div id=\"6894991d-dcce-45e4-b2af-3f8856b57cfe\" class=\"plotly-graph-div\" style=\"height:525px; width:100%;\"></div>            <script type=\"text/javascript\">                require([\"plotly\"], function(Plotly) {                    window.PLOTLYENV=window.PLOTLYENV || {};                                    if (document.getElementById(\"6894991d-dcce-45e4-b2af-3f8856b57cfe\")) {                    Plotly.newPlot(                        \"6894991d-dcce-45e4-b2af-3f8856b57cfe\",                        [{\"hole\":0.2,\"labels\":[\"Type 2\",\"Type 3\",\"Type 1\"],\"text\":[\"Type 2\",\"Type 3\",\"Type 1\"],\"textposition\":\"auto\",\"values\":[4346,2426,1440],\"type\":\"pie\"}],                        {\"template\":{\"data\":{\"histogram2dcontour\":[{\"type\":\"histogram2dcontour\",\"colorbar\":{\"outlinewidth\":0,\"ticks\":\"\"},\"colorscale\":[[0.0,\"#0d0887\"],[0.1111111111111111,\"#46039f\"],[0.2222222222222222,\"#7201a8\"],[0.3333333333333333,\"#9c179e\"],[0.4444444444444444,\"#bd3786\"],[0.5555555555555556,\"#d8576b\"],[0.6666666666666666,\"#ed7953\"],[0.7777777777777778,\"#fb9f3a\"],[0.8888888888888888,\"#fdca26\"],[1.0,\"#f0f921\"]]}],\"choropleth\":[{\"type\":\"choropleth\",\"colorbar\":{\"outlinewidth\":0,\"ticks\":\"\"}}],\"histogram2d\":[{\"type\":\"histogram2d\",\"colorbar\":{\"outlinewidth\":0,\"ticks\":\"\"},\"colorscale\":[[0.0,\"#0d0887\"],[0.1111111111111111,\"#46039f\"],[0.2222222222222222,\"#7201a8\"],[0.3333333333333333,\"#9c179e\"],[0.4444444444444444,\"#bd3786\"],[0.5555555555555556,\"#d8576b\"],[0.6666666666666666,\"#ed7953\"],[0.7777777777777778,\"#fb9f3a\"],[0.8888888888888888,\"#fdca26\"],[1.0,\"#f0f921\"]]}],\"heatmap\":[{\"type\":\"heatmap\",\"colorbar\":{\"outlinewidth\":0,\"ticks\":\"\"},\"colorscale\":[[0.0,\"#0d0887\"],[0.1111111111111111,\"#46039f\"],[0.2222222222222222,\"#7201a8\"],[0.3333333333333333,\"#9c179e\"],[0.4444444444444444,\"#bd3786\"],[0.5555555555555556,\"#d8576b\"],[0.6666666666666666,\"#ed7953\"],[0.7777777777777778,\"#fb9f3a\"],[0.8888888888888888,\"#fdca26\"],[1.0,\"#f0f921\"]]}],\"heatmapgl\":[{\"type\":\"heatmapgl\",\"colorbar\":{\"outlinewidth\":0,\"ticks\":\"\"},\"colorscale\":[[0.0,\"#0d0887\"],[0.1111111111111111,\"#46039f\"],[0.2222222222222222,\"#7201a8\"],[0.3333333333333333,\"#9c179e\"],[0.4444444444444444,\"#bd3786\"],[0.5555555555555556,\"#d8576b\"],[0.6666666666666666,\"#ed7953\"],[0.7777777777777778,\"#fb9f3a\"],[0.8888888888888888,\"#fdca26\"],[1.0,\"#f0f921\"]]}],\"contourcarpet\":[{\"type\":\"contourcarpet\",\"colorbar\":{\"outlinewidth\":0,\"ticks\":\"\"}}],\"contour\":[{\"type\":\"contour\",\"colorbar\":{\"outlinewidth\":0,\"ticks\":\"\"},\"colorscale\":[[0.0,\"#0d0887\"],[0.1111111111111111,\"#46039f\"],[0.2222222222222222,\"#7201a8\"],[0.3333333333333333,\"#9c179e\"],[0.4444444444444444,\"#bd3786\"],[0.5555555555555556,\"#d8576b\"],[0.6666666666666666,\"#ed7953\"],[0.7777777777777778,\"#fb9f3a\"],[0.8888888888888888,\"#fdca26\"],[1.0,\"#f0f921\"]]}],\"surface\":[{\"type\":\"surface\",\"colorbar\":{\"outlinewidth\":0,\"ticks\":\"\"},\"colorscale\":[[0.0,\"#0d0887\"],[0.1111111111111111,\"#46039f\"],[0.2222222222222222,\"#7201a8\"],[0.3333333333333333,\"#9c179e\"],[0.4444444444444444,\"#bd3786\"],[0.5555555555555556,\"#d8576b\"],[0.6666666666666666,\"#ed7953\"],[0.7777777777777778,\"#fb9f3a\"],[0.8888888888888888,\"#fdca26\"],[1.0,\"#f0f921\"]]}],\"mesh3d\":[{\"type\":\"mesh3d\",\"colorbar\":{\"outlinewidth\":0,\"ticks\":\"\"}}],\"scatter\":[{\"fillpattern\":{\"fillmode\":\"overlay\",\"size\":10,\"solidity\":0.2},\"type\":\"scatter\"}],\"parcoords\":[{\"type\":\"parcoords\",\"line\":{\"colorbar\":{\"outlinewidth\":0,\"ticks\":\"\"}}}],\"scatterpolargl\":[{\"type\":\"scatterpolargl\",\"marker\":{\"colorbar\":{\"outlinewidth\":0,\"ticks\":\"\"}}}],\"bar\":[{\"error_x\":{\"color\":\"#2a3f5f\"},\"error_y\":{\"color\":\"#2a3f5f\"},\"marker\":{\"line\":{\"color\":\"#E5ECF6\",\"width\":0.5},\"pattern\":{\"fillmode\":\"overlay\",\"size\":10,\"solidity\":0.2}},\"type\":\"bar\"}],\"scattergeo\":[{\"type\":\"scattergeo\",\"marker\":{\"colorbar\":{\"outlinewidth\":0,\"ticks\":\"\"}}}],\"scatterpolar\":[{\"type\":\"scatterpolar\",\"marker\":{\"colorbar\":{\"outlinewidth\":0,\"ticks\":\"\"}}}],\"histogram\":[{\"marker\":{\"pattern\":{\"fillmode\":\"overlay\",\"size\":10,\"solidity\":0.2}},\"type\":\"histogram\"}],\"scattergl\":[{\"type\":\"scattergl\",\"marker\":{\"colorbar\":{\"outlinewidth\":0,\"ticks\":\"\"}}}],\"scatter3d\":[{\"type\":\"scatter3d\",\"line\":{\"colorbar\":{\"outlinewidth\":0,\"ticks\":\"\"}},\"marker\":{\"colorbar\":{\"outlinewidth\":0,\"ticks\":\"\"}}}],\"scattermapbox\":[{\"type\":\"scattermapbox\",\"marker\":{\"colorbar\":{\"outlinewidth\":0,\"ticks\":\"\"}}}],\"scatterternary\":[{\"type\":\"scatterternary\",\"marker\":{\"colorbar\":{\"outlinewidth\":0,\"ticks\":\"\"}}}],\"scattercarpet\":[{\"type\":\"scattercarpet\",\"marker\":{\"colorbar\":{\"outlinewidth\":0,\"ticks\":\"\"}}}],\"carpet\":[{\"aaxis\":{\"endlinecolor\":\"#2a3f5f\",\"gridcolor\":\"white\",\"linecolor\":\"white\",\"minorgridcolor\":\"white\",\"startlinecolor\":\"#2a3f5f\"},\"baxis\":{\"endlinecolor\":\"#2a3f5f\",\"gridcolor\":\"white\",\"linecolor\":\"white\",\"minorgridcolor\":\"white\",\"startlinecolor\":\"#2a3f5f\"},\"type\":\"carpet\"}],\"table\":[{\"cells\":{\"fill\":{\"color\":\"#EBF0F8\"},\"line\":{\"color\":\"white\"}},\"header\":{\"fill\":{\"color\":\"#C8D4E3\"},\"line\":{\"color\":\"white\"}},\"type\":\"table\"}],\"barpolar\":[{\"marker\":{\"line\":{\"color\":\"#E5ECF6\",\"width\":0.5},\"pattern\":{\"fillmode\":\"overlay\",\"size\":10,\"solidity\":0.2}},\"type\":\"barpolar\"}],\"pie\":[{\"automargin\":true,\"type\":\"pie\"}]},\"layout\":{\"autotypenumbers\":\"strict\",\"colorway\":[\"#636efa\",\"#EF553B\",\"#00cc96\",\"#ab63fa\",\"#FFA15A\",\"#19d3f3\",\"#FF6692\",\"#B6E880\",\"#FF97FF\",\"#FECB52\"],\"font\":{\"color\":\"#2a3f5f\"},\"hovermode\":\"closest\",\"hoverlabel\":{\"align\":\"left\"},\"paper_bgcolor\":\"white\",\"plot_bgcolor\":\"#E5ECF6\",\"polar\":{\"bgcolor\":\"#E5ECF6\",\"angularaxis\":{\"gridcolor\":\"white\",\"linecolor\":\"white\",\"ticks\":\"\"},\"radialaxis\":{\"gridcolor\":\"white\",\"linecolor\":\"white\",\"ticks\":\"\"}},\"ternary\":{\"bgcolor\":\"#E5ECF6\",\"aaxis\":{\"gridcolor\":\"white\",\"linecolor\":\"white\",\"ticks\":\"\"},\"baxis\":{\"gridcolor\":\"white\",\"linecolor\":\"white\",\"ticks\":\"\"},\"caxis\":{\"gridcolor\":\"white\",\"linecolor\":\"white\",\"ticks\":\"\"}},\"coloraxis\":{\"colorbar\":{\"outlinewidth\":0,\"ticks\":\"\"}},\"colorscale\":{\"sequential\":[[0.0,\"#0d0887\"],[0.1111111111111111,\"#46039f\"],[0.2222222222222222,\"#7201a8\"],[0.3333333333333333,\"#9c179e\"],[0.4444444444444444,\"#bd3786\"],[0.5555555555555556,\"#d8576b\"],[0.6666666666666666,\"#ed7953\"],[0.7777777777777778,\"#fb9f3a\"],[0.8888888888888888,\"#fdca26\"],[1.0,\"#f0f921\"]],\"sequentialminus\":[[0.0,\"#0d0887\"],[0.1111111111111111,\"#46039f\"],[0.2222222222222222,\"#7201a8\"],[0.3333333333333333,\"#9c179e\"],[0.4444444444444444,\"#bd3786\"],[0.5555555555555556,\"#d8576b\"],[0.6666666666666666,\"#ed7953\"],[0.7777777777777778,\"#fb9f3a\"],[0.8888888888888888,\"#fdca26\"],[1.0,\"#f0f921\"]],\"diverging\":[[0,\"#8e0152\"],[0.1,\"#c51b7d\"],[0.2,\"#de77ae\"],[0.3,\"#f1b6da\"],[0.4,\"#fde0ef\"],[0.5,\"#f7f7f7\"],[0.6,\"#e6f5d0\"],[0.7,\"#b8e186\"],[0.8,\"#7fbc41\"],[0.9,\"#4d9221\"],[1,\"#276419\"]]},\"xaxis\":{\"gridcolor\":\"white\",\"linecolor\":\"white\",\"ticks\":\"\",\"title\":{\"standoff\":15},\"zerolinecolor\":\"white\",\"automargin\":true,\"zerolinewidth\":2},\"yaxis\":{\"gridcolor\":\"white\",\"linecolor\":\"white\",\"ticks\":\"\",\"title\":{\"standoff\":15},\"zerolinecolor\":\"white\",\"automargin\":true,\"zerolinewidth\":2},\"scene\":{\"xaxis\":{\"backgroundcolor\":\"#E5ECF6\",\"gridcolor\":\"white\",\"linecolor\":\"white\",\"showbackground\":true,\"ticks\":\"\",\"zerolinecolor\":\"white\",\"gridwidth\":2},\"yaxis\":{\"backgroundcolor\":\"#E5ECF6\",\"gridcolor\":\"white\",\"linecolor\":\"white\",\"showbackground\":true,\"ticks\":\"\",\"zerolinecolor\":\"white\",\"gridwidth\":2},\"zaxis\":{\"backgroundcolor\":\"#E5ECF6\",\"gridcolor\":\"white\",\"linecolor\":\"white\",\"showbackground\":true,\"ticks\":\"\",\"zerolinecolor\":\"white\",\"gridwidth\":2}},\"shapedefaults\":{\"line\":{\"color\":\"#2a3f5f\"}},\"annotationdefaults\":{\"arrowcolor\":\"#2a3f5f\",\"arrowhead\":0,\"arrowwidth\":1},\"geo\":{\"bgcolor\":\"white\",\"landcolor\":\"#E5ECF6\",\"subunitcolor\":\"white\",\"showland\":true,\"showlakes\":true,\"lakecolor\":\"white\"},\"title\":{\"x\":0.05},\"mapbox\":{\"style\":\"light\"}}},\"title\":{\"text\":\"Pie Chart of Type Distribution\"}},                        {\"responsive\": true}                    ).then(function(){\n",
       "                            \n",
       "var gd = document.getElementById('6894991d-dcce-45e4-b2af-3f8856b57cfe');\n",
       "var x = new MutationObserver(function (mutations, observer) {{\n",
       "        var display = window.getComputedStyle(gd).display;\n",
       "        if (!display || display === 'none') {{\n",
       "            console.log([gd, 'removed!']);\n",
       "            Plotly.purge(gd);\n",
       "            observer.disconnect();\n",
       "        }}\n",
       "}});\n",
       "\n",
       "// Listen for the removal of the full notebook cells\n",
       "var notebookContainer = gd.closest('#notebook-container');\n",
       "if (notebookContainer) {{\n",
       "    x.observe(notebookContainer, {childList: true});\n",
       "}}\n",
       "\n",
       "// Listen for the clearing of the current output cell\n",
       "var outputEl = gd.closest('.output');\n",
       "if (outputEl) {{\n",
       "    x.observe(outputEl, {childList: true});\n",
       "}}\n",
       "\n",
       "                        })                };                });            </script>        </div>"
      ]
     },
     "metadata": {},
     "output_type": "display_data"
    }
   ],
   "source": [
    "pie_plot = go.Pie(labels= type_count.index.to_list(), values= type_count.values.flatten(),\n",
    "                 hole= 0.2, text= type_count.index.to_list(), textposition='auto')\n",
    "fig = go.Figure([pie_plot])\n",
    "fig.update_layout(title_text='Pie Chart of Type Distribution')\n",
    "fig.show()"
   ]
  },
  {
   "cell_type": "markdown",
   "id": "22733a8b",
   "metadata": {
    "papermill": {
     "duration": 0.060309,
     "end_time": "2022-11-13T07:15:29.103667",
     "exception": false,
     "start_time": "2022-11-13T07:15:29.043358",
     "status": "completed"
    },
    "tags": []
   },
   "source": [
    "# 데이터 분리"
   ]
  },
  {
   "cell_type": "code",
   "execution_count": 12,
   "id": "8b3f81f6",
   "metadata": {
    "execution": {
     "iopub.execute_input": "2022-11-13T07:15:29.226045Z",
     "iopub.status.busy": "2022-11-13T07:15:29.225067Z",
     "iopub.status.idle": "2022-11-13T07:15:29.239980Z",
     "shell.execute_reply": "2022-11-13T07:15:29.238726Z"
    },
    "papermill": {
     "duration": 0.078856,
     "end_time": "2022-11-13T07:15:29.242668",
     "exception": false,
     "start_time": "2022-11-13T07:15:29.163812",
     "status": "completed"
    },
    "tags": []
   },
   "outputs": [
    {
     "name": "stdout",
     "output_type": "stream",
     "text": [
      "6569 1643\n"
     ]
    }
   ],
   "source": [
    "# Train / Validation\n",
    "\n",
    "train_df, valid_df = train_test_split(files_df, test_size = 0.2, stratify = files_df['label'], random_state = 1234)\n",
    "\n",
    "print(len(train_df), len(valid_df))"
   ]
  },
  {
   "cell_type": "code",
   "execution_count": 13,
   "id": "226b2044",
   "metadata": {
    "execution": {
     "iopub.execute_input": "2022-11-13T07:15:29.364943Z",
     "iopub.status.busy": "2022-11-13T07:15:29.364625Z",
     "iopub.status.idle": "2022-11-13T07:15:29.373265Z",
     "shell.execute_reply": "2022-11-13T07:15:29.372242Z"
    },
    "papermill": {
     "duration": 0.071962,
     "end_time": "2022-11-13T07:15:29.375245",
     "exception": false,
     "start_time": "2022-11-13T07:15:29.303283",
     "status": "completed"
    },
    "tags": []
   },
   "outputs": [],
   "source": [
    "X_train = train_df[['filepath']]\n",
    "y_train = train_df[['label']]\n",
    "X_train = X_train.reset_index(drop=True)\n",
    "y_train = y_train.reset_index(drop=True)"
   ]
  },
  {
   "cell_type": "code",
   "execution_count": 14,
   "id": "1140f058",
   "metadata": {
    "execution": {
     "iopub.execute_input": "2022-11-13T07:15:29.496602Z",
     "iopub.status.busy": "2022-11-13T07:15:29.496322Z",
     "iopub.status.idle": "2022-11-13T07:15:29.504005Z",
     "shell.execute_reply": "2022-11-13T07:15:29.502724Z"
    },
    "papermill": {
     "duration": 0.070682,
     "end_time": "2022-11-13T07:15:29.505989",
     "exception": false,
     "start_time": "2022-11-13T07:15:29.435307",
     "status": "completed"
    },
    "tags": []
   },
   "outputs": [
    {
     "name": "stdout",
     "output_type": "stream",
     "text": [
      "6569 6569 1643 1643\n"
     ]
    }
   ],
   "source": [
    "X_valid = valid_df[['filepath']].reset_index(drop=True)\n",
    "y_valid = valid_df[['label']].reset_index(drop=True)\n",
    "\n",
    "print(len(X_train), len(y_train), len(X_valid),len(y_valid))"
   ]
  },
  {
   "cell_type": "markdown",
   "id": "255cd549",
   "metadata": {
    "papermill": {
     "duration": 0.070874,
     "end_time": "2022-11-13T07:15:29.636990",
     "exception": false,
     "start_time": "2022-11-13T07:15:29.566116",
     "status": "completed"
    },
    "tags": []
   },
   "source": [
    "# 데이터 전처리"
   ]
  },
  {
   "cell_type": "code",
   "execution_count": 15,
   "id": "a1b45f4a",
   "metadata": {
    "execution": {
     "iopub.execute_input": "2022-11-13T07:15:29.759418Z",
     "iopub.status.busy": "2022-11-13T07:15:29.759103Z",
     "iopub.status.idle": "2022-11-13T07:37:55.596810Z",
     "shell.execute_reply": "2022-11-13T07:37:55.591736Z"
    },
    "papermill": {
     "duration": 1345.902191,
     "end_time": "2022-11-13T07:37:55.599357",
     "exception": false,
     "start_time": "2022-11-13T07:15:29.697166",
     "status": "completed"
    },
    "tags": []
   },
   "outputs": [
    {
     "name": "stderr",
     "output_type": "stream",
     "text": [
      " 23%|██▎       | 1503/6569 [05:02<18:33,  4.55it/s]Premature end of JPEG file\n",
      " 85%|████████▍ | 5581/6569 [18:58<02:40,  6.15it/s]Premature end of JPEG file\n",
      "100%|██████████| 6569/6569 [22:25<00:00,  4.88it/s]\n"
     ]
    }
   ],
   "source": [
    "# train data\n",
    "\n",
    "features = []\n",
    "f_app = features.append\n",
    "path = train_df['filepath'].values\n",
    "labels = train_df['label'].values\n",
    "for p in tqdm(path):\n",
    "    image = cv2.imread(p)\n",
    "    image = cv2.cvtColor(image, cv2.COLOR_RGB2BGR)\n",
    "    re_image = cv2.resize(image, (25,25))\n",
    "    f_app(np.array(re_image))\n",
    "\n",
    "X_train = np.array(features)\n",
    "y_train = np.array(labels)"
   ]
  },
  {
   "cell_type": "code",
   "execution_count": 16,
   "id": "c5c637a6",
   "metadata": {
    "execution": {
     "iopub.execute_input": "2022-11-13T07:37:56.415880Z",
     "iopub.status.busy": "2022-11-13T07:37:56.415009Z",
     "iopub.status.idle": "2022-11-13T07:37:56.420571Z",
     "shell.execute_reply": "2022-11-13T07:37:56.419715Z"
    },
    "papermill": {
     "duration": 0.439348,
     "end_time": "2022-11-13T07:37:56.422652",
     "exception": false,
     "start_time": "2022-11-13T07:37:55.983304",
     "status": "completed"
    },
    "tags": []
   },
   "outputs": [],
   "source": [
    "# save train data as npy files\n",
    "\n",
    "#np.save('/kaggle/working/X_train_25', X_train)\n",
    "#np.save('/kaggle/working/y_train_25', y_train)"
   ]
  },
  {
   "cell_type": "code",
   "execution_count": 17,
   "id": "5c91f7f4",
   "metadata": {
    "execution": {
     "iopub.execute_input": "2022-11-13T07:37:57.204844Z",
     "iopub.status.busy": "2022-11-13T07:37:57.203817Z",
     "iopub.status.idle": "2022-11-13T07:37:57.208804Z",
     "shell.execute_reply": "2022-11-13T07:37:57.207600Z"
    },
    "papermill": {
     "duration": 0.385666,
     "end_time": "2022-11-13T07:37:57.210928",
     "exception": false,
     "start_time": "2022-11-13T07:37:56.825262",
     "status": "completed"
    },
    "tags": []
   },
   "outputs": [],
   "source": [
    "# 소요시간줄이는코드 (추가 수정 필요)\n",
    "#path = train_df['filepath'].values\n",
    "#labels = train_df['label'].values\n",
    "#features = [np.array(cv2.resize(cv2.cvtColor(cv2.imread(p),cv2.COLOR_RGB2BGR),(180,180))) for p in tqdm(path)]"
   ]
  },
  {
   "cell_type": "code",
   "execution_count": 18,
   "id": "b8995f16",
   "metadata": {
    "execution": {
     "iopub.execute_input": "2022-11-13T07:37:58.019170Z",
     "iopub.status.busy": "2022-11-13T07:37:58.018793Z",
     "iopub.status.idle": "2022-11-13T07:43:36.974732Z",
     "shell.execute_reply": "2022-11-13T07:43:36.973603Z"
    },
    "papermill": {
     "duration": 339.394475,
     "end_time": "2022-11-13T07:43:36.979482",
     "exception": false,
     "start_time": "2022-11-13T07:37:57.585007",
     "status": "completed"
    },
    "tags": []
   },
   "outputs": [
    {
     "name": "stderr",
     "output_type": "stream",
     "text": [
      " 37%|███▋      | 615/1643 [02:08<04:06,  4.17it/s]Premature end of JPEG file\n",
      "100%|██████████| 1643/1643 [05:38<00:00,  4.85it/s]\n"
     ]
    }
   ],
   "source": [
    "# validation data\n",
    "\n",
    "features = []\n",
    "f_app = features.append\n",
    "path = valid_df['filepath'].values\n",
    "labels = valid_df['label'].values\n",
    "for p in tqdm(path):\n",
    "    image = cv2.imread(p)\n",
    "    image = cv2.cvtColor(image, cv2.COLOR_RGB2BGR)\n",
    "    re_image = cv2.resize(image, (25,25))\n",
    "    f_app(np.array(re_image))\n",
    "\n",
    "X_valid = np.array(features)\n",
    "y_valid = np.array(labels)"
   ]
  },
  {
   "cell_type": "code",
   "execution_count": 19,
   "id": "d6a17630",
   "metadata": {
    "execution": {
     "iopub.execute_input": "2022-11-13T07:43:37.938987Z",
     "iopub.status.busy": "2022-11-13T07:43:37.938267Z",
     "iopub.status.idle": "2022-11-13T07:43:37.943820Z",
     "shell.execute_reply": "2022-11-13T07:43:37.942957Z"
    },
    "papermill": {
     "duration": 0.461763,
     "end_time": "2022-11-13T07:43:37.945942",
     "exception": false,
     "start_time": "2022-11-13T07:43:37.484179",
     "status": "completed"
    },
    "tags": []
   },
   "outputs": [],
   "source": [
    "# save validation data as npy files\n",
    "\n",
    "#np.save('/kaggle/working/X_valid_25', X_valid)\n",
    "#np.save('/kaggle/working/y_valid_25', y_valid)"
   ]
  },
  {
   "cell_type": "code",
   "execution_count": 20,
   "id": "f8f4557d",
   "metadata": {
    "execution": {
     "iopub.execute_input": "2022-11-13T07:43:38.898554Z",
     "iopub.status.busy": "2022-11-13T07:43:38.898201Z",
     "iopub.status.idle": "2022-11-13T07:43:38.905115Z",
     "shell.execute_reply": "2022-11-13T07:43:38.904215Z"
    },
    "papermill": {
     "duration": 0.510174,
     "end_time": "2022-11-13T07:43:38.907225",
     "exception": false,
     "start_time": "2022-11-13T07:43:38.397051",
     "status": "completed"
    },
    "tags": []
   },
   "outputs": [
    {
     "data": {
      "text/plain": [
       "array([[[108, 115, 121],\n",
       "        [127, 145, 155],\n",
       "        [125, 126, 144],\n",
       "        ...,\n",
       "        [127,  85, 131],\n",
       "        [104,  67, 104],\n",
       "        [101,  66,  99]],\n",
       "\n",
       "       [[115, 114, 120],\n",
       "        [129, 121, 142],\n",
       "        [117, 109, 130],\n",
       "        ...,\n",
       "        [114,  73, 105],\n",
       "        [100,  61,  92],\n",
       "        [ 92,  62,  90]],\n",
       "\n",
       "       [[126, 108, 127],\n",
       "        [127, 100, 125],\n",
       "        [125,  97, 118],\n",
       "        ...,\n",
       "        [148, 101, 143],\n",
       "        [138,  94, 130],\n",
       "        [116,  76, 112]],\n",
       "\n",
       "       ...,\n",
       "\n",
       "       [[ 43,  18,  30],\n",
       "        [ 49,  19,  26],\n",
       "        [ 58,  25,  34],\n",
       "        ...,\n",
       "        [146,  97, 129],\n",
       "        [142,  95, 139],\n",
       "        [119,  80, 121]],\n",
       "\n",
       "       [[ 43,  26,  36],\n",
       "        [ 47,  27,  38],\n",
       "        [ 52,  21,  36],\n",
       "        ...,\n",
       "        [139, 101, 140],\n",
       "        [140, 114, 153],\n",
       "        [108,  70, 107]],\n",
       "\n",
       "       [[ 62,  41,  56],\n",
       "        [ 43,  23,  35],\n",
       "        [ 41,  21,  32],\n",
       "        ...,\n",
       "        [ 89,  60,  78],\n",
       "        [109,  76,  93],\n",
       "        [ 71,  40,  46]]], dtype=uint8)"
      ]
     },
     "execution_count": 20,
     "metadata": {},
     "output_type": "execute_result"
    }
   ],
   "source": [
    "# X train data 확인\n",
    "X_train[0]"
   ]
  },
  {
   "cell_type": "code",
   "execution_count": 21,
   "id": "4f7a2a39",
   "metadata": {
    "execution": {
     "iopub.execute_input": "2022-11-13T07:43:39.871597Z",
     "iopub.status.busy": "2022-11-13T07:43:39.871215Z",
     "iopub.status.idle": "2022-11-13T07:43:39.878955Z",
     "shell.execute_reply": "2022-11-13T07:43:39.877941Z"
    },
    "papermill": {
     "duration": 0.524388,
     "end_time": "2022-11-13T07:43:39.881138",
     "exception": false,
     "start_time": "2022-11-13T07:43:39.356750",
     "status": "completed"
    },
    "tags": []
   },
   "outputs": [
    {
     "data": {
      "text/plain": [
       "array([[[ 72,  60,  80],\n",
       "        [ 77,  63,  85],\n",
       "        [ 80,  66,  91],\n",
       "        ...,\n",
       "        [ 70,  73, 108],\n",
       "        [ 42,  63,  92],\n",
       "        [ 24,  39,  54]],\n",
       "\n",
       "       [[112,  87, 116],\n",
       "        [108,  84, 114],\n",
       "        [109,  84, 116],\n",
       "        ...,\n",
       "        [ 86,  75, 118],\n",
       "        [ 69,  77, 113],\n",
       "        [ 32,  54,  78]],\n",
       "\n",
       "       [[136, 103, 134],\n",
       "        [129,  88, 122],\n",
       "        [141, 101, 137],\n",
       "        ...,\n",
       "        [103,  81, 128],\n",
       "        [ 96,  84, 132],\n",
       "        [ 64,  73, 109]],\n",
       "\n",
       "       ...,\n",
       "\n",
       "       [[121, 108, 133],\n",
       "        [127, 113, 139],\n",
       "        [150, 125, 155],\n",
       "        ...,\n",
       "        [ 29,  17,  27],\n",
       "        [ 27,  15,  27],\n",
       "        [143, 102, 144]],\n",
       "\n",
       "       [[130, 104, 126],\n",
       "        [146, 122, 147],\n",
       "        [140, 107, 134],\n",
       "        ...,\n",
       "        [157, 110, 150],\n",
       "        [171, 130, 174],\n",
       "        [150, 115, 157]],\n",
       "\n",
       "       [[115, 103, 127],\n",
       "        [142, 117, 143],\n",
       "        [153, 129, 153],\n",
       "        ...,\n",
       "        [157, 122, 164],\n",
       "        [129, 105, 143],\n",
       "        [ 64,  50,  75]]], dtype=uint8)"
      ]
     },
     "execution_count": 21,
     "metadata": {},
     "output_type": "execute_result"
    }
   ],
   "source": [
    "# X validation data 확인\n",
    "X_valid[0]"
   ]
  },
  {
   "cell_type": "code",
   "execution_count": 22,
   "id": "a8498f69",
   "metadata": {
    "execution": {
     "iopub.execute_input": "2022-11-13T07:43:40.804370Z",
     "iopub.status.busy": "2022-11-13T07:43:40.804013Z",
     "iopub.status.idle": "2022-11-13T07:43:40.891495Z",
     "shell.execute_reply": "2022-11-13T07:43:40.890476Z"
    },
    "papermill": {
     "duration": 0.560506,
     "end_time": "2022-11-13T07:43:40.894350",
     "exception": false,
     "start_time": "2022-11-13T07:43:40.333844",
     "status": "completed"
    },
    "tags": []
   },
   "outputs": [],
   "source": [
    "# 정규화 (0과1사이의값)\n",
    "X_train = X_train/255\n",
    "X_valid = X_valid/255"
   ]
  },
  {
   "cell_type": "code",
   "execution_count": 23,
   "id": "bd10270f",
   "metadata": {
    "execution": {
     "iopub.execute_input": "2022-11-13T07:43:41.874521Z",
     "iopub.status.busy": "2022-11-13T07:43:41.873989Z",
     "iopub.status.idle": "2022-11-13T07:43:41.884817Z",
     "shell.execute_reply": "2022-11-13T07:43:41.883415Z"
    },
    "papermill": {
     "duration": 0.483803,
     "end_time": "2022-11-13T07:43:41.887131",
     "exception": false,
     "start_time": "2022-11-13T07:43:41.403328",
     "status": "completed"
    },
    "tags": []
   },
   "outputs": [
    {
     "data": {
      "text/plain": [
       "array([[[0.42352941, 0.45098039, 0.4745098 ],\n",
       "        [0.49803922, 0.56862745, 0.60784314],\n",
       "        [0.49019608, 0.49411765, 0.56470588],\n",
       "        ...,\n",
       "        [0.49803922, 0.33333333, 0.51372549],\n",
       "        [0.40784314, 0.2627451 , 0.40784314],\n",
       "        [0.39607843, 0.25882353, 0.38823529]],\n",
       "\n",
       "       [[0.45098039, 0.44705882, 0.47058824],\n",
       "        [0.50588235, 0.4745098 , 0.55686275],\n",
       "        [0.45882353, 0.42745098, 0.50980392],\n",
       "        ...,\n",
       "        [0.44705882, 0.28627451, 0.41176471],\n",
       "        [0.39215686, 0.23921569, 0.36078431],\n",
       "        [0.36078431, 0.24313725, 0.35294118]],\n",
       "\n",
       "       [[0.49411765, 0.42352941, 0.49803922],\n",
       "        [0.49803922, 0.39215686, 0.49019608],\n",
       "        [0.49019608, 0.38039216, 0.4627451 ],\n",
       "        ...,\n",
       "        [0.58039216, 0.39607843, 0.56078431],\n",
       "        [0.54117647, 0.36862745, 0.50980392],\n",
       "        [0.45490196, 0.29803922, 0.43921569]],\n",
       "\n",
       "       ...,\n",
       "\n",
       "       [[0.16862745, 0.07058824, 0.11764706],\n",
       "        [0.19215686, 0.0745098 , 0.10196078],\n",
       "        [0.22745098, 0.09803922, 0.13333333],\n",
       "        ...,\n",
       "        [0.57254902, 0.38039216, 0.50588235],\n",
       "        [0.55686275, 0.37254902, 0.54509804],\n",
       "        [0.46666667, 0.31372549, 0.4745098 ]],\n",
       "\n",
       "       [[0.16862745, 0.10196078, 0.14117647],\n",
       "        [0.18431373, 0.10588235, 0.14901961],\n",
       "        [0.20392157, 0.08235294, 0.14117647],\n",
       "        ...,\n",
       "        [0.54509804, 0.39607843, 0.54901961],\n",
       "        [0.54901961, 0.44705882, 0.6       ],\n",
       "        [0.42352941, 0.2745098 , 0.41960784]],\n",
       "\n",
       "       [[0.24313725, 0.16078431, 0.21960784],\n",
       "        [0.16862745, 0.09019608, 0.1372549 ],\n",
       "        [0.16078431, 0.08235294, 0.1254902 ],\n",
       "        ...,\n",
       "        [0.34901961, 0.23529412, 0.30588235],\n",
       "        [0.42745098, 0.29803922, 0.36470588],\n",
       "        [0.27843137, 0.15686275, 0.18039216]]])"
      ]
     },
     "execution_count": 23,
     "metadata": {},
     "output_type": "execute_result"
    }
   ],
   "source": [
    "# 정규화한 X train data 확인\n",
    "X_train[0]"
   ]
  },
  {
   "cell_type": "code",
   "execution_count": 24,
   "id": "6c51d7cc",
   "metadata": {
    "execution": {
     "iopub.execute_input": "2022-11-13T07:43:42.842437Z",
     "iopub.status.busy": "2022-11-13T07:43:42.842075Z",
     "iopub.status.idle": "2022-11-13T07:43:42.849596Z",
     "shell.execute_reply": "2022-11-13T07:43:42.848612Z"
    },
    "papermill": {
     "duration": 0.51043,
     "end_time": "2022-11-13T07:43:42.851550",
     "exception": false,
     "start_time": "2022-11-13T07:43:42.341120",
     "status": "completed"
    },
    "tags": []
   },
   "outputs": [
    {
     "data": {
      "text/plain": [
       "array([[[0.28235294, 0.23529412, 0.31372549],\n",
       "        [0.30196078, 0.24705882, 0.33333333],\n",
       "        [0.31372549, 0.25882353, 0.35686275],\n",
       "        ...,\n",
       "        [0.2745098 , 0.28627451, 0.42352941],\n",
       "        [0.16470588, 0.24705882, 0.36078431],\n",
       "        [0.09411765, 0.15294118, 0.21176471]],\n",
       "\n",
       "       [[0.43921569, 0.34117647, 0.45490196],\n",
       "        [0.42352941, 0.32941176, 0.44705882],\n",
       "        [0.42745098, 0.32941176, 0.45490196],\n",
       "        ...,\n",
       "        [0.3372549 , 0.29411765, 0.4627451 ],\n",
       "        [0.27058824, 0.30196078, 0.44313725],\n",
       "        [0.1254902 , 0.21176471, 0.30588235]],\n",
       "\n",
       "       [[0.53333333, 0.40392157, 0.5254902 ],\n",
       "        [0.50588235, 0.34509804, 0.47843137],\n",
       "        [0.55294118, 0.39607843, 0.5372549 ],\n",
       "        ...,\n",
       "        [0.40392157, 0.31764706, 0.50196078],\n",
       "        [0.37647059, 0.32941176, 0.51764706],\n",
       "        [0.25098039, 0.28627451, 0.42745098]],\n",
       "\n",
       "       ...,\n",
       "\n",
       "       [[0.4745098 , 0.42352941, 0.52156863],\n",
       "        [0.49803922, 0.44313725, 0.54509804],\n",
       "        [0.58823529, 0.49019608, 0.60784314],\n",
       "        ...,\n",
       "        [0.11372549, 0.06666667, 0.10588235],\n",
       "        [0.10588235, 0.05882353, 0.10588235],\n",
       "        [0.56078431, 0.4       , 0.56470588]],\n",
       "\n",
       "       [[0.50980392, 0.40784314, 0.49411765],\n",
       "        [0.57254902, 0.47843137, 0.57647059],\n",
       "        [0.54901961, 0.41960784, 0.5254902 ],\n",
       "        ...,\n",
       "        [0.61568627, 0.43137255, 0.58823529],\n",
       "        [0.67058824, 0.50980392, 0.68235294],\n",
       "        [0.58823529, 0.45098039, 0.61568627]],\n",
       "\n",
       "       [[0.45098039, 0.40392157, 0.49803922],\n",
       "        [0.55686275, 0.45882353, 0.56078431],\n",
       "        [0.6       , 0.50588235, 0.6       ],\n",
       "        ...,\n",
       "        [0.61568627, 0.47843137, 0.64313725],\n",
       "        [0.50588235, 0.41176471, 0.56078431],\n",
       "        [0.25098039, 0.19607843, 0.29411765]]])"
      ]
     },
     "execution_count": 24,
     "metadata": {},
     "output_type": "execute_result"
    }
   ],
   "source": [
    "# 정규화한 X validation data 확인\n",
    "X_valid[0]"
   ]
  },
  {
   "cell_type": "code",
   "execution_count": 25,
   "id": "ed13a358",
   "metadata": {
    "execution": {
     "iopub.execute_input": "2022-11-13T07:43:43.758701Z",
     "iopub.status.busy": "2022-11-13T07:43:43.758332Z",
     "iopub.status.idle": "2022-11-13T07:43:43.763661Z",
     "shell.execute_reply": "2022-11-13T07:43:43.762708Z"
    },
    "papermill": {
     "duration": 0.461052,
     "end_time": "2022-11-13T07:43:43.766257",
     "exception": false,
     "start_time": "2022-11-13T07:43:43.305205",
     "status": "completed"
    },
    "tags": []
   },
   "outputs": [
    {
     "name": "stdout",
     "output_type": "stream",
     "text": [
      "6569 6569\n",
      "(6569, 25, 25, 3)\n"
     ]
    }
   ],
   "source": [
    "# train 개수, 차원 확인\n",
    "print(len(X_train), len(y_train))\n",
    "print(X_train.shape)"
   ]
  },
  {
   "cell_type": "code",
   "execution_count": 26,
   "id": "87a919e7",
   "metadata": {
    "execution": {
     "iopub.execute_input": "2022-11-13T07:43:44.716694Z",
     "iopub.status.busy": "2022-11-13T07:43:44.715718Z",
     "iopub.status.idle": "2022-11-13T07:43:44.722195Z",
     "shell.execute_reply": "2022-11-13T07:43:44.720845Z"
    },
    "papermill": {
     "duration": 0.50707,
     "end_time": "2022-11-13T07:43:44.725054",
     "exception": false,
     "start_time": "2022-11-13T07:43:44.217984",
     "status": "completed"
    },
    "tags": []
   },
   "outputs": [
    {
     "name": "stdout",
     "output_type": "stream",
     "text": [
      "1643 1643\n",
      "(1643, 25, 25, 3)\n"
     ]
    }
   ],
   "source": [
    "# validation 개수, 차원 확인\n",
    "print(len(X_valid), len(y_valid))\n",
    "print(X_valid.shape)"
   ]
  },
  {
   "cell_type": "code",
   "execution_count": 27,
   "id": "d5187db7",
   "metadata": {
    "execution": {
     "iopub.execute_input": "2022-11-13T07:43:45.680477Z",
     "iopub.status.busy": "2022-11-13T07:43:45.680072Z",
     "iopub.status.idle": "2022-11-13T07:43:45.690524Z",
     "shell.execute_reply": "2022-11-13T07:43:45.689569Z"
    },
    "papermill": {
     "duration": 0.5184,
     "end_time": "2022-11-13T07:43:45.692559",
     "exception": false,
     "start_time": "2022-11-13T07:43:45.174159",
     "status": "completed"
    },
    "tags": []
   },
   "outputs": [],
   "source": [
    "# y 라벨링 (string -> int)\n",
    "le = LabelEncoder().fit(['Type 1', 'Type 2', 'Type 3'])\n",
    "y_train = le.transform(y_train)\n",
    "y_valid = le.transform(y_valid)\n",
    "\n",
    "y_train_onehot = to_categorical(y_train, num_classes=3)\n",
    "y_valid_onehot = to_categorical(y_valid, num_classes=3)"
   ]
  },
  {
   "cell_type": "code",
   "execution_count": 28,
   "id": "9f36a017",
   "metadata": {
    "execution": {
     "iopub.execute_input": "2022-11-13T07:43:46.621041Z",
     "iopub.status.busy": "2022-11-13T07:43:46.620555Z",
     "iopub.status.idle": "2022-11-13T07:43:46.635589Z",
     "shell.execute_reply": "2022-11-13T07:43:46.633864Z"
    },
    "papermill": {
     "duration": 0.492577,
     "end_time": "2022-11-13T07:43:46.638758",
     "exception": false,
     "start_time": "2022-11-13T07:43:46.146181",
     "status": "completed"
    },
    "tags": []
   },
   "outputs": [
    {
     "data": {
      "text/plain": [
       "array([[0., 1., 0.],\n",
       "       [0., 0., 1.],\n",
       "       [0., 1., 0.],\n",
       "       [0., 1., 0.],\n",
       "       [0., 0., 1.]], dtype=float32)"
      ]
     },
     "execution_count": 28,
     "metadata": {},
     "output_type": "execute_result"
    }
   ],
   "source": [
    "y_train_onehot[:5]"
   ]
  },
  {
   "cell_type": "code",
   "execution_count": 29,
   "id": "44f5192d",
   "metadata": {
    "execution": {
     "iopub.execute_input": "2022-11-13T07:43:47.810126Z",
     "iopub.status.busy": "2022-11-13T07:43:47.809726Z",
     "iopub.status.idle": "2022-11-13T07:43:47.816384Z",
     "shell.execute_reply": "2022-11-13T07:43:47.815458Z"
    },
    "papermill": {
     "duration": 0.470531,
     "end_time": "2022-11-13T07:43:47.818332",
     "exception": false,
     "start_time": "2022-11-13T07:43:47.347801",
     "status": "completed"
    },
    "tags": []
   },
   "outputs": [
    {
     "data": {
      "text/plain": [
       "array([[0., 1., 0.],\n",
       "       [0., 1., 0.],\n",
       "       [0., 1., 0.],\n",
       "       [0., 0., 1.],\n",
       "       [0., 1., 0.]], dtype=float32)"
      ]
     },
     "execution_count": 29,
     "metadata": {},
     "output_type": "execute_result"
    }
   ],
   "source": [
    "y_valid_onehot[:5]"
   ]
  },
  {
   "cell_type": "code",
   "execution_count": 30,
   "id": "c7d63e88",
   "metadata": {
    "execution": {
     "iopub.execute_input": "2022-11-13T07:43:48.787281Z",
     "iopub.status.busy": "2022-11-13T07:43:48.785505Z",
     "iopub.status.idle": "2022-11-13T07:43:55.811393Z",
     "shell.execute_reply": "2022-11-13T07:43:55.810454Z"
    },
    "papermill": {
     "duration": 7.480399,
     "end_time": "2022-11-13T07:43:55.813475",
     "exception": false,
     "start_time": "2022-11-13T07:43:48.333076",
     "status": "completed"
    },
    "tags": []
   },
   "outputs": [
    {
     "name": "stderr",
     "output_type": "stream",
     "text": [
      "2022-11-13 07:43:49.048880: I tensorflow/stream_executor/cuda/cuda_gpu_executor.cc:937] successful NUMA node read from SysFS had negative value (-1), but there must be at least one NUMA node, so returning NUMA node zero\n",
      "2022-11-13 07:43:49.151215: I tensorflow/stream_executor/cuda/cuda_gpu_executor.cc:937] successful NUMA node read from SysFS had negative value (-1), but there must be at least one NUMA node, so returning NUMA node zero\n",
      "2022-11-13 07:43:49.151989: I tensorflow/stream_executor/cuda/cuda_gpu_executor.cc:937] successful NUMA node read from SysFS had negative value (-1), but there must be at least one NUMA node, so returning NUMA node zero\n",
      "2022-11-13 07:43:49.162210: I tensorflow/core/platform/cpu_feature_guard.cc:142] This TensorFlow binary is optimized with oneAPI Deep Neural Network Library (oneDNN) to use the following CPU instructions in performance-critical operations:  AVX2 AVX512F FMA\n",
      "To enable them in other operations, rebuild TensorFlow with the appropriate compiler flags.\n",
      "2022-11-13 07:43:49.162553: I tensorflow/stream_executor/cuda/cuda_gpu_executor.cc:937] successful NUMA node read from SysFS had negative value (-1), but there must be at least one NUMA node, so returning NUMA node zero\n",
      "2022-11-13 07:43:49.163342: I tensorflow/stream_executor/cuda/cuda_gpu_executor.cc:937] successful NUMA node read from SysFS had negative value (-1), but there must be at least one NUMA node, so returning NUMA node zero\n",
      "2022-11-13 07:43:49.163995: I tensorflow/stream_executor/cuda/cuda_gpu_executor.cc:937] successful NUMA node read from SysFS had negative value (-1), but there must be at least one NUMA node, so returning NUMA node zero\n",
      "2022-11-13 07:43:50.971056: I tensorflow/stream_executor/cuda/cuda_gpu_executor.cc:937] successful NUMA node read from SysFS had negative value (-1), but there must be at least one NUMA node, so returning NUMA node zero\n",
      "2022-11-13 07:43:50.971882: I tensorflow/stream_executor/cuda/cuda_gpu_executor.cc:937] successful NUMA node read from SysFS had negative value (-1), but there must be at least one NUMA node, so returning NUMA node zero\n",
      "2022-11-13 07:43:50.972556: I tensorflow/stream_executor/cuda/cuda_gpu_executor.cc:937] successful NUMA node read from SysFS had negative value (-1), but there must be at least one NUMA node, so returning NUMA node zero\n",
      "2022-11-13 07:43:50.974826: I tensorflow/core/common_runtime/gpu/gpu_device.cc:1510] Created device /job:localhost/replica:0/task:0/device:GPU:0 with 15401 MB memory:  -> device: 0, name: Tesla P100-PCIE-16GB, pci bus id: 0000:00:04.0, compute capability: 6.0\n",
      "2022-11-13 07:43:51.499622: W tensorflow/core/framework/cpu_allocator_impl.cc:80] Allocation of 36945000 exceeds 10% of free system memory.\n",
      "2022-11-13 07:43:51.721575: W tensorflow/core/framework/cpu_allocator_impl.cc:80] Allocation of 36945000 exceeds 10% of free system memory.\n",
      "2022-11-13 07:43:51.793299: I tensorflow/compiler/mlir/mlir_graph_optimization_pass.cc:185] None of the MLIR Optimization Passes are enabled (registered 2)\n"
     ]
    },
    {
     "name": "stdout",
     "output_type": "stream",
     "text": [
      "Epoch 1/15\n",
      "39/39 [==============================] - 2s 8ms/step - loss: 1.0912 - accuracy: 0.4886 - val_loss: 0.9840 - val_accuracy: 0.5326\n",
      "Epoch 2/15\n",
      "39/39 [==============================] - 0s 4ms/step - loss: 0.9783 - accuracy: 0.5311 - val_loss: 0.9835 - val_accuracy: 0.5253\n",
      "Epoch 3/15\n",
      "39/39 [==============================] - 0s 4ms/step - loss: 0.9743 - accuracy: 0.5278 - val_loss: 0.9519 - val_accuracy: 0.5423\n",
      "Epoch 4/15\n",
      "39/39 [==============================] - 0s 3ms/step - loss: 0.9525 - accuracy: 0.5434 - val_loss: 0.9613 - val_accuracy: 0.5350\n",
      "Epoch 5/15\n",
      "39/39 [==============================] - 0s 3ms/step - loss: 0.9548 - accuracy: 0.5418 - val_loss: 0.9447 - val_accuracy: 0.5350\n",
      "Epoch 6/15\n",
      "39/39 [==============================] - 0s 3ms/step - loss: 0.9474 - accuracy: 0.5497 - val_loss: 0.9403 - val_accuracy: 0.5551\n",
      "Epoch 7/15\n",
      "39/39 [==============================] - 0s 4ms/step - loss: 0.9415 - accuracy: 0.5471 - val_loss: 0.9367 - val_accuracy: 0.5484\n",
      "Epoch 8/15\n",
      "39/39 [==============================] - 0s 4ms/step - loss: 0.9312 - accuracy: 0.5497 - val_loss: 0.9382 - val_accuracy: 0.5539\n",
      "Epoch 9/15\n",
      "39/39 [==============================] - 0s 7ms/step - loss: 0.9292 - accuracy: 0.5512 - val_loss: 0.9399 - val_accuracy: 0.5520\n",
      "Epoch 10/15\n",
      "39/39 [==============================] - 0s 5ms/step - loss: 0.9265 - accuracy: 0.5581 - val_loss: 0.9457 - val_accuracy: 0.5520\n",
      "Epoch 11/15\n",
      "39/39 [==============================] - 0s 5ms/step - loss: 0.9185 - accuracy: 0.5544 - val_loss: 0.9408 - val_accuracy: 0.5484\n",
      "Epoch 12/15\n",
      "39/39 [==============================] - 0s 5ms/step - loss: 0.9184 - accuracy: 0.5690 - val_loss: 0.9317 - val_accuracy: 0.5496\n",
      "Epoch 13/15\n",
      "39/39 [==============================] - 0s 5ms/step - loss: 0.9174 - accuracy: 0.5564 - val_loss: 0.9323 - val_accuracy: 0.5569\n",
      "Epoch 14/15\n",
      "39/39 [==============================] - 0s 4ms/step - loss: 0.9155 - accuracy: 0.5646 - val_loss: 0.9695 - val_accuracy: 0.5234\n",
      "Epoch 15/15\n",
      "39/39 [==============================] - 0s 3ms/step - loss: 0.9294 - accuracy: 0.5489 - val_loss: 0.9209 - val_accuracy: 0.5600\n"
     ]
    }
   ],
   "source": [
    "# simple DNN\n",
    "\n",
    "simDNN = Sequential([\n",
    "    Flatten()\n",
    "    , Dense(128, activation = 'relu')\n",
    "    , Dense(3, activation = 'softmax')\n",
    "])\n",
    "\n",
    "simDNN.compile(\n",
    "    optimizer = 'adam'\n",
    "    , loss = 'categorical_crossentropy'\n",
    "    , metrics = ['accuracy']\n",
    ")\n",
    "\n",
    "history_1 = simDNN.fit(\n",
    "    X_train, y_train_onehot\n",
    "    , epochs = 15\n",
    "    , batch_size = 128\n",
    "    , verbose = 1\n",
    "    , validation_split = 0.25\n",
    ")"
   ]
  },
  {
   "cell_type": "code",
   "execution_count": 31,
   "id": "21f13ed3",
   "metadata": {
    "execution": {
     "iopub.execute_input": "2022-11-13T07:43:56.783619Z",
     "iopub.status.busy": "2022-11-13T07:43:56.783238Z",
     "iopub.status.idle": "2022-11-13T07:43:57.112548Z",
     "shell.execute_reply": "2022-11-13T07:43:57.111670Z"
    },
    "papermill": {
     "duration": 0.840817,
     "end_time": "2022-11-13T07:43:57.114540",
     "exception": false,
     "start_time": "2022-11-13T07:43:56.273723",
     "status": "completed"
    },
    "tags": []
   },
   "outputs": [
    {
     "data": {
      "image/png": "[encoded data removed]",
      "text/plain": [
       "<Figure size 1080x360 with 2 Axes>"
      ]
     },
     "metadata": {
      "needs_background": "light"
     },
     "output_type": "display_data"
    }
   ],
   "source": [
    "plt.figure(figsize=(15, 5))\n",
    "\n",
    "plt.subplot(1, 2, 1)\n",
    "plt.plot(history_1.history['accuracy'], label='Training Accuracy')\n",
    "plt.plot(history_1.history['val_accuracy'], label='Validation Accuracy')\n",
    "plt.legend(loc='lower right')\n",
    "plt.title('Training and Validation Accuracy')\n",
    "\n",
    "plt.subplot(1, 2, 2)\n",
    "plt.plot(history_1.history['loss'], label='Training Loss')\n",
    "plt.plot(history_1.history['val_loss'], label='Validation Loss')\n",
    "plt.legend(loc='upper right')\n",
    "plt.title('Training and Validation Loss')\n",
    "\n",
    "plt.show()"
   ]
  },
  {
   "cell_type": "code",
   "execution_count": 32,
   "id": "8d0f95ca",
   "metadata": {
    "execution": {
     "iopub.execute_input": "2022-11-13T07:43:58.366378Z",
     "iopub.status.busy": "2022-11-13T07:43:58.365657Z",
     "iopub.status.idle": "2022-11-13T07:43:58.424301Z",
     "shell.execute_reply": "2022-11-13T07:43:58.422742Z"
    },
    "papermill": {
     "duration": 0.807764,
     "end_time": "2022-11-13T07:43:58.426641",
     "exception": false,
     "start_time": "2022-11-13T07:43:57.618877",
     "status": "completed"
    },
    "tags": []
   },
   "outputs": [
    {
     "name": "stdout",
     "output_type": "stream",
     "text": [
      "Model: \"sequential_1\"\n",
      "_________________________________________________________________\n",
      "Layer (type)                 Output Shape              Param #   \n",
      "=================================================================\n",
      "conv2d (Conv2D)              (None, 25, 25, 15)        195       \n",
      "_________________________________________________________________\n",
      "batch_normalization (BatchNo (None, 25, 25, 15)        60        \n",
      "_________________________________________________________________\n",
      "activation (Activation)      (None, 25, 25, 15)        0         \n",
      "_________________________________________________________________\n",
      "max_pooling2d (MaxPooling2D) (None, 12, 12, 15)        0         \n",
      "_________________________________________________________________\n",
      "flatten_1 (Flatten)          (None, 2160)              0         \n",
      "_________________________________________________________________\n",
      "dense_2 (Dense)              (None, 10)                21610     \n",
      "_________________________________________________________________\n",
      "activation_1 (Activation)    (None, 10)                0         \n",
      "_________________________________________________________________\n",
      "dense_3 (Dense)              (None, 3)                 33        \n",
      "=================================================================\n",
      "Total params: 21,898\n",
      "Trainable params: 21,868\n",
      "Non-trainable params: 30\n",
      "_________________________________________________________________\n"
     ]
    }
   ],
   "source": [
    "# simple CNN\n",
    "\n",
    "simCNN = Sequential([\n",
    "  keras.Input(shape=(25,25,3))\n",
    "  , Conv2D(filters = 15, kernel_size = (2,2), padding='same')\n",
    "  , BatchNormalization()\n",
    "  , Activation('relu')\n",
    "  , MaxPooling2D(pool_size=2)\n",
    "  , Flatten()\n",
    "  , Dense(10)\n",
    "  , Activation('relu')\n",
    "  , Dense(3, activation='softmax')\n",
    "])\n",
    "\n",
    "simCNN.summary()"
   ]
  },
  {
   "cell_type": "code",
   "execution_count": 33,
   "id": "27cce02e",
   "metadata": {
    "execution": {
     "iopub.execute_input": "2022-11-13T07:43:59.351836Z",
     "iopub.status.busy": "2022-11-13T07:43:59.351447Z",
     "iopub.status.idle": "2022-11-13T07:44:08.877299Z",
     "shell.execute_reply": "2022-11-13T07:44:08.876205Z"
    },
    "papermill": {
     "duration": 9.988384,
     "end_time": "2022-11-13T07:44:08.879513",
     "exception": false,
     "start_time": "2022-11-13T07:43:58.891129",
     "status": "completed"
    },
    "tags": []
   },
   "outputs": [
    {
     "name": "stderr",
     "output_type": "stream",
     "text": [
      "2022-11-13 07:43:59.380340: W tensorflow/core/framework/cpu_allocator_impl.cc:80] Allocation of 49267500 exceeds 10% of free system memory.\n",
      "2022-11-13 07:43:59.457807: W tensorflow/core/framework/cpu_allocator_impl.cc:80] Allocation of 49267500 exceeds 10% of free system memory.\n"
     ]
    },
    {
     "name": "stdout",
     "output_type": "stream",
     "text": [
      "Epoch 1/15\n"
     ]
    },
    {
     "name": "stderr",
     "output_type": "stream",
     "text": [
      "2022-11-13 07:44:00.582723: I tensorflow/stream_executor/cuda/cuda_dnn.cc:369] Loaded cuDNN version 8005\n"
     ]
    },
    {
     "name": "stdout",
     "output_type": "stream",
     "text": [
      "52/52 [==============================] - 6s 8ms/step - loss: 0.9916 - accuracy: 0.5147 - val_loss: 1.0189 - val_accuracy: 0.5295\n",
      "Epoch 2/15\n",
      "52/52 [==============================] - 0s 4ms/step - loss: 0.9390 - accuracy: 0.5448 - val_loss: 1.0109 - val_accuracy: 0.5514\n",
      "Epoch 3/15\n",
      "52/52 [==============================] - 0s 4ms/step - loss: 0.9147 - accuracy: 0.5532 - val_loss: 0.9874 - val_accuracy: 0.5350\n",
      "Epoch 4/15\n",
      "52/52 [==============================] - 0s 4ms/step - loss: 0.9142 - accuracy: 0.5485 - val_loss: 0.9546 - val_accuracy: 0.5514\n",
      "Epoch 5/15\n",
      "52/52 [==============================] - 0s 4ms/step - loss: 0.8933 - accuracy: 0.5590 - val_loss: 0.9492 - val_accuracy: 0.5490\n",
      "Epoch 6/15\n",
      "52/52 [==============================] - 0s 4ms/step - loss: 0.8778 - accuracy: 0.5706 - val_loss: 0.9278 - val_accuracy: 0.5581\n",
      "Epoch 7/15\n",
      "52/52 [==============================] - 0s 4ms/step - loss: 0.8656 - accuracy: 0.5733 - val_loss: 0.9146 - val_accuracy: 0.5526\n",
      "Epoch 8/15\n",
      "52/52 [==============================] - 0s 5ms/step - loss: 0.8575 - accuracy: 0.5837 - val_loss: 0.9129 - val_accuracy: 0.5569\n",
      "Epoch 9/15\n",
      "52/52 [==============================] - 0s 5ms/step - loss: 0.8393 - accuracy: 0.5970 - val_loss: 0.9257 - val_accuracy: 0.5587\n",
      "Epoch 10/15\n",
      "52/52 [==============================] - 0s 4ms/step - loss: 0.8374 - accuracy: 0.6048 - val_loss: 0.9160 - val_accuracy: 0.5417\n",
      "Epoch 11/15\n",
      "52/52 [==============================] - 0s 5ms/step - loss: 0.8164 - accuracy: 0.6159 - val_loss: 0.9049 - val_accuracy: 0.5490\n",
      "Epoch 12/15\n",
      "52/52 [==============================] - 0s 4ms/step - loss: 0.8040 - accuracy: 0.6193 - val_loss: 0.9051 - val_accuracy: 0.5484\n",
      "Epoch 13/15\n",
      "52/52 [==============================] - 0s 4ms/step - loss: 0.7935 - accuracy: 0.6304 - val_loss: 0.9293 - val_accuracy: 0.5575\n",
      "Epoch 14/15\n",
      "52/52 [==============================] - 0s 4ms/step - loss: 0.7824 - accuracy: 0.6319 - val_loss: 0.9212 - val_accuracy: 0.5496\n",
      "Epoch 15/15\n",
      "52/52 [==============================] - 0s 7ms/step - loss: 0.7800 - accuracy: 0.6375 - val_loss: 0.9423 - val_accuracy: 0.5508\n"
     ]
    }
   ],
   "source": [
    "simCNN.compile(\n",
    "  'adam'\n",
    "  , loss='categorical_crossentropy'\n",
    "  , metrics=['accuracy']\n",
    ")\n",
    "\n",
    "history_2 = simCNN.fit(\n",
    "        x=X_train, y=y_train_onehot\n",
    "        , epochs=15\n",
    "        , validation_data=(X_valid, y_valid_onehot)\n",
    "        , verbose=1\n",
    "        , batch_size=128\n",
    ")"
   ]
  },
  {
   "cell_type": "code",
   "execution_count": 34,
   "id": "93c9b820",
   "metadata": {
    "execution": {
     "iopub.execute_input": "2022-11-13T07:44:09.978852Z",
     "iopub.status.busy": "2022-11-13T07:44:09.978467Z",
     "iopub.status.idle": "2022-11-13T07:44:10.287622Z",
     "shell.execute_reply": "2022-11-13T07:44:10.286709Z"
    },
    "papermill": {
     "duration": 0.789656,
     "end_time": "2022-11-13T07:44:10.289648",
     "exception": false,
     "start_time": "2022-11-13T07:44:09.499992",
     "status": "completed"
    },
    "tags": []
   },
   "outputs": [
    {
     "data": {
      "image/png": "[encoded data removed]",
      "text/plain": [
       "<Figure size 1080x360 with 2 Axes>"
      ]
     },
     "metadata": {
      "needs_background": "light"
     },
     "output_type": "display_data"
    }
   ],
   "source": [
    "plt.figure(figsize=(15, 5))\n",
    "\n",
    "plt.subplot(1, 2, 1)\n",
    "plt.plot(history_2.history['accuracy'], label='Training Accuracy')\n",
    "plt.plot(history_2.history['val_accuracy'], label='Validation Accuracy')\n",
    "plt.legend(loc='lower right')\n",
    "plt.title('Training and Validation Accuracy')\n",
    "\n",
    "plt.subplot(1, 2, 2)\n",
    "plt.plot(history_2.history['loss'], label='Training Loss')\n",
    "plt.plot(history_2.history['val_loss'], label='Validation Loss')\n",
    "plt.legend(loc='upper right')\n",
    "plt.title('Training and Validation Loss')\n",
    "\n",
    "plt.show()"
   ]
  },
  {
   "cell_type": "markdown",
   "id": "8bbb6594",
   "metadata": {
    "papermill": {
     "duration": 0.512982,
     "end_time": "2022-11-13T07:44:11.285345",
     "exception": false,
     "start_time": "2022-11-13T07:44:10.772363",
     "status": "completed"
    },
    "tags": []
   },
   "source": [
    "# 원선님 모델"
   ]
  },
  {
   "cell_type": "code",
   "execution_count": 35,
   "id": "584d808c",
   "metadata": {
    "execution": {
     "iopub.execute_input": "2022-11-13T07:44:12.213972Z",
     "iopub.status.busy": "2022-11-13T07:44:12.213588Z",
     "iopub.status.idle": "2022-11-13T07:44:12.253122Z",
     "shell.execute_reply": "2022-11-13T07:44:12.252100Z"
    },
    "papermill": {
     "duration": 0.505792,
     "end_time": "2022-11-13T07:44:12.255074",
     "exception": false,
     "start_time": "2022-11-13T07:44:11.749282",
     "status": "completed"
    },
    "tags": []
   },
   "outputs": [
    {
     "name": "stdout",
     "output_type": "stream",
     "text": [
      "Model: \"sequential_2\"\n",
      "_________________________________________________________________\n",
      "Layer (type)                 Output Shape              Param #   \n",
      "=================================================================\n",
      "flatten_2 (Flatten)          (None, 1875)              0         \n",
      "_________________________________________________________________\n",
      "dense_4 (Dense)              (None, 256)               480256    \n",
      "_________________________________________________________________\n",
      "dense_5 (Dense)              (None, 128)               32896     \n",
      "_________________________________________________________________\n",
      "dense_6 (Dense)              (None, 64)                8256      \n",
      "_________________________________________________________________\n",
      "dense_7 (Dense)              (None, 3)                 195       \n",
      "=================================================================\n",
      "Total params: 521,603\n",
      "Trainable params: 521,603\n",
      "Non-trainable params: 0\n",
      "_________________________________________________________________\n"
     ]
    }
   ],
   "source": [
    "dnn = Sequential([\n",
    "    keras.Input(shape=(25, 25, 3)),\n",
    "    Flatten(),\n",
    "    Dense(256, activation='relu'),\n",
    "    #Dense(50),\n",
    "    Dense(128, activation='relu'),\n",
    "    Dense(64, activation='relu'),\n",
    "    Dense(3, activation='softmax')\n",
    "])\n",
    "\n",
    "dnn.summary()"
   ]
  },
  {
   "cell_type": "code",
   "execution_count": 36,
   "id": "875161a4",
   "metadata": {
    "execution": {
     "iopub.execute_input": "2022-11-13T07:44:13.226219Z",
     "iopub.status.busy": "2022-11-13T07:44:13.225839Z",
     "iopub.status.idle": "2022-11-13T07:44:16.654578Z",
     "shell.execute_reply": "2022-11-13T07:44:16.653627Z"
    },
    "papermill": {
     "duration": 3.893567,
     "end_time": "2022-11-13T07:44:16.656734",
     "exception": false,
     "start_time": "2022-11-13T07:44:12.763167",
     "status": "completed"
    },
    "tags": []
   },
   "outputs": [
    {
     "name": "stderr",
     "output_type": "stream",
     "text": [
      "2022-11-13 07:44:13.293874: W tensorflow/core/framework/cpu_allocator_impl.cc:80] Allocation of 49267500 exceeds 10% of free system memory.\n"
     ]
    },
    {
     "name": "stdout",
     "output_type": "stream",
     "text": [
      "Epoch 1/15\n",
      "52/52 [==============================] - 1s 6ms/step - loss: 1.0100 - accuracy: 0.5202 - val_loss: 0.9608 - val_accuracy: 0.5307\n",
      "Epoch 2/15\n",
      "52/52 [==============================] - 0s 3ms/step - loss: 0.9696 - accuracy: 0.5322 - val_loss: 0.9691 - val_accuracy: 0.5460\n",
      "Epoch 3/15\n",
      "52/52 [==============================] - 0s 4ms/step - loss: 0.9584 - accuracy: 0.5345 - val_loss: 0.9742 - val_accuracy: 0.5460\n",
      "Epoch 4/15\n",
      "52/52 [==============================] - 0s 4ms/step - loss: 0.9467 - accuracy: 0.5374 - val_loss: 0.9418 - val_accuracy: 0.5520\n",
      "Epoch 5/15\n",
      "52/52 [==============================] - 0s 3ms/step - loss: 0.9489 - accuracy: 0.5432 - val_loss: 0.9259 - val_accuracy: 0.5673\n",
      "Epoch 6/15\n",
      "52/52 [==============================] - 0s 3ms/step - loss: 0.9362 - accuracy: 0.5441 - val_loss: 0.9452 - val_accuracy: 0.5630\n",
      "Epoch 7/15\n",
      "52/52 [==============================] - 0s 4ms/step - loss: 0.9372 - accuracy: 0.5457 - val_loss: 0.9199 - val_accuracy: 0.5752\n",
      "Epoch 8/15\n",
      "52/52 [==============================] - 0s 3ms/step - loss: 0.9175 - accuracy: 0.5546 - val_loss: 0.9119 - val_accuracy: 0.5733\n",
      "Epoch 9/15\n",
      "52/52 [==============================] - 0s 3ms/step - loss: 0.9081 - accuracy: 0.5639 - val_loss: 0.9266 - val_accuracy: 0.5703\n",
      "Epoch 10/15\n",
      "52/52 [==============================] - 0s 3ms/step - loss: 0.8998 - accuracy: 0.5646 - val_loss: 0.9159 - val_accuracy: 0.5715\n",
      "Epoch 11/15\n",
      "52/52 [==============================] - 0s 3ms/step - loss: 0.8958 - accuracy: 0.5721 - val_loss: 0.9189 - val_accuracy: 0.5697\n",
      "Epoch 12/15\n",
      "52/52 [==============================] - 0s 3ms/step - loss: 0.8940 - accuracy: 0.5741 - val_loss: 0.9179 - val_accuracy: 0.5721\n",
      "Epoch 13/15\n",
      "52/52 [==============================] - 0s 3ms/step - loss: 0.8751 - accuracy: 0.5896 - val_loss: 0.9016 - val_accuracy: 0.5813\n",
      "Epoch 14/15\n",
      "52/52 [==============================] - 0s 3ms/step - loss: 0.8665 - accuracy: 0.5852 - val_loss: 0.9320 - val_accuracy: 0.5679\n",
      "Epoch 15/15\n",
      "52/52 [==============================] - 0s 3ms/step - loss: 0.8574 - accuracy: 0.5966 - val_loss: 0.8951 - val_accuracy: 0.5843\n"
     ]
    }
   ],
   "source": [
    "dnn.compile(\n",
    "    'adam',\n",
    "  loss='categorical_crossentropy',\n",
    "  metrics=['accuracy'],\n",
    ")\n",
    "\n",
    "historydnn =dnn.fit(\n",
    "        x=X_train,y=y_train_onehot, \n",
    "        epochs=15, \n",
    "        validation_data=(X_valid, y_valid_onehot),\n",
    "        verbose=1,\n",
    "        batch_size=128\n",
    ")"
   ]
  },
  {
   "cell_type": "code",
   "execution_count": 37,
   "id": "604dc787",
   "metadata": {
    "execution": {
     "iopub.execute_input": "2022-11-13T07:44:17.646368Z",
     "iopub.status.busy": "2022-11-13T07:44:17.646001Z",
     "iopub.status.idle": "2022-11-13T07:44:17.975524Z",
     "shell.execute_reply": "2022-11-13T07:44:17.974639Z"
    },
    "papermill": {
     "duration": 0.795506,
     "end_time": "2022-11-13T07:44:17.977630",
     "exception": false,
     "start_time": "2022-11-13T07:44:17.182124",
     "status": "completed"
    },
    "tags": []
   },
   "outputs": [
    {
     "data": {
      "image/png": "[encoded data removed]",
      "text/plain": [
       "<Figure size 1080x360 with 2 Axes>"
      ]
     },
     "metadata": {
      "needs_background": "light"
     },
     "output_type": "display_data"
    }
   ],
   "source": [
    "plt.figure(figsize=(15, 5))\n",
    "\n",
    "plt.subplot(1, 2, 1)\n",
    "plt.plot(historydnn.history['accuracy'], label='Training Accuracy')\n",
    "plt.plot(historydnn.history['val_accuracy'], label='Validation Accuracy')\n",
    "plt.legend(loc='lower right')\n",
    "plt.title('Training and Validation Accuracy')\n",
    "\n",
    "plt.subplot(1, 2, 2)\n",
    "plt.plot(historydnn.history['loss'], label='Training Loss')\n",
    "plt.plot(historydnn.history['val_loss'], label='Validation Loss')\n",
    "plt.legend(loc='upper right')\n",
    "plt.title('Training and Validation Loss')\n",
    "\n",
    "plt.show()"
   ]
  },
  {
   "cell_type": "code",
   "execution_count": 38,
   "id": "3565f8b4",
   "metadata": {
    "execution": {
     "iopub.execute_input": "2022-11-13T07:44:18.976921Z",
     "iopub.status.busy": "2022-11-13T07:44:18.976547Z",
     "iopub.status.idle": "2022-11-13T07:44:19.271905Z",
     "shell.execute_reply": "2022-11-13T07:44:19.270696Z"
    },
    "papermill": {
     "duration": 0.821131,
     "end_time": "2022-11-13T07:44:19.275581",
     "exception": false,
     "start_time": "2022-11-13T07:44:18.454450",
     "status": "completed"
    },
    "tags": []
   },
   "outputs": [
    {
     "name": "stdout",
     "output_type": "stream",
     "text": [
      "Model: \"sequential_3\"\n",
      "_________________________________________________________________\n",
      "Layer (type)                 Output Shape              Param #   \n",
      "=================================================================\n",
      "conv2d_1 (Conv2D)            (None, 25, 25, 64)        1792      \n",
      "_________________________________________________________________\n",
      "activation_2 (Activation)    (None, 25, 25, 64)        0         \n",
      "_________________________________________________________________\n",
      "max_pooling2d_1 (MaxPooling2 (None, 12, 12, 64)        0         \n",
      "_________________________________________________________________\n",
      "conv2d_2 (Conv2D)            (None, 12, 12, 32)        18464     \n",
      "_________________________________________________________________\n",
      "activation_3 (Activation)    (None, 12, 12, 32)        0         \n",
      "_________________________________________________________________\n",
      "max_pooling2d_2 (MaxPooling2 (None, 6, 6, 32)          0         \n",
      "_________________________________________________________________\n",
      "conv2d_3 (Conv2D)            (None, 6, 6, 64)          18496     \n",
      "_________________________________________________________________\n",
      "activation_4 (Activation)    (None, 6, 6, 64)          0         \n",
      "_________________________________________________________________\n",
      "max_pooling2d_3 (MaxPooling2 (None, 3, 3, 64)          0         \n",
      "_________________________________________________________________\n",
      "flatten_3 (Flatten)          (None, 576)               0         \n",
      "_________________________________________________________________\n",
      "dense_8 (Dense)              (None, 64)                36928     \n",
      "_________________________________________________________________\n",
      "activation_5 (Activation)    (None, 64)                0         \n",
      "_________________________________________________________________\n",
      "dropout (Dropout)            (None, 64)                0         \n",
      "_________________________________________________________________\n",
      "dense_9 (Dense)              (None, 3)                 195       \n",
      "=================================================================\n",
      "Total params: 75,875\n",
      "Trainable params: 75,875\n",
      "Non-trainable params: 0\n",
      "_________________________________________________________________\n"
     ]
    }
   ],
   "source": [
    "cnn = Sequential([\n",
    "    keras.Input(shape=(25, 25, 3)),\n",
    "    \n",
    "    Conv2D(64, kernel_size = (3,3), padding='same', kernel_initializer='random_normal'),\n",
    "    Activation('relu'),\n",
    "    MaxPooling2D(pool_size=(2,2)),\n",
    "    \n",
    "    Conv2D(32, kernel_size = (3,3), padding='same', kernel_initializer='random_normal'),\n",
    "    Activation('relu'),\n",
    "    MaxPooling2D(pool_size=(2,2)),\n",
    "    \n",
    "    Conv2D(64, kernel_size = (3,3), padding='same', kernel_initializer='random_normal'),\n",
    "    Activation('relu'),\n",
    "    MaxPooling2D(pool_size=(2,2)),\n",
    "\n",
    "    Flatten(),\n",
    "    Dense(64, kernel_initializer='random_normal'),\n",
    "    Activation('relu'),\n",
    "    Dropout(0.5),\n",
    "    Dense(3, activation='softmax')\n",
    "    \n",
    "])\n",
    "\n",
    "cnn.summary()"
   ]
  },
  {
   "cell_type": "code",
   "execution_count": 39,
   "id": "a860dc06",
   "metadata": {
    "execution": {
     "iopub.execute_input": "2022-11-13T07:44:20.465018Z",
     "iopub.status.busy": "2022-11-13T07:44:20.464594Z",
     "iopub.status.idle": "2022-11-13T07:44:26.136361Z",
     "shell.execute_reply": "2022-11-13T07:44:26.133192Z"
    },
    "papermill": {
     "duration": 6.256424,
     "end_time": "2022-11-13T07:44:26.143541",
     "exception": false,
     "start_time": "2022-11-13T07:44:19.887117",
     "status": "completed"
    },
    "tags": []
   },
   "outputs": [
    {
     "name": "stdout",
     "output_type": "stream",
     "text": [
      "Epoch 1/15\n",
      "52/52 [==============================] - 1s 10ms/step - loss: 1.0150 - accuracy: 0.5156 - val_loss: 0.9836 - val_accuracy: 0.5301\n",
      "Epoch 2/15\n",
      "52/52 [==============================] - 0s 6ms/step - loss: 0.9951 - accuracy: 0.5281 - val_loss: 0.9710 - val_accuracy: 0.5460\n",
      "Epoch 3/15\n",
      "52/52 [==============================] - 0s 5ms/step - loss: 0.9788 - accuracy: 0.5340 - val_loss: 0.9586 - val_accuracy: 0.5502\n",
      "Epoch 4/15\n",
      "52/52 [==============================] - 0s 5ms/step - loss: 0.9707 - accuracy: 0.5340 - val_loss: 0.9475 - val_accuracy: 0.5466\n",
      "Epoch 5/15\n",
      "52/52 [==============================] - 0s 6ms/step - loss: 0.9620 - accuracy: 0.5333 - val_loss: 0.9423 - val_accuracy: 0.5460\n",
      "Epoch 6/15\n",
      "52/52 [==============================] - 0s 6ms/step - loss: 0.9474 - accuracy: 0.5352 - val_loss: 0.9418 - val_accuracy: 0.5545\n",
      "Epoch 7/15\n",
      "52/52 [==============================] - 0s 6ms/step - loss: 0.9267 - accuracy: 0.5470 - val_loss: 0.9264 - val_accuracy: 0.5600\n",
      "Epoch 8/15\n",
      "52/52 [==============================] - 0s 5ms/step - loss: 0.9128 - accuracy: 0.5486 - val_loss: 0.9128 - val_accuracy: 0.5557\n",
      "Epoch 9/15\n",
      "52/52 [==============================] - 0s 5ms/step - loss: 0.9025 - accuracy: 0.5511 - val_loss: 0.9139 - val_accuracy: 0.5660\n",
      "Epoch 10/15\n",
      "52/52 [==============================] - 0s 5ms/step - loss: 0.8918 - accuracy: 0.5559 - val_loss: 0.9060 - val_accuracy: 0.5648\n",
      "Epoch 11/15\n",
      "52/52 [==============================] - 0s 5ms/step - loss: 0.8812 - accuracy: 0.5687 - val_loss: 0.8935 - val_accuracy: 0.5679\n",
      "Epoch 12/15\n",
      "52/52 [==============================] - 0s 5ms/step - loss: 0.8661 - accuracy: 0.5730 - val_loss: 0.8942 - val_accuracy: 0.5618\n",
      "Epoch 13/15\n",
      "52/52 [==============================] - 0s 5ms/step - loss: 0.8443 - accuracy: 0.5891 - val_loss: 0.8996 - val_accuracy: 0.5770\n",
      "Epoch 14/15\n",
      "52/52 [==============================] - 0s 5ms/step - loss: 0.8314 - accuracy: 0.5983 - val_loss: 0.8784 - val_accuracy: 0.5940\n",
      "Epoch 15/15\n",
      "52/52 [==============================] - 0s 5ms/step - loss: 0.8062 - accuracy: 0.6114 - val_loss: 0.8805 - val_accuracy: 0.5940\n"
     ]
    }
   ],
   "source": [
    "cnn.compile(\n",
    "    'adam',\n",
    "  loss='categorical_crossentropy',\n",
    "  metrics=['accuracy'],\n",
    ")\n",
    "\n",
    "historycnn = cnn.fit(x=X_train,y=y_train_onehot, \n",
    "          epochs=15, \n",
    "          validation_data=(X_valid, y_valid_onehot),\n",
    "          verbose=1,\n",
    "          batch_size=128, \n",
    ")"
   ]
  },
  {
   "cell_type": "code",
   "execution_count": 40,
   "id": "4e0e2266",
   "metadata": {
    "execution": {
     "iopub.execute_input": "2022-11-13T07:44:27.586999Z",
     "iopub.status.busy": "2022-11-13T07:44:27.586598Z",
     "iopub.status.idle": "2022-11-13T07:44:27.888514Z",
     "shell.execute_reply": "2022-11-13T07:44:27.887645Z"
    },
    "papermill": {
     "duration": 0.927118,
     "end_time": "2022-11-13T07:44:27.890452",
     "exception": false,
     "start_time": "2022-11-13T07:44:26.963334",
     "status": "completed"
    },
    "tags": []
   },
   "outputs": [
    {
     "data": {
      "image/png": "[encoded data removed]",
      "text/plain": [
       "<Figure size 1080x360 with 2 Axes>"
      ]
     },
     "metadata": {
      "needs_background": "light"
     },
     "output_type": "display_data"
    }
   ],
   "source": [
    "plt.figure(figsize=(15, 5))\n",
    "\n",
    "plt.subplot(1, 2, 1)\n",
    "plt.plot(historycnn.history['accuracy'], label='Training Accuracy')\n",
    "plt.plot(historycnn.history['val_accuracy'], label='Validation Accuracy')\n",
    "plt.legend(loc='lower right')\n",
    "plt.title('Training and Validation Accuracy')\n",
    "\n",
    "plt.subplot(1, 2, 2)\n",
    "plt.plot(historycnn.history['loss'], label='Training Loss')\n",
    "plt.plot(historycnn.history['val_loss'], label='Validation Loss')\n",
    "plt.legend(loc='upper right')\n",
    "plt.title('Training and Validation Loss')\n",
    "\n",
    "plt.show()"
   ]
  },
  {
   "cell_type": "code",
   "execution_count": 41,
   "id": "66de0a19",
   "metadata": {
    "collapsed": false,
    "execution": {
     "iopub.execute_input": "2022-11-13T07:44:28.888085Z",
     "iopub.status.busy": "2022-11-13T07:44:28.887687Z",
     "iopub.status.idle": "2022-11-13T07:44:28.893363Z",
     "shell.execute_reply": "2022-11-13T07:44:28.892303Z"
    },
    "jupyter": {
     "outputs_hidden": false
    },
    "papermill": {
     "duration": 0.485449,
     "end_time": "2022-11-13T07:44:28.895842",
     "exception": false,
     "start_time": "2022-11-13T07:44:28.410393",
     "status": "completed"
    },
    "pycharm": {
     "name": "#%%\n"
    },
    "tags": []
   },
   "outputs": [],
   "source": [
    "#이미지 오류남\n",
    "\n",
    "#stage1 = y_train[y_train == 0].index\n",
    "#stage2 = y_train[y_train == 1].index\n",
    "#stage3 = y_train[y_train == 2].index\n",
    "\n",
    "#\n",
    "\n",
    "#stage1 = np.where(y_train == 0)\n",
    "#type(stage1)\n",
    "#stageq = stage1[0]\n",
    "\n",
    "#stage2 = np.where(y_train == 1)\n",
    "#type(stage2)\n",
    "#stagew = stage2[0]\n",
    "\n",
    "#stage3 = np.where(y_train == 2)\n",
    "#type(stage3)\n",
    "#stagee = stage3[0]\n",
    "\n",
    "#\n",
    "\n",
    "#plt.figure(figsize=(20, 20))\n",
    "\n",
    "#for i in range(16):\n",
    "#    plt.subplot(4, 4, i+1)\n",
    "#    plt.suptitle('Type1 Images', fontsize=20) # 하나의 큰 제목 설정\n",
    "#    plt.imshow(X_train[stageq[i]])\n",
    "#    plt.title('Type1')\n",
    "#    plt.subplots_adjust(hspace=0.5)\n",
    "#    plt.axis(False)\n",
    "#plt.show()\n",
    "\n",
    "#\n",
    "\n",
    "#plt.figure(figsize=(20, 20))\n",
    "\n",
    "#for i in range(16):\n",
    "#    plt.subplot(4, 4, i+1)\n",
    "#    plt.suptitle('type2 Images', fontsize=20) # 하나의 큰 제목 설정\n",
    "#    plt.imshow(X_train[stagew[i]])\n",
    "#    plt.title('type2')\n",
    "#    plt.subplots_adjust(hspace=0.5)\n",
    "#    plt.axis(False)\n",
    "#plt.savefig('type2.png', dpi=300)\n",
    "#plt.show()\n",
    "\n",
    "#\n",
    "\n",
    "#plt.figure(figsize=(20, 20))\n",
    "#\n",
    "#for i in range(16):\n",
    "#    plt.subplot(4, 4, i+1)\n",
    "#    plt.suptitle('type3 Images', fontsize=20) # 하나의 큰 제목 설정\n",
    "#    plt.imshow(X_train[stagee[i]])\n",
    "#    plt.title('type3')\n",
    "#    plt.subplots_adjust(hspace=0.5)\n",
    "#    plt.axis(False)\n",
    "#plt.savefig('type3.png', dpi=300)\n",
    "#plt.show()"
   ]
  },
  {
   "cell_type": "code",
   "execution_count": 42,
   "id": "6b4ff736",
   "metadata": {
    "execution": {
     "iopub.execute_input": "2022-11-13T07:44:29.909742Z",
     "iopub.status.busy": "2022-11-13T07:44:29.908714Z",
     "iopub.status.idle": "2022-11-13T07:44:29.914670Z",
     "shell.execute_reply": "2022-11-13T07:44:29.913722Z"
    },
    "papermill": {
     "duration": 0.550755,
     "end_time": "2022-11-13T07:44:29.916889",
     "exception": false,
     "start_time": "2022-11-13T07:44:29.366134",
     "status": "completed"
    },
    "pycharm": {
     "name": "#%%\n"
    },
    "tags": []
   },
   "outputs": [],
   "source": [
    "# 참고용\n",
    "# double\n",
    "\n",
    "#history_df_cnn = pd.DataFrame(historycnn.history)\n",
    "#history_df_dnn = pd.DataFrame(historydnn.history)\n",
    "\n",
    "#plt.figure(figsize= (15,6))\n",
    "#plt.subplot(1,2,1)\n",
    "#plt.plot(history_df_cnn['accuracy'], label= 'cnn_accuracy' )\n",
    "## plt.plot(history_df_cnn['val_accuracy'], label= 'val_accuracy')\n",
    "#plt.plot(history_df_dnn['accuracy'], label= 'dnn_accuracy', color='limegreen' )\n",
    "## plt.plot(history_df_dnn['val_accuracy'], label= 'val_accuracy', color='limegreen')\n",
    "## history_df[['acc', 'val_acc']]\n",
    "#plt.xlabel('Epochs')\n",
    "#plt.ylabel('Accuracy')\n",
    "#plt.title('Training and Validation Accuracy History')\n",
    "#plt.legend()\n",
    "\n",
    "# display history of loss\n",
    "#plt.subplot(1,2,2)\n",
    "#plt.plot(history_df_cnn['loss'], label= 'cnn_loss')\n",
    "##plt.plot(history_df_cnn['val_loss'], label= 'val_loss')\n",
    "#plt.plot(history_df_dnn['loss'], label= 'dnn_loss', color='limegreen')\n",
    "##plt.plot(history_df_dnn['val_loss'], label= 'val_loss', color='limegreen')\n",
    "# history_df[['loss', 'val_loss']].plot()\n",
    "#plt.xlabel('Epochs')\n",
    "#plt.ylabel('Loss')\n",
    "#plt.title('Training and Validation Loss History')\n",
    "#plt.legend()\n",
    "#plt.savefig('fig2.png', dpi=300)\n",
    "#plt.show()\n"
   ]
  },
  {
   "cell_type": "code",
   "execution_count": 43,
   "id": "1d2d36c4",
   "metadata": {
    "execution": {
     "iopub.execute_input": "2022-11-13T07:44:31.078162Z",
     "iopub.status.busy": "2022-11-13T07:44:31.077604Z",
     "iopub.status.idle": "2022-11-13T07:44:31.082967Z",
     "shell.execute_reply": "2022-11-13T07:44:31.081827Z"
    },
    "papermill": {
     "duration": 0.679851,
     "end_time": "2022-11-13T07:44:31.086475",
     "exception": false,
     "start_time": "2022-11-13T07:44:30.406624",
     "status": "completed"
    },
    "tags": []
   },
   "outputs": [],
   "source": [
    "#plt.figure(figsize= (6,6))\n",
    "#plt.plot(history_df_cnn['accuracy'], label= 'cnn_accuracy' )\n",
    "##plt.plot(history_df_cnn['val_loss'], label= 'val_loss')\n",
    "##plt.plot(history_df_dnn['loss'], label= 'dnn_loss', color='limegreen')\n",
    "##plt.plot(history_df_dnn['val_loss'], label= 'val_loss', color='limegreen')\n",
    "## history_df[['loss', 'val_loss']].plot()\n",
    "#plt.xlabel('Epochs')\n",
    "#plt.ylabel('Loss')\n",
    "#plt.title('Training and Validation Loss History')\n",
    "#plt.legend()\n",
    "#plt.savefig('cnnaccuracy.png', dpi=300)\n",
    "#plt.show()"
   ]
  },
  {
   "cell_type": "markdown",
   "id": "cbf0c3eb",
   "metadata": {
    "papermill": {
     "duration": 0.47354,
     "end_time": "2022-11-13T07:44:32.115171",
     "exception": false,
     "start_time": "2022-11-13T07:44:31.641631",
     "status": "completed"
    },
    "tags": []
   },
   "source": [
    "# test data (2차에 활용)"
   ]
  },
  {
   "cell_type": "code",
   "execution_count": 44,
   "id": "d2c23d59",
   "metadata": {
    "execution": {
     "iopub.execute_input": "2022-11-13T07:44:33.138007Z",
     "iopub.status.busy": "2022-11-13T07:44:33.136979Z",
     "iopub.status.idle": "2022-11-13T07:44:33.142366Z",
     "shell.execute_reply": "2022-11-13T07:44:33.141214Z"
    },
    "papermill": {
     "duration": 0.531101,
     "end_time": "2022-11-13T07:44:33.144716",
     "exception": false,
     "start_time": "2022-11-13T07:44:32.613615",
     "status": "completed"
    },
    "tags": []
   },
   "outputs": [],
   "source": [
    "# test data\n",
    "\n",
    "#test_y = pd.read_csv(\"../input/intel-mobileodt-cervical-cancer-screening/solution_stg1_release.csv\")\n",
    "#test_y.loc[1,['Type_1','Type_2','Type_3']]\n",
    "\n",
    "#root_dir = '../input/intel-mobileodt-cervical-cancer-screening'\n",
    "#test_dir = os.path.join(root_dir,'test', 'test')\n",
    "\n",
    "#test_type = []\n",
    "#test_features = []\n",
    "#i=0\n",
    "#for fn in test_y[['image_name']].to_numpy():\n",
    "#    for filename in fn:\n",
    "#        filepath = os.path.join(test_dir,filename)\n",
    "#        #print(filepath)\n",
    "#        img = cv2.imread(filepath)\n",
    "#        resized_img = cv2.resize(img, (180, 180))\n",
    "#        test_features.append(np.array(resized_img))\n",
    "#        test_type.append(np.array(test_y.loc[i,['Type_1','Type_2','Type_3']]))\n",
    "#        i=i+1\n",
    "    \n",
    "#print( len(test_features))"
   ]
  },
  {
   "cell_type": "code",
   "execution_count": 45,
   "id": "c729d1bf",
   "metadata": {
    "execution": {
     "iopub.execute_input": "2022-11-13T07:44:34.144771Z",
     "iopub.status.busy": "2022-11-13T07:44:34.144400Z",
     "iopub.status.idle": "2022-11-13T07:44:34.148942Z",
     "shell.execute_reply": "2022-11-13T07:44:34.147807Z"
    },
    "papermill": {
     "duration": 0.531913,
     "end_time": "2022-11-13T07:44:34.150918",
     "exception": false,
     "start_time": "2022-11-13T07:44:33.619005",
     "status": "completed"
    },
    "tags": []
   },
   "outputs": [],
   "source": [
    "#test_y = pd.read_csv(\"../input/intel-mobileodt-cervical-cancer-screening/solution_stg1_release.csv\")\n",
    "#test_y.loc[1,['Type_1','Type_2','Type_3']]"
   ]
  },
  {
   "cell_type": "code",
   "execution_count": 46,
   "id": "602dbe33",
   "metadata": {
    "execution": {
     "iopub.execute_input": "2022-11-13T07:44:35.118607Z",
     "iopub.status.busy": "2022-11-13T07:44:35.118235Z",
     "iopub.status.idle": "2022-11-13T07:44:35.122544Z",
     "shell.execute_reply": "2022-11-13T07:44:35.121591Z"
    },
    "papermill": {
     "duration": 0.484768,
     "end_time": "2022-11-13T07:44:35.124502",
     "exception": false,
     "start_time": "2022-11-13T07:44:34.639734",
     "status": "completed"
    },
    "tags": []
   },
   "outputs": [],
   "source": [
    "#y_test = test_y.loc[:,['Type_1','Type_2','Type_3']]\n",
    "#y_test\n",
    "#import tensorflow as tf"
   ]
  },
  {
   "cell_type": "code",
   "execution_count": 47,
   "id": "6d9ad49a",
   "metadata": {
    "execution": {
     "iopub.execute_input": "2022-11-13T07:44:36.129280Z",
     "iopub.status.busy": "2022-11-13T07:44:36.128875Z",
     "iopub.status.idle": "2022-11-13T07:44:36.133182Z",
     "shell.execute_reply": "2022-11-13T07:44:36.132227Z"
    },
    "papermill": {
     "duration": 0.484749,
     "end_time": "2022-11-13T07:44:36.135104",
     "exception": false,
     "start_time": "2022-11-13T07:44:35.650355",
     "status": "completed"
    },
    "tags": []
   },
   "outputs": [],
   "source": [
    "#y_train_onehot"
   ]
  },
  {
   "cell_type": "code",
   "execution_count": 48,
   "id": "1c2c70b0",
   "metadata": {
    "execution": {
     "iopub.execute_input": "2022-11-13T07:44:37.143867Z",
     "iopub.status.busy": "2022-11-13T07:44:37.143480Z",
     "iopub.status.idle": "2022-11-13T07:44:37.148725Z",
     "shell.execute_reply": "2022-11-13T07:44:37.147077Z"
    },
    "papermill": {
     "duration": 0.539065,
     "end_time": "2022-11-13T07:44:37.150883",
     "exception": false,
     "start_time": "2022-11-13T07:44:36.611818",
     "status": "completed"
    },
    "tags": []
   },
   "outputs": [],
   "source": [
    "#print(y_test)\n",
    "#list = []\n",
    "#for d in y_test.index:\n",
    "#    res = y_test.loc[d,:].values.tolist()\n",
    "#    list.append(res)"
   ]
  },
  {
   "cell_type": "code",
   "execution_count": 49,
   "id": "8b039ab6",
   "metadata": {
    "execution": {
     "iopub.execute_input": "2022-11-13T07:44:38.102633Z",
     "iopub.status.busy": "2022-11-13T07:44:38.102268Z",
     "iopub.status.idle": "2022-11-13T07:44:38.106531Z",
     "shell.execute_reply": "2022-11-13T07:44:38.105557Z"
    },
    "papermill": {
     "duration": 0.482037,
     "end_time": "2022-11-13T07:44:38.108754",
     "exception": false,
     "start_time": "2022-11-13T07:44:37.626717",
     "status": "completed"
    },
    "tags": []
   },
   "outputs": [],
   "source": [
    "#y_test = np.array(list)\n",
    "#y_test"
   ]
  },
  {
   "cell_type": "code",
   "execution_count": 50,
   "id": "8813ec41",
   "metadata": {
    "execution": {
     "iopub.execute_input": "2022-11-13T07:44:39.103641Z",
     "iopub.status.busy": "2022-11-13T07:44:39.103285Z",
     "iopub.status.idle": "2022-11-13T07:44:39.107881Z",
     "shell.execute_reply": "2022-11-13T07:44:39.106705Z"
    },
    "papermill": {
     "duration": 0.479334,
     "end_time": "2022-11-13T07:44:39.109965",
     "exception": false,
     "start_time": "2022-11-13T07:44:38.630631",
     "status": "completed"
    },
    "tags": []
   },
   "outputs": [],
   "source": [
    "# normalize test features\n",
    "#test_X = np.array(test_features)\n",
    "#X_test = test_X/255"
   ]
  },
  {
   "cell_type": "code",
   "execution_count": 51,
   "id": "c22f3f41",
   "metadata": {
    "execution": {
     "iopub.execute_input": "2022-11-13T07:44:40.119632Z",
     "iopub.status.busy": "2022-11-13T07:44:40.118642Z",
     "iopub.status.idle": "2022-11-13T07:44:40.123159Z",
     "shell.execute_reply": "2022-11-13T07:44:40.122151Z"
    },
    "papermill": {
     "duration": 0.483901,
     "end_time": "2022-11-13T07:44:40.125229",
     "exception": false,
     "start_time": "2022-11-13T07:44:39.641328",
     "status": "completed"
    },
    "tags": []
   },
   "outputs": [],
   "source": [
    "#print(cnn.evaluate(X_test, y_test))\n",
    "#print(dnn.evaluate(X_test, y_test))"
   ]
  }
 ],
 "metadata": {
  "kernelspec": {
   "display_name": "Python 3",
   "language": "python",
   "name": "python3"
  },
  "language_info": {
   "codemirror_mode": {
    "name": "ipython",
    "version": 3
   },
   "file_extension": ".py",
   "mimetype": "text/x-python",
   "name": "python",
   "nbconvert_exporter": "python",
   "pygments_lexer": "ipython3",
   "version": "3.7.12"
  },
  "papermill": {
   "default_parameters": {},
   "duration": 1884.690685,
   "end_time": "2022-11-13T07:44:44.114558",
   "environment_variables": {},
   "exception": null,
   "input_path": "__notebook__.ipynb",
   "output_path": "__notebook__.ipynb",
   "parameters": {},
   "start_time": "2022-11-13T07:13:19.423873",
   "version": "2.3.4"
  }
 },
 "nbformat": 4,
 "nbformat_minor": 5
}
