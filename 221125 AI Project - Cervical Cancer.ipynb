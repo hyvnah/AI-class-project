{
 "cells": [
  {
   "cell_type": "code",
   "execution_count": 1,
   "id": "5928f7ca",
   "metadata": {
    "collapsed": false,
    "execution": {
     "iopub.execute_input": "2022-11-25T13:37:33.364200Z",
     "iopub.status.busy": "2022-11-25T13:37:33.363359Z",
     "iopub.status.idle": "2022-11-25T13:37:39.602235Z",
     "shell.execute_reply": "2022-11-25T13:37:39.601224Z"
    },
    "jupyter": {
     "outputs_hidden": false
    },
    "papermill": {
     "duration": 6.26777,
     "end_time": "2022-11-25T13:37:39.605075",
     "exception": false,
     "start_time": "2022-11-25T13:37:33.337305",
     "status": "completed"
    },
    "pycharm": {
     "name": "#%%\n"
    },
    "tags": []
   },
   "outputs": [],
   "source": [
    "import numpy as np\n",
    "import pandas as pd\n",
    "\n",
    "from tensorflow import keras\n",
    "\n",
    "from tensorflow.keras.models import Sequential\n",
    "from tensorflow.keras.layers import Activation, Conv2D, MaxPooling2D, Dense, Flatten\n",
    "from tensorflow.keras.layers import Dropout, BatchNormalization \n",
    "from tensorflow.keras.utils import to_categorical\n",
    "\n",
    "from keras.callbacks import ModelCheckpoint\n",
    "\n",
    "import matplotlib.pyplot as plt\n",
    "\n",
    "import seaborn as sns\n",
    "import os\n",
    "import glob\n",
    "import plotly.graph_objects as go\n",
    "import cv2\n",
    "from PIL import Image\n",
    "from PIL import ImageFile\n",
    "from sklearn.model_selection import train_test_split\n",
    "from sklearn.preprocessing import LabelEncoder\n",
    "import tensorflow as tf\n",
    "from keras.preprocessing.image import ImageDataGenerator\n",
    "from keras.utils.np_utils import to_categorical\n",
    "from keras.applications.vgg16 import VGG16\n",
    "from keras.applications.resnet import ResNet50\n",
    "from tensorflow.keras.optimizers import Adam\n",
    "from keras.callbacks import EarlyStopping, ReduceLROnPlateau,ModelCheckpoint \n",
    "from sklearn.metrics import accuracy_score, confusion_matrix, classification_report\n",
    "import warnings\n",
    "warnings.filterwarnings(\"ignore\")\n",
    "ImageFile.LOAD_TRUNCATED_IMAGES = True\n",
    "\n",
    "from tqdm import tqdm"
   ]
  },
  {
   "cell_type": "markdown",
   "id": "a3c010a7",
   "metadata": {
    "papermill": {
     "duration": 0.022349,
     "end_time": "2022-11-25T13:37:39.649954",
     "exception": false,
     "start_time": "2022-11-25T13:37:39.627605",
     "status": "completed"
    },
    "tags": []
   },
   "source": [
    "# 데이터"
   ]
  },
  {
   "cell_type": "code",
   "execution_count": 2,
   "id": "df3fba15",
   "metadata": {
    "execution": {
     "iopub.execute_input": "2022-11-25T13:37:39.695618Z",
     "iopub.status.busy": "2022-11-25T13:37:39.694451Z",
     "iopub.status.idle": "2022-11-25T13:37:40.949855Z",
     "shell.execute_reply": "2022-11-25T13:37:40.948819Z"
    },
    "papermill": {
     "duration": 1.280817,
     "end_time": "2022-11-25T13:37:40.952552",
     "exception": false,
     "start_time": "2022-11-25T13:37:39.671735",
     "status": "completed"
    },
    "tags": []
   },
   "outputs": [
    {
     "name": "stdout",
     "output_type": "stream",
     "text": [
      "Type 1 files for training: 1441 \n",
      "Type 2 files for training: 4348\n",
      "Type 3 files for training: 2426\n"
     ]
    }
   ],
   "source": [
    "root_dir = '../input/intel-mobileodt-cervical-cancer-screening'\n",
    "train_dir = os.path.join(root_dir,'train', 'train')\n",
    "\n",
    "type1_dir = os.path.join(train_dir, 'Type_1')\n",
    "type2_dir = os.path.join(train_dir, 'Type_2')\n",
    "type3_dir = os.path.join(train_dir, 'Type_3')\n",
    "\n",
    "train_type1_files = glob.glob(type1_dir+'/*.jpg')\n",
    "train_type2_files = glob.glob(type2_dir+'/*.jpg')\n",
    "train_type3_files = glob.glob(type3_dir+'/*.jpg')\n",
    "\n",
    "added_type1_files  =  glob.glob(os.path.join(root_dir, \"additional_Type_1_v2\", \"Type_1\")+'/*.jpg')\n",
    "added_type2_files  =  glob.glob(os.path.join(root_dir, \"additional_Type_2_v2\", \"Type_2\")+'/*.jpg')\n",
    "added_type3_files  =  glob.glob(os.path.join(root_dir, \"additional_Type_3_v2\", \"Type_3\")+'/*.jpg')\n",
    "\n",
    "type1_files = train_type1_files + added_type1_files\n",
    "type2_files = train_type2_files + added_type2_files\n",
    "type3_files = train_type3_files + added_type3_files\n",
    "\n",
    "print(f'''Type 1 files for training: {len(type1_files)} \n",
    "Type 2 files for training: {len(type2_files)}\n",
    "Type 3 files for training: {len(type3_files)}''' )"
   ]
  },
  {
   "cell_type": "code",
   "execution_count": 3,
   "id": "8c5b637d",
   "metadata": {
    "execution": {
     "iopub.execute_input": "2022-11-25T13:37:40.999799Z",
     "iopub.status.busy": "2022-11-25T13:37:40.998280Z",
     "iopub.status.idle": "2022-11-25T13:37:41.003189Z",
     "shell.execute_reply": "2022-11-25T13:37:41.002269Z"
    },
    "papermill": {
     "duration": 0.030188,
     "end_time": "2022-11-25T13:37:41.005155",
     "exception": false,
     "start_time": "2022-11-25T13:37:40.974967",
     "status": "completed"
    },
    "tags": []
   },
   "outputs": [],
   "source": [
    "#files = {'filepath': type1_files + type2_files + type3_files,\n",
    "#          'label': ['Type 1']* len(type1_files) + ['Type 2']* len(type2_files) + ['Type 3']* len(type3_files)}\n",
    "#\n",
    "#files_df = pd.DataFrame(files).sample(frac=1, random_state= 1).reset_index(drop=True)\n",
    "#files_df"
   ]
  },
  {
   "cell_type": "code",
   "execution_count": 4,
   "id": "5603654b",
   "metadata": {
    "execution": {
     "iopub.execute_input": "2022-11-25T13:37:41.051548Z",
     "iopub.status.busy": "2022-11-25T13:37:41.050623Z",
     "iopub.status.idle": "2022-11-25T13:37:41.055336Z",
     "shell.execute_reply": "2022-11-25T13:37:41.054449Z"
    },
    "papermill": {
     "duration": 0.029927,
     "end_time": "2022-11-25T13:37:41.057334",
     "exception": false,
     "start_time": "2022-11-25T13:37:41.027407",
     "status": "completed"
    },
    "tags": []
   },
   "outputs": [],
   "source": [
    "#bad_files = []\n",
    "#for path in tqdm(files_df['filepath'].values):\n",
    "#    try:\n",
    "#        img = Image.open(path)\n",
    "#    except:\n",
    "#        index = files_df[files_df['filepath']==path].index.values[0]\n",
    "#        bad_files.append(index)"
   ]
  },
  {
   "cell_type": "code",
   "execution_count": 5,
   "id": "9e6835f4",
   "metadata": {
    "execution": {
     "iopub.execute_input": "2022-11-25T13:37:41.101908Z",
     "iopub.status.busy": "2022-11-25T13:37:41.101620Z",
     "iopub.status.idle": "2022-11-25T13:37:41.105451Z",
     "shell.execute_reply": "2022-11-25T13:37:41.104515Z"
    },
    "papermill": {
     "duration": 0.028346,
     "end_time": "2022-11-25T13:37:41.107407",
     "exception": false,
     "start_time": "2022-11-25T13:37:41.079061",
     "status": "completed"
    },
    "tags": []
   },
   "outputs": [],
   "source": [
    "#bad_files\n",
    "#files_df.drop(bad_files, inplace=True)"
   ]
  },
  {
   "cell_type": "code",
   "execution_count": 6,
   "id": "ed4e89b4",
   "metadata": {
    "execution": {
     "iopub.execute_input": "2022-11-25T13:37:41.152952Z",
     "iopub.status.busy": "2022-11-25T13:37:41.152055Z",
     "iopub.status.idle": "2022-11-25T13:37:41.156262Z",
     "shell.execute_reply": "2022-11-25T13:37:41.155403Z"
    },
    "papermill": {
     "duration": 0.028906,
     "end_time": "2022-11-25T13:37:41.158147",
     "exception": false,
     "start_time": "2022-11-25T13:37:41.129241",
     "status": "completed"
    },
    "tags": []
   },
   "outputs": [],
   "source": [
    "# save csv (files_df)\n",
    "#files_df.to_csv('/kaggle/working/dropfiles.csv', sep=',')"
   ]
  },
  {
   "cell_type": "code",
   "execution_count": 7,
   "id": "ba30e281",
   "metadata": {
    "execution": {
     "iopub.execute_input": "2022-11-25T13:37:41.203168Z",
     "iopub.status.busy": "2022-11-25T13:37:41.202413Z",
     "iopub.status.idle": "2022-11-25T13:37:41.259704Z",
     "shell.execute_reply": "2022-11-25T13:37:41.258838Z"
    },
    "papermill": {
     "duration": 0.081885,
     "end_time": "2022-11-25T13:37:41.261728",
     "exception": false,
     "start_time": "2022-11-25T13:37:41.179843",
     "status": "completed"
    },
    "tags": []
   },
   "outputs": [
    {
     "data": {
      "text/html": [
       "<div>\n",
       "<style scoped>\n",
       "    .dataframe tbody tr th:only-of-type {\n",
       "        vertical-align: middle;\n",
       "    }\n",
       "\n",
       "    .dataframe tbody tr th {\n",
       "        vertical-align: top;\n",
       "    }\n",
       "\n",
       "    .dataframe thead th {\n",
       "        text-align: right;\n",
       "    }\n",
       "</style>\n",
       "<table border=\"1\" class=\"dataframe\">\n",
       "  <thead>\n",
       "    <tr style=\"text-align: right;\">\n",
       "      <th></th>\n",
       "      <th>filepath</th>\n",
       "      <th>label</th>\n",
       "    </tr>\n",
       "  </thead>\n",
       "  <tbody>\n",
       "    <tr>\n",
       "      <th>0</th>\n",
       "      <td>../input/intel-mobileodt-cervical-cancer-scree...</td>\n",
       "      <td>Type 1</td>\n",
       "    </tr>\n",
       "    <tr>\n",
       "      <th>1</th>\n",
       "      <td>../input/intel-mobileodt-cervical-cancer-scree...</td>\n",
       "      <td>Type 3</td>\n",
       "    </tr>\n",
       "    <tr>\n",
       "      <th>2</th>\n",
       "      <td>../input/intel-mobileodt-cervical-cancer-scree...</td>\n",
       "      <td>Type 1</td>\n",
       "    </tr>\n",
       "    <tr>\n",
       "      <th>3</th>\n",
       "      <td>../input/intel-mobileodt-cervical-cancer-scree...</td>\n",
       "      <td>Type 2</td>\n",
       "    </tr>\n",
       "    <tr>\n",
       "      <th>4</th>\n",
       "      <td>../input/intel-mobileodt-cervical-cancer-scree...</td>\n",
       "      <td>Type 3</td>\n",
       "    </tr>\n",
       "    <tr>\n",
       "      <th>...</th>\n",
       "      <td>...</td>\n",
       "      <td>...</td>\n",
       "    </tr>\n",
       "    <tr>\n",
       "      <th>8207</th>\n",
       "      <td>../input/intel-mobileodt-cervical-cancer-scree...</td>\n",
       "      <td>Type 2</td>\n",
       "    </tr>\n",
       "    <tr>\n",
       "      <th>8208</th>\n",
       "      <td>../input/intel-mobileodt-cervical-cancer-scree...</td>\n",
       "      <td>Type 3</td>\n",
       "    </tr>\n",
       "    <tr>\n",
       "      <th>8209</th>\n",
       "      <td>../input/intel-mobileodt-cervical-cancer-scree...</td>\n",
       "      <td>Type 1</td>\n",
       "    </tr>\n",
       "    <tr>\n",
       "      <th>8210</th>\n",
       "      <td>../input/intel-mobileodt-cervical-cancer-scree...</td>\n",
       "      <td>Type 2</td>\n",
       "    </tr>\n",
       "    <tr>\n",
       "      <th>8211</th>\n",
       "      <td>../input/intel-mobileodt-cervical-cancer-scree...</td>\n",
       "      <td>Type 1</td>\n",
       "    </tr>\n",
       "  </tbody>\n",
       "</table>\n",
       "<p>8212 rows × 2 columns</p>\n",
       "</div>"
      ],
      "text/plain": [
       "                                               filepath   label\n",
       "0     ../input/intel-mobileodt-cervical-cancer-scree...  Type 1\n",
       "1     ../input/intel-mobileodt-cervical-cancer-scree...  Type 3\n",
       "2     ../input/intel-mobileodt-cervical-cancer-scree...  Type 1\n",
       "3     ../input/intel-mobileodt-cervical-cancer-scree...  Type 2\n",
       "4     ../input/intel-mobileodt-cervical-cancer-scree...  Type 3\n",
       "...                                                 ...     ...\n",
       "8207  ../input/intel-mobileodt-cervical-cancer-scree...  Type 2\n",
       "8208  ../input/intel-mobileodt-cervical-cancer-scree...  Type 3\n",
       "8209  ../input/intel-mobileodt-cervical-cancer-scree...  Type 1\n",
       "8210  ../input/intel-mobileodt-cervical-cancer-scree...  Type 2\n",
       "8211  ../input/intel-mobileodt-cervical-cancer-scree...  Type 1\n",
       "\n",
       "[8212 rows x 2 columns]"
      ]
     },
     "execution_count": 7,
     "metadata": {},
     "output_type": "execute_result"
    }
   ],
   "source": [
    "# 정리된 files_df 사용\n",
    "files_df = pd.read_csv('../input/cervical-dropfiles/dropfiles.csv', sep=',').drop('Unnamed: 0', axis=1)\n",
    "files_df"
   ]
  },
  {
   "cell_type": "code",
   "execution_count": 8,
   "id": "a606efd2",
   "metadata": {
    "execution": {
     "iopub.execute_input": "2022-11-25T13:37:41.307861Z",
     "iopub.status.busy": "2022-11-25T13:37:41.307580Z",
     "iopub.status.idle": "2022-11-25T13:37:41.319802Z",
     "shell.execute_reply": "2022-11-25T13:37:41.318914Z"
    },
    "papermill": {
     "duration": 0.037451,
     "end_time": "2022-11-25T13:37:41.321818",
     "exception": false,
     "start_time": "2022-11-25T13:37:41.284367",
     "status": "completed"
    },
    "tags": []
   },
   "outputs": [
    {
     "data": {
      "text/html": [
       "<div>\n",
       "<style scoped>\n",
       "    .dataframe tbody tr th:only-of-type {\n",
       "        vertical-align: middle;\n",
       "    }\n",
       "\n",
       "    .dataframe tbody tr th {\n",
       "        vertical-align: top;\n",
       "    }\n",
       "\n",
       "    .dataframe thead th {\n",
       "        text-align: right;\n",
       "    }\n",
       "</style>\n",
       "<table border=\"1\" class=\"dataframe\">\n",
       "  <thead>\n",
       "    <tr style=\"text-align: right;\">\n",
       "      <th></th>\n",
       "      <th>Num_Values</th>\n",
       "    </tr>\n",
       "  </thead>\n",
       "  <tbody>\n",
       "    <tr>\n",
       "      <th>Type 2</th>\n",
       "      <td>4346</td>\n",
       "    </tr>\n",
       "    <tr>\n",
       "      <th>Type 3</th>\n",
       "      <td>2426</td>\n",
       "    </tr>\n",
       "    <tr>\n",
       "      <th>Type 1</th>\n",
       "      <td>1440</td>\n",
       "    </tr>\n",
       "  </tbody>\n",
       "</table>\n",
       "</div>"
      ],
      "text/plain": [
       "        Num_Values\n",
       "Type 2        4346\n",
       "Type 3        2426\n",
       "Type 1        1440"
      ]
     },
     "execution_count": 8,
     "metadata": {},
     "output_type": "execute_result"
    }
   ],
   "source": [
    "# get count of each type \n",
    "type_count = pd.DataFrame(files_df['label'].value_counts()).rename(columns= {'label': 'Num_Values'})\n",
    "type_count"
   ]
  },
  {
   "cell_type": "code",
   "execution_count": 9,
   "id": "7c743dcd",
   "metadata": {
    "collapsed": false,
    "execution": {
     "iopub.execute_input": "2022-11-25T13:37:41.369046Z",
     "iopub.status.busy": "2022-11-25T13:37:41.368186Z",
     "iopub.status.idle": "2022-11-25T13:37:41.575688Z",
     "shell.execute_reply": "2022-11-25T13:37:41.574765Z"
    },
    "jupyter": {
     "outputs_hidden": false
    },
    "papermill": {
     "duration": 0.23226,
     "end_time": "2022-11-25T13:37:41.577686",
     "exception": false,
     "start_time": "2022-11-25T13:37:41.345426",
     "status": "completed"
    },
    "pycharm": {
     "name": "#%%\n"
    },
    "tags": []
   },
   "outputs": [
    {
     "data": {
      "image/png": "[encoded data removed]",
      "text/plain": [
       "<Figure size 1080x432 with 1 Axes>"
      ]
     },
     "metadata": {
      "needs_background": "light"
     },
     "output_type": "display_data"
    }
   ],
   "source": [
    "plt.figure(figsize = (15, 6))\n",
    "sns.barplot(x= type_count['Num_Values'], y= type_count.index.to_list())\n",
    "plt.title('Type Distribution')\n",
    "plt.grid(True)\n",
    "plt.show()"
   ]
  },
  {
   "cell_type": "code",
   "execution_count": 10,
   "id": "5bd73597",
   "metadata": {
    "execution": {
     "iopub.execute_input": "2022-11-25T13:37:41.624596Z",
     "iopub.status.busy": "2022-11-25T13:37:41.623648Z",
     "iopub.status.idle": "2022-11-25T13:37:41.628391Z",
     "shell.execute_reply": "2022-11-25T13:37:41.627557Z"
    },
    "papermill": {
     "duration": 0.02991,
     "end_time": "2022-11-25T13:37:41.630359",
     "exception": false,
     "start_time": "2022-11-25T13:37:41.600449",
     "status": "completed"
    },
    "tags": []
   },
   "outputs": [],
   "source": [
    "#pie chart\n",
    "\n",
    "#pie_plot = go.Pie(labels= type_count.index.to_list(), values= type_count.values.flatten(),\n",
    "#                 hole= 0.2, text= type_count.index.to_list(), textposition='auto')\n",
    "#fig = go.Figure([pie_plot])\n",
    "#fig.update_layout(title_text='Pie Chart of Type Distribution')\n",
    "#fig.show()"
   ]
  },
  {
   "cell_type": "markdown",
   "id": "e5b55d73",
   "metadata": {
    "papermill": {
     "duration": 0.021977,
     "end_time": "2022-11-25T13:37:41.674672",
     "exception": false,
     "start_time": "2022-11-25T13:37:41.652695",
     "status": "completed"
    },
    "tags": []
   },
   "source": [
    "# 데이터 분리"
   ]
  },
  {
   "cell_type": "code",
   "execution_count": 11,
   "id": "70f48eca",
   "metadata": {
    "execution": {
     "iopub.execute_input": "2022-11-25T13:37:41.721614Z",
     "iopub.status.busy": "2022-11-25T13:37:41.720155Z",
     "iopub.status.idle": "2022-11-25T13:37:41.734041Z",
     "shell.execute_reply": "2022-11-25T13:37:41.733135Z"
    },
    "papermill": {
     "duration": 0.039027,
     "end_time": "2022-11-25T13:37:41.736038",
     "exception": false,
     "start_time": "2022-11-25T13:37:41.697011",
     "status": "completed"
    },
    "tags": []
   },
   "outputs": [
    {
     "name": "stdout",
     "output_type": "stream",
     "text": [
      "6569 1643\n"
     ]
    }
   ],
   "source": [
    "# Train / Validation\n",
    "\n",
    "train_df, valid_df = train_test_split(files_df, test_size = 0.2, stratify = files_df['label'], random_state = 1234)\n",
    "\n",
    "print(len(train_df), len(valid_df))"
   ]
  },
  {
   "cell_type": "code",
   "execution_count": 12,
   "id": "3c4eb6ba",
   "metadata": {
    "execution": {
     "iopub.execute_input": "2022-11-25T13:37:41.783022Z",
     "iopub.status.busy": "2022-11-25T13:37:41.782138Z",
     "iopub.status.idle": "2022-11-25T13:37:41.789268Z",
     "shell.execute_reply": "2022-11-25T13:37:41.788410Z"
    },
    "papermill": {
     "duration": 0.033068,
     "end_time": "2022-11-25T13:37:41.791285",
     "exception": false,
     "start_time": "2022-11-25T13:37:41.758217",
     "status": "completed"
    },
    "tags": []
   },
   "outputs": [],
   "source": [
    "X_train = train_df[['filepath']]\n",
    "y_train = train_df[['label']]\n",
    "X_train = X_train.reset_index(drop=True)\n",
    "y_train = y_train.reset_index(drop=True)"
   ]
  },
  {
   "cell_type": "code",
   "execution_count": 13,
   "id": "15778716",
   "metadata": {
    "execution": {
     "iopub.execute_input": "2022-11-25T13:37:41.837343Z",
     "iopub.status.busy": "2022-11-25T13:37:41.836671Z",
     "iopub.status.idle": "2022-11-25T13:37:41.843472Z",
     "shell.execute_reply": "2022-11-25T13:37:41.842576Z"
    },
    "papermill": {
     "duration": 0.03238,
     "end_time": "2022-11-25T13:37:41.845932",
     "exception": false,
     "start_time": "2022-11-25T13:37:41.813552",
     "status": "completed"
    },
    "tags": []
   },
   "outputs": [
    {
     "name": "stdout",
     "output_type": "stream",
     "text": [
      "6569 6569 1643 1643\n"
     ]
    }
   ],
   "source": [
    "X_valid = valid_df[['filepath']].reset_index(drop=True)\n",
    "y_valid = valid_df[['label']].reset_index(drop=True)\n",
    "\n",
    "print(len(X_train), len(y_train), len(X_valid),len(y_valid))"
   ]
  },
  {
   "cell_type": "markdown",
   "id": "60763e03",
   "metadata": {
    "papermill": {
     "duration": 0.022088,
     "end_time": "2022-11-25T13:37:41.891894",
     "exception": false,
     "start_time": "2022-11-25T13:37:41.869806",
     "status": "completed"
    },
    "tags": []
   },
   "source": [
    "# 데이터 전처리"
   ]
  },
  {
   "cell_type": "code",
   "execution_count": 14,
   "id": "3a184d70",
   "metadata": {
    "execution": {
     "iopub.execute_input": "2022-11-25T13:37:41.937430Z",
     "iopub.status.busy": "2022-11-25T13:37:41.937147Z",
     "iopub.status.idle": "2022-11-25T13:37:42.147598Z",
     "shell.execute_reply": "2022-11-25T13:37:42.146556Z"
    },
    "papermill": {
     "duration": 0.235942,
     "end_time": "2022-11-25T13:37:42.149794",
     "exception": false,
     "start_time": "2022-11-25T13:37:41.913852",
     "status": "completed"
    },
    "tags": []
   },
   "outputs": [
    {
     "data": {
      "text/plain": [
       "(4160, 3120, 3)"
      ]
     },
     "execution_count": 14,
     "metadata": {},
     "output_type": "execute_result"
    }
   ],
   "source": [
    "# check original image size\n",
    "\n",
    "(cv2.imread(train_df['filepath'].values[0])).shape"
   ]
  },
  {
   "cell_type": "code",
   "execution_count": 15,
   "id": "9e179d95",
   "metadata": {
    "execution": {
     "iopub.execute_input": "2022-11-25T13:37:42.196582Z",
     "iopub.status.busy": "2022-11-25T13:37:42.195750Z",
     "iopub.status.idle": "2022-11-25T13:37:45.735318Z",
     "shell.execute_reply": "2022-11-25T13:37:45.734448Z"
    },
    "papermill": {
     "duration": 3.567465,
     "end_time": "2022-11-25T13:37:45.740088",
     "exception": false,
     "start_time": "2022-11-25T13:37:42.172623",
     "status": "completed"
    },
    "tags": []
   },
   "outputs": [
    {
     "data": {
      "image/png": "[encoded data removed]",
      "text/plain": [
       "<Figure size 1080x432 with 4 Axes>"
      ]
     },
     "metadata": {
      "needs_background": "light"
     },
     "output_type": "display_data"
    }
   ],
   "source": [
    "# load image\n",
    "\n",
    "fig = plt.figure(figsize= (15,6))\n",
    "fig.add_subplot(1,4,1)\n",
    "plt.imshow(cv2.imread(train_df['filepath'].values[0]))\n",
    "plt.axis(False)\n",
    "plt.title('Original')\n",
    "\n",
    "fig.add_subplot(1,4,2)\n",
    "plt.imshow(cv2.cvtColor(cv2.imread(train_df['filepath'].values[0]),cv2.COLOR_RGB2BGR))\n",
    "plt.axis(False)\n",
    "plt.title('Color edit')\n",
    "\n",
    "fig.add_subplot(1,4,3)\n",
    "plt.imshow(cv2.resize(cv2.cvtColor(cv2.imread(train_df['filepath'].values[0]),cv2.COLOR_RGB2BGR),(224,224)))\n",
    "plt.axis(False)\n",
    "plt.title('Resizing')\n",
    "\n",
    "fig.add_subplot(1,4,4)\n",
    "plt.imshow(cv2.resize(cv2.cvtColor(cv2.imread(train_df['filepath'].values[0]),cv2.COLOR_RGB2BGR),(128,128)))\n",
    "plt.axis(False)\n",
    "plt.title('Resizing')\n",
    "\n",
    "plt.show()"
   ]
  },
  {
   "cell_type": "code",
   "execution_count": 16,
   "id": "11098af7",
   "metadata": {
    "execution": {
     "iopub.execute_input": "2022-11-25T13:37:45.794424Z",
     "iopub.status.busy": "2022-11-25T13:37:45.794101Z",
     "iopub.status.idle": "2022-11-25T13:37:45.798727Z",
     "shell.execute_reply": "2022-11-25T13:37:45.797727Z"
    },
    "papermill": {
     "duration": 0.033639,
     "end_time": "2022-11-25T13:37:45.800622",
     "exception": false,
     "start_time": "2022-11-25T13:37:45.766983",
     "status": "completed"
    },
    "tags": []
   },
   "outputs": [],
   "source": [
    "# train data\n",
    "\n",
    "#features = []\n",
    "#f_app = features.append\n",
    "#path = train_df['filepath'].values\n",
    "#labels = train_df['label'].values\n",
    "#for p in tqdm(path):\n",
    "#    image = cv2.imread(p)\n",
    "#    image = cv2.cvtColor(image, cv2.COLOR_RGB2BGR)\n",
    "#    re_image = cv2.resize(image, (224,224))\n",
    "#    f_app(np.array(re_image))\n",
    "\n",
    "#X_train = np.array(features)\n",
    "#y_train = np.array(labels)"
   ]
  },
  {
   "cell_type": "code",
   "execution_count": 17,
   "id": "530ae2b1",
   "metadata": {
    "execution": {
     "iopub.execute_input": "2022-11-25T13:37:45.854657Z",
     "iopub.status.busy": "2022-11-25T13:37:45.853844Z",
     "iopub.status.idle": "2022-11-25T13:37:45.858285Z",
     "shell.execute_reply": "2022-11-25T13:37:45.857433Z"
    },
    "papermill": {
     "duration": 0.03339,
     "end_time": "2022-11-25T13:37:45.860212",
     "exception": false,
     "start_time": "2022-11-25T13:37:45.826822",
     "status": "completed"
    },
    "tags": []
   },
   "outputs": [],
   "source": [
    "# save train data as npy files\n",
    "\n",
    "#np.save('/kaggle/working/X_train_224', X_train)\n",
    "#np.save('/kaggle/working/y_train_224', y_train)"
   ]
  },
  {
   "cell_type": "code",
   "execution_count": 18,
   "id": "a71e33a2",
   "metadata": {
    "execution": {
     "iopub.execute_input": "2022-11-25T13:37:45.921275Z",
     "iopub.status.busy": "2022-11-25T13:37:45.920802Z",
     "iopub.status.idle": "2022-11-25T13:37:48.417559Z",
     "shell.execute_reply": "2022-11-25T13:37:48.416602Z"
    },
    "papermill": {
     "duration": 2.53317,
     "end_time": "2022-11-25T13:37:48.420228",
     "exception": false,
     "start_time": "2022-11-25T13:37:45.887058",
     "status": "completed"
    },
    "tags": []
   },
   "outputs": [],
   "source": [
    "# use npy files\n",
    "\n",
    "X_train = np.load('../input/data128/X_train_128.npy')\n",
    "y_train = np.load('../input/data128/y_train_128.npy', allow_pickle=True)"
   ]
  },
  {
   "cell_type": "code",
   "execution_count": 19,
   "id": "87ba225c",
   "metadata": {
    "execution": {
     "iopub.execute_input": "2022-11-25T13:37:48.475706Z",
     "iopub.status.busy": "2022-11-25T13:37:48.474734Z",
     "iopub.status.idle": "2022-11-25T13:37:48.479463Z",
     "shell.execute_reply": "2022-11-25T13:37:48.478535Z"
    },
    "papermill": {
     "duration": 0.033988,
     "end_time": "2022-11-25T13:37:48.481413",
     "exception": false,
     "start_time": "2022-11-25T13:37:48.447425",
     "status": "completed"
    },
    "tags": []
   },
   "outputs": [],
   "source": [
    "# 소요시간줄이는코드 (추가 수정 필요)\n",
    "#path = train_df['filepath'].values\n",
    "#labels = train_df['label'].values\n",
    "#features = [np.array(cv2.resize(cv2.cvtColor(cv2.imread(p),cv2.COLOR_RGB2BGR),(180,180))) for p in tqdm(path)]"
   ]
  },
  {
   "cell_type": "code",
   "execution_count": 20,
   "id": "30dedfb4",
   "metadata": {
    "execution": {
     "iopub.execute_input": "2022-11-25T13:37:48.535177Z",
     "iopub.status.busy": "2022-11-25T13:37:48.534883Z",
     "iopub.status.idle": "2022-11-25T13:37:48.539182Z",
     "shell.execute_reply": "2022-11-25T13:37:48.538163Z"
    },
    "papermill": {
     "duration": 0.033703,
     "end_time": "2022-11-25T13:37:48.541444",
     "exception": false,
     "start_time": "2022-11-25T13:37:48.507741",
     "status": "completed"
    },
    "tags": []
   },
   "outputs": [],
   "source": [
    "# validation data\n",
    "\n",
    "#features = []\n",
    "#f_app = features.append\n",
    "#path = valid_df['filepath'].values\n",
    "#labels = valid_df['label'].values\n",
    "#for p in tqdm(path):\n",
    "#    image = cv2.imread(p)\n",
    "#    image = cv2.cvtColor(image, cv2.COLOR_RGB2BGR)\n",
    "#    re_image = cv2.resize(image, (224,224))\n",
    "#    f_app(np.array(re_image))\n",
    "\n",
    "#X_valid = np.array(features)\n",
    "#y_valid = np.array(labels)"
   ]
  },
  {
   "cell_type": "code",
   "execution_count": 21,
   "id": "d1db4ac7",
   "metadata": {
    "execution": {
     "iopub.execute_input": "2022-11-25T13:37:48.594291Z",
     "iopub.status.busy": "2022-11-25T13:37:48.594020Z",
     "iopub.status.idle": "2022-11-25T13:37:48.598096Z",
     "shell.execute_reply": "2022-11-25T13:37:48.597111Z"
    },
    "papermill": {
     "duration": 0.033115,
     "end_time": "2022-11-25T13:37:48.600308",
     "exception": false,
     "start_time": "2022-11-25T13:37:48.567193",
     "status": "completed"
    },
    "tags": []
   },
   "outputs": [],
   "source": [
    "# save validation data as npy files\n",
    "\n",
    "#np.save('/kaggle/working/X_valid_224', X_valid)\n",
    "#np.save('/kaggle/working/y_valid_224', y_valid)"
   ]
  },
  {
   "cell_type": "code",
   "execution_count": 22,
   "id": "1c95fa2a",
   "metadata": {
    "execution": {
     "iopub.execute_input": "2022-11-25T13:37:48.653848Z",
     "iopub.status.busy": "2022-11-25T13:37:48.653583Z",
     "iopub.status.idle": "2022-11-25T13:37:49.258744Z",
     "shell.execute_reply": "2022-11-25T13:37:49.257727Z"
    },
    "papermill": {
     "duration": 0.634852,
     "end_time": "2022-11-25T13:37:49.261214",
     "exception": false,
     "start_time": "2022-11-25T13:37:48.626362",
     "status": "completed"
    },
    "tags": []
   },
   "outputs": [],
   "source": [
    "# use npy files\n",
    "\n",
    "X_valid = np.load('../input/data128/X_valid_128.npy', allow_pickle=True)\n",
    "y_valid = np.load('../input/data128/y_valid_128.npy', allow_pickle=True)"
   ]
  },
  {
   "cell_type": "code",
   "execution_count": 23,
   "id": "1f1e5619",
   "metadata": {
    "execution": {
     "iopub.execute_input": "2022-11-25T13:37:49.316076Z",
     "iopub.status.busy": "2022-11-25T13:37:49.315251Z",
     "iopub.status.idle": "2022-11-25T13:37:49.319559Z",
     "shell.execute_reply": "2022-11-25T13:37:49.318668Z"
    },
    "papermill": {
     "duration": 0.033199,
     "end_time": "2022-11-25T13:37:49.321441",
     "exception": false,
     "start_time": "2022-11-25T13:37:49.288242",
     "status": "completed"
    },
    "tags": []
   },
   "outputs": [],
   "source": [
    "# X train data 확인\n",
    "#X_train[0]"
   ]
  },
  {
   "cell_type": "code",
   "execution_count": 24,
   "id": "660a0328",
   "metadata": {
    "execution": {
     "iopub.execute_input": "2022-11-25T13:37:49.376292Z",
     "iopub.status.busy": "2022-11-25T13:37:49.376012Z",
     "iopub.status.idle": "2022-11-25T13:37:49.381288Z",
     "shell.execute_reply": "2022-11-25T13:37:49.380292Z"
    },
    "papermill": {
     "duration": 0.035673,
     "end_time": "2022-11-25T13:37:49.383239",
     "exception": false,
     "start_time": "2022-11-25T13:37:49.347566",
     "status": "completed"
    },
    "tags": []
   },
   "outputs": [],
   "source": [
    "# X validation data 확인\n",
    "#X_valid[0]"
   ]
  },
  {
   "cell_type": "code",
   "execution_count": 25,
   "id": "f20c0407",
   "metadata": {
    "execution": {
     "iopub.execute_input": "2022-11-25T13:37:49.438682Z",
     "iopub.status.busy": "2022-11-25T13:37:49.438425Z",
     "iopub.status.idle": "2022-11-25T13:37:50.459900Z",
     "shell.execute_reply": "2022-11-25T13:37:50.458701Z"
    },
    "papermill": {
     "duration": 1.051257,
     "end_time": "2022-11-25T13:37:50.462878",
     "exception": false,
     "start_time": "2022-11-25T13:37:49.411621",
     "status": "completed"
    },
    "tags": []
   },
   "outputs": [],
   "source": [
    "# 정규화 (0과1사이의값)\n",
    "X_train = X_train/255\n",
    "X_valid = X_valid/255"
   ]
  },
  {
   "cell_type": "code",
   "execution_count": 26,
   "id": "094ae850",
   "metadata": {
    "execution": {
     "iopub.execute_input": "2022-11-25T13:37:50.520261Z",
     "iopub.status.busy": "2022-11-25T13:37:50.519937Z",
     "iopub.status.idle": "2022-11-25T13:37:50.524408Z",
     "shell.execute_reply": "2022-11-25T13:37:50.523333Z"
    },
    "papermill": {
     "duration": 0.034643,
     "end_time": "2022-11-25T13:37:50.526563",
     "exception": false,
     "start_time": "2022-11-25T13:37:50.491920",
     "status": "completed"
    },
    "tags": []
   },
   "outputs": [],
   "source": [
    "# 정규화한 X train data 확인\n",
    "#X_train[0]"
   ]
  },
  {
   "cell_type": "code",
   "execution_count": 27,
   "id": "db07714a",
   "metadata": {
    "execution": {
     "iopub.execute_input": "2022-11-25T13:37:50.580153Z",
     "iopub.status.busy": "2022-11-25T13:37:50.579845Z",
     "iopub.status.idle": "2022-11-25T13:37:50.584371Z",
     "shell.execute_reply": "2022-11-25T13:37:50.583529Z"
    },
    "papermill": {
     "duration": 0.033701,
     "end_time": "2022-11-25T13:37:50.586362",
     "exception": false,
     "start_time": "2022-11-25T13:37:50.552661",
     "status": "completed"
    },
    "tags": []
   },
   "outputs": [],
   "source": [
    "# 정규화한 X validation data 확인\n",
    "#X_valid[0]"
   ]
  },
  {
   "cell_type": "code",
   "execution_count": 28,
   "id": "82a40b52",
   "metadata": {
    "execution": {
     "iopub.execute_input": "2022-11-25T13:37:50.640464Z",
     "iopub.status.busy": "2022-11-25T13:37:50.639774Z",
     "iopub.status.idle": "2022-11-25T13:37:50.644706Z",
     "shell.execute_reply": "2022-11-25T13:37:50.643897Z"
    },
    "papermill": {
     "duration": 0.033838,
     "end_time": "2022-11-25T13:37:50.646623",
     "exception": false,
     "start_time": "2022-11-25T13:37:50.612785",
     "status": "completed"
    },
    "tags": []
   },
   "outputs": [],
   "source": [
    "# train 개수, 차원 확인\n",
    "#print(len(X_train), len(y_train))\n",
    "#print(X_train.shape)"
   ]
  },
  {
   "cell_type": "code",
   "execution_count": 29,
   "id": "886bfe67",
   "metadata": {
    "execution": {
     "iopub.execute_input": "2022-11-25T13:37:50.702097Z",
     "iopub.status.busy": "2022-11-25T13:37:50.701235Z",
     "iopub.status.idle": "2022-11-25T13:37:50.705441Z",
     "shell.execute_reply": "2022-11-25T13:37:50.704613Z"
    },
    "papermill": {
     "duration": 0.033893,
     "end_time": "2022-11-25T13:37:50.707342",
     "exception": false,
     "start_time": "2022-11-25T13:37:50.673449",
     "status": "completed"
    },
    "tags": []
   },
   "outputs": [],
   "source": [
    "# validation 개수, 차원 확인\n",
    "#print(len(X_valid), len(y_valid))\n",
    "#print(X_valid.shape)"
   ]
  },
  {
   "cell_type": "code",
   "execution_count": 30,
   "id": "10bd0ac8",
   "metadata": {
    "execution": {
     "iopub.execute_input": "2022-11-25T13:37:50.760227Z",
     "iopub.status.busy": "2022-11-25T13:37:50.759972Z",
     "iopub.status.idle": "2022-11-25T13:37:50.767424Z",
     "shell.execute_reply": "2022-11-25T13:37:50.766580Z"
    },
    "papermill": {
     "duration": 0.036136,
     "end_time": "2022-11-25T13:37:50.769289",
     "exception": false,
     "start_time": "2022-11-25T13:37:50.733153",
     "status": "completed"
    },
    "tags": []
   },
   "outputs": [],
   "source": [
    "# y ONE HOT ENCODING\n",
    "le = LabelEncoder().fit(['Type 1', 'Type 2', 'Type 3'])\n",
    "y_train = le.transform(y_train)\n",
    "y_valid = le.transform(y_valid)\n",
    "\n",
    "y_train_onehot = to_categorical(y_train, num_classes=3)\n",
    "y_valid_onehot = to_categorical(y_valid, num_classes=3)"
   ]
  },
  {
   "cell_type": "code",
   "execution_count": 31,
   "id": "038b36c5",
   "metadata": {
    "execution": {
     "iopub.execute_input": "2022-11-25T13:37:50.825897Z",
     "iopub.status.busy": "2022-11-25T13:37:50.825605Z",
     "iopub.status.idle": "2022-11-25T13:37:50.829748Z",
     "shell.execute_reply": "2022-11-25T13:37:50.828799Z"
    },
    "papermill": {
     "duration": 0.035669,
     "end_time": "2022-11-25T13:37:50.831752",
     "exception": false,
     "start_time": "2022-11-25T13:37:50.796083",
     "status": "completed"
    },
    "tags": []
   },
   "outputs": [],
   "source": [
    "#y_train_onehot[:5]"
   ]
  },
  {
   "cell_type": "code",
   "execution_count": 32,
   "id": "42ce4e13",
   "metadata": {
    "execution": {
     "iopub.execute_input": "2022-11-25T13:37:50.884599Z",
     "iopub.status.busy": "2022-11-25T13:37:50.884337Z",
     "iopub.status.idle": "2022-11-25T13:37:50.888116Z",
     "shell.execute_reply": "2022-11-25T13:37:50.887109Z"
    },
    "papermill": {
     "duration": 0.032969,
     "end_time": "2022-11-25T13:37:50.890701",
     "exception": false,
     "start_time": "2022-11-25T13:37:50.857732",
     "status": "completed"
    },
    "tags": []
   },
   "outputs": [],
   "source": [
    "#y_valid_onehot[:5]"
   ]
  },
  {
   "cell_type": "markdown",
   "id": "3b9d3e69",
   "metadata": {
    "papermill": {
     "duration": 0.026042,
     "end_time": "2022-11-25T13:37:50.942680",
     "exception": false,
     "start_time": "2022-11-25T13:37:50.916638",
     "status": "completed"
    },
    "tags": []
   },
   "source": [
    "# 모델링"
   ]
  },
  {
   "cell_type": "code",
   "execution_count": 33,
   "id": "5d4780ed",
   "metadata": {
    "execution": {
     "iopub.execute_input": "2022-11-25T13:37:50.995924Z",
     "iopub.status.busy": "2022-11-25T13:37:50.995621Z",
     "iopub.status.idle": "2022-11-25T13:37:50.999822Z",
     "shell.execute_reply": "2022-11-25T13:37:50.998828Z"
    },
    "papermill": {
     "duration": 0.03352,
     "end_time": "2022-11-25T13:37:51.002234",
     "exception": false,
     "start_time": "2022-11-25T13:37:50.968714",
     "status": "completed"
    },
    "tags": []
   },
   "outputs": [],
   "source": [
    "BATCH_SIZE = 16\n",
    "EPOCHS = 100"
   ]
  },
  {
   "cell_type": "code",
   "execution_count": 34,
   "id": "1a162446",
   "metadata": {
    "execution": {
     "iopub.execute_input": "2022-11-25T13:37:51.056715Z",
     "iopub.status.busy": "2022-11-25T13:37:51.055968Z",
     "iopub.status.idle": "2022-11-25T13:37:51.060898Z",
     "shell.execute_reply": "2022-11-25T13:37:51.060095Z"
    },
    "papermill": {
     "duration": 0.033861,
     "end_time": "2022-11-25T13:37:51.062835",
     "exception": false,
     "start_time": "2022-11-25T13:37:51.028974",
     "status": "completed"
    },
    "tags": []
   },
   "outputs": [],
   "source": [
    "# define training steps\n",
    "TRAIN_STEPS = len(train_df)//BATCH_SIZE\n",
    "VAL_STEPS = len(valid_df)//BATCH_SIZE"
   ]
  },
  {
   "cell_type": "markdown",
   "id": "5487d9ce",
   "metadata": {
    "papermill": {
     "duration": 0.026267,
     "end_time": "2022-11-25T13:37:51.115255",
     "exception": false,
     "start_time": "2022-11-25T13:37:51.088988",
     "status": "completed"
    },
    "tags": []
   },
   "source": [
    "## VGG16 - pretrained\n",
    "(Very Deep Convolutional Networks for Large-Scale Image Recognition(VGG-16))"
   ]
  },
  {
   "cell_type": "markdown",
   "id": "d9113fa3",
   "metadata": {
    "papermill": {
     "duration": 0.026008,
     "end_time": "2022-11-25T13:37:51.167600",
     "exception": false,
     "start_time": "2022-11-25T13:37:51.141592",
     "status": "completed"
    },
    "tags": []
   },
   "source": [
    "https://www.analyticsvidhya.com/blog/2020/08/top-4-pre-trained-models-for-image-classification-with-python-code/"
   ]
  },
  {
   "cell_type": "code",
   "execution_count": 35,
   "id": "f8b39ce3",
   "metadata": {
    "execution": {
     "iopub.execute_input": "2022-11-25T13:37:51.221787Z",
     "iopub.status.busy": "2022-11-25T13:37:51.221021Z",
     "iopub.status.idle": "2022-11-25T13:37:54.716286Z",
     "shell.execute_reply": "2022-11-25T13:37:54.714710Z"
    },
    "papermill": {
     "duration": 3.526439,
     "end_time": "2022-11-25T13:37:54.720245",
     "exception": false,
     "start_time": "2022-11-25T13:37:51.193806",
     "status": "completed"
    },
    "tags": []
   },
   "outputs": [
    {
     "name": "stderr",
     "output_type": "stream",
     "text": [
      "2022-11-25 13:37:51.319000: I tensorflow/stream_executor/cuda/cuda_gpu_executor.cc:937] successful NUMA node read from SysFS had negative value (-1), but there must be at least one NUMA node, so returning NUMA node zero\n",
      "2022-11-25 13:37:51.472012: I tensorflow/stream_executor/cuda/cuda_gpu_executor.cc:937] successful NUMA node read from SysFS had negative value (-1), but there must be at least one NUMA node, so returning NUMA node zero\n",
      "2022-11-25 13:37:51.472772: I tensorflow/stream_executor/cuda/cuda_gpu_executor.cc:937] successful NUMA node read from SysFS had negative value (-1), but there must be at least one NUMA node, so returning NUMA node zero\n",
      "2022-11-25 13:37:51.474780: I tensorflow/core/platform/cpu_feature_guard.cc:142] This TensorFlow binary is optimized with oneAPI Deep Neural Network Library (oneDNN) to use the following CPU instructions in performance-critical operations:  AVX2 AVX512F FMA\n",
      "To enable them in other operations, rebuild TensorFlow with the appropriate compiler flags.\n",
      "2022-11-25 13:37:51.475108: I tensorflow/stream_executor/cuda/cuda_gpu_executor.cc:937] successful NUMA node read from SysFS had negative value (-1), but there must be at least one NUMA node, so returning NUMA node zero\n",
      "2022-11-25 13:37:51.475813: I tensorflow/stream_executor/cuda/cuda_gpu_executor.cc:937] successful NUMA node read from SysFS had negative value (-1), but there must be at least one NUMA node, so returning NUMA node zero\n",
      "2022-11-25 13:37:51.476456: I tensorflow/stream_executor/cuda/cuda_gpu_executor.cc:937] successful NUMA node read from SysFS had negative value (-1), but there must be at least one NUMA node, so returning NUMA node zero\n",
      "2022-11-25 13:37:53.645839: I tensorflow/stream_executor/cuda/cuda_gpu_executor.cc:937] successful NUMA node read from SysFS had negative value (-1), but there must be at least one NUMA node, so returning NUMA node zero\n",
      "2022-11-25 13:37:53.646686: I tensorflow/stream_executor/cuda/cuda_gpu_executor.cc:937] successful NUMA node read from SysFS had negative value (-1), but there must be at least one NUMA node, so returning NUMA node zero\n",
      "2022-11-25 13:37:53.647401: I tensorflow/stream_executor/cuda/cuda_gpu_executor.cc:937] successful NUMA node read from SysFS had negative value (-1), but there must be at least one NUMA node, so returning NUMA node zero\n",
      "2022-11-25 13:37:53.648015: I tensorflow/core/common_runtime/gpu/gpu_device.cc:1510] Created device /job:localhost/replica:0/task:0/device:GPU:0 with 15401 MB memory:  -> device: 0, name: Tesla P100-PCIE-16GB, pci bus id: 0000:00:04.0, compute capability: 6.0\n"
     ]
    },
    {
     "name": "stdout",
     "output_type": "stream",
     "text": [
      "Downloading data from https://storage.googleapis.com/tensorflow/keras-applications/vgg16/vgg16_weights_tf_dim_ordering_tf_kernels_notop.h5\n",
      "58892288/58889256 [==============================] - 0s 0us/step\n",
      "58900480/58889256 [==============================] - 0s 0us/step\n"
     ]
    }
   ],
   "source": [
    "# Build base model\n",
    "base = VGG16(input_shape = (128, 128, 3)\n",
    "                   , weights = 'imagenet'\n",
    "                   , include_top = False)"
   ]
  },
  {
   "cell_type": "markdown",
   "id": "4d3ef977",
   "metadata": {
    "papermill": {
     "duration": 0.040735,
     "end_time": "2022-11-25T13:37:54.806193",
     "exception": false,
     "start_time": "2022-11-25T13:37:54.765458",
     "status": "completed"
    },
    "tags": []
   },
   "source": [
    "### Fine-Tuning"
   ]
  },
  {
   "cell_type": "code",
   "execution_count": 36,
   "id": "e90c5f15",
   "metadata": {
    "execution": {
     "iopub.execute_input": "2022-11-25T13:37:54.914952Z",
     "iopub.status.busy": "2022-11-25T13:37:54.914530Z",
     "iopub.status.idle": "2022-11-25T13:37:54.923936Z",
     "shell.execute_reply": "2022-11-25T13:37:54.922920Z"
    },
    "papermill": {
     "duration": 0.062491,
     "end_time": "2022-11-25T13:37:54.926404",
     "exception": false,
     "start_time": "2022-11-25T13:37:54.863913",
     "status": "completed"
    },
    "tags": []
   },
   "outputs": [
    {
     "name": "stdout",
     "output_type": "stream",
     "text": [
      "This is the number of trainable weights before freezing layers in the conv base: 26\n"
     ]
    }
   ],
   "source": [
    "# show trainable layers before freezing\n",
    "print('This is the number of trainable weights '\n",
    "'before freezing layers in the conv base:', len(base.trainable_weights))"
   ]
  },
  {
   "cell_type": "code",
   "execution_count": 37,
   "id": "2743269e",
   "metadata": {
    "execution": {
     "iopub.execute_input": "2022-11-25T13:37:55.012769Z",
     "iopub.status.busy": "2022-11-25T13:37:55.012432Z",
     "iopub.status.idle": "2022-11-25T13:37:55.018479Z",
     "shell.execute_reply": "2022-11-25T13:37:55.017420Z"
    },
    "papermill": {
     "duration": 0.05629,
     "end_time": "2022-11-25T13:37:55.023860",
     "exception": false,
     "start_time": "2022-11-25T13:37:54.967570",
     "status": "completed"
    },
    "tags": []
   },
   "outputs": [],
   "source": [
    "# do not train all layers (freezing few layers of pretrained model)\n",
    "for layer in base.layers[:-3]:\n",
    "    layer.trainable = False"
   ]
  },
  {
   "cell_type": "code",
   "execution_count": 38,
   "id": "a12532d6",
   "metadata": {
    "execution": {
     "iopub.execute_input": "2022-11-25T13:37:55.109943Z",
     "iopub.status.busy": "2022-11-25T13:37:55.109137Z",
     "iopub.status.idle": "2022-11-25T13:37:55.118780Z",
     "shell.execute_reply": "2022-11-25T13:37:55.117931Z"
    },
    "papermill": {
     "duration": 0.055049,
     "end_time": "2022-11-25T13:37:55.121487",
     "exception": false,
     "start_time": "2022-11-25T13:37:55.066438",
     "status": "completed"
    },
    "tags": []
   },
   "outputs": [
    {
     "name": "stdout",
     "output_type": "stream",
     "text": [
      "This is the number of trainable weights after freezing layers in the conv base: 4\n"
     ]
    }
   ],
   "source": [
    "# show trainable layers after freezing\n",
    "print('This is the number of trainable weights '\n",
    "'after freezing layers in the conv base:', len(base.trainable_weights))"
   ]
  },
  {
   "cell_type": "code",
   "execution_count": 39,
   "id": "fb8e78de",
   "metadata": {
    "execution": {
     "iopub.execute_input": "2022-11-25T13:37:55.220351Z",
     "iopub.status.busy": "2022-11-25T13:37:55.219898Z",
     "iopub.status.idle": "2022-11-25T13:37:55.329182Z",
     "shell.execute_reply": "2022-11-25T13:37:55.328282Z"
    },
    "papermill": {
     "duration": 0.170563,
     "end_time": "2022-11-25T13:37:55.331786",
     "exception": false,
     "start_time": "2022-11-25T13:37:55.161223",
     "status": "completed"
    },
    "tags": []
   },
   "outputs": [
    {
     "name": "stdout",
     "output_type": "stream",
     "text": [
      "Model: \"sequential\"\n",
      "_________________________________________________________________\n",
      "Layer (type)                 Output Shape              Param #   \n",
      "=================================================================\n",
      "vgg16 (Functional)           (None, 4, 4, 512)         14714688  \n",
      "_________________________________________________________________\n",
      "flatten (Flatten)            (None, 8192)              0         \n",
      "_________________________________________________________________\n",
      "dense (Dense)                (None, 256)               2097408   \n",
      "_________________________________________________________________\n",
      "dropout (Dropout)            (None, 256)               0         \n",
      "_________________________________________________________________\n",
      "dense_1 (Dense)              (None, 3)                 771       \n",
      "=================================================================\n",
      "Total params: 16,812,867\n",
      "Trainable params: 6,817,795\n",
      "Non-trainable params: 9,995,072\n",
      "_________________________________________________________________\n"
     ]
    }
   ],
   "source": [
    "vgg16 = Sequential([\n",
    "                    base\n",
    "                    , Flatten()\n",
    "                    , Dense(256, activation = 'relu')\n",
    "                    , Dropout(0.5)\n",
    "                    , Dense(3, activation = 'softmax')\n",
    "])\n",
    "\n",
    "vgg16.summary()"
   ]
  },
  {
   "cell_type": "code",
   "execution_count": 40,
   "id": "c60f3844",
   "metadata": {
    "execution": {
     "iopub.execute_input": "2022-11-25T13:37:55.416378Z",
     "iopub.status.busy": "2022-11-25T13:37:55.416034Z",
     "iopub.status.idle": "2022-11-25T13:37:55.432032Z",
     "shell.execute_reply": "2022-11-25T13:37:55.431215Z"
    },
    "papermill": {
     "duration": 0.060795,
     "end_time": "2022-11-25T13:37:55.434489",
     "exception": false,
     "start_time": "2022-11-25T13:37:55.373694",
     "status": "completed"
    },
    "tags": []
   },
   "outputs": [],
   "source": [
    "vgg16.compile(\n",
    "    optimizer = Adam(0.0001)\n",
    "    , loss = 'sparse_categorical_crossentropy'\n",
    "    , metrics = ['accuracy']\n",
    ")"
   ]
  },
  {
   "cell_type": "code",
   "execution_count": 41,
   "id": "e081ad6a",
   "metadata": {
    "execution": {
     "iopub.execute_input": "2022-11-25T13:37:55.519262Z",
     "iopub.status.busy": "2022-11-25T13:37:55.518939Z",
     "iopub.status.idle": "2022-11-25T13:37:55.524910Z",
     "shell.execute_reply": "2022-11-25T13:37:55.524062Z"
    },
    "papermill": {
     "duration": 0.052824,
     "end_time": "2022-11-25T13:37:55.528825",
     "exception": false,
     "start_time": "2022-11-25T13:37:55.476001",
     "status": "completed"
    },
    "tags": []
   },
   "outputs": [],
   "source": [
    "# initialize callbacks\n",
    "reduceLR = ReduceLROnPlateau(monitor='val_accuracy', patience=10, verbose= 1, mode='max', factor=  0.2, min_lr = 1e-5)\n",
    "\n",
    "early_stopping = EarlyStopping(monitor='val_accuracy', patience = 20, verbose=1, mode='max', restore_best_weights= True)\n",
    "\n",
    "checkpoint = ModelCheckpoint('vgg16.weights.hdf5', monitor='val_accuracy', verbose=1,save_best_only=True, mode= 'max')"
   ]
  },
  {
   "cell_type": "code",
   "execution_count": 42,
   "id": "1f198772",
   "metadata": {
    "execution": {
     "iopub.execute_input": "2022-11-25T13:37:55.612338Z",
     "iopub.status.busy": "2022-11-25T13:37:55.612016Z",
     "iopub.status.idle": "2022-11-25T13:46:54.528825Z",
     "shell.execute_reply": "2022-11-25T13:46:54.527544Z"
    },
    "papermill": {
     "duration": 538.961144,
     "end_time": "2022-11-25T13:46:54.531668",
     "exception": false,
     "start_time": "2022-11-25T13:37:55.570524",
     "status": "completed"
    },
    "tags": []
   },
   "outputs": [
    {
     "name": "stderr",
     "output_type": "stream",
     "text": [
      "2022-11-25 13:37:56.343241: I tensorflow/compiler/mlir/mlir_graph_optimization_pass.cc:185] None of the MLIR Optimization Passes are enabled (registered 2)\n"
     ]
    },
    {
     "name": "stdout",
     "output_type": "stream",
     "text": [
      "Epoch 1/100\n"
     ]
    },
    {
     "name": "stderr",
     "output_type": "stream",
     "text": [
      "2022-11-25 13:37:57.942263: I tensorflow/stream_executor/cuda/cuda_dnn.cc:369] Loaded cuDNN version 8005\n"
     ]
    },
    {
     "name": "stdout",
     "output_type": "stream",
     "text": [
      "410/410 [==============================] - 17s 23ms/step - loss: 0.9923 - accuracy: 0.5207 - val_loss: 0.9167 - val_accuracy: 0.5484\n",
      "\n",
      "Epoch 00001: val_accuracy improved from -inf to 0.54839, saving model to vgg16.weights.hdf5\n",
      "Epoch 2/100\n",
      "410/410 [==============================] - 8s 20ms/step - loss: 0.8902 - accuracy: 0.5745 - val_loss: 0.8893 - val_accuracy: 0.5600\n",
      "\n",
      "Epoch 00002: val_accuracy improved from 0.54839 to 0.55995, saving model to vgg16.weights.hdf5\n",
      "Epoch 3/100\n",
      "410/410 [==============================] - 8s 21ms/step - loss: 0.8067 - accuracy: 0.6255 - val_loss: 0.8276 - val_accuracy: 0.6184\n",
      "\n",
      "Epoch 00003: val_accuracy improved from 0.55995 to 0.61838, saving model to vgg16.weights.hdf5\n",
      "Epoch 4/100\n",
      "410/410 [==============================] - 8s 20ms/step - loss: 0.6918 - accuracy: 0.6850 - val_loss: 0.8067 - val_accuracy: 0.6324\n",
      "\n",
      "Epoch 00004: val_accuracy improved from 0.61838 to 0.63238, saving model to vgg16.weights.hdf5\n",
      "Epoch 5/100\n",
      "410/410 [==============================] - 8s 20ms/step - loss: 0.5665 - accuracy: 0.7531 - val_loss: 0.7731 - val_accuracy: 0.6476\n",
      "\n",
      "Epoch 00005: val_accuracy improved from 0.63238 to 0.64760, saving model to vgg16.weights.hdf5\n",
      "Epoch 6/100\n",
      "410/410 [==============================] - 8s 20ms/step - loss: 0.4331 - accuracy: 0.8195 - val_loss: 0.7686 - val_accuracy: 0.6689\n",
      "\n",
      "Epoch 00006: val_accuracy improved from 0.64760 to 0.66890, saving model to vgg16.weights.hdf5\n",
      "Epoch 7/100\n",
      "410/410 [==============================] - 8s 20ms/step - loss: 0.3094 - accuracy: 0.8770 - val_loss: 0.7770 - val_accuracy: 0.6926\n",
      "\n",
      "Epoch 00007: val_accuracy improved from 0.66890 to 0.69264, saving model to vgg16.weights.hdf5\n",
      "Epoch 8/100\n",
      "410/410 [==============================] - 8s 20ms/step - loss: 0.2236 - accuracy: 0.9127 - val_loss: 1.0414 - val_accuracy: 0.6932\n",
      "\n",
      "Epoch 00008: val_accuracy improved from 0.69264 to 0.69324, saving model to vgg16.weights.hdf5\n",
      "Epoch 9/100\n",
      "410/410 [==============================] - 8s 20ms/step - loss: 0.1577 - accuracy: 0.9437 - val_loss: 1.0433 - val_accuracy: 0.7066\n",
      "\n",
      "Epoch 00009: val_accuracy improved from 0.69324 to 0.70663, saving model to vgg16.weights.hdf5\n",
      "Epoch 10/100\n",
      "410/410 [==============================] - 8s 20ms/step - loss: 0.1237 - accuracy: 0.9580 - val_loss: 1.0427 - val_accuracy: 0.7060\n",
      "\n",
      "Epoch 00010: val_accuracy did not improve from 0.70663\n",
      "Epoch 11/100\n",
      "410/410 [==============================] - 8s 20ms/step - loss: 0.0966 - accuracy: 0.9641 - val_loss: 1.2154 - val_accuracy: 0.7097\n",
      "\n",
      "Epoch 00011: val_accuracy improved from 0.70663 to 0.70968, saving model to vgg16.weights.hdf5\n",
      "Epoch 12/100\n",
      "410/410 [==============================] - 8s 20ms/step - loss: 0.0704 - accuracy: 0.9770 - val_loss: 1.2278 - val_accuracy: 0.7279\n",
      "\n",
      "Epoch 00012: val_accuracy improved from 0.70968 to 0.72794, saving model to vgg16.weights.hdf5\n",
      "Epoch 13/100\n",
      "410/410 [==============================] - 8s 20ms/step - loss: 0.0657 - accuracy: 0.9786 - val_loss: 1.3893 - val_accuracy: 0.7103\n",
      "\n",
      "Epoch 00013: val_accuracy did not improve from 0.72794\n",
      "Epoch 14/100\n",
      "410/410 [==============================] - 8s 20ms/step - loss: 0.0629 - accuracy: 0.9779 - val_loss: 1.3837 - val_accuracy: 0.7200\n",
      "\n",
      "Epoch 00014: val_accuracy did not improve from 0.72794\n",
      "Epoch 15/100\n",
      "410/410 [==============================] - 8s 20ms/step - loss: 0.0262 - accuracy: 0.9927 - val_loss: 1.4413 - val_accuracy: 0.7206\n",
      "\n",
      "Epoch 00015: val_accuracy did not improve from 0.72794\n",
      "Epoch 16/100\n",
      "410/410 [==============================] - 8s 20ms/step - loss: 0.0320 - accuracy: 0.9907 - val_loss: 1.4650 - val_accuracy: 0.7072\n",
      "\n",
      "Epoch 00016: val_accuracy did not improve from 0.72794\n",
      "Epoch 17/100\n",
      "410/410 [==============================] - 8s 20ms/step - loss: 0.0600 - accuracy: 0.9796 - val_loss: 1.2980 - val_accuracy: 0.6969\n",
      "\n",
      "Epoch 00017: val_accuracy did not improve from 0.72794\n",
      "Epoch 18/100\n",
      "410/410 [==============================] - 8s 20ms/step - loss: 0.0495 - accuracy: 0.9854 - val_loss: 1.5158 - val_accuracy: 0.7267\n",
      "\n",
      "Epoch 00018: val_accuracy did not improve from 0.72794\n",
      "Epoch 19/100\n",
      "410/410 [==============================] - 8s 20ms/step - loss: 0.0400 - accuracy: 0.9861 - val_loss: 1.4208 - val_accuracy: 0.7212\n",
      "\n",
      "Epoch 00019: val_accuracy did not improve from 0.72794\n",
      "Epoch 20/100\n",
      "410/410 [==============================] - 8s 21ms/step - loss: 0.0332 - accuracy: 0.9884 - val_loss: 1.4119 - val_accuracy: 0.7340\n",
      "\n",
      "Epoch 00020: val_accuracy improved from 0.72794 to 0.73402, saving model to vgg16.weights.hdf5\n",
      "Epoch 21/100\n",
      "410/410 [==============================] - 8s 20ms/step - loss: 0.0297 - accuracy: 0.9899 - val_loss: 1.6772 - val_accuracy: 0.7231\n",
      "\n",
      "Epoch 00021: val_accuracy did not improve from 0.73402\n",
      "Epoch 22/100\n",
      "410/410 [==============================] - 8s 20ms/step - loss: 0.0382 - accuracy: 0.9889 - val_loss: 1.8300 - val_accuracy: 0.7024\n",
      "\n",
      "Epoch 00022: val_accuracy did not improve from 0.73402\n",
      "Epoch 23/100\n",
      "410/410 [==============================] - 8s 20ms/step - loss: 0.0534 - accuracy: 0.9835 - val_loss: 1.2695 - val_accuracy: 0.7188\n",
      "\n",
      "Epoch 00023: val_accuracy did not improve from 0.73402\n",
      "Epoch 24/100\n",
      "410/410 [==============================] - 9s 23ms/step - loss: 0.0153 - accuracy: 0.9954 - val_loss: 1.6632 - val_accuracy: 0.7237\n",
      "\n",
      "Epoch 00024: val_accuracy did not improve from 0.73402\n",
      "Epoch 25/100\n",
      "410/410 [==============================] - 8s 20ms/step - loss: 0.0227 - accuracy: 0.9927 - val_loss: 1.6434 - val_accuracy: 0.7285\n",
      "\n",
      "Epoch 00025: val_accuracy did not improve from 0.73402\n",
      "Epoch 26/100\n",
      "410/410 [==============================] - 8s 20ms/step - loss: 0.0323 - accuracy: 0.9890 - val_loss: 1.8130 - val_accuracy: 0.7249\n",
      "\n",
      "Epoch 00026: val_accuracy did not improve from 0.73402\n",
      "Epoch 27/100\n",
      "410/410 [==============================] - 8s 20ms/step - loss: 0.0409 - accuracy: 0.9846 - val_loss: 1.8153 - val_accuracy: 0.7103\n",
      "\n",
      "Epoch 00027: val_accuracy did not improve from 0.73402\n",
      "Epoch 28/100\n",
      "410/410 [==============================] - 8s 20ms/step - loss: 0.0307 - accuracy: 0.9907 - val_loss: 1.7390 - val_accuracy: 0.7200\n",
      "\n",
      "Epoch 00028: val_accuracy did not improve from 0.73402\n",
      "Epoch 29/100\n",
      "410/410 [==============================] - 8s 20ms/step - loss: 0.0264 - accuracy: 0.9905 - val_loss: 1.6690 - val_accuracy: 0.7036\n",
      "\n",
      "Epoch 00029: val_accuracy did not improve from 0.73402\n",
      "Epoch 30/100\n",
      "410/410 [==============================] - 8s 20ms/step - loss: 0.0176 - accuracy: 0.9940 - val_loss: 1.7163 - val_accuracy: 0.7352\n",
      "\n",
      "Epoch 00030: val_accuracy improved from 0.73402 to 0.73524, saving model to vgg16.weights.hdf5\n",
      "Epoch 31/100\n",
      "410/410 [==============================] - 8s 20ms/step - loss: 0.0231 - accuracy: 0.9933 - val_loss: 1.7410 - val_accuracy: 0.7267\n",
      "\n",
      "Epoch 00031: val_accuracy did not improve from 0.73524\n",
      "Epoch 32/100\n",
      "410/410 [==============================] - 8s 20ms/step - loss: 0.0298 - accuracy: 0.9898 - val_loss: 1.7604 - val_accuracy: 0.7194\n",
      "\n",
      "Epoch 00032: val_accuracy did not improve from 0.73524\n",
      "Epoch 33/100\n",
      "410/410 [==============================] - 8s 20ms/step - loss: 0.0408 - accuracy: 0.9860 - val_loss: 1.5263 - val_accuracy: 0.7024\n",
      "\n",
      "Epoch 00033: val_accuracy did not improve from 0.73524\n",
      "Epoch 34/100\n",
      "410/410 [==============================] - 8s 20ms/step - loss: 0.0233 - accuracy: 0.9933 - val_loss: 1.8265 - val_accuracy: 0.7091\n",
      "\n",
      "Epoch 00034: val_accuracy did not improve from 0.73524\n",
      "Epoch 35/100\n",
      "410/410 [==============================] - 8s 20ms/step - loss: 0.0205 - accuracy: 0.9934 - val_loss: 1.9539 - val_accuracy: 0.7243\n",
      "\n",
      "Epoch 00035: val_accuracy did not improve from 0.73524\n",
      "Epoch 36/100\n",
      "410/410 [==============================] - 8s 20ms/step - loss: 0.0223 - accuracy: 0.9936 - val_loss: 1.6406 - val_accuracy: 0.7365\n",
      "\n",
      "Epoch 00036: val_accuracy improved from 0.73524 to 0.73646, saving model to vgg16.weights.hdf5\n",
      "Epoch 37/100\n",
      "410/410 [==============================] - 8s 20ms/step - loss: 0.0014 - accuracy: 0.9997 - val_loss: 2.0255 - val_accuracy: 0.7419\n",
      "\n",
      "Epoch 00037: val_accuracy improved from 0.73646 to 0.74194, saving model to vgg16.weights.hdf5\n",
      "Epoch 38/100\n",
      "410/410 [==============================] - 8s 20ms/step - loss: 0.0034 - accuracy: 0.9994 - val_loss: 1.6709 - val_accuracy: 0.7261\n",
      "\n",
      "Epoch 00038: val_accuracy did not improve from 0.74194\n",
      "Epoch 39/100\n",
      "410/410 [==============================] - 8s 20ms/step - loss: 0.0487 - accuracy: 0.9854 - val_loss: 1.6377 - val_accuracy: 0.7036\n",
      "\n",
      "Epoch 00039: val_accuracy did not improve from 0.74194\n",
      "Epoch 40/100\n",
      "410/410 [==============================] - 8s 20ms/step - loss: 0.0485 - accuracy: 0.9849 - val_loss: 1.7722 - val_accuracy: 0.7231\n",
      "\n",
      "Epoch 00040: val_accuracy did not improve from 0.74194\n",
      "Epoch 41/100\n",
      "410/410 [==============================] - 8s 20ms/step - loss: 0.0263 - accuracy: 0.9921 - val_loss: 1.7070 - val_accuracy: 0.7304\n",
      "\n",
      "Epoch 00041: val_accuracy did not improve from 0.74194\n",
      "Epoch 42/100\n",
      "410/410 [==============================] - 8s 20ms/step - loss: 0.0076 - accuracy: 0.9977 - val_loss: 1.7737 - val_accuracy: 0.7292\n",
      "\n",
      "Epoch 00042: val_accuracy did not improve from 0.74194\n",
      "Epoch 43/100\n",
      "410/410 [==============================] - 8s 20ms/step - loss: 0.0057 - accuracy: 0.9985 - val_loss: 2.1608 - val_accuracy: 0.7328\n",
      "\n",
      "Epoch 00043: val_accuracy did not improve from 0.74194\n",
      "Epoch 44/100\n",
      "410/410 [==============================] - 8s 20ms/step - loss: 0.0168 - accuracy: 0.9948 - val_loss: 2.0792 - val_accuracy: 0.7292\n",
      "\n",
      "Epoch 00044: val_accuracy did not improve from 0.74194\n",
      "Epoch 45/100\n",
      "410/410 [==============================] - 8s 20ms/step - loss: 0.0394 - accuracy: 0.9870 - val_loss: 1.9766 - val_accuracy: 0.7200\n",
      "\n",
      "Epoch 00045: val_accuracy did not improve from 0.74194\n",
      "Epoch 46/100\n",
      "410/410 [==============================] - 8s 20ms/step - loss: 0.0203 - accuracy: 0.9944 - val_loss: 1.4833 - val_accuracy: 0.7352\n",
      "\n",
      "Epoch 00046: val_accuracy did not improve from 0.74194\n",
      "Epoch 47/100\n",
      "410/410 [==============================] - 8s 21ms/step - loss: 0.0259 - accuracy: 0.9922 - val_loss: 2.0651 - val_accuracy: 0.7188\n",
      "\n",
      "Epoch 00047: ReduceLROnPlateau reducing learning rate to 1.9999999494757503e-05.\n",
      "\n",
      "Epoch 00047: val_accuracy did not improve from 0.74194\n",
      "Epoch 48/100\n",
      "410/410 [==============================] - 8s 20ms/step - loss: 0.0063 - accuracy: 0.9976 - val_loss: 1.9748 - val_accuracy: 0.7243\n",
      "\n",
      "Epoch 00048: val_accuracy did not improve from 0.74194\n",
      "Epoch 49/100\n",
      "410/410 [==============================] - 8s 20ms/step - loss: 6.0024e-04 - accuracy: 1.0000 - val_loss: 2.0519 - val_accuracy: 0.7285\n",
      "\n",
      "Epoch 00049: val_accuracy did not improve from 0.74194\n",
      "Epoch 50/100\n",
      "410/410 [==============================] - 8s 20ms/step - loss: 3.8226e-04 - accuracy: 1.0000 - val_loss: 2.0925 - val_accuracy: 0.7267\n",
      "\n",
      "Epoch 00050: val_accuracy did not improve from 0.74194\n",
      "Epoch 51/100\n",
      "410/410 [==============================] - 8s 20ms/step - loss: 2.6891e-04 - accuracy: 1.0000 - val_loss: 2.1295 - val_accuracy: 0.7261\n",
      "\n",
      "Epoch 00051: val_accuracy did not improve from 0.74194\n",
      "Epoch 52/100\n",
      "410/410 [==============================] - 8s 20ms/step - loss: 2.6177e-04 - accuracy: 1.0000 - val_loss: 2.1514 - val_accuracy: 0.7292\n",
      "\n",
      "Epoch 00052: val_accuracy did not improve from 0.74194\n",
      "Epoch 53/100\n",
      "410/410 [==============================] - 8s 20ms/step - loss: 1.5705e-04 - accuracy: 1.0000 - val_loss: 2.2009 - val_accuracy: 0.7310\n",
      "\n",
      "Epoch 00053: val_accuracy did not improve from 0.74194\n",
      "Epoch 54/100\n",
      "410/410 [==============================] - 8s 21ms/step - loss: 9.6237e-05 - accuracy: 1.0000 - val_loss: 2.2725 - val_accuracy: 0.7316\n",
      "\n",
      "Epoch 00054: val_accuracy did not improve from 0.74194\n",
      "Epoch 55/100\n",
      "410/410 [==============================] - 8s 20ms/step - loss: 7.7285e-05 - accuracy: 1.0000 - val_loss: 2.3150 - val_accuracy: 0.7310\n",
      "\n",
      "Epoch 00055: val_accuracy did not improve from 0.74194\n",
      "Epoch 56/100\n",
      "410/410 [==============================] - 8s 20ms/step - loss: 7.3644e-05 - accuracy: 1.0000 - val_loss: 2.3712 - val_accuracy: 0.7316\n",
      "\n",
      "Epoch 00056: val_accuracy did not improve from 0.74194\n",
      "Epoch 57/100\n",
      "410/410 [==============================] - 8s 20ms/step - loss: 6.4441e-05 - accuracy: 1.0000 - val_loss: 2.4339 - val_accuracy: 0.7304\n",
      "\n",
      "Epoch 00057: ReduceLROnPlateau reducing learning rate to 1e-05.\n",
      "Restoring model weights from the end of the best epoch.\n",
      "\n",
      "Epoch 00057: val_accuracy did not improve from 0.74194\n",
      "Epoch 00057: early stopping\n"
     ]
    }
   ],
   "source": [
    "# train model\n",
    "\n",
    "# Non-augmentation\n",
    "train_gen = ImageDataGenerator().flow(X_train, y_train, batch_size = BATCH_SIZE)\n",
    "valid_gen = ImageDataGenerator().flow(X_valid, y_valid, batch_size = BATCH_SIZE)\n",
    "\n",
    "history_vgg16 = vgg16.fit(\n",
    "    train_gen\n",
    "    , steps_per_epoch = TRAIN_STEPS\n",
    "    , validation_data = valid_gen\n",
    "    , epochs = 100\n",
    "    , callbacks = [reduceLR, early_stopping, checkpoint]\n",
    ")"
   ]
  },
  {
   "cell_type": "code",
   "execution_count": 43,
   "id": "ef1c876c",
   "metadata": {
    "execution": {
     "iopub.execute_input": "2022-11-25T13:46:55.277488Z",
     "iopub.status.busy": "2022-11-25T13:46:55.277131Z",
     "iopub.status.idle": "2022-11-25T13:46:55.461035Z",
     "shell.execute_reply": "2022-11-25T13:46:55.460039Z"
    },
    "papermill": {
     "duration": 0.56078,
     "end_time": "2022-11-25T13:46:55.463706",
     "exception": false,
     "start_time": "2022-11-25T13:46:54.902926",
     "status": "completed"
    },
    "tags": []
   },
   "outputs": [],
   "source": [
    "# save model (recall -> keras.models.load_model('') -> compile)\n",
    "vgg16.save('vgg16.h5')"
   ]
  },
  {
   "cell_type": "code",
   "execution_count": 44,
   "id": "4c0d15ca",
   "metadata": {
    "execution": {
     "iopub.execute_input": "2022-11-25T13:46:56.466628Z",
     "iopub.status.busy": "2022-11-25T13:46:56.466087Z",
     "iopub.status.idle": "2022-11-25T13:46:56.767657Z",
     "shell.execute_reply": "2022-11-25T13:46:56.766785Z"
    },
    "papermill": {
     "duration": 0.898077,
     "end_time": "2022-11-25T13:46:56.769812",
     "exception": false,
     "start_time": "2022-11-25T13:46:55.871735",
     "status": "completed"
    },
    "tags": []
   },
   "outputs": [
    {
     "data": {
      "image/png": "[encoded data removed]",
      "text/plain": [
       "<Figure size 1080x360 with 2 Axes>"
      ]
     },
     "metadata": {
      "needs_background": "light"
     },
     "output_type": "display_data"
    }
   ],
   "source": [
    "plt.figure(figsize=(15, 5))\n",
    "\n",
    "plt.subplot(1, 2, 1)\n",
    "plt.plot(history_vgg16.history['accuracy'], label='Training Accuracy')\n",
    "plt.plot(history_vgg16.history['val_accuracy'], label='Validation Accuracy')\n",
    "plt.legend(loc='lower right')\n",
    "plt.title('Training and Validation Accuracy')\n",
    "\n",
    "plt.subplot(1, 2, 2)\n",
    "plt.plot(history_vgg16.history['loss'], label='Training Loss')\n",
    "plt.plot(history_vgg16.history['val_loss'], label='Validation Loss')\n",
    "plt.legend(loc='upper right')\n",
    "plt.title('Training and Validation Loss')\n",
    "\n",
    "plt.show()"
   ]
  },
  {
   "cell_type": "markdown",
   "id": "64b21e4a",
   "metadata": {
    "papermill": {
     "duration": 0.375437,
     "end_time": "2022-11-25T13:46:57.514186",
     "exception": false,
     "start_time": "2022-11-25T13:46:57.138749",
     "status": "completed"
    },
    "tags": []
   },
   "source": [
    "**-> overfitting**"
   ]
  },
  {
   "cell_type": "markdown",
   "id": "2c1c6c6d",
   "metadata": {
    "papermill": {
     "duration": 0.372852,
     "end_time": "2022-11-25T13:46:58.296789",
     "exception": false,
     "start_time": "2022-11-25T13:46:57.923937",
     "status": "completed"
    },
    "tags": []
   },
   "source": [
    "## VGG16 (Fine-Tunung, Data Augmentation)"
   ]
  },
  {
   "cell_type": "code",
   "execution_count": 45,
   "id": "28b681b9",
   "metadata": {
    "execution": {
     "iopub.execute_input": "2022-11-25T13:46:59.031324Z",
     "iopub.status.busy": "2022-11-25T13:46:59.030964Z",
     "iopub.status.idle": "2022-11-25T13:46:59.105298Z",
     "shell.execute_reply": "2022-11-25T13:46:59.104385Z"
    },
    "papermill": {
     "duration": 0.446537,
     "end_time": "2022-11-25T13:46:59.107526",
     "exception": false,
     "start_time": "2022-11-25T13:46:58.660989",
     "status": "completed"
    },
    "tags": []
   },
   "outputs": [
    {
     "name": "stdout",
     "output_type": "stream",
     "text": [
      "Model: \"sequential_1\"\n",
      "_________________________________________________________________\n",
      "Layer (type)                 Output Shape              Param #   \n",
      "=================================================================\n",
      "vgg16 (Functional)           (None, 4, 4, 512)         14714688  \n",
      "_________________________________________________________________\n",
      "flatten_1 (Flatten)          (None, 8192)              0         \n",
      "_________________________________________________________________\n",
      "dense_2 (Dense)              (None, 256)               2097408   \n",
      "_________________________________________________________________\n",
      "dropout_1 (Dropout)          (None, 256)               0         \n",
      "_________________________________________________________________\n",
      "dense_3 (Dense)              (None, 3)                 771       \n",
      "=================================================================\n",
      "Total params: 16,812,867\n",
      "Trainable params: 6,817,795\n",
      "Non-trainable params: 9,995,072\n",
      "_________________________________________________________________\n"
     ]
    }
   ],
   "source": [
    "vgg16_ag = Sequential([\n",
    "                    base\n",
    "                    , Flatten()\n",
    "                    , Dense(256, activation = 'relu')\n",
    "                    , Dropout(0.5)\n",
    "                    , Dense(3, activation = 'softmax')\n",
    "])\n",
    "\n",
    "vgg16_ag.summary()"
   ]
  },
  {
   "cell_type": "code",
   "execution_count": 46,
   "id": "f91aea6e",
   "metadata": {
    "execution": {
     "iopub.execute_input": "2022-11-25T13:46:59.880061Z",
     "iopub.status.busy": "2022-11-25T13:46:59.879695Z",
     "iopub.status.idle": "2022-11-25T13:46:59.889464Z",
     "shell.execute_reply": "2022-11-25T13:46:59.888628Z"
    },
    "papermill": {
     "duration": 0.378335,
     "end_time": "2022-11-25T13:46:59.891462",
     "exception": false,
     "start_time": "2022-11-25T13:46:59.513127",
     "status": "completed"
    },
    "tags": []
   },
   "outputs": [],
   "source": [
    "vgg16_ag.compile(\n",
    "    optimizer = Adam(0.0001)\n",
    "    , loss = 'sparse_categorical_crossentropy'\n",
    "    , metrics = ['accuracy']\n",
    ")"
   ]
  },
  {
   "cell_type": "code",
   "execution_count": 47,
   "id": "13757922",
   "metadata": {
    "execution": {
     "iopub.execute_input": "2022-11-25T13:47:00.670184Z",
     "iopub.status.busy": "2022-11-25T13:47:00.669789Z",
     "iopub.status.idle": "2022-11-25T13:47:02.104794Z",
     "shell.execute_reply": "2022-11-25T13:47:02.103742Z"
    },
    "papermill": {
     "duration": 1.851763,
     "end_time": "2022-11-25T13:47:02.107484",
     "exception": false,
     "start_time": "2022-11-25T13:47:00.255721",
     "status": "completed"
    },
    "tags": []
   },
   "outputs": [],
   "source": [
    "# augmentation\n",
    "train_datagen = ImageDataGenerator(\n",
    "                                rotation_range = 40,\n",
    "                                zoom_range = 0.2,\n",
    "                                width_shift_range=0.2,\n",
    "                                height_shift_range=0.2,\n",
    "                                shear_range=0.2,\n",
    "                                horizontal_flip = True,\n",
    "                                vertical_flip = True)\n",
    "\n",
    "train_gen_ag = train_datagen.flow(X_train, y_train, batch_size= BATCH_SIZE)"
   ]
  },
  {
   "cell_type": "code",
   "execution_count": 48,
   "id": "1c492b41",
   "metadata": {
    "execution": {
     "iopub.execute_input": "2022-11-25T13:47:02.841320Z",
     "iopub.status.busy": "2022-11-25T13:47:02.840242Z",
     "iopub.status.idle": "2022-11-25T13:47:02.846791Z",
     "shell.execute_reply": "2022-11-25T13:47:02.845848Z"
    },
    "papermill": {
     "duration": 0.374566,
     "end_time": "2022-11-25T13:47:02.848837",
     "exception": false,
     "start_time": "2022-11-25T13:47:02.474271",
     "status": "completed"
    },
    "tags": []
   },
   "outputs": [],
   "source": [
    "# initialize callbacks\n",
    "reduceLR = ReduceLROnPlateau(monitor='val_accuracy', patience=10, verbose= 1, mode='max', factor=  0.2, min_lr = 1e-5)\n",
    "\n",
    "early_stopping = EarlyStopping(monitor='val_accuracy', patience = 20, verbose=1, mode='max', restore_best_weights= True)\n",
    "\n",
    "checkpoint_ag = ModelCheckpoint('vgg_ag.weights.hdf5', monitor='val_accuracy', verbose=1,save_best_only=True, mode= 'max')"
   ]
  },
  {
   "cell_type": "code",
   "execution_count": 49,
   "id": "681b044f",
   "metadata": {
    "execution": {
     "iopub.execute_input": "2022-11-25T13:47:03.644711Z",
     "iopub.status.busy": "2022-11-25T13:47:03.643761Z",
     "iopub.status.idle": "2022-11-25T14:38:04.019133Z",
     "shell.execute_reply": "2022-11-25T14:38:04.017584Z"
    },
    "papermill": {
     "duration": 3060.789449,
     "end_time": "2022-11-25T14:38:04.021532",
     "exception": false,
     "start_time": "2022-11-25T13:47:03.232083",
     "status": "completed"
    },
    "tags": []
   },
   "outputs": [
    {
     "name": "stdout",
     "output_type": "stream",
     "text": [
      "Epoch 1/100\n",
      "410/410 [==============================] - 29s 68ms/step - loss: 0.9485 - accuracy: 0.5468 - val_loss: 0.8420 - val_accuracy: 0.6127\n",
      "\n",
      "Epoch 00001: val_accuracy improved from -inf to 0.61275, saving model to vgg_ag.weights.hdf5\n",
      "Epoch 2/100\n",
      "410/410 [==============================] - 28s 67ms/step - loss: 0.9028 - accuracy: 0.5657 - val_loss: 0.8469 - val_accuracy: 0.6146\n",
      "\n",
      "Epoch 00002: val_accuracy improved from 0.61275 to 0.61458, saving model to vgg_ag.weights.hdf5\n",
      "Epoch 3/100\n",
      "410/410 [==============================] - 27s 67ms/step - loss: 0.8813 - accuracy: 0.5848 - val_loss: 0.8164 - val_accuracy: 0.6238\n",
      "\n",
      "Epoch 00003: val_accuracy improved from 0.61458 to 0.62377, saving model to vgg_ag.weights.hdf5\n",
      "Epoch 4/100\n",
      "410/410 [==============================] - 28s 68ms/step - loss: 0.8654 - accuracy: 0.5912 - val_loss: 0.7852 - val_accuracy: 0.6397\n",
      "\n",
      "Epoch 00004: val_accuracy improved from 0.62377 to 0.63971, saving model to vgg_ag.weights.hdf5\n",
      "Epoch 5/100\n",
      "410/410 [==============================] - 28s 68ms/step - loss: 0.8418 - accuracy: 0.6069 - val_loss: 0.7851 - val_accuracy: 0.6446\n",
      "\n",
      "Epoch 00005: val_accuracy improved from 0.63971 to 0.64461, saving model to vgg_ag.weights.hdf5\n",
      "Epoch 6/100\n",
      "410/410 [==============================] - 28s 69ms/step - loss: 0.8209 - accuracy: 0.6084 - val_loss: 0.7649 - val_accuracy: 0.6507\n",
      "\n",
      "Epoch 00006: val_accuracy improved from 0.64461 to 0.65074, saving model to vgg_ag.weights.hdf5\n",
      "Epoch 7/100\n",
      "410/410 [==============================] - 28s 68ms/step - loss: 0.8142 - accuracy: 0.6212 - val_loss: 0.7731 - val_accuracy: 0.6716\n",
      "\n",
      "Epoch 00007: val_accuracy improved from 0.65074 to 0.67157, saving model to vgg_ag.weights.hdf5\n",
      "Epoch 8/100\n",
      "410/410 [==============================] - 28s 68ms/step - loss: 0.8000 - accuracy: 0.6206 - val_loss: 0.7630 - val_accuracy: 0.6777\n",
      "\n",
      "Epoch 00008: val_accuracy improved from 0.67157 to 0.67770, saving model to vgg_ag.weights.hdf5\n",
      "Epoch 9/100\n",
      "410/410 [==============================] - 28s 69ms/step - loss: 0.7752 - accuracy: 0.6392 - val_loss: 0.7635 - val_accuracy: 0.6906\n",
      "\n",
      "Epoch 00009: val_accuracy improved from 0.67770 to 0.69056, saving model to vgg_ag.weights.hdf5\n",
      "Epoch 10/100\n",
      "410/410 [==============================] - 28s 67ms/step - loss: 0.7751 - accuracy: 0.6435 - val_loss: 0.7273 - val_accuracy: 0.6844\n",
      "\n",
      "Epoch 00010: val_accuracy did not improve from 0.69056\n",
      "Epoch 11/100\n",
      "410/410 [==============================] - 28s 68ms/step - loss: 0.7544 - accuracy: 0.6515 - val_loss: 0.8567 - val_accuracy: 0.6661\n",
      "\n",
      "Epoch 00011: val_accuracy did not improve from 0.69056\n",
      "Epoch 12/100\n",
      "410/410 [==============================] - 28s 68ms/step - loss: 0.7478 - accuracy: 0.6675 - val_loss: 0.7673 - val_accuracy: 0.6795\n",
      "\n",
      "Epoch 00012: val_accuracy did not improve from 0.69056\n",
      "Epoch 13/100\n",
      "410/410 [==============================] - 28s 68ms/step - loss: 0.7359 - accuracy: 0.6682 - val_loss: 0.7481 - val_accuracy: 0.6746\n",
      "\n",
      "Epoch 00013: val_accuracy did not improve from 0.69056\n",
      "Epoch 14/100\n",
      "410/410 [==============================] - 28s 69ms/step - loss: 0.7157 - accuracy: 0.6800 - val_loss: 0.7889 - val_accuracy: 0.6722\n",
      "\n",
      "Epoch 00014: val_accuracy did not improve from 0.69056\n",
      "Epoch 15/100\n",
      "410/410 [==============================] - 28s 68ms/step - loss: 0.7155 - accuracy: 0.6768 - val_loss: 0.7367 - val_accuracy: 0.6814\n",
      "\n",
      "Epoch 00015: val_accuracy did not improve from 0.69056\n",
      "Epoch 16/100\n",
      "410/410 [==============================] - 28s 68ms/step - loss: 0.7070 - accuracy: 0.6795 - val_loss: 0.7497 - val_accuracy: 0.6808\n",
      "\n",
      "Epoch 00016: val_accuracy did not improve from 0.69056\n",
      "Epoch 17/100\n",
      "410/410 [==============================] - 28s 69ms/step - loss: 0.6803 - accuracy: 0.6985 - val_loss: 0.8152 - val_accuracy: 0.6832\n",
      "\n",
      "Epoch 00017: val_accuracy did not improve from 0.69056\n",
      "Epoch 18/100\n",
      "410/410 [==============================] - 28s 69ms/step - loss: 0.6735 - accuracy: 0.6953 - val_loss: 0.7558 - val_accuracy: 0.6814\n",
      "\n",
      "Epoch 00018: val_accuracy did not improve from 0.69056\n",
      "Epoch 19/100\n",
      "410/410 [==============================] - 28s 67ms/step - loss: 0.6604 - accuracy: 0.6983 - val_loss: 0.7410 - val_accuracy: 0.6985\n",
      "\n",
      "Epoch 00019: val_accuracy improved from 0.69056 to 0.69853, saving model to vgg_ag.weights.hdf5\n",
      "Epoch 20/100\n",
      "410/410 [==============================] - 28s 68ms/step - loss: 0.6599 - accuracy: 0.7145 - val_loss: 0.7145 - val_accuracy: 0.7181\n",
      "\n",
      "Epoch 00020: val_accuracy improved from 0.69853 to 0.71814, saving model to vgg_ag.weights.hdf5\n",
      "Epoch 21/100\n",
      "410/410 [==============================] - 28s 69ms/step - loss: 0.6522 - accuracy: 0.7044 - val_loss: 0.7908 - val_accuracy: 0.6814\n",
      "\n",
      "Epoch 00021: val_accuracy did not improve from 0.71814\n",
      "Epoch 22/100\n",
      "410/410 [==============================] - 28s 67ms/step - loss: 0.6230 - accuracy: 0.7207 - val_loss: 0.8126 - val_accuracy: 0.7022\n",
      "\n",
      "Epoch 00022: val_accuracy did not improve from 0.71814\n",
      "Epoch 23/100\n",
      "410/410 [==============================] - 28s 68ms/step - loss: 0.6174 - accuracy: 0.7296 - val_loss: 0.7880 - val_accuracy: 0.7077\n",
      "\n",
      "Epoch 00023: val_accuracy did not improve from 0.71814\n",
      "Epoch 24/100\n",
      "410/410 [==============================] - 29s 70ms/step - loss: 0.6109 - accuracy: 0.7304 - val_loss: 0.8890 - val_accuracy: 0.6875\n",
      "\n",
      "Epoch 00024: val_accuracy did not improve from 0.71814\n",
      "Epoch 25/100\n",
      "410/410 [==============================] - 27s 67ms/step - loss: 0.5952 - accuracy: 0.7386 - val_loss: 0.7777 - val_accuracy: 0.7138\n",
      "\n",
      "Epoch 00025: val_accuracy did not improve from 0.71814\n",
      "Epoch 26/100\n",
      "410/410 [==============================] - 28s 69ms/step - loss: 0.5952 - accuracy: 0.7426 - val_loss: 0.7920 - val_accuracy: 0.7022\n",
      "\n",
      "Epoch 00026: val_accuracy did not improve from 0.71814\n",
      "Epoch 27/100\n",
      "410/410 [==============================] - 28s 69ms/step - loss: 0.5905 - accuracy: 0.7458 - val_loss: 0.8000 - val_accuracy: 0.6998\n",
      "\n",
      "Epoch 00027: val_accuracy did not improve from 0.71814\n",
      "Epoch 28/100\n",
      "410/410 [==============================] - 28s 68ms/step - loss: 0.5805 - accuracy: 0.7490 - val_loss: 0.8598 - val_accuracy: 0.6740\n",
      "\n",
      "Epoch 00028: val_accuracy did not improve from 0.71814\n",
      "Epoch 29/100\n",
      "410/410 [==============================] - 28s 69ms/step - loss: 0.5699 - accuracy: 0.7549 - val_loss: 0.7495 - val_accuracy: 0.7243\n",
      "\n",
      "Epoch 00029: val_accuracy improved from 0.71814 to 0.72426, saving model to vgg_ag.weights.hdf5\n",
      "Epoch 30/100\n",
      "410/410 [==============================] - 28s 68ms/step - loss: 0.5581 - accuracy: 0.7595 - val_loss: 0.8421 - val_accuracy: 0.6918\n",
      "\n",
      "Epoch 00030: val_accuracy did not improve from 0.72426\n",
      "Epoch 31/100\n",
      "410/410 [==============================] - 28s 69ms/step - loss: 0.5546 - accuracy: 0.7618 - val_loss: 0.8514 - val_accuracy: 0.7022\n",
      "\n",
      "Epoch 00031: val_accuracy did not improve from 0.72426\n",
      "Epoch 32/100\n",
      "410/410 [==============================] - 28s 69ms/step - loss: 0.5549 - accuracy: 0.7578 - val_loss: 0.8331 - val_accuracy: 0.7132\n",
      "\n",
      "Epoch 00032: val_accuracy did not improve from 0.72426\n",
      "Epoch 33/100\n",
      "410/410 [==============================] - 28s 69ms/step - loss: 0.5391 - accuracy: 0.7697 - val_loss: 0.8459 - val_accuracy: 0.7016\n",
      "\n",
      "Epoch 00033: val_accuracy did not improve from 0.72426\n",
      "Epoch 34/100\n",
      "410/410 [==============================] - 28s 69ms/step - loss: 0.5273 - accuracy: 0.7786 - val_loss: 0.8117 - val_accuracy: 0.7108\n",
      "\n",
      "Epoch 00034: val_accuracy did not improve from 0.72426\n",
      "Epoch 35/100\n",
      "410/410 [==============================] - 28s 68ms/step - loss: 0.5221 - accuracy: 0.7757 - val_loss: 0.9352 - val_accuracy: 0.7071\n",
      "\n",
      "Epoch 00035: val_accuracy did not improve from 0.72426\n",
      "Epoch 36/100\n",
      "410/410 [==============================] - 28s 69ms/step - loss: 0.5170 - accuracy: 0.7778 - val_loss: 0.7832 - val_accuracy: 0.7120\n",
      "\n",
      "Epoch 00036: val_accuracy did not improve from 0.72426\n",
      "Epoch 37/100\n",
      "410/410 [==============================] - 28s 68ms/step - loss: 0.4967 - accuracy: 0.7935 - val_loss: 0.8149 - val_accuracy: 0.7114\n",
      "\n",
      "Epoch 00037: val_accuracy did not improve from 0.72426\n",
      "Epoch 38/100\n",
      "410/410 [==============================] - 28s 69ms/step - loss: 0.4887 - accuracy: 0.7870 - val_loss: 0.8853 - val_accuracy: 0.7181\n",
      "\n",
      "Epoch 00038: val_accuracy did not improve from 0.72426\n",
      "Epoch 39/100\n",
      "410/410 [==============================] - 28s 68ms/step - loss: 0.4923 - accuracy: 0.7891 - val_loss: 0.8556 - val_accuracy: 0.7040\n",
      "\n",
      "Epoch 00039: ReduceLROnPlateau reducing learning rate to 1.9999999494757503e-05.\n",
      "\n",
      "Epoch 00039: val_accuracy did not improve from 0.72426\n",
      "Epoch 40/100\n",
      "410/410 [==============================] - 28s 68ms/step - loss: 0.4295 - accuracy: 0.8199 - val_loss: 0.8683 - val_accuracy: 0.7237\n",
      "\n",
      "Epoch 00040: val_accuracy did not improve from 0.72426\n",
      "Epoch 41/100\n",
      "410/410 [==============================] - 29s 70ms/step - loss: 0.4119 - accuracy: 0.8329 - val_loss: 0.9048 - val_accuracy: 0.7310\n",
      "\n",
      "Epoch 00041: val_accuracy improved from 0.72426 to 0.73100, saving model to vgg_ag.weights.hdf5\n",
      "Epoch 42/100\n",
      "410/410 [==============================] - 29s 70ms/step - loss: 0.4058 - accuracy: 0.8269 - val_loss: 0.9494 - val_accuracy: 0.7255\n",
      "\n",
      "Epoch 00042: val_accuracy did not improve from 0.73100\n",
      "Epoch 43/100\n",
      "410/410 [==============================] - 28s 69ms/step - loss: 0.3949 - accuracy: 0.8361 - val_loss: 0.9169 - val_accuracy: 0.7353\n",
      "\n",
      "Epoch 00043: val_accuracy improved from 0.73100 to 0.73529, saving model to vgg_ag.weights.hdf5\n",
      "Epoch 44/100\n",
      "410/410 [==============================] - 29s 70ms/step - loss: 0.3988 - accuracy: 0.8381 - val_loss: 0.9042 - val_accuracy: 0.7286\n",
      "\n",
      "Epoch 00044: val_accuracy did not improve from 0.73529\n",
      "Epoch 45/100\n",
      "410/410 [==============================] - 29s 70ms/step - loss: 0.4029 - accuracy: 0.8269 - val_loss: 0.9408 - val_accuracy: 0.7310\n",
      "\n",
      "Epoch 00045: val_accuracy did not improve from 0.73529\n",
      "Epoch 46/100\n",
      "410/410 [==============================] - 28s 69ms/step - loss: 0.3825 - accuracy: 0.8396 - val_loss: 0.9386 - val_accuracy: 0.7365\n",
      "\n",
      "Epoch 00046: val_accuracy improved from 0.73529 to 0.73652, saving model to vgg_ag.weights.hdf5\n",
      "Epoch 47/100\n",
      "410/410 [==============================] - 28s 69ms/step - loss: 0.3752 - accuracy: 0.8460 - val_loss: 0.9897 - val_accuracy: 0.7273\n",
      "\n",
      "Epoch 00047: val_accuracy did not improve from 0.73652\n",
      "Epoch 48/100\n",
      "410/410 [==============================] - 29s 70ms/step - loss: 0.3904 - accuracy: 0.8387 - val_loss: 0.8948 - val_accuracy: 0.7426\n",
      "\n",
      "Epoch 00048: val_accuracy improved from 0.73652 to 0.74265, saving model to vgg_ag.weights.hdf5\n",
      "Epoch 49/100\n",
      "410/410 [==============================] - 28s 68ms/step - loss: 0.3794 - accuracy: 0.8419 - val_loss: 0.9483 - val_accuracy: 0.7439\n",
      "\n",
      "Epoch 00049: val_accuracy improved from 0.74265 to 0.74387, saving model to vgg_ag.weights.hdf5\n",
      "Epoch 50/100\n",
      "410/410 [==============================] - 28s 68ms/step - loss: 0.3668 - accuracy: 0.8512 - val_loss: 0.9405 - val_accuracy: 0.7341\n",
      "\n",
      "Epoch 00050: val_accuracy did not improve from 0.74387\n",
      "Epoch 51/100\n",
      "410/410 [==============================] - 29s 72ms/step - loss: 0.3599 - accuracy: 0.8544 - val_loss: 1.0083 - val_accuracy: 0.7377\n",
      "\n",
      "Epoch 00051: val_accuracy did not improve from 0.74387\n",
      "Epoch 52/100\n",
      "410/410 [==============================] - 29s 71ms/step - loss: 0.3651 - accuracy: 0.8479 - val_loss: 0.9517 - val_accuracy: 0.7439\n",
      "\n",
      "Epoch 00052: val_accuracy did not improve from 0.74387\n",
      "Epoch 53/100\n",
      "410/410 [==============================] - 28s 68ms/step - loss: 0.3633 - accuracy: 0.8527 - val_loss: 0.9763 - val_accuracy: 0.7384\n",
      "\n",
      "Epoch 00053: val_accuracy did not improve from 0.74387\n",
      "Epoch 54/100\n",
      "410/410 [==============================] - 29s 70ms/step - loss: 0.3716 - accuracy: 0.8498 - val_loss: 0.9693 - val_accuracy: 0.7396\n",
      "\n",
      "Epoch 00054: val_accuracy did not improve from 0.74387\n",
      "Epoch 55/100\n",
      "410/410 [==============================] - 29s 72ms/step - loss: 0.3585 - accuracy: 0.8527 - val_loss: 1.0004 - val_accuracy: 0.7396\n",
      "\n",
      "Epoch 00055: val_accuracy did not improve from 0.74387\n",
      "Epoch 56/100\n",
      "410/410 [==============================] - 30s 72ms/step - loss: 0.3573 - accuracy: 0.8535 - val_loss: 0.9767 - val_accuracy: 0.7353\n",
      "\n",
      "Epoch 00056: val_accuracy did not improve from 0.74387\n",
      "Epoch 57/100\n",
      "410/410 [==============================] - 30s 72ms/step - loss: 0.3499 - accuracy: 0.8572 - val_loss: 0.9444 - val_accuracy: 0.7377\n",
      "\n",
      "Epoch 00057: val_accuracy did not improve from 0.74387\n",
      "Epoch 58/100\n",
      "410/410 [==============================] - 29s 71ms/step - loss: 0.3502 - accuracy: 0.8588 - val_loss: 0.9878 - val_accuracy: 0.7390\n",
      "\n",
      "Epoch 00058: val_accuracy did not improve from 0.74387\n",
      "Epoch 59/100\n",
      "410/410 [==============================] - 29s 71ms/step - loss: 0.3454 - accuracy: 0.8608 - val_loss: 1.0187 - val_accuracy: 0.7359\n",
      "\n",
      "Epoch 00059: ReduceLROnPlateau reducing learning rate to 1e-05.\n",
      "\n",
      "Epoch 00059: val_accuracy did not improve from 0.74387\n",
      "Epoch 60/100\n",
      "410/410 [==============================] - 29s 71ms/step - loss: 0.3369 - accuracy: 0.8649 - val_loss: 1.0320 - val_accuracy: 0.7359\n",
      "\n",
      "Epoch 00060: val_accuracy did not improve from 0.74387\n",
      "Epoch 61/100\n",
      "410/410 [==============================] - 29s 72ms/step - loss: 0.3345 - accuracy: 0.8599 - val_loss: 1.0145 - val_accuracy: 0.7335\n",
      "\n",
      "Epoch 00061: val_accuracy did not improve from 0.74387\n",
      "Epoch 62/100\n",
      "410/410 [==============================] - 29s 72ms/step - loss: 0.3398 - accuracy: 0.8627 - val_loss: 1.0322 - val_accuracy: 0.7335\n",
      "\n",
      "Epoch 00062: val_accuracy did not improve from 0.74387\n",
      "Epoch 63/100\n",
      "410/410 [==============================] - 29s 70ms/step - loss: 0.3276 - accuracy: 0.8695 - val_loss: 1.0223 - val_accuracy: 0.7322\n",
      "\n",
      "Epoch 00063: val_accuracy did not improve from 0.74387\n",
      "Epoch 64/100\n",
      "410/410 [==============================] - 29s 70ms/step - loss: 0.3254 - accuracy: 0.8646 - val_loss: 1.0280 - val_accuracy: 0.7328\n",
      "\n",
      "Epoch 00064: val_accuracy did not improve from 0.74387\n",
      "Epoch 65/100\n",
      "410/410 [==============================] - 30s 72ms/step - loss: 0.3355 - accuracy: 0.8634 - val_loss: 0.9853 - val_accuracy: 0.7445\n",
      "\n",
      "Epoch 00065: val_accuracy improved from 0.74387 to 0.74449, saving model to vgg_ag.weights.hdf5\n",
      "Epoch 66/100\n",
      "410/410 [==============================] - 29s 71ms/step - loss: 0.3180 - accuracy: 0.8746 - val_loss: 1.0167 - val_accuracy: 0.7347\n",
      "\n",
      "Epoch 00066: val_accuracy did not improve from 0.74449\n",
      "Epoch 67/100\n",
      "410/410 [==============================] - 31s 75ms/step - loss: 0.3107 - accuracy: 0.8775 - val_loss: 1.0669 - val_accuracy: 0.7322\n",
      "\n",
      "Epoch 00067: val_accuracy did not improve from 0.74449\n",
      "Epoch 68/100\n",
      "410/410 [==============================] - 33s 81ms/step - loss: 0.3298 - accuracy: 0.8674 - val_loss: 1.0347 - val_accuracy: 0.7377\n",
      "\n",
      "Epoch 00068: val_accuracy did not improve from 0.74449\n",
      "Epoch 69/100\n",
      "410/410 [==============================] - 32s 78ms/step - loss: 0.3312 - accuracy: 0.8625 - val_loss: 1.0149 - val_accuracy: 0.7439\n",
      "\n",
      "Epoch 00069: val_accuracy did not improve from 0.74449\n",
      "Epoch 70/100\n",
      "410/410 [==============================] - 34s 83ms/step - loss: 0.3184 - accuracy: 0.8735 - val_loss: 1.0196 - val_accuracy: 0.7426\n",
      "\n",
      "Epoch 00070: val_accuracy did not improve from 0.74449\n",
      "Epoch 71/100\n",
      "410/410 [==============================] - 33s 81ms/step - loss: 0.3173 - accuracy: 0.8711 - val_loss: 1.0357 - val_accuracy: 0.7408\n",
      "\n",
      "Epoch 00071: val_accuracy did not improve from 0.74449\n",
      "Epoch 72/100\n",
      "410/410 [==============================] - 34s 83ms/step - loss: 0.3167 - accuracy: 0.8727 - val_loss: 1.0586 - val_accuracy: 0.7353\n",
      "\n",
      "Epoch 00072: val_accuracy did not improve from 0.74449\n",
      "Epoch 73/100\n",
      "410/410 [==============================] - 34s 84ms/step - loss: 0.3105 - accuracy: 0.8778 - val_loss: 1.0379 - val_accuracy: 0.7402\n",
      "\n",
      "Epoch 00073: val_accuracy did not improve from 0.74449\n",
      "Epoch 74/100\n",
      "410/410 [==============================] - 34s 83ms/step - loss: 0.3183 - accuracy: 0.8743 - val_loss: 1.0560 - val_accuracy: 0.7396\n",
      "\n",
      "Epoch 00074: val_accuracy did not improve from 0.74449\n",
      "Epoch 75/100\n",
      "410/410 [==============================] - 34s 83ms/step - loss: 0.3138 - accuracy: 0.8709 - val_loss: 1.0550 - val_accuracy: 0.7371\n",
      "\n",
      "Epoch 00075: val_accuracy did not improve from 0.74449\n",
      "Epoch 76/100\n",
      "410/410 [==============================] - 35s 85ms/step - loss: 0.3177 - accuracy: 0.8736 - val_loss: 1.0294 - val_accuracy: 0.7426\n",
      "\n",
      "Epoch 00076: val_accuracy did not improve from 0.74449\n",
      "Epoch 77/100\n",
      "410/410 [==============================] - 34s 83ms/step - loss: 0.2950 - accuracy: 0.8822 - val_loss: 1.0714 - val_accuracy: 0.7335\n",
      "\n",
      "Epoch 00077: val_accuracy did not improve from 0.74449\n",
      "Epoch 78/100\n",
      "410/410 [==============================] - 35s 84ms/step - loss: 0.3119 - accuracy: 0.8724 - val_loss: 1.0465 - val_accuracy: 0.7396\n",
      "\n",
      "Epoch 00078: val_accuracy did not improve from 0.74449\n",
      "Epoch 79/100\n",
      "410/410 [==============================] - 34s 83ms/step - loss: 0.3093 - accuracy: 0.8744 - val_loss: 1.1005 - val_accuracy: 0.7439\n",
      "\n",
      "Epoch 00079: val_accuracy did not improve from 0.74449\n",
      "Epoch 80/100\n",
      "410/410 [==============================] - 33s 79ms/step - loss: 0.3132 - accuracy: 0.8717 - val_loss: 1.0571 - val_accuracy: 0.7384\n",
      "\n",
      "Epoch 00080: val_accuracy did not improve from 0.74449\n",
      "Epoch 81/100\n",
      "410/410 [==============================] - 33s 80ms/step - loss: 0.3014 - accuracy: 0.8793 - val_loss: 1.0804 - val_accuracy: 0.7414\n",
      "\n",
      "Epoch 00081: val_accuracy did not improve from 0.74449\n",
      "Epoch 82/100\n",
      "410/410 [==============================] - 32s 79ms/step - loss: 0.2966 - accuracy: 0.8825 - val_loss: 1.0903 - val_accuracy: 0.7433\n",
      "\n",
      "Epoch 00082: val_accuracy did not improve from 0.74449\n",
      "Epoch 83/100\n",
      "410/410 [==============================] - 32s 78ms/step - loss: 0.3114 - accuracy: 0.8704 - val_loss: 1.0913 - val_accuracy: 0.7408\n",
      "\n",
      "Epoch 00083: val_accuracy did not improve from 0.74449\n",
      "Epoch 84/100\n",
      "410/410 [==============================] - 32s 79ms/step - loss: 0.3054 - accuracy: 0.8755 - val_loss: 1.0475 - val_accuracy: 0.7408\n",
      "\n",
      "Epoch 00084: val_accuracy did not improve from 0.74449\n",
      "Epoch 85/100\n",
      "410/410 [==============================] - 31s 76ms/step - loss: 0.2994 - accuracy: 0.8808 - val_loss: 1.0888 - val_accuracy: 0.7396\n",
      "Restoring model weights from the end of the best epoch.\n",
      "\n",
      "Epoch 00085: val_accuracy did not improve from 0.74449\n",
      "Epoch 00085: early stopping\n"
     ]
    }
   ],
   "source": [
    "history_vgg_ag = vgg16_ag.fit(\n",
    "    train_gen_ag\n",
    "    , steps_per_epoch= TRAIN_STEPS\n",
    "    , validation_data=valid_gen\n",
    "    , validation_steps=VAL_STEPS\n",
    "    , epochs= 100\n",
    "    , callbacks= [reduceLR, early_stopping, checkpoint_ag]\n",
    ")"
   ]
  },
  {
   "cell_type": "code",
   "execution_count": 50,
   "id": "1dde4cfb",
   "metadata": {
    "execution": {
     "iopub.execute_input": "2022-11-25T14:38:08.988206Z",
     "iopub.status.busy": "2022-11-25T14:38:08.987728Z",
     "iopub.status.idle": "2022-11-25T14:38:09.194145Z",
     "shell.execute_reply": "2022-11-25T14:38:09.193017Z"
    },
    "papermill": {
     "duration": 2.684555,
     "end_time": "2022-11-25T14:38:09.196750",
     "exception": false,
     "start_time": "2022-11-25T14:38:06.512195",
     "status": "completed"
    },
    "tags": []
   },
   "outputs": [],
   "source": [
    "# save model (recall -> keras.models.load_model('') -> compile)\n",
    "vgg16_ag.save('vgg16_ag.h5')"
   ]
  },
  {
   "cell_type": "markdown",
   "id": "845edb27",
   "metadata": {
    "papermill": {
     "duration": 2.676537,
     "end_time": "2022-11-25T14:38:14.398443",
     "exception": false,
     "start_time": "2022-11-25T14:38:11.721906",
     "status": "completed"
    },
    "tags": []
   },
   "source": [
    "# Compare VGG16 ( non VS aug )"
   ]
  },
  {
   "cell_type": "code",
   "execution_count": 51,
   "id": "af8725b6",
   "metadata": {
    "execution": {
     "iopub.execute_input": "2022-11-25T14:38:19.181232Z",
     "iopub.status.busy": "2022-11-25T14:38:19.180110Z",
     "iopub.status.idle": "2022-11-25T14:38:20.000590Z",
     "shell.execute_reply": "2022-11-25T14:38:19.999619Z"
    },
    "papermill": {
     "duration": 3.202738,
     "end_time": "2022-11-25T14:38:20.003946",
     "exception": false,
     "start_time": "2022-11-25T14:38:16.801208",
     "status": "completed"
    },
    "tags": []
   },
   "outputs": [
    {
     "data": {
      "image/png": "[encoded data removed]",
      "text/plain": [
       "<Figure size 1440x1152 with 4 Axes>"
      ]
     },
     "metadata": {
      "needs_background": "light"
     },
     "output_type": "display_data"
    }
   ],
   "source": [
    "plt.figure(figsize=(20, 16))\n",
    "\n",
    "plt.subplot(2, 2, 1)\n",
    "plt.plot(history_vgg16.history['accuracy'], label='Training Accuracy')\n",
    "plt.plot(history_vgg16.history['val_accuracy'], label='Validation Accuracy')\n",
    "plt.legend(loc='lower right')\n",
    "plt.title('Non-Augmentation Training and Validation Accuracy')\n",
    "\n",
    "plt.subplot(2, 2, 2)\n",
    "plt.plot(history_vgg16.history['loss'], label='Training Loss')\n",
    "plt.plot(history_vgg16.history['val_loss'], label='Validation Loss')\n",
    "plt.legend(loc='upper right')\n",
    "plt.title('Non-Augmentation Training and Validation Loss')\n",
    "\n",
    "plt.subplot(2, 2, 3)\n",
    "plt.plot(history_vgg_ag.history['accuracy'], label='Training Accuracy')\n",
    "plt.plot(history_vgg_ag.history['val_accuracy'], label='Validation Accuracy')\n",
    "plt.legend(loc='lower right')\n",
    "plt.title('Augmentation Training and Validation Accuracy')\n",
    "\n",
    "plt.subplot(2, 2, 4)\n",
    "plt.plot(history_vgg_ag.history['loss'], label='Training Loss')\n",
    "plt.plot(history_vgg_ag.history['val_loss'], label='Validation Loss')\n",
    "plt.legend(loc='upper right')\n",
    "plt.title('Augmentation Training and Validation Loss')\n",
    "\n",
    "plt.show()"
   ]
  },
  {
   "cell_type": "markdown",
   "id": "b6567a9d",
   "metadata": {
    "papermill": {
     "duration": 2.716278,
     "end_time": "2022-11-25T14:38:25.204914",
     "exception": false,
     "start_time": "2022-11-25T14:38:22.488636",
     "status": "completed"
    },
    "tags": []
   },
   "source": [
    "## VGG16 validation matrix"
   ]
  },
  {
   "cell_type": "code",
   "execution_count": 52,
   "id": "47bd0121",
   "metadata": {
    "execution": {
     "iopub.execute_input": "2022-11-25T14:38:30.622929Z",
     "iopub.status.busy": "2022-11-25T14:38:30.622495Z",
     "iopub.status.idle": "2022-11-25T14:38:34.396472Z",
     "shell.execute_reply": "2022-11-25T14:38:34.395447Z"
    },
    "papermill": {
     "duration": 6.729949,
     "end_time": "2022-11-25T14:38:34.399280",
     "exception": false,
     "start_time": "2022-11-25T14:38:27.669331",
     "status": "completed"
    },
    "tags": []
   },
   "outputs": [],
   "source": [
    "y_pred_enc = vgg16.predict(X_valid)        \n",
    "y_pred = [np.argmax(i) for i in y_pred_enc]"
   ]
  },
  {
   "cell_type": "code",
   "execution_count": 53,
   "id": "c52a8d6a",
   "metadata": {
    "execution": {
     "iopub.execute_input": "2022-11-25T14:38:39.386044Z",
     "iopub.status.busy": "2022-11-25T14:38:39.385613Z",
     "iopub.status.idle": "2022-11-25T14:38:39.399713Z",
     "shell.execute_reply": "2022-11-25T14:38:39.398673Z"
    },
    "papermill": {
     "duration": 2.386596,
     "end_time": "2022-11-25T14:38:39.402090",
     "exception": false,
     "start_time": "2022-11-25T14:38:37.015494",
     "status": "completed"
    },
    "tags": []
   },
   "outputs": [
    {
     "data": {
      "text/html": [
       "<div>\n",
       "<style scoped>\n",
       "    .dataframe tbody tr th:only-of-type {\n",
       "        vertical-align: middle;\n",
       "    }\n",
       "\n",
       "    .dataframe tbody tr th {\n",
       "        vertical-align: top;\n",
       "    }\n",
       "\n",
       "    .dataframe thead th {\n",
       "        text-align: right;\n",
       "    }\n",
       "</style>\n",
       "<table border=\"1\" class=\"dataframe\">\n",
       "  <thead>\n",
       "    <tr style=\"text-align: right;\">\n",
       "      <th></th>\n",
       "      <th>Type 1</th>\n",
       "      <th>Type 2</th>\n",
       "      <th>Type 3</th>\n",
       "    </tr>\n",
       "  </thead>\n",
       "  <tbody>\n",
       "    <tr>\n",
       "      <th>Type 1</th>\n",
       "      <td>180</td>\n",
       "      <td>56</td>\n",
       "      <td>52</td>\n",
       "    </tr>\n",
       "    <tr>\n",
       "      <th>Type 2</th>\n",
       "      <td>28</td>\n",
       "      <td>680</td>\n",
       "      <td>162</td>\n",
       "    </tr>\n",
       "    <tr>\n",
       "      <th>Type 3</th>\n",
       "      <td>17</td>\n",
       "      <td>122</td>\n",
       "      <td>346</td>\n",
       "    </tr>\n",
       "  </tbody>\n",
       "</table>\n",
       "</div>"
      ],
      "text/plain": [
       "        Type 1  Type 2  Type 3\n",
       "Type 1     180      56      52\n",
       "Type 2      28     680     162\n",
       "Type 3      17     122     346"
      ]
     },
     "execution_count": 53,
     "metadata": {},
     "output_type": "execute_result"
    }
   ],
   "source": [
    "item = {\n",
    "      0: 'Type 1'\n",
    "    , 1: 'Type 2'\n",
    "    , 2: 'Type 3'\n",
    "}\n",
    "\n",
    "matrix = confusion_matrix(y_valid, y_pred)\n",
    "df = pd.DataFrame(matrix)\n",
    "df.columns = item.values()\n",
    "df.index = item.values()\n",
    "        \n",
    "df"
   ]
  },
  {
   "cell_type": "markdown",
   "id": "0b9892ee",
   "metadata": {
    "papermill": {
     "duration": 2.442329,
     "end_time": "2022-11-25T14:38:44.335591",
     "exception": false,
     "start_time": "2022-11-25T14:38:41.893262",
     "status": "completed"
    },
    "tags": []
   },
   "source": [
    "## VGG16 augmentation validation matrix"
   ]
  },
  {
   "cell_type": "code",
   "execution_count": 54,
   "id": "49e803fc",
   "metadata": {
    "execution": {
     "iopub.execute_input": "2022-11-25T14:38:49.405502Z",
     "iopub.status.busy": "2022-11-25T14:38:49.405140Z",
     "iopub.status.idle": "2022-11-25T14:38:51.760299Z",
     "shell.execute_reply": "2022-11-25T14:38:51.758960Z"
    },
    "papermill": {
     "duration": 4.72803,
     "end_time": "2022-11-25T14:38:51.763630",
     "exception": false,
     "start_time": "2022-11-25T14:38:47.035600",
     "status": "completed"
    },
    "tags": []
   },
   "outputs": [],
   "source": [
    "y_pred_enc = vgg16_ag.predict(X_valid)        \n",
    "y_pred = [np.argmax(i) for i in y_pred_enc]"
   ]
  },
  {
   "cell_type": "code",
   "execution_count": 55,
   "id": "298ade56",
   "metadata": {
    "execution": {
     "iopub.execute_input": "2022-11-25T14:38:56.628452Z",
     "iopub.status.busy": "2022-11-25T14:38:56.628084Z",
     "iopub.status.idle": "2022-11-25T14:38:56.642134Z",
     "shell.execute_reply": "2022-11-25T14:38:56.641097Z"
    },
    "papermill": {
     "duration": 2.446198,
     "end_time": "2022-11-25T14:38:56.644195",
     "exception": false,
     "start_time": "2022-11-25T14:38:54.197997",
     "status": "completed"
    },
    "tags": []
   },
   "outputs": [
    {
     "data": {
      "text/html": [
       "<div>\n",
       "<style scoped>\n",
       "    .dataframe tbody tr th:only-of-type {\n",
       "        vertical-align: middle;\n",
       "    }\n",
       "\n",
       "    .dataframe tbody tr th {\n",
       "        vertical-align: top;\n",
       "    }\n",
       "\n",
       "    .dataframe thead th {\n",
       "        text-align: right;\n",
       "    }\n",
       "</style>\n",
       "<table border=\"1\" class=\"dataframe\">\n",
       "  <thead>\n",
       "    <tr style=\"text-align: right;\">\n",
       "      <th></th>\n",
       "      <th>Type 1</th>\n",
       "      <th>Type 2</th>\n",
       "      <th>Type 3</th>\n",
       "    </tr>\n",
       "  </thead>\n",
       "  <tbody>\n",
       "    <tr>\n",
       "      <th>Type 1</th>\n",
       "      <td>190</td>\n",
       "      <td>55</td>\n",
       "      <td>43</td>\n",
       "    </tr>\n",
       "    <tr>\n",
       "      <th>Type 2</th>\n",
       "      <td>38</td>\n",
       "      <td>707</td>\n",
       "      <td>125</td>\n",
       "    </tr>\n",
       "    <tr>\n",
       "      <th>Type 3</th>\n",
       "      <td>17</td>\n",
       "      <td>143</td>\n",
       "      <td>325</td>\n",
       "    </tr>\n",
       "  </tbody>\n",
       "</table>\n",
       "</div>"
      ],
      "text/plain": [
       "        Type 1  Type 2  Type 3\n",
       "Type 1     190      55      43\n",
       "Type 2      38     707     125\n",
       "Type 3      17     143     325"
      ]
     },
     "execution_count": 55,
     "metadata": {},
     "output_type": "execute_result"
    }
   ],
   "source": [
    "item = {\n",
    "      0: 'Type 1'\n",
    "    , 1: 'Type 2'\n",
    "    , 2: 'Type 3'\n",
    "}\n",
    "\n",
    "matrix = confusion_matrix(y_valid, y_pred)\n",
    "df = pd.DataFrame(matrix)\n",
    "df.columns = item.values()\n",
    "df.index = item.values()\n",
    "        \n",
    "df"
   ]
  },
  {
   "cell_type": "markdown",
   "id": "4d2a098b",
   "metadata": {
    "papermill": {
     "duration": 2.835132,
     "end_time": "2022-11-25T14:39:02.433856",
     "exception": false,
     "start_time": "2022-11-25T14:38:59.598724",
     "status": "completed"
    },
    "tags": []
   },
   "source": [
    "## VGG16 (224) -> failed (ram)"
   ]
  },
  {
   "cell_type": "code",
   "execution_count": 56,
   "id": "66c2c4a9",
   "metadata": {
    "execution": {
     "iopub.execute_input": "2022-11-25T14:39:07.232312Z",
     "iopub.status.busy": "2022-11-25T14:39:07.231934Z",
     "iopub.status.idle": "2022-11-25T14:39:07.236182Z",
     "shell.execute_reply": "2022-11-25T14:39:07.235159Z"
    },
    "papermill": {
     "duration": 2.381022,
     "end_time": "2022-11-25T14:39:07.238339",
     "exception": false,
     "start_time": "2022-11-25T14:39:04.857317",
     "status": "completed"
    },
    "tags": []
   },
   "outputs": [],
   "source": [
    "# Build base model\n",
    "#base_224 = VGG16(input_shape = (224, 224, 3)\n",
    "#                   , weights = 'imagenet')"
   ]
  },
  {
   "cell_type": "code",
   "execution_count": 57,
   "id": "a3e64301",
   "metadata": {
    "execution": {
     "iopub.execute_input": "2022-11-25T14:39:11.901844Z",
     "iopub.status.busy": "2022-11-25T14:39:11.901471Z",
     "iopub.status.idle": "2022-11-25T14:39:11.905912Z",
     "shell.execute_reply": "2022-11-25T14:39:11.904860Z"
    },
    "papermill": {
     "duration": 2.337402,
     "end_time": "2022-11-25T14:39:11.908301",
     "exception": false,
     "start_time": "2022-11-25T14:39:09.570899",
     "status": "completed"
    },
    "tags": []
   },
   "outputs": [],
   "source": [
    "# show trainable layers before freezing\n",
    "#print('This is the number of trainable weights '\n",
    "#'before freezing layers in the conv base:', len(base_224.trainable_weights))"
   ]
  },
  {
   "cell_type": "code",
   "execution_count": 58,
   "id": "f24dfb45",
   "metadata": {
    "execution": {
     "iopub.execute_input": "2022-11-25T14:39:16.663799Z",
     "iopub.status.busy": "2022-11-25T14:39:16.663433Z",
     "iopub.status.idle": "2022-11-25T14:39:16.668027Z",
     "shell.execute_reply": "2022-11-25T14:39:16.667110Z"
    },
    "papermill": {
     "duration": 2.377167,
     "end_time": "2022-11-25T14:39:16.670032",
     "exception": false,
     "start_time": "2022-11-25T14:39:14.292865",
     "status": "completed"
    },
    "tags": []
   },
   "outputs": [],
   "source": [
    "# do not train all layers (freezing few layers of pretrained model)\n",
    "#for layer in base_224.layers[:-3]:\n",
    "#    layer.trainable = False"
   ]
  },
  {
   "cell_type": "code",
   "execution_count": 59,
   "id": "20435bc0",
   "metadata": {
    "execution": {
     "iopub.execute_input": "2022-11-25T14:39:21.395965Z",
     "iopub.status.busy": "2022-11-25T14:39:21.395570Z",
     "iopub.status.idle": "2022-11-25T14:39:21.399695Z",
     "shell.execute_reply": "2022-11-25T14:39:21.398731Z"
    },
    "papermill": {
     "duration": 2.313894,
     "end_time": "2022-11-25T14:39:21.401721",
     "exception": false,
     "start_time": "2022-11-25T14:39:19.087827",
     "status": "completed"
    },
    "tags": []
   },
   "outputs": [],
   "source": [
    "# show trainable layers after freezing\n",
    "#print('This is the number of trainable weights '\n",
    "#'after freezing layers in the conv base:', len(base_224.trainable_weights))"
   ]
  },
  {
   "cell_type": "code",
   "execution_count": 60,
   "id": "4bf78af6",
   "metadata": {
    "execution": {
     "iopub.execute_input": "2022-11-25T14:39:26.116844Z",
     "iopub.status.busy": "2022-11-25T14:39:26.116475Z",
     "iopub.status.idle": "2022-11-25T14:39:26.120979Z",
     "shell.execute_reply": "2022-11-25T14:39:26.120028Z"
    },
    "papermill": {
     "duration": 2.374656,
     "end_time": "2022-11-25T14:39:26.122966",
     "exception": false,
     "start_time": "2022-11-25T14:39:23.748310",
     "status": "completed"
    },
    "tags": []
   },
   "outputs": [],
   "source": [
    "# Flatten the output layer to 1 dimension\n",
    "#vgg16_224 = Sequential([\n",
    "#                    base_224\n",
    "#                    , Flatten()\n",
    "#                    , Dense(256, activation = 'relu')\n",
    "#                    , Dropout(0.5)\n",
    "#                    , Dense(3, activation = 'softmax')\n",
    "#])\n",
    "#\n",
    "#vgg16_224.summary()"
   ]
  },
  {
   "cell_type": "code",
   "execution_count": 61,
   "id": "963f132b",
   "metadata": {
    "execution": {
     "iopub.execute_input": "2022-11-25T14:39:30.903517Z",
     "iopub.status.busy": "2022-11-25T14:39:30.903157Z",
     "iopub.status.idle": "2022-11-25T14:39:30.907895Z",
     "shell.execute_reply": "2022-11-25T14:39:30.906887Z"
    },
    "papermill": {
     "duration": 2.391237,
     "end_time": "2022-11-25T14:39:30.909939",
     "exception": false,
     "start_time": "2022-11-25T14:39:28.518702",
     "status": "completed"
    },
    "tags": []
   },
   "outputs": [],
   "source": [
    "#vgg16_224.compile(\n",
    "#    optimizer = Adam(0.0001)\n",
    "#    , loss = 'sparse_categorical_crossentropy'\n",
    "#    , metrics = ['accuracy']\n",
    "#)"
   ]
  },
  {
   "cell_type": "code",
   "execution_count": 62,
   "id": "6c7dc4b2",
   "metadata": {
    "execution": {
     "iopub.execute_input": "2022-11-25T14:39:36.181935Z",
     "iopub.status.busy": "2022-11-25T14:39:36.181008Z",
     "iopub.status.idle": "2022-11-25T14:39:36.185415Z",
     "shell.execute_reply": "2022-11-25T14:39:36.184454Z"
    },
    "papermill": {
     "duration": 2.353865,
     "end_time": "2022-11-25T14:39:36.187326",
     "exception": false,
     "start_time": "2022-11-25T14:39:33.833461",
     "status": "completed"
    },
    "tags": []
   },
   "outputs": [],
   "source": [
    "# define training steps\n",
    "#BATCH_SIZE = 16\n",
    "#TRAIN_STEPS = len(train_df)//BATCH_SIZE\n",
    "#VAL_STEPS = len(valid_df)//BATCH_SIZE"
   ]
  },
  {
   "cell_type": "code",
   "execution_count": 63,
   "id": "caf832eb",
   "metadata": {
    "execution": {
     "iopub.execute_input": "2022-11-25T14:39:41.167277Z",
     "iopub.status.busy": "2022-11-25T14:39:41.166860Z",
     "iopub.status.idle": "2022-11-25T14:39:41.171490Z",
     "shell.execute_reply": "2022-11-25T14:39:41.170383Z"
    },
    "papermill": {
     "duration": 2.622343,
     "end_time": "2022-11-25T14:39:41.173783",
     "exception": false,
     "start_time": "2022-11-25T14:39:38.551440",
     "status": "completed"
    },
    "tags": []
   },
   "outputs": [],
   "source": [
    "# initialize callbacks\n",
    "#reduceLR = ReduceLROnPlateau(monitor='val_accuracy', patience=10, verbose= 1, mode='max', factor=  0.2, min_lr = 1e-5)\n",
    "\n",
    "#early_stopping = EarlyStopping(monitor='val_accuracy', patience = 20, verbose=1, mode='max', restore_best_weights= True)\n",
    "\n",
    "#checkpoint = ModelCheckpoint('vgg16_224.weights.hdf5', monitor='val_accuracy', verbose=1,save_best_only=True, mode= 'max')"
   ]
  },
  {
   "cell_type": "code",
   "execution_count": 64,
   "id": "80857ca5",
   "metadata": {
    "execution": {
     "iopub.execute_input": "2022-11-25T14:39:45.885602Z",
     "iopub.status.busy": "2022-11-25T14:39:45.885234Z",
     "iopub.status.idle": "2022-11-25T14:39:45.890223Z",
     "shell.execute_reply": "2022-11-25T14:39:45.889240Z"
    },
    "papermill": {
     "duration": 2.317661,
     "end_time": "2022-11-25T14:39:45.892332",
     "exception": false,
     "start_time": "2022-11-25T14:39:43.574671",
     "status": "completed"
    },
    "tags": []
   },
   "outputs": [],
   "source": [
    "# 터짐\n",
    "# train model\n",
    "\n",
    "# Non-augmentation\n",
    "#train_gen = ImageDataGenerator().flow(X_train, y_train, batch_size = BATCH_SIZE)\n",
    "#valid_gen = ImageDataGenerator().flow(X_valid, y_valid, batch_size = BATCH_SIZE)\n",
    "\n",
    "#history_vgg16_224 = vgg16_224.fit(\n",
    "#    train_gen\n",
    "#    , steps_per_epoch = TRAIN_STEPS\n",
    "#    , validation_data = valid_gen\n",
    "#    , epochs = 100\n",
    "#    , callbacks = [reduceLR, early_stopping, checkpoint]\n",
    "#)"
   ]
  },
  {
   "cell_type": "code",
   "execution_count": 65,
   "id": "8f43e040",
   "metadata": {
    "execution": {
     "iopub.execute_input": "2022-11-25T14:39:50.995437Z",
     "iopub.status.busy": "2022-11-25T14:39:50.995063Z",
     "iopub.status.idle": "2022-11-25T14:39:50.999924Z",
     "shell.execute_reply": "2022-11-25T14:39:50.998917Z"
    },
    "papermill": {
     "duration": 2.668123,
     "end_time": "2022-11-25T14:39:51.002237",
     "exception": false,
     "start_time": "2022-11-25T14:39:48.334114",
     "status": "completed"
    },
    "tags": []
   },
   "outputs": [],
   "source": [
    "#plt.figure(figsize=(15, 5))\n",
    "\n",
    "#plt.subplot(1, 2, 1)\n",
    "#plt.plot(history_vgg16_224.history['accuracy'], label='Training Accuracy')\n",
    "#plt.plot(history_vgg16_224.history['val_accuracy'], label='Validation Accuracy')\n",
    "#plt.legend(loc='lower right')\n",
    "#plt.title('Training and Validation Accuracy')\n",
    "\n",
    "#plt.subplot(1, 2, 2)\n",
    "#plt.plot(history_vgg16_224.history['loss'], label='Training Loss')\n",
    "#plt.plot(history_vgg16_224.history['val_loss'], label='Validation Loss')\n",
    "#plt.legend(loc='upper right')\n",
    "#plt.title('Training and Validation Loss')\n",
    "\n",
    "#plt.show()"
   ]
  },
  {
   "cell_type": "markdown",
   "id": "40ea54f6",
   "metadata": {
    "papermill": {
     "duration": 2.394921,
     "end_time": "2022-11-25T14:39:55.746743",
     "exception": false,
     "start_time": "2022-11-25T14:39:53.351822",
     "status": "completed"
    },
    "tags": []
   },
   "source": [
    "## Resnet50 pretrained"
   ]
  },
  {
   "cell_type": "code",
   "execution_count": 66,
   "id": "9d70db27",
   "metadata": {
    "execution": {
     "iopub.execute_input": "2022-11-25T14:40:00.544727Z",
     "iopub.status.busy": "2022-11-25T14:40:00.544324Z",
     "iopub.status.idle": "2022-11-25T14:40:02.882113Z",
     "shell.execute_reply": "2022-11-25T14:40:02.880134Z"
    },
    "papermill": {
     "duration": 4.753118,
     "end_time": "2022-11-25T14:40:02.885333",
     "exception": false,
     "start_time": "2022-11-25T14:39:58.132215",
     "status": "completed"
    },
    "tags": []
   },
   "outputs": [
    {
     "name": "stdout",
     "output_type": "stream",
     "text": [
      "Downloading data from https://storage.googleapis.com/tensorflow/keras-applications/resnet/resnet50_weights_tf_dim_ordering_tf_kernels_notop.h5\n",
      "94773248/94765736 [==============================] - 1s 0us/step\n",
      "94781440/94765736 [==============================] - 1s 0us/step\n",
      "Model: \"sequential_2\"\n",
      "_________________________________________________________________\n",
      "Layer (type)                 Output Shape              Param #   \n",
      "=================================================================\n",
      "resnet50 (Functional)        (None, 2048)              23587712  \n",
      "_________________________________________________________________\n",
      "flatten_2 (Flatten)          (None, 2048)              0         \n",
      "_________________________________________________________________\n",
      "batch_normalization (BatchNo (None, 2048)              8192      \n",
      "_________________________________________________________________\n",
      "dense_4 (Dense)              (None, 512)               1049088   \n",
      "_________________________________________________________________\n",
      "batch_normalization_1 (Batch (None, 512)               2048      \n",
      "_________________________________________________________________\n",
      "dense_5 (Dense)              (None, 256)               131328    \n",
      "_________________________________________________________________\n",
      "batch_normalization_2 (Batch (None, 256)               1024      \n",
      "_________________________________________________________________\n",
      "dense_6 (Dense)              (None, 3)                 771       \n",
      "=================================================================\n",
      "Total params: 24,780,163\n",
      "Trainable params: 1,186,819\n",
      "Non-trainable params: 23,593,344\n",
      "_________________________________________________________________\n"
     ]
    }
   ],
   "source": [
    "resnet50 = Sequential([\n",
    "    ResNet50(input_shape = (128,128,3) ,include_top = False, pooling = 'avg')\n",
    "    , Flatten()\n",
    "    , BatchNormalization()\n",
    "    , Dense(512, activation = 'relu')\n",
    "    , BatchNormalization()\n",
    "    , Dense(256, activation = 'relu')\n",
    "    , BatchNormalization()\n",
    "    , Dense(3, activation = 'softmax')\n",
    "])\n",
    "resnet50.layers[0].trainable = False\n",
    "\n",
    "resnet50.summary()"
   ]
  },
  {
   "cell_type": "code",
   "execution_count": 67,
   "id": "9c8e29db",
   "metadata": {
    "execution": {
     "iopub.execute_input": "2022-11-25T14:40:08.168439Z",
     "iopub.status.busy": "2022-11-25T14:40:08.168071Z",
     "iopub.status.idle": "2022-11-25T14:40:08.180119Z",
     "shell.execute_reply": "2022-11-25T14:40:08.179247Z"
    },
    "papermill": {
     "duration": 2.378077,
     "end_time": "2022-11-25T14:40:08.182550",
     "exception": false,
     "start_time": "2022-11-25T14:40:05.804473",
     "status": "completed"
    },
    "tags": []
   },
   "outputs": [],
   "source": [
    "resnet50.compile(\n",
    "    optimizer = 'adam'\n",
    "    , loss = 'sparse_categorical_crossentropy'\n",
    "    , metrics = ['accuracy']\n",
    ")"
   ]
  },
  {
   "cell_type": "code",
   "execution_count": 68,
   "id": "54a15b7f",
   "metadata": {
    "execution": {
     "iopub.execute_input": "2022-11-25T14:40:13.190930Z",
     "iopub.status.busy": "2022-11-25T14:40:13.190330Z",
     "iopub.status.idle": "2022-11-25T14:40:13.198566Z",
     "shell.execute_reply": "2022-11-25T14:40:13.197558Z"
    },
    "papermill": {
     "duration": 2.668032,
     "end_time": "2022-11-25T14:40:13.200993",
     "exception": false,
     "start_time": "2022-11-25T14:40:10.532961",
     "status": "completed"
    },
    "tags": []
   },
   "outputs": [],
   "source": [
    "# initialize callbacks\n",
    "reduceLR = ReduceLROnPlateau(monitor='val_accuracy', patience=10, verbose= 1, mode='max', factor=  0.2, min_lr = 1e-5)\n",
    "\n",
    "early_stopping = EarlyStopping(monitor='val_accuracy', patience = 20, verbose= 1, mode='max', restore_best_weights= True)\n",
    "\n",
    "checkpoint = ModelCheckpoint('resnet50.weights.hdf5', monitor='val_accuracy', verbose= 1,save_best_only=True, mode= 'max')"
   ]
  },
  {
   "cell_type": "code",
   "execution_count": 69,
   "id": "f7daf75f",
   "metadata": {
    "execution": {
     "iopub.execute_input": "2022-11-25T14:40:17.916261Z",
     "iopub.status.busy": "2022-11-25T14:40:17.915771Z",
     "iopub.status.idle": "2022-11-25T14:54:48.682611Z",
     "shell.execute_reply": "2022-11-25T14:54:48.681556Z"
    },
    "papermill": {
     "duration": 873.120519,
     "end_time": "2022-11-25T14:54:48.685004",
     "exception": false,
     "start_time": "2022-11-25T14:40:15.564485",
     "status": "completed"
    },
    "tags": []
   },
   "outputs": [
    {
     "name": "stdout",
     "output_type": "stream",
     "text": [
      "Epoch 1/100\n",
      "410/410 [==============================] - 15s 29ms/step - loss: 1.1107 - accuracy: 0.4873 - val_loss: 0.9755 - val_accuracy: 0.5344\n",
      "\n",
      "Epoch 00001: val_accuracy improved from -inf to 0.53439, saving model to resnet50.weights.hdf5\n",
      "Epoch 2/100\n",
      "410/410 [==============================] - 11s 27ms/step - loss: 0.9747 - accuracy: 0.5311 - val_loss: 1.0231 - val_accuracy: 0.5344\n",
      "\n",
      "Epoch 00002: val_accuracy did not improve from 0.53439\n",
      "Epoch 3/100\n",
      "410/410 [==============================] - 11s 26ms/step - loss: 0.9581 - accuracy: 0.5370 - val_loss: 1.0045 - val_accuracy: 0.5125\n",
      "\n",
      "Epoch 00003: val_accuracy did not improve from 0.53439\n",
      "Epoch 4/100\n",
      "410/410 [==============================] - 11s 26ms/step - loss: 0.9381 - accuracy: 0.5565 - val_loss: 1.0274 - val_accuracy: 0.5307\n",
      "\n",
      "Epoch 00004: val_accuracy did not improve from 0.53439\n",
      "Epoch 5/100\n",
      "410/410 [==============================] - 11s 27ms/step - loss: 0.9192 - accuracy: 0.5634 - val_loss: 0.9799 - val_accuracy: 0.5502\n",
      "\n",
      "Epoch 00005: val_accuracy improved from 0.53439 to 0.55021, saving model to resnet50.weights.hdf5\n",
      "Epoch 6/100\n",
      "410/410 [==============================] - 11s 26ms/step - loss: 0.9009 - accuracy: 0.5741 - val_loss: 0.9772 - val_accuracy: 0.5484\n",
      "\n",
      "Epoch 00006: val_accuracy did not improve from 0.55021\n",
      "Epoch 7/100\n",
      "410/410 [==============================] - 11s 27ms/step - loss: 0.8859 - accuracy: 0.5846 - val_loss: 0.9724 - val_accuracy: 0.5386\n",
      "\n",
      "Epoch 00007: val_accuracy did not improve from 0.55021\n",
      "Epoch 8/100\n",
      "410/410 [==============================] - 11s 26ms/step - loss: 0.8607 - accuracy: 0.5965 - val_loss: 1.0541 - val_accuracy: 0.5283\n",
      "\n",
      "Epoch 00008: val_accuracy did not improve from 0.55021\n",
      "Epoch 9/100\n",
      "410/410 [==============================] - 11s 27ms/step - loss: 0.8488 - accuracy: 0.6028 - val_loss: 1.0125 - val_accuracy: 0.5356\n",
      "\n",
      "Epoch 00009: val_accuracy did not improve from 0.55021\n",
      "Epoch 10/100\n",
      "410/410 [==============================] - 11s 26ms/step - loss: 0.8282 - accuracy: 0.6090 - val_loss: 0.9953 - val_accuracy: 0.5356\n",
      "\n",
      "Epoch 00010: val_accuracy did not improve from 0.55021\n",
      "Epoch 11/100\n",
      "410/410 [==============================] - 11s 28ms/step - loss: 0.8087 - accuracy: 0.6252 - val_loss: 0.9791 - val_accuracy: 0.5600\n",
      "\n",
      "Epoch 00011: val_accuracy improved from 0.55021 to 0.55995, saving model to resnet50.weights.hdf5\n",
      "Epoch 12/100\n",
      "410/410 [==============================] - 11s 26ms/step - loss: 0.7897 - accuracy: 0.6370 - val_loss: 1.1137 - val_accuracy: 0.5277\n",
      "\n",
      "Epoch 00012: val_accuracy did not improve from 0.55995\n",
      "Epoch 13/100\n",
      "410/410 [==============================] - 11s 26ms/step - loss: 0.7607 - accuracy: 0.6571 - val_loss: 1.0093 - val_accuracy: 0.5575\n",
      "\n",
      "Epoch 00013: val_accuracy did not improve from 0.55995\n",
      "Epoch 14/100\n",
      "410/410 [==============================] - 11s 27ms/step - loss: 0.7377 - accuracy: 0.6675 - val_loss: 1.1105 - val_accuracy: 0.5441\n",
      "\n",
      "Epoch 00014: val_accuracy did not improve from 0.55995\n",
      "Epoch 15/100\n",
      "410/410 [==============================] - 11s 26ms/step - loss: 0.7336 - accuracy: 0.6673 - val_loss: 1.0956 - val_accuracy: 0.5496\n",
      "\n",
      "Epoch 00015: val_accuracy did not improve from 0.55995\n",
      "Epoch 16/100\n",
      "410/410 [==============================] - 11s 27ms/step - loss: 0.6975 - accuracy: 0.6856 - val_loss: 1.1279 - val_accuracy: 0.5441\n",
      "\n",
      "Epoch 00016: val_accuracy did not improve from 0.55995\n",
      "Epoch 17/100\n",
      "410/410 [==============================] - 11s 26ms/step - loss: 0.6826 - accuracy: 0.6896 - val_loss: 1.0823 - val_accuracy: 0.5587\n",
      "\n",
      "Epoch 00017: val_accuracy did not improve from 0.55995\n",
      "Epoch 18/100\n",
      "410/410 [==============================] - 11s 26ms/step - loss: 0.6613 - accuracy: 0.7030 - val_loss: 1.1385 - val_accuracy: 0.5508\n",
      "\n",
      "Epoch 00018: val_accuracy did not improve from 0.55995\n",
      "Epoch 19/100\n",
      "410/410 [==============================] - 11s 27ms/step - loss: 0.6460 - accuracy: 0.7111 - val_loss: 1.1322 - val_accuracy: 0.5186\n",
      "\n",
      "Epoch 00019: val_accuracy did not improve from 0.55995\n",
      "Epoch 20/100\n",
      "410/410 [==============================] - 11s 26ms/step - loss: 0.6223 - accuracy: 0.7258 - val_loss: 1.1429 - val_accuracy: 0.5405\n",
      "\n",
      "Epoch 00020: val_accuracy did not improve from 0.55995\n",
      "Epoch 21/100\n",
      "410/410 [==============================] - 11s 27ms/step - loss: 0.6018 - accuracy: 0.7363 - val_loss: 1.1932 - val_accuracy: 0.5490\n",
      "\n",
      "Epoch 00021: ReduceLROnPlateau reducing learning rate to 0.00020000000949949026.\n",
      "\n",
      "Epoch 00021: val_accuracy did not improve from 0.55995\n",
      "Epoch 22/100\n",
      "410/410 [==============================] - 11s 26ms/step - loss: 0.5160 - accuracy: 0.7848 - val_loss: 1.1095 - val_accuracy: 0.5813\n",
      "\n",
      "Epoch 00022: val_accuracy improved from 0.55995 to 0.58125, saving model to resnet50.weights.hdf5\n",
      "Epoch 23/100\n",
      "410/410 [==============================] - 11s 26ms/step - loss: 0.4716 - accuracy: 0.8056 - val_loss: 1.1906 - val_accuracy: 0.5636\n",
      "\n",
      "Epoch 00023: val_accuracy did not improve from 0.58125\n",
      "Epoch 24/100\n",
      "410/410 [==============================] - 11s 27ms/step - loss: 0.4701 - accuracy: 0.8039 - val_loss: 1.1985 - val_accuracy: 0.5776\n",
      "\n",
      "Epoch 00024: val_accuracy did not improve from 0.58125\n",
      "Epoch 25/100\n",
      "410/410 [==============================] - 11s 27ms/step - loss: 0.4393 - accuracy: 0.8179 - val_loss: 1.2391 - val_accuracy: 0.5861\n",
      "\n",
      "Epoch 00025: val_accuracy improved from 0.58125 to 0.58612, saving model to resnet50.weights.hdf5\n",
      "Epoch 26/100\n",
      "410/410 [==============================] - 11s 27ms/step - loss: 0.4256 - accuracy: 0.8224 - val_loss: 1.2701 - val_accuracy: 0.5873\n",
      "\n",
      "Epoch 00026: val_accuracy improved from 0.58612 to 0.58734, saving model to resnet50.weights.hdf5\n",
      "Epoch 27/100\n",
      "410/410 [==============================] - 11s 27ms/step - loss: 0.4246 - accuracy: 0.8175 - val_loss: 1.2870 - val_accuracy: 0.5806\n",
      "\n",
      "Epoch 00027: val_accuracy did not improve from 0.58734\n",
      "Epoch 28/100\n",
      "410/410 [==============================] - 11s 27ms/step - loss: 0.4139 - accuracy: 0.8263 - val_loss: 1.2951 - val_accuracy: 0.5843\n",
      "\n",
      "Epoch 00028: val_accuracy did not improve from 0.58734\n",
      "Epoch 29/100\n",
      "410/410 [==============================] - 11s 26ms/step - loss: 0.4067 - accuracy: 0.8300 - val_loss: 1.3079 - val_accuracy: 0.5855\n",
      "\n",
      "Epoch 00029: val_accuracy did not improve from 0.58734\n",
      "Epoch 30/100\n",
      "410/410 [==============================] - 12s 29ms/step - loss: 0.3991 - accuracy: 0.8335 - val_loss: 1.3123 - val_accuracy: 0.5886\n",
      "\n",
      "Epoch 00030: val_accuracy improved from 0.58734 to 0.58856, saving model to resnet50.weights.hdf5\n",
      "Epoch 31/100\n",
      "410/410 [==============================] - 11s 26ms/step - loss: 0.3805 - accuracy: 0.8366 - val_loss: 1.3332 - val_accuracy: 0.5879\n",
      "\n",
      "Epoch 00031: val_accuracy did not improve from 0.58856\n",
      "Epoch 32/100\n",
      "410/410 [==============================] - 11s 26ms/step - loss: 0.3783 - accuracy: 0.8447 - val_loss: 1.3522 - val_accuracy: 0.5892\n",
      "\n",
      "Epoch 00032: val_accuracy improved from 0.58856 to 0.58917, saving model to resnet50.weights.hdf5\n",
      "Epoch 33/100\n",
      "410/410 [==============================] - 11s 28ms/step - loss: 0.3764 - accuracy: 0.8442 - val_loss: 1.3717 - val_accuracy: 0.5800\n",
      "\n",
      "Epoch 00033: val_accuracy did not improve from 0.58917\n",
      "Epoch 34/100\n",
      "410/410 [==============================] - 10s 26ms/step - loss: 0.3643 - accuracy: 0.8463 - val_loss: 1.3838 - val_accuracy: 0.5843\n",
      "\n",
      "Epoch 00034: val_accuracy did not improve from 0.58917\n",
      "Epoch 35/100\n",
      "410/410 [==============================] - 11s 27ms/step - loss: 0.3546 - accuracy: 0.8514 - val_loss: 1.4144 - val_accuracy: 0.5806\n",
      "\n",
      "Epoch 00035: val_accuracy did not improve from 0.58917\n",
      "Epoch 36/100\n",
      "410/410 [==============================] - 11s 26ms/step - loss: 0.3537 - accuracy: 0.8567 - val_loss: 1.4196 - val_accuracy: 0.5746\n",
      "\n",
      "Epoch 00036: val_accuracy did not improve from 0.58917\n",
      "Epoch 37/100\n",
      "410/410 [==============================] - 11s 26ms/step - loss: 0.3563 - accuracy: 0.8576 - val_loss: 1.4227 - val_accuracy: 0.5813\n",
      "\n",
      "Epoch 00037: val_accuracy did not improve from 0.58917\n",
      "Epoch 38/100\n",
      "410/410 [==============================] - 11s 26ms/step - loss: 0.3511 - accuracy: 0.8564 - val_loss: 1.4566 - val_accuracy: 0.5873\n",
      "\n",
      "Epoch 00038: val_accuracy did not improve from 0.58917\n",
      "Epoch 39/100\n",
      "410/410 [==============================] - 11s 27ms/step - loss: 0.3330 - accuracy: 0.8595 - val_loss: 1.5033 - val_accuracy: 0.5660\n",
      "\n",
      "Epoch 00039: val_accuracy did not improve from 0.58917\n",
      "Epoch 40/100\n",
      "410/410 [==============================] - 11s 27ms/step - loss: 0.3281 - accuracy: 0.8654 - val_loss: 1.4321 - val_accuracy: 0.5867\n",
      "\n",
      "Epoch 00040: val_accuracy did not improve from 0.58917\n",
      "Epoch 41/100\n",
      "410/410 [==============================] - 11s 27ms/step - loss: 0.3222 - accuracy: 0.8694 - val_loss: 1.4841 - val_accuracy: 0.5758\n",
      "\n",
      "Epoch 00041: val_accuracy did not improve from 0.58917\n",
      "Epoch 42/100\n",
      "410/410 [==============================] - 11s 27ms/step - loss: 0.3248 - accuracy: 0.8613 - val_loss: 1.5028 - val_accuracy: 0.5855\n",
      "\n",
      "Epoch 00042: ReduceLROnPlateau reducing learning rate to 4.0000001899898055e-05.\n",
      "\n",
      "Epoch 00042: val_accuracy did not improve from 0.58917\n",
      "Epoch 43/100\n",
      "410/410 [==============================] - 11s 27ms/step - loss: 0.3029 - accuracy: 0.8758 - val_loss: 1.5331 - val_accuracy: 0.5819\n",
      "\n",
      "Epoch 00043: val_accuracy did not improve from 0.58917\n",
      "Epoch 44/100\n",
      "410/410 [==============================] - 11s 26ms/step - loss: 0.3089 - accuracy: 0.8772 - val_loss: 1.5203 - val_accuracy: 0.5813\n",
      "\n",
      "Epoch 00044: val_accuracy did not improve from 0.58917\n",
      "Epoch 45/100\n",
      "410/410 [==============================] - 11s 26ms/step - loss: 0.2918 - accuracy: 0.8794 - val_loss: 1.5054 - val_accuracy: 0.5819\n",
      "\n",
      "Epoch 00045: val_accuracy did not improve from 0.58917\n",
      "Epoch 46/100\n",
      "410/410 [==============================] - 11s 27ms/step - loss: 0.2944 - accuracy: 0.8834 - val_loss: 1.4996 - val_accuracy: 0.5782\n",
      "\n",
      "Epoch 00046: val_accuracy did not improve from 0.58917\n",
      "Epoch 47/100\n",
      "410/410 [==============================] - 11s 28ms/step - loss: 0.2938 - accuracy: 0.8805 - val_loss: 1.5358 - val_accuracy: 0.5843\n",
      "\n",
      "Epoch 00047: val_accuracy did not improve from 0.58917\n",
      "Epoch 48/100\n",
      "410/410 [==============================] - 11s 26ms/step - loss: 0.2984 - accuracy: 0.8784 - val_loss: 1.5175 - val_accuracy: 0.5879\n",
      "\n",
      "Epoch 00048: val_accuracy did not improve from 0.58917\n",
      "Epoch 49/100\n",
      "410/410 [==============================] - 11s 27ms/step - loss: 0.2909 - accuracy: 0.8805 - val_loss: 1.5226 - val_accuracy: 0.5831\n",
      "\n",
      "Epoch 00049: val_accuracy did not improve from 0.58917\n",
      "Epoch 50/100\n",
      "410/410 [==============================] - 11s 26ms/step - loss: 0.2848 - accuracy: 0.8880 - val_loss: 1.5333 - val_accuracy: 0.5843\n",
      "\n",
      "Epoch 00050: val_accuracy did not improve from 0.58917\n",
      "Epoch 51/100\n",
      "410/410 [==============================] - 11s 27ms/step - loss: 0.2876 - accuracy: 0.8837 - val_loss: 1.5327 - val_accuracy: 0.5806\n",
      "\n",
      "Epoch 00051: val_accuracy did not improve from 0.58917\n",
      "Epoch 52/100\n",
      "410/410 [==============================] - 11s 26ms/step - loss: 0.2852 - accuracy: 0.8881 - val_loss: 1.5221 - val_accuracy: 0.5892\n",
      "\n",
      "Epoch 00052: ReduceLROnPlateau reducing learning rate to 1e-05.\n",
      "Restoring model weights from the end of the best epoch.\n",
      "\n",
      "Epoch 00052: val_accuracy did not improve from 0.58917\n",
      "Epoch 00052: early stopping\n"
     ]
    }
   ],
   "source": [
    "# Non-augmentation\n",
    "train_gen = ImageDataGenerator().flow(X_train, y_train, batch_size = BATCH_SIZE)\n",
    "valid_gen = ImageDataGenerator().flow(X_valid, y_valid, batch_size = BATCH_SIZE)\n",
    "\n",
    "history_resnet50 = resnet50.fit(\n",
    "    train_gen\n",
    "    , steps_per_epoch = TRAIN_STEPS\n",
    "    , validation_data = valid_gen\n",
    "    , epochs = 100\n",
    "    , callbacks = [reduceLR, early_stopping, checkpoint]\n",
    ")"
   ]
  },
  {
   "cell_type": "code",
   "execution_count": 70,
   "id": "7fc23c62",
   "metadata": {
    "execution": {
     "iopub.execute_input": "2022-11-25T14:54:54.535705Z",
     "iopub.status.busy": "2022-11-25T14:54:54.535345Z",
     "iopub.status.idle": "2022-11-25T14:54:58.623926Z",
     "shell.execute_reply": "2022-11-25T14:54:58.622851Z"
    },
    "papermill": {
     "duration": 7.114632,
     "end_time": "2022-11-25T14:54:58.626815",
     "exception": false,
     "start_time": "2022-11-25T14:54:51.512183",
     "status": "completed"
    },
    "tags": []
   },
   "outputs": [],
   "source": [
    "# save model (recall -> keras.models.load_model('') -> compile)\n",
    "resnet50.save('resnet50.h5')"
   ]
  },
  {
   "cell_type": "markdown",
   "id": "06aa5336",
   "metadata": {
    "papermill": {
     "duration": 3.147924,
     "end_time": "2022-11-25T14:55:04.552038",
     "exception": false,
     "start_time": "2022-11-25T14:55:01.404114",
     "status": "completed"
    },
    "tags": []
   },
   "source": [
    "## ResNet50 pretrained validation matrix"
   ]
  },
  {
   "cell_type": "code",
   "execution_count": 71,
   "id": "80dfd9d7",
   "metadata": {
    "execution": {
     "iopub.execute_input": "2022-11-25T14:55:10.205122Z",
     "iopub.status.busy": "2022-11-25T14:55:10.204738Z",
     "iopub.status.idle": "2022-11-25T14:55:13.249801Z",
     "shell.execute_reply": "2022-11-25T14:55:13.248830Z"
    },
    "papermill": {
     "duration": 5.855038,
     "end_time": "2022-11-25T14:55:13.251928",
     "exception": false,
     "start_time": "2022-11-25T14:55:07.396890",
     "status": "completed"
    },
    "tags": []
   },
   "outputs": [
    {
     "data": {
      "text/html": [
       "<div>\n",
       "<style scoped>\n",
       "    .dataframe tbody tr th:only-of-type {\n",
       "        vertical-align: middle;\n",
       "    }\n",
       "\n",
       "    .dataframe tbody tr th {\n",
       "        vertical-align: top;\n",
       "    }\n",
       "\n",
       "    .dataframe thead th {\n",
       "        text-align: right;\n",
       "    }\n",
       "</style>\n",
       "<table border=\"1\" class=\"dataframe\">\n",
       "  <thead>\n",
       "    <tr style=\"text-align: right;\">\n",
       "      <th></th>\n",
       "      <th>Type 1</th>\n",
       "      <th>Type 2</th>\n",
       "      <th>Type 3</th>\n",
       "    </tr>\n",
       "  </thead>\n",
       "  <tbody>\n",
       "    <tr>\n",
       "      <th>Type 1</th>\n",
       "      <td>124</td>\n",
       "      <td>125</td>\n",
       "      <td>39</td>\n",
       "    </tr>\n",
       "    <tr>\n",
       "      <th>Type 2</th>\n",
       "      <td>100</td>\n",
       "      <td>604</td>\n",
       "      <td>166</td>\n",
       "    </tr>\n",
       "    <tr>\n",
       "      <th>Type 3</th>\n",
       "      <td>42</td>\n",
       "      <td>203</td>\n",
       "      <td>240</td>\n",
       "    </tr>\n",
       "  </tbody>\n",
       "</table>\n",
       "</div>"
      ],
      "text/plain": [
       "        Type 1  Type 2  Type 3\n",
       "Type 1     124     125      39\n",
       "Type 2     100     604     166\n",
       "Type 3      42     203     240"
      ]
     },
     "execution_count": 71,
     "metadata": {},
     "output_type": "execute_result"
    }
   ],
   "source": [
    "y_pred_enc = resnet50.predict(X_valid)        \n",
    "y_pred = [np.argmax(i) for i in y_pred_enc] \n",
    "item = {\n",
    "      0: 'Type 1'\n",
    "    , 1: 'Type 2'\n",
    "    , 2: 'Type 3'\n",
    "}\n",
    "\n",
    "matrix = confusion_matrix(y_valid, y_pred)\n",
    "df = pd.DataFrame(matrix)\n",
    "df.columns = item.values()\n",
    "df.index = item.values()\n",
    "        \n",
    "df"
   ]
  },
  {
   "cell_type": "markdown",
   "id": "e5634401",
   "metadata": {
    "papermill": {
     "duration": 3.000873,
     "end_time": "2022-11-25T14:55:19.545921",
     "exception": false,
     "start_time": "2022-11-25T14:55:16.545048",
     "status": "completed"
    },
    "tags": []
   },
   "source": [
    "## Resnet50 (Aug)"
   ]
  },
  {
   "cell_type": "code",
   "execution_count": 72,
   "id": "b05848d4",
   "metadata": {
    "execution": {
     "iopub.execute_input": "2022-11-25T14:55:25.055291Z",
     "iopub.status.busy": "2022-11-25T14:55:25.054931Z",
     "iopub.status.idle": "2022-11-25T14:55:27.028064Z",
     "shell.execute_reply": "2022-11-25T14:55:27.025938Z"
    },
    "papermill": {
     "duration": 4.712295,
     "end_time": "2022-11-25T14:55:27.030391",
     "exception": false,
     "start_time": "2022-11-25T14:55:22.318096",
     "status": "completed"
    },
    "tags": []
   },
   "outputs": [
    {
     "name": "stdout",
     "output_type": "stream",
     "text": [
      "Model: \"sequential_3\"\n",
      "_________________________________________________________________\n",
      "Layer (type)                 Output Shape              Param #   \n",
      "=================================================================\n",
      "resnet50 (Functional)        (None, 2048)              23587712  \n",
      "_________________________________________________________________\n",
      "flatten_3 (Flatten)          (None, 2048)              0         \n",
      "_________________________________________________________________\n",
      "batch_normalization_3 (Batch (None, 2048)              8192      \n",
      "_________________________________________________________________\n",
      "dense_7 (Dense)              (None, 512)               1049088   \n",
      "_________________________________________________________________\n",
      "batch_normalization_4 (Batch (None, 512)               2048      \n",
      "_________________________________________________________________\n",
      "dense_8 (Dense)              (None, 256)               131328    \n",
      "_________________________________________________________________\n",
      "batch_normalization_5 (Batch (None, 256)               1024      \n",
      "_________________________________________________________________\n",
      "dense_9 (Dense)              (None, 3)                 771       \n",
      "=================================================================\n",
      "Total params: 24,780,163\n",
      "Trainable params: 1,186,819\n",
      "Non-trainable params: 23,593,344\n",
      "_________________________________________________________________\n"
     ]
    }
   ],
   "source": [
    "resnet50_ag = Sequential([\n",
    "    ResNet50(input_shape = (128,128,3) ,include_top = False, pooling = 'avg')\n",
    "    , Flatten()\n",
    "    , BatchNormalization()\n",
    "    , Dense(512, activation = 'relu')\n",
    "    , BatchNormalization()\n",
    "    , Dense(256, activation = 'relu')\n",
    "    , BatchNormalization()\n",
    "    , Dense(3, activation = 'softmax')\n",
    "])\n",
    "resnet50_ag.layers[0].trainable = False\n",
    "\n",
    "resnet50_ag.summary()"
   ]
  },
  {
   "cell_type": "code",
   "execution_count": 73,
   "id": "8a7512aa",
   "metadata": {
    "execution": {
     "iopub.execute_input": "2022-11-25T14:55:32.706891Z",
     "iopub.status.busy": "2022-11-25T14:55:32.705981Z",
     "iopub.status.idle": "2022-11-25T14:55:32.719715Z",
     "shell.execute_reply": "2022-11-25T14:55:32.718784Z"
    },
    "papermill": {
     "duration": 2.821363,
     "end_time": "2022-11-25T14:55:32.722138",
     "exception": false,
     "start_time": "2022-11-25T14:55:29.900775",
     "status": "completed"
    },
    "tags": []
   },
   "outputs": [],
   "source": [
    "resnet50_ag.compile(\n",
    "    optimizer = 'adam'\n",
    "    , loss = 'sparse_categorical_crossentropy'\n",
    "    , metrics = ['accuracy']\n",
    ")"
   ]
  },
  {
   "cell_type": "code",
   "execution_count": 74,
   "id": "e69e5b28",
   "metadata": {
    "execution": {
     "iopub.execute_input": "2022-11-25T14:55:38.546246Z",
     "iopub.status.busy": "2022-11-25T14:55:38.545854Z",
     "iopub.status.idle": "2022-11-25T14:55:38.550605Z",
     "shell.execute_reply": "2022-11-25T14:55:38.549591Z"
    },
    "papermill": {
     "duration": 3.040207,
     "end_time": "2022-11-25T14:55:38.552805",
     "exception": false,
     "start_time": "2022-11-25T14:55:35.512598",
     "status": "completed"
    },
    "tags": []
   },
   "outputs": [],
   "source": [
    "# initialize callbacks\n",
    "checkpoint_ag = ModelCheckpoint('resnet50_ag.weights.hdf5', monitor='val_accuracy', verbose=1,save_best_only=True, mode= 'max')"
   ]
  },
  {
   "cell_type": "code",
   "execution_count": 75,
   "id": "c43b5bab",
   "metadata": {
    "execution": {
     "iopub.execute_input": "2022-11-25T14:55:44.223041Z",
     "iopub.status.busy": "2022-11-25T14:55:44.222662Z",
     "iopub.status.idle": "2022-11-25T15:13:16.517410Z",
     "shell.execute_reply": "2022-11-25T15:13:16.515482Z"
    },
    "papermill": {
     "duration": 1055.183565,
     "end_time": "2022-11-25T15:13:16.519757",
     "exception": false,
     "start_time": "2022-11-25T14:55:41.336192",
     "status": "completed"
    },
    "tags": []
   },
   "outputs": [
    {
     "name": "stdout",
     "output_type": "stream",
     "text": [
      "Epoch 1/100\n",
      "410/410 [==============================] - 31s 75ms/step - loss: 1.7658 - accuracy: 0.4416 - val_loss: 1.4734 - val_accuracy: 0.5674\n",
      "\n",
      "Epoch 00001: val_accuracy improved from -inf to 0.56740, saving model to resnet50_ag.weights.hdf5\n",
      "Epoch 2/100\n",
      "410/410 [==============================] - 31s 76ms/step - loss: 1.6920 - accuracy: 0.4580 - val_loss: 1.4273 - val_accuracy: 0.5674\n",
      "\n",
      "Epoch 00002: val_accuracy did not improve from 0.56740\n",
      "Epoch 3/100\n",
      "410/410 [==============================] - 33s 81ms/step - loss: 1.6369 - accuracy: 0.4578 - val_loss: 1.3883 - val_accuracy: 0.5662\n",
      "\n",
      "Epoch 00003: val_accuracy did not improve from 0.56740\n",
      "Epoch 4/100\n",
      "410/410 [==============================] - 32s 79ms/step - loss: 1.5938 - accuracy: 0.4567 - val_loss: 1.3670 - val_accuracy: 0.5680\n",
      "\n",
      "Epoch 00004: val_accuracy improved from 0.56740 to 0.56801, saving model to resnet50_ag.weights.hdf5\n",
      "Epoch 5/100\n",
      "410/410 [==============================] - 32s 77ms/step - loss: 1.5352 - accuracy: 0.4635 - val_loss: 1.3269 - val_accuracy: 0.5705\n",
      "\n",
      "Epoch 00005: val_accuracy improved from 0.56801 to 0.57047, saving model to resnet50_ag.weights.hdf5\n",
      "Epoch 6/100\n",
      "410/410 [==============================] - 32s 79ms/step - loss: 1.5575 - accuracy: 0.4549 - val_loss: 1.3253 - val_accuracy: 0.5711\n",
      "\n",
      "Epoch 00006: val_accuracy improved from 0.57047 to 0.57108, saving model to resnet50_ag.weights.hdf5\n",
      "Epoch 7/100\n",
      "410/410 [==============================] - 32s 79ms/step - loss: 1.5137 - accuracy: 0.4570 - val_loss: 1.2869 - val_accuracy: 0.5680\n",
      "\n",
      "Epoch 00007: val_accuracy did not improve from 0.57108\n",
      "Epoch 8/100\n",
      "410/410 [==============================] - 32s 78ms/step - loss: 1.4887 - accuracy: 0.4616 - val_loss: 1.2553 - val_accuracy: 0.5735\n",
      "\n",
      "Epoch 00008: val_accuracy improved from 0.57108 to 0.57353, saving model to resnet50_ag.weights.hdf5\n",
      "Epoch 9/100\n",
      "410/410 [==============================] - 32s 79ms/step - loss: 1.4666 - accuracy: 0.4612 - val_loss: 1.2518 - val_accuracy: 0.5643\n",
      "\n",
      "Epoch 00009: val_accuracy did not improve from 0.57353\n",
      "Epoch 10/100\n",
      "410/410 [==============================] - 32s 77ms/step - loss: 1.4157 - accuracy: 0.4621 - val_loss: 1.2406 - val_accuracy: 0.5680\n",
      "\n",
      "Epoch 00010: val_accuracy did not improve from 0.57353\n",
      "Epoch 11/100\n",
      "410/410 [==============================] - 31s 77ms/step - loss: 1.4251 - accuracy: 0.4590 - val_loss: 1.1985 - val_accuracy: 0.5662\n",
      "\n",
      "Epoch 00011: val_accuracy did not improve from 0.57353\n",
      "Epoch 12/100\n",
      "410/410 [==============================] - 32s 78ms/step - loss: 1.3942 - accuracy: 0.4683 - val_loss: 1.1921 - val_accuracy: 0.5674\n",
      "\n",
      "Epoch 00012: val_accuracy did not improve from 0.57353\n",
      "Epoch 13/100\n",
      "410/410 [==============================] - 32s 78ms/step - loss: 1.3815 - accuracy: 0.4566 - val_loss: 1.1672 - val_accuracy: 0.5680\n",
      "\n",
      "Epoch 00013: val_accuracy did not improve from 0.57353\n",
      "Epoch 14/100\n",
      "410/410 [==============================] - 32s 79ms/step - loss: 1.3709 - accuracy: 0.4653 - val_loss: 1.1405 - val_accuracy: 0.5723\n",
      "\n",
      "Epoch 00014: val_accuracy did not improve from 0.57353\n",
      "Epoch 15/100\n",
      "410/410 [==============================] - 32s 77ms/step - loss: 1.3413 - accuracy: 0.4610 - val_loss: 1.1460 - val_accuracy: 0.5686\n",
      "\n",
      "Epoch 00015: val_accuracy did not improve from 0.57353\n",
      "Epoch 16/100\n",
      "410/410 [==============================] - 32s 77ms/step - loss: 1.3232 - accuracy: 0.4689 - val_loss: 1.1243 - val_accuracy: 0.5729\n",
      "\n",
      "Epoch 00016: val_accuracy did not improve from 0.57353\n",
      "Epoch 17/100\n",
      "410/410 [==============================] - 32s 78ms/step - loss: 1.2980 - accuracy: 0.4639 - val_loss: 1.1034 - val_accuracy: 0.5723\n",
      "\n",
      "Epoch 00017: val_accuracy did not improve from 0.57353\n",
      "Epoch 18/100\n",
      "410/410 [==============================] - 32s 78ms/step - loss: 1.3199 - accuracy: 0.4580 - val_loss: 1.0967 - val_accuracy: 0.5680\n",
      "\n",
      "Epoch 00018: val_accuracy did not improve from 0.57353\n",
      "Epoch 19/100\n",
      "410/410 [==============================] - 32s 78ms/step - loss: 1.2845 - accuracy: 0.4689 - val_loss: 1.0888 - val_accuracy: 0.5680\n",
      "\n",
      "Epoch 00019: val_accuracy did not improve from 0.57353\n",
      "Epoch 20/100\n",
      "410/410 [==============================] - 32s 77ms/step - loss: 1.2763 - accuracy: 0.4664 - val_loss: 1.0737 - val_accuracy: 0.5717\n",
      "\n",
      "Epoch 00020: val_accuracy did not improve from 0.57353\n",
      "Epoch 21/100\n",
      "410/410 [==============================] - 32s 78ms/step - loss: 1.2354 - accuracy: 0.4676 - val_loss: 1.0692 - val_accuracy: 0.5674\n",
      "\n",
      "Epoch 00021: val_accuracy did not improve from 0.57353\n",
      "Epoch 22/100\n",
      "410/410 [==============================] - 32s 78ms/step - loss: 1.2529 - accuracy: 0.4673 - val_loss: 1.0608 - val_accuracy: 0.5680\n",
      "\n",
      "Epoch 00022: val_accuracy did not improve from 0.57353\n",
      "Epoch 23/100\n",
      "410/410 [==============================] - 33s 80ms/step - loss: 1.2412 - accuracy: 0.4705 - val_loss: 1.0484 - val_accuracy: 0.5650\n",
      "\n",
      "Epoch 00023: val_accuracy did not improve from 0.57353\n",
      "Epoch 24/100\n",
      "410/410 [==============================] - 32s 79ms/step - loss: 1.2237 - accuracy: 0.4703 - val_loss: 1.0418 - val_accuracy: 0.5699\n",
      "\n",
      "Epoch 00024: val_accuracy did not improve from 0.57353\n",
      "Epoch 25/100\n",
      "410/410 [==============================] - 32s 78ms/step - loss: 1.1875 - accuracy: 0.4763 - val_loss: 1.0327 - val_accuracy: 0.5686\n",
      "\n",
      "Epoch 00025: val_accuracy did not improve from 0.57353\n",
      "Epoch 26/100\n",
      "410/410 [==============================] - 33s 81ms/step - loss: 1.1988 - accuracy: 0.4648 - val_loss: 1.0291 - val_accuracy: 0.5735\n",
      "\n",
      "Epoch 00026: val_accuracy did not improve from 0.57353\n",
      "Epoch 27/100\n",
      "410/410 [==============================] - 33s 82ms/step - loss: 1.1843 - accuracy: 0.4705 - val_loss: 1.0163 - val_accuracy: 0.5711\n",
      "\n",
      "Epoch 00027: val_accuracy did not improve from 0.57353\n",
      "Epoch 28/100\n",
      "410/410 [==============================] - 33s 80ms/step - loss: 1.1746 - accuracy: 0.4819 - val_loss: 1.0074 - val_accuracy: 0.5735\n",
      "Restoring model weights from the end of the best epoch.\n",
      "\n",
      "Epoch 00028: val_accuracy did not improve from 0.57353\n",
      "Epoch 00028: early stopping\n"
     ]
    }
   ],
   "source": [
    "# augmentation\n",
    "train_datagen = ImageDataGenerator(\n",
    "                                rotation_range = 40,\n",
    "                                zoom_range = 0.2,\n",
    "                                width_shift_range=0.2,\n",
    "                                height_shift_range=0.2,\n",
    "                                shear_range=0.2,\n",
    "                                horizontal_flip = True,\n",
    "                                vertical_flip = True)\n",
    "\n",
    "train_gen_ag = train_datagen.flow(X_train, y_train, batch_size= BATCH_SIZE)\n",
    "\n",
    "history_resnet50_ag = resnet50.fit(\n",
    "    train_gen_ag\n",
    "    , steps_per_epoch= TRAIN_STEPS\n",
    "    , validation_data=valid_gen\n",
    "    , validation_steps=VAL_STEPS\n",
    "    , epochs= 100\n",
    "    , callbacks= [reduceLR, early_stopping, checkpoint_ag]\n",
    ")"
   ]
  },
  {
   "cell_type": "code",
   "execution_count": 76,
   "id": "b604dc6b",
   "metadata": {
    "execution": {
     "iopub.execute_input": "2022-11-25T15:13:23.651785Z",
     "iopub.status.busy": "2022-11-25T15:13:23.651360Z",
     "iopub.status.idle": "2022-11-25T15:13:24.156254Z",
     "shell.execute_reply": "2022-11-25T15:13:24.155210Z"
    },
    "papermill": {
     "duration": 4.129193,
     "end_time": "2022-11-25T15:13:24.158822",
     "exception": false,
     "start_time": "2022-11-25T15:13:20.029629",
     "status": "completed"
    },
    "tags": []
   },
   "outputs": [],
   "source": [
    "# save model (recall -> keras.models.load_model('') -> compile)\n",
    "resnet50.save('resnet50_ag.h5')"
   ]
  },
  {
   "cell_type": "markdown",
   "id": "5fabfcb7",
   "metadata": {
    "papermill": {
     "duration": 3.373145,
     "end_time": "2022-11-25T15:13:31.138741",
     "exception": false,
     "start_time": "2022-11-25T15:13:27.765596",
     "status": "completed"
    },
    "tags": []
   },
   "source": [
    "## Resnet50 Augmentation validation matrix"
   ]
  },
  {
   "cell_type": "code",
   "execution_count": 77,
   "id": "5d117416",
   "metadata": {
    "execution": {
     "iopub.execute_input": "2022-11-25T15:13:38.194055Z",
     "iopub.status.busy": "2022-11-25T15:13:38.193673Z",
     "iopub.status.idle": "2022-11-25T15:13:41.501340Z",
     "shell.execute_reply": "2022-11-25T15:13:41.500420Z"
    },
    "papermill": {
     "duration": 6.777535,
     "end_time": "2022-11-25T15:13:41.503515",
     "exception": false,
     "start_time": "2022-11-25T15:13:34.725980",
     "status": "completed"
    },
    "tags": []
   },
   "outputs": [
    {
     "data": {
      "text/html": [
       "<div>\n",
       "<style scoped>\n",
       "    .dataframe tbody tr th:only-of-type {\n",
       "        vertical-align: middle;\n",
       "    }\n",
       "\n",
       "    .dataframe tbody tr th {\n",
       "        vertical-align: top;\n",
       "    }\n",
       "\n",
       "    .dataframe thead th {\n",
       "        text-align: right;\n",
       "    }\n",
       "</style>\n",
       "<table border=\"1\" class=\"dataframe\">\n",
       "  <thead>\n",
       "    <tr style=\"text-align: right;\">\n",
       "      <th></th>\n",
       "      <th>Type 1</th>\n",
       "      <th>Type 2</th>\n",
       "      <th>Type 3</th>\n",
       "    </tr>\n",
       "  </thead>\n",
       "  <tbody>\n",
       "    <tr>\n",
       "      <th>Type 1</th>\n",
       "      <td>0</td>\n",
       "      <td>0</td>\n",
       "      <td>288</td>\n",
       "    </tr>\n",
       "    <tr>\n",
       "      <th>Type 2</th>\n",
       "      <td>0</td>\n",
       "      <td>0</td>\n",
       "      <td>870</td>\n",
       "    </tr>\n",
       "    <tr>\n",
       "      <th>Type 3</th>\n",
       "      <td>0</td>\n",
       "      <td>0</td>\n",
       "      <td>485</td>\n",
       "    </tr>\n",
       "  </tbody>\n",
       "</table>\n",
       "</div>"
      ],
      "text/plain": [
       "        Type 1  Type 2  Type 3\n",
       "Type 1       0       0     288\n",
       "Type 2       0       0     870\n",
       "Type 3       0       0     485"
      ]
     },
     "execution_count": 77,
     "metadata": {},
     "output_type": "execute_result"
    }
   ],
   "source": [
    "y_pred_enc = resnet50_ag.predict(X_valid)        \n",
    "y_pred = [np.argmax(i) for i in y_pred_enc] \n",
    "item = {\n",
    "      0: 'Type 1'\n",
    "    , 1: 'Type 2'\n",
    "    , 2: 'Type 3'\n",
    "}\n",
    "\n",
    "matrix = confusion_matrix(y_valid, y_pred)\n",
    "df = pd.DataFrame(matrix)\n",
    "df.columns = item.values()\n",
    "df.index = item.values()\n",
    "        \n",
    "df"
   ]
  },
  {
   "cell_type": "code",
   "execution_count": 78,
   "id": "5c06b67f",
   "metadata": {
    "execution": {
     "iopub.execute_input": "2022-11-25T15:13:49.133550Z",
     "iopub.status.busy": "2022-11-25T15:13:49.133185Z",
     "iopub.status.idle": "2022-11-25T15:13:49.737165Z",
     "shell.execute_reply": "2022-11-25T15:13:49.736308Z"
    },
    "papermill": {
     "duration": 4.353691,
     "end_time": "2022-11-25T15:13:49.739474",
     "exception": false,
     "start_time": "2022-11-25T15:13:45.385783",
     "status": "completed"
    },
    "tags": []
   },
   "outputs": [
    {
     "data": {
      "image/png": "[encoded data removed]",
      "text/plain": [
       "<Figure size 1440x1152 with 4 Axes>"
      ]
     },
     "metadata": {
      "needs_background": "light"
     },
     "output_type": "display_data"
    }
   ],
   "source": [
    "plt.figure(figsize=(20, 16))\n",
    "\n",
    "plt.subplot(2, 2, 1)\n",
    "plt.plot(history_resnet50.history['accuracy'], label='Training Accuracy')\n",
    "plt.plot(history_resnet50.history['val_accuracy'], label='Validation Accuracy')\n",
    "plt.legend(loc='lower right')\n",
    "plt.title('Non-Augmentation Training and Validation Accuracy')\n",
    "\n",
    "plt.subplot(2, 2, 2)\n",
    "plt.plot(history_resnet50.history['loss'], label='Training Loss')\n",
    "plt.plot(history_resnet50.history['val_loss'], label='Validation Loss')\n",
    "plt.legend(loc='upper right')\n",
    "plt.title('Non-Augmentation Training and Validation Loss')\n",
    "\n",
    "plt.subplot(2, 2, 3)\n",
    "plt.plot(history_resnet50_ag.history['accuracy'], label='Training Accuracy')\n",
    "plt.plot(history_resnet50_ag.history['val_accuracy'], label='Validation Accuracy')\n",
    "plt.legend(loc='lower right')\n",
    "plt.title('Augmentation Training and Validation Accuracy')\n",
    "\n",
    "plt.subplot(2, 2, 4)\n",
    "plt.plot(history_resnet50_ag.history['loss'], label='Training Loss')\n",
    "plt.plot(history_resnet50_ag.history['val_loss'], label='Validation Loss')\n",
    "plt.legend(loc='upper right')\n",
    "plt.title('Augmentation Training and Validation Loss')\n",
    "\n",
    "plt.show()"
   ]
  },
  {
   "cell_type": "markdown",
   "id": "a98e812b",
   "metadata": {
    "papermill": {
     "duration": 3.506023,
     "end_time": "2022-11-25T15:13:56.690800",
     "exception": false,
     "start_time": "2022-11-25T15:13:53.184777",
     "status": "completed"
    },
    "tags": []
   },
   "source": [
    "## GoogLeNet - failed"
   ]
  },
  {
   "cell_type": "code",
   "execution_count": 79,
   "id": "1aadf9e0",
   "metadata": {
    "execution": {
     "iopub.execute_input": "2022-11-25T15:14:03.701142Z",
     "iopub.status.busy": "2022-11-25T15:14:03.700763Z",
     "iopub.status.idle": "2022-11-25T15:14:03.705258Z",
     "shell.execute_reply": "2022-11-25T15:14:03.704200Z"
    },
    "papermill": {
     "duration": 3.475022,
     "end_time": "2022-11-25T15:14:03.707828",
     "exception": false,
     "start_time": "2022-11-25T15:14:00.232806",
     "status": "completed"
    },
    "tags": []
   },
   "outputs": [],
   "source": [
    "#from keras.models import Model\n",
    "#from keras.layers import Input, Conv2D, MaxPooling2D, AveragePooling2D, Flatten, GlobalAveragePooling2D, Dense, Dropout\n",
    "#from keras.layers.merge import concatenate"
   ]
  },
  {
   "cell_type": "code",
   "execution_count": 80,
   "id": "68355a89",
   "metadata": {
    "execution": {
     "iopub.execute_input": "2022-11-25T15:14:10.729284Z",
     "iopub.status.busy": "2022-11-25T15:14:10.728927Z",
     "iopub.status.idle": "2022-11-25T15:14:10.734258Z",
     "shell.execute_reply": "2022-11-25T15:14:10.733205Z"
    },
    "papermill": {
     "duration": 3.691167,
     "end_time": "2022-11-25T15:14:10.736805",
     "exception": false,
     "start_time": "2022-11-25T15:14:07.045638",
     "status": "completed"
    },
    "tags": []
   },
   "outputs": [],
   "source": [
    "# Create Inception block\n",
    "\n",
    "\n",
    "#def Inception_block(input_layer, f1, f2_conv1, f2_conv3, f3_conv1, f3_conv5, f4): \n",
    "#  # Input: \n",
    "#  # - f1: number of filters of the 1x1 convolutional layer in the first path\n",
    "#  # - f2_conv1, f2_conv3 are number of filters corresponding to the 1x1 and 3x3 convolutional layers in the second path\n",
    "#  # - f3_conv1, f3_conv5 are the number of filters corresponding to the 1x1 and 5x5  convolutional layer in the third path\n",
    "#  # - f4: number of filters of the 1x1 convolutional layer in the fourth path\n",
    "\n",
    "#  # 1st path:\n",
    "#  path1 = Conv2D(filters=f1, kernel_size = (1,1), padding = 'same', activation = 'relu')(input_layer)\n",
    "\n",
    "#  # 2nd path\n",
    "#  path2 = Conv2D(filters = f2_conv1, kernel_size = (1,1), padding = 'same', activation = 'relu')(input_layer)\n",
    "#  path2 = Conv2D(filters = f2_conv3, kernel_size = (3,3), padding = 'same', activation = 'relu')(path2)\n",
    "\n",
    "#  # 3rd path\n",
    "#  path3 = Conv2D(filters = f3_conv1, kernel_size = (1,1), padding = 'same', activation = 'relu')(input_layer)\n",
    "#  path3 = Conv2D(filters = f3_conv5, kernel_size = (5,5), padding = 'same', activation = 'relu')(path3)\n",
    "\n",
    "#  # 4th path\n",
    "#  path4 = MaxPooling2D((3,3), strides= (1,1), padding = 'same')(input_layer)\n",
    "#  path4 = Conv2D(filters = f4, kernel_size = (1,1), padding = 'same', activation = 'relu')(path4)\n",
    "\n",
    "#  output_layer = concatenate([path1, path2, path3, path4], axis = -1)\n",
    "\n",
    "#  return output_layer"
   ]
  },
  {
   "cell_type": "markdown",
   "id": "66ddce85",
   "metadata": {
    "papermill": {
     "duration": 3.7854,
     "end_time": "2022-11-25T15:14:17.914822",
     "exception": false,
     "start_time": "2022-11-25T15:14:14.129422",
     "status": "completed"
    },
    "tags": []
   },
   "source": [
    "sequential로 변경시도"
   ]
  },
  {
   "cell_type": "code",
   "execution_count": 81,
   "id": "3e3a93da",
   "metadata": {
    "execution": {
     "iopub.execute_input": "2022-11-25T15:14:24.924805Z",
     "iopub.status.busy": "2022-11-25T15:14:24.924424Z",
     "iopub.status.idle": "2022-11-25T15:14:24.929258Z",
     "shell.execute_reply": "2022-11-25T15:14:24.928208Z"
    },
    "papermill": {
     "duration": 3.399812,
     "end_time": "2022-11-25T15:14:24.931332",
     "exception": false,
     "start_time": "2022-11-25T15:14:21.531520",
     "status": "completed"
    },
    "tags": []
   },
   "outputs": [],
   "source": [
    "#googlenet = Sequential([\n",
    "#    Input(shape = (128,128,3))\n",
    "#    , Conv2D(filters = 64, kernel_size =(7,7), strides = 2, padding = 'valid', activation = 'relu')\n",
    "#    , MaxPooling2D(pool_size = (3,3), strides = 2)\n",
    "#    , Conv2D(filters = 64, kernel_size = (1,1), strides = 1, padding = 'same', activation = 'relu')\n",
    "#    , Conv2D(filters = 192, kernel_size = (3,3), padding = 'same', activation = 'relu')\n",
    "#    , MaxPooling2D(pool_size= (3,3), strides = 2)\n",
    "##first inception block\n",
    "#    , Inception_block(X, f1 = 64, f2_conv1 = 96, f2_conv3 = 128, f3_conv1 = 16, f3_conv5 = 32, f4 = 32)\n",
    "##second inception block\n",
    "#    , Inception_block(X, f1 = 128, f2_conv1 = 128, f2_conv3 = 192, f3_conv1 = 32, f3_conv5 = 96, f4 = 64)\n",
    "#    , MaxPooling2D(pool_size= (3,3), strides = 2)\n",
    "##third inception block\n",
    "#    , Inception_block(X, f1 = 192, f2_conv1 = 96, f2_conv3 = 208, f3_conv1 = 16, f3_conv5 = 48, f4 = 64)\n",
    "##Extra network 1   \n",
    "#])"
   ]
  },
  {
   "cell_type": "code",
   "execution_count": 82,
   "id": "edfc09e0",
   "metadata": {
    "execution": {
     "iopub.execute_input": "2022-11-25T15:14:31.902726Z",
     "iopub.status.busy": "2022-11-25T15:14:31.902364Z",
     "iopub.status.idle": "2022-11-25T15:14:31.909458Z",
     "shell.execute_reply": "2022-11-25T15:14:31.908548Z"
    },
    "papermill": {
     "duration": 3.655875,
     "end_time": "2022-11-25T15:14:31.911532",
     "exception": false,
     "start_time": "2022-11-25T15:14:28.255657",
     "status": "completed"
    },
    "tags": []
   },
   "outputs": [],
   "source": [
    "#def GoogLeNet():\n",
    "#  # input layer \n",
    "#  input_layer = Input(shape = (128, 128, 3))\n",
    "\n",
    "#  # convolutional layer: filters = 64, kernel_size = (7,7), strides = 2\n",
    "#  X = Conv2D(filters = 64, kernel_size = (7,7), strides = 2, padding = 'valid', activation = 'relu')(input_layer)\n",
    "\n",
    "#  # max-pooling layer: pool_size = (3,3), strides = 2\n",
    "#  X = MaxPooling2D(pool_size = (3,3), strides = 2)(X)\n",
    "\n",
    "#  # convolutional layer: filters = 64, strides = 1\n",
    "#  X = Conv2D(filters = 64, kernel_size = (1,1), strides = 1, padding = 'same', activation = 'relu')(X)\n",
    "\n",
    "#  # convolutional layer: filters = 192, kernel_size = (3,3)\n",
    "#  X = Conv2D(filters = 192, kernel_size = (3,3), padding = 'same', activation = 'relu')(X)\n",
    "\n",
    "#  # max-pooling layer: pool_size = (3,3), strides = 2\n",
    "#  X = MaxPooling2D(pool_size= (3,3), strides = 2)(X)\n",
    "\n",
    "#  # 1st Inception block\n",
    "#  X = Inception_block(X, f1 = 64, f2_conv1 = 96, f2_conv3 = 128, f3_conv1 = 16, f3_conv5 = 32, f4 = 32)\n",
    "\n",
    "#  # 2nd Inception block\n",
    "#  X = Inception_block(X, f1 = 128, f2_conv1 = 128, f2_conv3 = 192, f3_conv1 = 32, f3_conv5 = 96, f4 = 64)\n",
    "\n",
    "#  # max-pooling layer: pool_size = (3,3), strides = 2\n",
    "#  X = MaxPooling2D(pool_size= (3,3), strides = 2)(X)\n",
    "\n",
    "#  # 3rd Inception block\n",
    "#  X = Inception_block(X, f1 = 192, f2_conv1 = 96, f2_conv3 = 208, f3_conv1 = 16, f3_conv5 = 48, f4 = 64)\n",
    "\n",
    "#  # Extra network 1:\n",
    "#  X1 = AveragePooling2D(pool_size = (5,5), strides = 3)(X)\n",
    "#  X1 = Conv2D(filters = 128, kernel_size = (1,1), padding = 'same', activation = 'relu')(X1)\n",
    "#  X1 = Flatten()(X1)\n",
    "#  X1 = Dense(1024, activation = 'relu')(X1)\n",
    "#  X1 = Dropout(0.7)(X1)\n",
    "#  X1 = Dense(3, activation = 'softmax')(X1)\n",
    "\n",
    "  \n",
    "#  # 4th Inception block\n",
    "#  X = Inception_block(X, f1 = 160, f2_conv1 = 112, f2_conv3 = 224, f3_conv1 = 24, f3_conv5 = 64, f4 = 64)\n",
    "\n",
    "#  # 5th Inception block\n",
    "#  X = Inception_block(X, f1 = 128, f2_conv1 = 128, f2_conv3 = 256, f3_conv1 = 24, f3_conv5 = 64, f4 = 64)\n",
    "\n",
    "#  # 6th Inception block\n",
    "#  X = Inception_block(X, f1 = 112, f2_conv1 = 144, f2_conv3 = 288, f3_conv1 = 32, f3_conv5 = 64, f4 = 64)\n",
    "\n",
    "#  # Extra network 2:\n",
    "#  X2 = AveragePooling2D(pool_size = (5,5), strides = 3)(X)\n",
    "#  X2 = Conv2D(filters = 128, kernel_size = (1,1), padding = 'same', activation = 'relu')(X2)\n",
    "#  X2 = Flatten()(X2)\n",
    "#  X2 = Dense(1024, activation = 'relu')(X2)\n",
    "#  X2 = Dropout(0.7)(X2)\n",
    "#  X2 = Dense(3, activation = 'softmax')(X2)\n",
    "#  \n",
    "#  \n",
    "#  # 7th Inception block\n",
    "#  X = Inception_block(X, f1 = 256, f2_conv1 = 160, f2_conv3 = 320, f3_conv1 = 32, \n",
    "#                      f3_conv5 = 128, f4 = 128)\n",
    "#\n",
    "#  # max-pooling layer: pool_size = (3,3), strides = 2\n",
    "#  X = MaxPooling2D(pool_size = (3,3), strides = 2)(X)\n",
    "#\n",
    "#  # 8th Inception block\n",
    "#  X = Inception_block(X, f1 = 256, f2_conv1 = 160, f2_conv3 = 320, f3_conv1 = 32, f3_conv5 = 128, f4 = 128)\n",
    "#\n",
    "#  # 9th Inception block\n",
    "#  X = Inception_block(X, f1 = 384, f2_conv1 = 192, f2_conv3 = 384, f3_conv1 = 48, f3_conv5 = 128, f4 = 128)\n",
    "\n",
    "#  # Global Average pooling layer \n",
    "#  X = GlobalAveragePooling2D(name = 'GAPL')(X)\n",
    "\n",
    "#  # Dropoutlayer \n",
    "#  X = Dropout(0.4)(X)\n",
    "\n",
    "#  # output layer \n",
    "#  X = Dense(3, activation = 'softmax')(X)\n",
    "  \n",
    "#  # model\n",
    "#  model = Model(input_layer, [X, X1, X2], name = 'GoogLeNet')\n",
    "\n",
    "#  return model"
   ]
  },
  {
   "cell_type": "code",
   "execution_count": 83,
   "id": "493edf04",
   "metadata": {
    "execution": {
     "iopub.execute_input": "2022-11-25T15:14:38.704804Z",
     "iopub.status.busy": "2022-11-25T15:14:38.704423Z",
     "iopub.status.idle": "2022-11-25T15:14:38.709468Z",
     "shell.execute_reply": "2022-11-25T15:14:38.708465Z"
    },
    "papermill": {
     "duration": 3.369443,
     "end_time": "2022-11-25T15:14:38.711643",
     "exception": false,
     "start_time": "2022-11-25T15:14:35.342200",
     "status": "completed"
    },
    "tags": []
   },
   "outputs": [],
   "source": [
    "#googlenet = GoogLeNet()"
   ]
  },
  {
   "cell_type": "code",
   "execution_count": 84,
   "id": "29671732",
   "metadata": {
    "execution": {
     "iopub.execute_input": "2022-11-25T15:14:45.740406Z",
     "iopub.status.busy": "2022-11-25T15:14:45.739112Z",
     "iopub.status.idle": "2022-11-25T15:14:45.745757Z",
     "shell.execute_reply": "2022-11-25T15:14:45.743826Z"
    },
    "papermill": {
     "duration": 3.356598,
     "end_time": "2022-11-25T15:14:45.751012",
     "exception": false,
     "start_time": "2022-11-25T15:14:42.394414",
     "status": "completed"
    },
    "tags": []
   },
   "outputs": [],
   "source": [
    "#googlenet.summary()"
   ]
  },
  {
   "cell_type": "code",
   "execution_count": 85,
   "id": "a2608d52",
   "metadata": {
    "execution": {
     "iopub.execute_input": "2022-11-25T15:14:53.337042Z",
     "iopub.status.busy": "2022-11-25T15:14:53.336618Z",
     "iopub.status.idle": "2022-11-25T15:14:53.341256Z",
     "shell.execute_reply": "2022-11-25T15:14:53.340213Z"
    },
    "papermill": {
     "duration": 3.756736,
     "end_time": "2022-11-25T15:14:53.343597",
     "exception": false,
     "start_time": "2022-11-25T15:14:49.586861",
     "status": "completed"
    },
    "tags": []
   },
   "outputs": [],
   "source": [
    "#googlenet.compile(\n",
    "#    optimizer='adam'\n",
    "#    , loss = 'categorical_crossentropy'\n",
    "#    , metrics = ['accuracy']\n",
    "#)"
   ]
  },
  {
   "cell_type": "code",
   "execution_count": 86,
   "id": "4ecd90af",
   "metadata": {
    "execution": {
     "iopub.execute_input": "2022-11-25T15:15:00.247046Z",
     "iopub.status.busy": "2022-11-25T15:15:00.246665Z",
     "iopub.status.idle": "2022-11-25T15:15:00.251383Z",
     "shell.execute_reply": "2022-11-25T15:15:00.250434Z"
    },
    "papermill": {
     "duration": 3.437028,
     "end_time": "2022-11-25T15:15:00.253377",
     "exception": false,
     "start_time": "2022-11-25T15:14:56.816349",
     "status": "completed"
    },
    "tags": []
   },
   "outputs": [],
   "source": [
    "# initialize callbacks\n",
    "#reduceLR = ReduceLROnPlateau(monitor='val_accuracy', patience=10, verbose= 1, mode='max', factor=  0.2, min_lr = 1e-5)\n",
    "\n",
    "#early_stopping = EarlyStopping(monitor='val_accuracy', patience = 20, verbose=1, mode='max', restore_best_weights= True)\n",
    "\n",
    "#checkpoint = ModelCheckpoint('ggl.weights.hdf5', monitor='val_accuracy', verbose=1,save_best_only=True, mode= 'max')"
   ]
  },
  {
   "cell_type": "code",
   "execution_count": 87,
   "id": "25d4cf51",
   "metadata": {
    "execution": {
     "iopub.execute_input": "2022-11-25T15:15:07.248823Z",
     "iopub.status.busy": "2022-11-25T15:15:07.248456Z",
     "iopub.status.idle": "2022-11-25T15:15:07.253026Z",
     "shell.execute_reply": "2022-11-25T15:15:07.252079Z"
    },
    "papermill": {
     "duration": 3.345303,
     "end_time": "2022-11-25T15:15:07.255022",
     "exception": false,
     "start_time": "2022-11-25T15:15:03.909719",
     "status": "completed"
    },
    "tags": []
   },
   "outputs": [],
   "source": [
    "# Non-augmentation\n",
    "#train_gen = ImageDataGenerator().flow(X_train, y_train_onehot, batch_size = BATCH_SIZE)\n",
    "#valid_gen = ImageDataGenerator().flow(X_valid, y_valid_onehot, batch_size = BATCH_SIZE)\n",
    "\n",
    "#history_Google = googlenet.fit(\n",
    "#    train_gen\n",
    "#    , steps_per_epoch = TRAIN_STEPS\n",
    "#    , validation_data = valid_gen\n",
    "#    , epochs = EPOCHS\n",
    "#    , callbacks = [reduceLR, early_stopping, checkpoint]\n",
    "#)"
   ]
  },
  {
   "cell_type": "markdown",
   "id": "7efbb6c9",
   "metadata": {
    "papermill": {
     "duration": 3.675085,
     "end_time": "2022-11-25T15:15:14.409317",
     "exception": false,
     "start_time": "2022-11-25T15:15:10.734232",
     "status": "completed"
    },
    "tags": []
   },
   "source": [
    "# 모델진단"
   ]
  },
  {
   "cell_type": "markdown",
   "id": "a6917f93",
   "metadata": {
    "papermill": {
     "duration": 3.590889,
     "end_time": "2022-11-25T15:15:21.600187",
     "exception": false,
     "start_time": "2022-11-25T15:15:18.009298",
     "status": "completed"
    },
    "tags": []
   },
   "source": [
    "# test data"
   ]
  },
  {
   "cell_type": "code",
   "execution_count": 88,
   "id": "b3a125a4",
   "metadata": {
    "execution": {
     "iopub.execute_input": "2022-11-25T15:15:28.600778Z",
     "iopub.status.busy": "2022-11-25T15:15:28.600409Z",
     "iopub.status.idle": "2022-11-25T15:15:28.605361Z",
     "shell.execute_reply": "2022-11-25T15:15:28.604394Z"
    },
    "papermill": {
     "duration": 3.441311,
     "end_time": "2022-11-25T15:15:28.607459",
     "exception": false,
     "start_time": "2022-11-25T15:15:25.166148",
     "status": "completed"
    },
    "tags": []
   },
   "outputs": [],
   "source": [
    "# test data\n",
    "\n",
    "#test_y = pd.read_csv(\"../input/intel-mobileodt-cervical-cancer-screening/solution_stg1_release.csv\")\n",
    "#test_y.loc[1,['Type_1','Type_2','Type_3']]\n",
    "\n",
    "#root_dir = '../input/intel-mobileodt-cervical-cancer-screening'\n",
    "#test_dir = os.path.join(root_dir,'test', 'test')\n",
    "\n",
    "#test_type = []\n",
    "#test_features = []\n",
    "#i=0\n",
    "#for fn in tqdm(test_y[['image_name']].to_numpy()):\n",
    "#    for filename in fn:\n",
    "#        filepath = os.path.join(test_dir,filename)\n",
    "#        img = cv2.imread(filepath)\n",
    "#        img = cv2.cvtColor(img, cv2.COLOR_RGB2BGR)\n",
    "#        resized_img = cv2.resize(img, (128, 128))\n",
    "#        test_features.append(np.array(resized_img))\n",
    "#        test_type.append(np.array(test_y.loc[i,['Type_1','Type_2','Type_3']]))\n",
    "#        i=i+1\n",
    "    \n",
    "#X_test = np.array(test_features)\n",
    "#y_test = np.array(test_type)"
   ]
  },
  {
   "cell_type": "code",
   "execution_count": 89,
   "id": "d25fcb96",
   "metadata": {
    "execution": {
     "iopub.execute_input": "2022-11-25T15:15:35.347303Z",
     "iopub.status.busy": "2022-11-25T15:15:35.346945Z",
     "iopub.status.idle": "2022-11-25T15:15:35.351113Z",
     "shell.execute_reply": "2022-11-25T15:15:35.350194Z"
    },
    "papermill": {
     "duration": 3.32968,
     "end_time": "2022-11-25T15:15:35.353035",
     "exception": false,
     "start_time": "2022-11-25T15:15:32.023355",
     "status": "completed"
    },
    "tags": []
   },
   "outputs": [],
   "source": [
    "# save test data as npy files\n",
    "\n",
    "#np.save('/kaggle/working/X_test_128', X_test)\n",
    "#np.save('/kaggle/working/y_test_128', y_test)"
   ]
  },
  {
   "cell_type": "code",
   "execution_count": 90,
   "id": "369831fe",
   "metadata": {
    "execution": {
     "iopub.execute_input": "2022-11-25T15:15:42.475832Z",
     "iopub.status.busy": "2022-11-25T15:15:42.475465Z",
     "iopub.status.idle": "2022-11-25T15:15:43.222941Z",
     "shell.execute_reply": "2022-11-25T15:15:43.221910Z"
    },
    "papermill": {
     "duration": 4.186917,
     "end_time": "2022-11-25T15:15:43.225685",
     "exception": false,
     "start_time": "2022-11-25T15:15:39.038768",
     "status": "completed"
    },
    "tags": []
   },
   "outputs": [],
   "source": [
    "# load data\n",
    "\n",
    "X_test = np.load('../input/test128/X_test_128.npy')/255\n",
    "y_test = np.load('../input/test128/y_test_128.npy', allow_pickle=True)"
   ]
  },
  {
   "cell_type": "code",
   "execution_count": 91,
   "id": "83b1351d",
   "metadata": {
    "execution": {
     "iopub.execute_input": "2022-11-25T15:15:50.697718Z",
     "iopub.status.busy": "2022-11-25T15:15:50.697358Z",
     "iopub.status.idle": "2022-11-25T15:15:50.707606Z",
     "shell.execute_reply": "2022-11-25T15:15:50.706720Z"
    },
    "papermill": {
     "duration": 3.964542,
     "end_time": "2022-11-25T15:15:50.709840",
     "exception": false,
     "start_time": "2022-11-25T15:15:46.745298",
     "status": "completed"
    },
    "tags": []
   },
   "outputs": [],
   "source": [
    "ydf = pd.DataFrame(y_test)"
   ]
  },
  {
   "cell_type": "code",
   "execution_count": 92,
   "id": "06c59171",
   "metadata": {
    "execution": {
     "iopub.execute_input": "2022-11-25T15:15:57.484825Z",
     "iopub.status.busy": "2022-11-25T15:15:57.484380Z",
     "iopub.status.idle": "2022-11-25T15:15:57.511820Z",
     "shell.execute_reply": "2022-11-25T15:15:57.510934Z"
    },
    "papermill": {
     "duration": 3.392168,
     "end_time": "2022-11-25T15:15:57.514336",
     "exception": false,
     "start_time": "2022-11-25T15:15:54.122168",
     "status": "completed"
    },
    "tags": []
   },
   "outputs": [],
   "source": [
    "ydf[0] = ydf[0].replace(1, 't1')\n",
    "ydf[1] = ydf[1].replace(1, 't2')\n",
    "ydf[2] = ydf[2].replace(1, 't3')"
   ]
  },
  {
   "cell_type": "code",
   "execution_count": 93,
   "id": "a49b16d6",
   "metadata": {
    "execution": {
     "iopub.execute_input": "2022-11-25T15:16:04.639988Z",
     "iopub.status.busy": "2022-11-25T15:16:04.639600Z",
     "iopub.status.idle": "2022-11-25T15:16:04.657345Z",
     "shell.execute_reply": "2022-11-25T15:16:04.656475Z"
    },
    "papermill": {
     "duration": 3.378201,
     "end_time": "2022-11-25T15:16:04.659355",
     "exception": false,
     "start_time": "2022-11-25T15:16:01.281154",
     "status": "completed"
    },
    "tags": []
   },
   "outputs": [],
   "source": [
    "type1 = ydf[ydf[0].isin(['t1'])][0]\n",
    "type2 = ydf[ydf[1].isin(['t2'])][1]\n",
    "type3 = ydf[ydf[2].isin(['t3'])][2]"
   ]
  },
  {
   "cell_type": "code",
   "execution_count": 94,
   "id": "772c9b5d",
   "metadata": {
    "execution": {
     "iopub.execute_input": "2022-11-25T15:16:11.737852Z",
     "iopub.status.busy": "2022-11-25T15:16:11.737497Z",
     "iopub.status.idle": "2022-11-25T15:16:11.748249Z",
     "shell.execute_reply": "2022-11-25T15:16:11.747270Z"
    },
    "papermill": {
     "duration": 3.692443,
     "end_time": "2022-11-25T15:16:11.750353",
     "exception": false,
     "start_time": "2022-11-25T15:16:08.057910",
     "status": "completed"
    },
    "tags": []
   },
   "outputs": [
    {
     "data": {
      "text/plain": [
       "2      t1\n",
       "16     t1\n",
       "20     t1\n",
       "23     t1\n",
       "25     t1\n",
       "       ..\n",
       "496    t3\n",
       "499    t3\n",
       "502    t3\n",
       "504    t3\n",
       "511    t3\n",
       "Length: 512, dtype: object"
      ]
     },
     "execution_count": 94,
     "metadata": {},
     "output_type": "execute_result"
    }
   ],
   "source": [
    "type = pd.concat([type1, type2, type3])\n",
    "type"
   ]
  },
  {
   "cell_type": "code",
   "execution_count": 95,
   "id": "8636259c",
   "metadata": {
    "execution": {
     "iopub.execute_input": "2022-11-25T15:16:18.464436Z",
     "iopub.status.busy": "2022-11-25T15:16:18.464078Z",
     "iopub.status.idle": "2022-11-25T15:16:18.470976Z",
     "shell.execute_reply": "2022-11-25T15:16:18.469739Z"
    },
    "papermill": {
     "duration": 3.416945,
     "end_time": "2022-11-25T15:16:18.472931",
     "exception": false,
     "start_time": "2022-11-25T15:16:15.055986",
     "status": "completed"
    },
    "tags": []
   },
   "outputs": [],
   "source": [
    "type = type.replace('t1',0)\n",
    "type = type.replace('t2',1)\n",
    "type = type.replace('t3',2)"
   ]
  },
  {
   "cell_type": "code",
   "execution_count": 96,
   "id": "cb4747df",
   "metadata": {
    "execution": {
     "iopub.execute_input": "2022-11-25T15:16:25.945008Z",
     "iopub.status.busy": "2022-11-25T15:16:25.944617Z",
     "iopub.status.idle": "2022-11-25T15:16:25.956049Z",
     "shell.execute_reply": "2022-11-25T15:16:25.955186Z"
    },
    "papermill": {
     "duration": 3.364604,
     "end_time": "2022-11-25T15:16:25.958267",
     "exception": false,
     "start_time": "2022-11-25T15:16:22.593663",
     "status": "completed"
    },
    "tags": []
   },
   "outputs": [],
   "source": [
    "type = type.sort_index()\n",
    "y_test = np.array(type)"
   ]
  },
  {
   "cell_type": "code",
   "execution_count": 97,
   "id": "08709af4",
   "metadata": {
    "execution": {
     "iopub.execute_input": "2022-11-25T15:16:33.099065Z",
     "iopub.status.busy": "2022-11-25T15:16:33.098698Z",
     "iopub.status.idle": "2022-11-25T15:16:33.106093Z",
     "shell.execute_reply": "2022-11-25T15:16:33.105180Z"
    },
    "papermill": {
     "duration": 3.69473,
     "end_time": "2022-11-25T15:16:33.108237",
     "exception": false,
     "start_time": "2022-11-25T15:16:29.413507",
     "status": "completed"
    },
    "tags": []
   },
   "outputs": [
    {
     "data": {
      "text/plain": [
       "array([1, 1, 0, 2, 2, 1, 1, 1, 1, 1, 1, 2, 1, 2, 1, 2, 0, 1, 1, 2, 0, 1,\n",
       "       1, 0, 1, 0, 1, 2, 1, 2, 0, 1, 1, 0, 1, 2, 1, 1, 1, 0, 2, 1, 1, 1,\n",
       "       0, 2, 0, 0, 2, 2, 2, 0, 2, 0, 2, 2, 1, 1, 1, 0, 2, 1, 2, 1, 1, 0,\n",
       "       2, 2, 2, 2, 0, 1, 1, 0, 2, 0, 2, 1, 2, 0, 1, 1, 1, 2, 0, 1, 2, 2,\n",
       "       1, 2, 0, 1, 2, 1, 1, 1, 0, 2, 1, 2, 0, 1, 1, 0, 1, 1, 1, 1, 2, 2,\n",
       "       1, 0, 2, 2, 1, 1, 1, 1, 2, 1, 1, 1, 2, 0, 2, 1, 1, 1, 1, 1, 1, 2,\n",
       "       2, 2, 1, 1, 1, 1, 1, 1, 1, 2, 0, 2, 1, 2, 1, 1, 1, 2, 0, 2, 1, 2,\n",
       "       0, 2, 1, 2, 2, 1, 0, 1, 1, 1, 1, 0, 0, 2, 0, 1, 1, 2, 1, 0, 1, 2,\n",
       "       1, 1, 2, 1, 2, 0, 2, 1, 2, 2, 1, 1, 1, 2, 1, 1, 2, 0, 1, 0, 0, 1,\n",
       "       2, 2, 1, 1, 1, 1, 1, 2, 1, 2, 2, 2, 2, 1, 1, 2, 1, 1, 1, 1, 1, 1,\n",
       "       1, 2, 2, 2, 2, 1, 1, 1, 1, 1, 1, 0, 0, 1, 2, 1, 1, 1, 2, 1, 2, 1,\n",
       "       1, 1, 2, 1, 1, 1, 0, 0, 1, 0, 2, 2, 2, 1, 2, 1, 2, 2, 0, 2, 1, 1,\n",
       "       0, 2, 2, 1, 0, 1, 2, 1, 2, 2, 1, 2, 1, 1, 2, 2, 1, 1, 1, 2, 2, 1,\n",
       "       1, 2, 2, 0, 1, 1, 1, 0, 2, 1, 1, 1, 2, 0, 1, 2, 1, 0, 0, 1, 2, 2,\n",
       "       0, 2, 2, 2, 0, 1, 1, 1, 0, 0, 1, 1, 1, 1, 1, 2, 1, 2, 2, 1, 2, 2,\n",
       "       0, 0, 1, 2, 2, 2, 0, 1, 1, 2, 1, 1, 0, 2, 0, 0, 1, 1, 1, 1, 1, 1,\n",
       "       1, 2, 1, 0, 0, 1, 1, 2, 1, 1, 1, 1, 2, 1, 2, 0, 1, 1, 1, 0, 2, 2,\n",
       "       1, 1, 2, 0, 1, 2, 2, 1, 0, 1, 1, 1, 2, 2, 1, 1, 1, 1, 1, 2, 1, 0,\n",
       "       1, 1, 1, 1, 2, 2, 0, 1, 1, 1, 0, 1, 1, 2, 2, 1, 2, 1, 2, 0, 0, 1,\n",
       "       2, 0, 1, 1, 2, 2, 1, 2, 2, 1, 2, 2, 0, 0, 2, 2, 1, 2, 1, 1, 1, 1,\n",
       "       2, 1, 1, 1, 1, 0, 1, 1, 1, 0, 2, 1, 2, 0, 1, 2, 1, 0, 0, 1, 0, 1,\n",
       "       1, 2, 1, 1, 1, 0, 1, 2, 1, 1, 0, 1, 1, 1, 1, 0, 1, 2, 2, 2, 0, 1,\n",
       "       2, 2, 1, 1, 1, 0, 1, 2, 1, 0, 1, 1, 2, 1, 1, 2, 1, 1, 2, 1, 2, 1,\n",
       "       1, 1, 1, 1, 1, 2])"
      ]
     },
     "execution_count": 97,
     "metadata": {},
     "output_type": "execute_result"
    }
   ],
   "source": [
    "y_test"
   ]
  },
  {
   "cell_type": "markdown",
   "id": "80f507ca",
   "metadata": {
    "papermill": {
     "duration": 3.461445,
     "end_time": "2022-11-25T15:16:39.935493",
     "exception": false,
     "start_time": "2022-11-25T15:16:36.474048",
     "status": "completed"
    },
    "tags": []
   },
   "source": [
    "# model test"
   ]
  },
  {
   "cell_type": "markdown",
   "id": "d93223a7",
   "metadata": {
    "papermill": {
     "duration": 3.425833,
     "end_time": "2022-11-25T15:16:46.970236",
     "exception": false,
     "start_time": "2022-11-25T15:16:43.544403",
     "status": "completed"
    },
    "tags": []
   },
   "source": [
    "## VGG16 pretrained not-aug"
   ]
  },
  {
   "cell_type": "code",
   "execution_count": 98,
   "id": "e46ed1fe",
   "metadata": {
    "execution": {
     "iopub.execute_input": "2022-11-25T15:16:54.438514Z",
     "iopub.status.busy": "2022-11-25T15:16:54.438153Z",
     "iopub.status.idle": "2022-11-25T15:16:54.917557Z",
     "shell.execute_reply": "2022-11-25T15:16:54.916570Z"
    },
    "papermill": {
     "duration": 4.52482,
     "end_time": "2022-11-25T15:16:54.920050",
     "exception": false,
     "start_time": "2022-11-25T15:16:50.395230",
     "status": "completed"
    },
    "tags": []
   },
   "outputs": [],
   "source": [
    "#load best weights\n",
    "vgg16.load_weights('vgg16.weights.hdf5')"
   ]
  },
  {
   "cell_type": "code",
   "execution_count": 99,
   "id": "3f961910",
   "metadata": {
    "execution": {
     "iopub.execute_input": "2022-11-25T15:17:01.855677Z",
     "iopub.status.busy": "2022-11-25T15:17:01.855318Z",
     "iopub.status.idle": "2022-11-25T15:17:01.946838Z",
     "shell.execute_reply": "2022-11-25T15:17:01.945824Z"
    },
    "papermill": {
     "duration": 3.527554,
     "end_time": "2022-11-25T15:17:01.949181",
     "exception": false,
     "start_time": "2022-11-25T15:16:58.421627",
     "status": "completed"
    },
    "tags": []
   },
   "outputs": [],
   "source": [
    "test_gen = ImageDataGenerator().flow(X_test, y_test, batch_size = BATCH_SIZE)"
   ]
  },
  {
   "cell_type": "code",
   "execution_count": 100,
   "id": "21134cea",
   "metadata": {
    "execution": {
     "iopub.execute_input": "2022-11-25T15:17:09.086750Z",
     "iopub.status.busy": "2022-11-25T15:17:09.086390Z",
     "iopub.status.idle": "2022-11-25T15:17:09.610810Z",
     "shell.execute_reply": "2022-11-25T15:17:09.609807Z"
    },
    "papermill": {
     "duration": 3.982259,
     "end_time": "2022-11-25T15:17:09.613031",
     "exception": false,
     "start_time": "2022-11-25T15:17:05.630772",
     "status": "completed"
    },
    "tags": []
   },
   "outputs": [
    {
     "name": "stdout",
     "output_type": "stream",
     "text": [
      "32/32 [==============================] - 0s 14ms/step - loss: 2.6742 - accuracy: 0.6797\n"
     ]
    },
    {
     "data": {
      "text/plain": [
       "[2.6742401123046875, 0.6796875]"
      ]
     },
     "execution_count": 100,
     "metadata": {},
     "output_type": "execute_result"
    }
   ],
   "source": [
    "vgg16.evaluate(test_gen)"
   ]
  },
  {
   "cell_type": "code",
   "execution_count": 101,
   "id": "a526c6ea",
   "metadata": {
    "execution": {
     "iopub.execute_input": "2022-11-25T15:17:16.610546Z",
     "iopub.status.busy": "2022-11-25T15:17:16.610175Z",
     "iopub.status.idle": "2022-11-25T15:17:17.729802Z",
     "shell.execute_reply": "2022-11-25T15:17:17.728833Z"
    },
    "papermill": {
     "duration": 4.666693,
     "end_time": "2022-11-25T15:17:17.732073",
     "exception": false,
     "start_time": "2022-11-25T15:17:13.065380",
     "status": "completed"
    },
    "tags": []
   },
   "outputs": [
    {
     "data": {
      "text/html": [
       "<div>\n",
       "<style scoped>\n",
       "    .dataframe tbody tr th:only-of-type {\n",
       "        vertical-align: middle;\n",
       "    }\n",
       "\n",
       "    .dataframe tbody tr th {\n",
       "        vertical-align: top;\n",
       "    }\n",
       "\n",
       "    .dataframe thead th {\n",
       "        text-align: right;\n",
       "    }\n",
       "</style>\n",
       "<table border=\"1\" class=\"dataframe\">\n",
       "  <thead>\n",
       "    <tr style=\"text-align: right;\">\n",
       "      <th></th>\n",
       "      <th>Type 1</th>\n",
       "      <th>Type 2</th>\n",
       "      <th>Type 3</th>\n",
       "    </tr>\n",
       "  </thead>\n",
       "  <tbody>\n",
       "    <tr>\n",
       "      <th>Type 1</th>\n",
       "      <td>48</td>\n",
       "      <td>31</td>\n",
       "      <td>8</td>\n",
       "    </tr>\n",
       "    <tr>\n",
       "      <th>Type 2</th>\n",
       "      <td>14</td>\n",
       "      <td>205</td>\n",
       "      <td>46</td>\n",
       "    </tr>\n",
       "    <tr>\n",
       "      <th>Type 3</th>\n",
       "      <td>3</td>\n",
       "      <td>62</td>\n",
       "      <td>95</td>\n",
       "    </tr>\n",
       "  </tbody>\n",
       "</table>\n",
       "</div>"
      ],
      "text/plain": [
       "        Type 1  Type 2  Type 3\n",
       "Type 1      48      31       8\n",
       "Type 2      14     205      46\n",
       "Type 3       3      62      95"
      ]
     },
     "execution_count": 101,
     "metadata": {},
     "output_type": "execute_result"
    }
   ],
   "source": [
    "y_pred_enc = vgg16.predict(X_test)        \n",
    "y_pred = [np.argmax(i) for i in y_pred_enc] \n",
    "item = {\n",
    "      0: 'Type 1'\n",
    "    , 1: 'Type 2'\n",
    "    , 2: 'Type 3'\n",
    "}\n",
    "\n",
    "matrix = confusion_matrix(y_test, y_pred)\n",
    "df = pd.DataFrame(matrix)\n",
    "df.columns = item.values()\n",
    "df.index = item.values()\n",
    "        \n",
    "df"
   ]
  },
  {
   "cell_type": "code",
   "execution_count": 102,
   "id": "93566b55",
   "metadata": {
    "execution": {
     "iopub.execute_input": "2022-11-25T15:17:25.050850Z",
     "iopub.status.busy": "2022-11-25T15:17:25.050418Z",
     "iopub.status.idle": "2022-11-25T15:17:25.063386Z",
     "shell.execute_reply": "2022-11-25T15:17:25.062194Z"
    },
    "papermill": {
     "duration": 3.90917,
     "end_time": "2022-11-25T15:17:25.066322",
     "exception": false,
     "start_time": "2022-11-25T15:17:21.157152",
     "status": "completed"
    },
    "tags": []
   },
   "outputs": [
    {
     "name": "stdout",
     "output_type": "stream",
     "text": [
      "              precision    recall  f1-score   support\n",
      "\n",
      "           0       0.74      0.55      0.63        87\n",
      "           1       0.69      0.77      0.73       265\n",
      "           2       0.64      0.59      0.61       160\n",
      "\n",
      "    accuracy                           0.68       512\n",
      "   macro avg       0.69      0.64      0.66       512\n",
      "weighted avg       0.68      0.68      0.68       512\n",
      "\n"
     ]
    }
   ],
   "source": [
    "report = classification_report(y_test, y_pred)\n",
    "print(report)"
   ]
  },
  {
   "cell_type": "code",
   "execution_count": 103,
   "id": "857703cb",
   "metadata": {
    "execution": {
     "iopub.execute_input": "2022-11-25T15:17:32.212622Z",
     "iopub.status.busy": "2022-11-25T15:17:32.211731Z",
     "iopub.status.idle": "2022-11-25T15:17:32.216596Z",
     "shell.execute_reply": "2022-11-25T15:17:32.215620Z"
    },
    "papermill": {
     "duration": 3.427336,
     "end_time": "2022-11-25T15:17:32.218601",
     "exception": false,
     "start_time": "2022-11-25T15:17:28.791265",
     "status": "completed"
    },
    "tags": []
   },
   "outputs": [],
   "source": [
    "## 정밀도\n",
    "#print(sklearn.metrics.precision_score(y_test, y_pred, average = 'micro'))\n",
    "## 특이도\n",
    "#print(sklearn.metrics.recall_score(y_test, y_pred, pos_label=0, average = 'micro'))\n",
    "## 정밀도\n",
    "#print(sklearn.metrics.recall_score(y_test, y_pred, average = 'micro'))"
   ]
  },
  {
   "cell_type": "markdown",
   "id": "7862e6ea",
   "metadata": {
    "papermill": {
     "duration": 3.583754,
     "end_time": "2022-11-25T15:17:39.132673",
     "exception": false,
     "start_time": "2022-11-25T15:17:35.548919",
     "status": "completed"
    },
    "tags": []
   },
   "source": [
    "전이학습관련내용 확인\n",
    "https://www.tensorflow.org/guide/keras/transfer_learning"
   ]
  },
  {
   "cell_type": "markdown",
   "id": "868b1b37",
   "metadata": {
    "papermill": {
     "duration": 3.402703,
     "end_time": "2022-11-25T15:17:45.948140",
     "exception": false,
     "start_time": "2022-11-25T15:17:42.545437",
     "status": "completed"
    },
    "tags": []
   },
   "source": [
    "## VGG16 Pretrained Aug"
   ]
  },
  {
   "cell_type": "code",
   "execution_count": 104,
   "id": "a1761dcb",
   "metadata": {
    "execution": {
     "iopub.execute_input": "2022-11-25T15:17:53.009312Z",
     "iopub.status.busy": "2022-11-25T15:17:53.008953Z",
     "iopub.status.idle": "2022-11-25T15:17:53.436003Z",
     "shell.execute_reply": "2022-11-25T15:17:53.434967Z"
    },
    "papermill": {
     "duration": 3.834351,
     "end_time": "2022-11-25T15:17:53.438724",
     "exception": false,
     "start_time": "2022-11-25T15:17:49.604373",
     "status": "completed"
    },
    "tags": []
   },
   "outputs": [],
   "source": [
    "vgg16_ag.load_weights('vgg_ag.weights.hdf5')"
   ]
  },
  {
   "cell_type": "code",
   "execution_count": 105,
   "id": "fc7f2a09",
   "metadata": {
    "execution": {
     "iopub.execute_input": "2022-11-25T15:18:00.974158Z",
     "iopub.status.busy": "2022-11-25T15:18:00.973757Z",
     "iopub.status.idle": "2022-11-25T15:18:01.068577Z",
     "shell.execute_reply": "2022-11-25T15:18:01.067044Z"
    },
    "papermill": {
     "duration": 3.653449,
     "end_time": "2022-11-25T15:18:01.071802",
     "exception": false,
     "start_time": "2022-11-25T15:17:57.418353",
     "status": "completed"
    },
    "tags": []
   },
   "outputs": [],
   "source": [
    "test_gen = ImageDataGenerator(rotation_range = 40,\n",
    "                                zoom_range = 0.2,\n",
    "                                width_shift_range=0.2,\n",
    "                                height_shift_range=0.2,\n",
    "                                shear_range=0.2,\n",
    "                                horizontal_flip = True,\n",
    "                                vertical_flip = True).flow(X_test, y_test, batch_size = BATCH_SIZE)"
   ]
  },
  {
   "cell_type": "code",
   "execution_count": 106,
   "id": "d16674f5",
   "metadata": {
    "execution": {
     "iopub.execute_input": "2022-11-25T15:18:07.930739Z",
     "iopub.status.busy": "2022-11-25T15:18:07.930384Z",
     "iopub.status.idle": "2022-11-25T15:18:10.295929Z",
     "shell.execute_reply": "2022-11-25T15:18:10.294936Z"
    },
    "papermill": {
     "duration": 5.774916,
     "end_time": "2022-11-25T15:18:10.298326",
     "exception": false,
     "start_time": "2022-11-25T15:18:04.523410",
     "status": "completed"
    },
    "tags": []
   },
   "outputs": [
    {
     "name": "stdout",
     "output_type": "stream",
     "text": [
      "32/32 [==============================] - 2s 70ms/step - loss: 1.1086 - accuracy: 0.6523\n"
     ]
    },
    {
     "data": {
      "text/plain": [
       "[1.1085889339447021, 0.65234375]"
      ]
     },
     "execution_count": 106,
     "metadata": {},
     "output_type": "execute_result"
    }
   ],
   "source": [
    "vgg16_ag.evaluate(test_gen)"
   ]
  },
  {
   "cell_type": "code",
   "execution_count": 107,
   "id": "9d918fcb",
   "metadata": {
    "execution": {
     "iopub.execute_input": "2022-11-25T15:18:17.022663Z",
     "iopub.status.busy": "2022-11-25T15:18:17.022302Z",
     "iopub.status.idle": "2022-11-25T15:18:18.158771Z",
     "shell.execute_reply": "2022-11-25T15:18:18.157828Z"
    },
    "papermill": {
     "duration": 4.524647,
     "end_time": "2022-11-25T15:18:18.160774",
     "exception": false,
     "start_time": "2022-11-25T15:18:13.636127",
     "status": "completed"
    },
    "tags": []
   },
   "outputs": [
    {
     "data": {
      "text/html": [
       "<div>\n",
       "<style scoped>\n",
       "    .dataframe tbody tr th:only-of-type {\n",
       "        vertical-align: middle;\n",
       "    }\n",
       "\n",
       "    .dataframe tbody tr th {\n",
       "        vertical-align: top;\n",
       "    }\n",
       "\n",
       "    .dataframe thead th {\n",
       "        text-align: right;\n",
       "    }\n",
       "</style>\n",
       "<table border=\"1\" class=\"dataframe\">\n",
       "  <thead>\n",
       "    <tr style=\"text-align: right;\">\n",
       "      <th></th>\n",
       "      <th>Type 1</th>\n",
       "      <th>Type 2</th>\n",
       "      <th>Type 3</th>\n",
       "    </tr>\n",
       "  </thead>\n",
       "  <tbody>\n",
       "    <tr>\n",
       "      <th>Type 1</th>\n",
       "      <td>50</td>\n",
       "      <td>28</td>\n",
       "      <td>9</td>\n",
       "    </tr>\n",
       "    <tr>\n",
       "      <th>Type 2</th>\n",
       "      <td>25</td>\n",
       "      <td>196</td>\n",
       "      <td>44</td>\n",
       "    </tr>\n",
       "    <tr>\n",
       "      <th>Type 3</th>\n",
       "      <td>3</td>\n",
       "      <td>56</td>\n",
       "      <td>101</td>\n",
       "    </tr>\n",
       "  </tbody>\n",
       "</table>\n",
       "</div>"
      ],
      "text/plain": [
       "        Type 1  Type 2  Type 3\n",
       "Type 1      50      28       9\n",
       "Type 2      25     196      44\n",
       "Type 3       3      56     101"
      ]
     },
     "execution_count": 107,
     "metadata": {},
     "output_type": "execute_result"
    }
   ],
   "source": [
    "y_pred_enc = vgg16_ag.predict(X_test)        \n",
    "y_pred = [np.argmax(i) for i in y_pred_enc] \n",
    "item = {\n",
    "      0: 'Type 1'\n",
    "    , 1: 'Type 2'\n",
    "    , 2: 'Type 3'\n",
    "}\n",
    "\n",
    "matrix = confusion_matrix(y_test, y_pred)\n",
    "df = pd.DataFrame(matrix)\n",
    "df.columns = item.values()\n",
    "df.index = item.values()\n",
    "        \n",
    "df"
   ]
  },
  {
   "cell_type": "code",
   "execution_count": 108,
   "id": "a80f46c4",
   "metadata": {
    "execution": {
     "iopub.execute_input": "2022-11-25T15:18:25.276635Z",
     "iopub.status.busy": "2022-11-25T15:18:25.276261Z",
     "iopub.status.idle": "2022-11-25T15:18:25.286446Z",
     "shell.execute_reply": "2022-11-25T15:18:25.285487Z"
    },
    "papermill": {
     "duration": 3.435372,
     "end_time": "2022-11-25T15:18:25.288933",
     "exception": false,
     "start_time": "2022-11-25T15:18:21.853561",
     "status": "completed"
    },
    "tags": []
   },
   "outputs": [
    {
     "name": "stdout",
     "output_type": "stream",
     "text": [
      "              precision    recall  f1-score   support\n",
      "\n",
      "           0       0.64      0.57      0.61        87\n",
      "           1       0.70      0.74      0.72       265\n",
      "           2       0.66      0.63      0.64       160\n",
      "\n",
      "    accuracy                           0.68       512\n",
      "   macro avg       0.67      0.65      0.66       512\n",
      "weighted avg       0.68      0.68      0.68       512\n",
      "\n"
     ]
    }
   ],
   "source": [
    "report = classification_report(y_test, y_pred)\n",
    "print(report)"
   ]
  }
 ],
 "metadata": {
  "kernelspec": {
   "display_name": "Python 3",
   "language": "python",
   "name": "python3"
  },
  "language_info": {
   "codemirror_mode": {
    "name": "ipython",
    "version": 3
   },
   "file_extension": ".py",
   "mimetype": "text/x-python",
   "name": "python",
   "nbconvert_exporter": "python",
   "pygments_lexer": "ipython3",
   "version": "3.7.12"
  },
  "papermill": {
   "default_parameters": {},
   "duration": 6067.304764,
   "end_time": "2022-11-25T15:18:32.869763",
   "environment_variables": {},
   "exception": null,
   "input_path": "__notebook__.ipynb",
   "output_path": "__notebook__.ipynb",
   "parameters": {},
   "start_time": "2022-11-25T13:37:25.564999",
   "version": "2.3.4"
  }
 },
 "nbformat": 4,
 "nbformat_minor": 5
}
